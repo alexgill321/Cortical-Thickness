{
 "cells": [
  {
   "cell_type": "code",
   "execution_count": 6,
   "outputs": [],
   "source": [
    "from modelUtils.vae_utils import create_param_grid, VAECrossValidator\n",
    "import os\n",
    "from utils import data_validation\n",
    "import matplotlib.pyplot as plt"
   ],
   "metadata": {
    "collapsed": false,
    "ExecuteTime": {
     "end_time": "2023-05-17T10:18:23.587251300Z",
     "start_time": "2023-05-17T10:18:23.566272200Z"
    }
   }
  },
  {
   "cell_type": "code",
   "execution_count": 7,
   "outputs": [],
   "source": [
    "cur = os.getcwd()\n",
    "filepath = os.path.join(cur, '../outputs/megasample_cleaned.csv')\n",
    "train_data, val_data, test_data = data_validation(filepath)\n",
    "input_dim = train_data.element_spec[0].shape[0]\n"
   ],
   "metadata": {
    "collapsed": false,
    "ExecuteTime": {
     "end_time": "2023-05-17T10:18:23.909280700Z",
     "start_time": "2023-05-17T10:18:23.579251400Z"
    }
   }
  },
  {
   "cell_type": "code",
   "execution_count": null,
   "outputs": [
    {
     "name": "stdout",
     "output_type": "stream",
     "text": [
      "\n",
      "Training model with parameters {'encoder': {'activation': 'relu', 'dropout_rate': 0.2, 'hidden_dim': [100, 100], 'initializer': 'glorot_uniform', 'latent_dim': 30}, 'decoder': {'activation': 'relu', 'dropout_rate': 0.2, 'hidden_dim': [100, 100], 'initializer': 'glorot_uniform', 'latent_dim': 30}, 'vae': {'beta': 1e-06}}\n"
     ]
    },
    {
     "name": "stderr",
     "output_type": "stream",
     "text": [
      "Fold Progress: 100%|██████████████████████████████| 5/5 [02:19<00:00, 27.91s/it]\n"
     ]
    },
    {
     "name": "stdout",
     "output_type": "stream",
     "text": [
      "\n",
      "Training model with parameters {'encoder': {'activation': 'relu', 'dropout_rate': 0.2, 'hidden_dim': [100, 100], 'initializer': 'glorot_uniform', 'latent_dim': 30}, 'decoder': {'activation': 'relu', 'dropout_rate': 0.2, 'hidden_dim': [100, 100], 'initializer': 'glorot_uniform', 'latent_dim': 30}, 'vae': {'beta': 1e-05}}\n"
     ]
    },
    {
     "name": "stderr",
     "output_type": "stream",
     "text": [
      "Fold Progress:   0%|                                      | 0/5 [00:00<?, ?it/s]"
     ]
    }
   ],
   "source": [
    "# cross validation for the beta parameter\n",
    "beta = [1e-6, 1e-5, 1e-4, 1e-3, 1e-2, 1e-1]\n",
    "epochs = 200\n",
    "beta_grid = create_param_grid([[100, 100]], [30], [0.2], ['relu'], ['glorot_uniform'], betas=beta)\n",
    "cv = VAECrossValidator(beta_grid, input_dim, 5, batch_size=128)\n",
    "results = cv.cross_validate(train_data, epochs=epochs, verbose=0)\n"
   ],
   "metadata": {
    "collapsed": false,
    "is_executing": true,
    "ExecuteTime": {
     "start_time": "2023-05-17T10:18:23.912251400Z"
    }
   }
  },
  {
   "cell_type": "code",
   "execution_count": null,
   "outputs": [],
   "source": [
    "fig, axs = plt.subplots(2, 1, figsize=(10, 10))\n",
    "\n",
    "best_val_loss = 1000\n",
    "best_params = None\n",
    "for res in results:\n",
    "    metrics = res[1]\n",
    "    params = res[0]\n",
    "    label = ''\n",
    "    if metrics['recon_loss'] < best_val_loss:\n",
    "        best_val_loss = metrics['recon_loss']\n",
    "        best_params = params['vae']['beta']\n",
    "    label = str(params['vae']['beta'])\n",
    "    axs[0].plot(range(epochs), metrics['avg_training_losses'], label=label)\n",
    "    axs[1].plot(range(epochs), metrics['avg_kl_losses'], label=label)\n",
    "\n",
    "axs[0].legend()\n",
    "axs[0].set_title('Beta vs Training Loss')\n",
    "axs[0].set_xlabel('Epochs')\n",
    "axs[0].set_ylabel('Training Loss')\n",
    "\n",
    "axs[1].legend()\n",
    "axs[1].set_title('Beta vs KL Loss')\n",
    "axs[1].set_xlabel('Epochs')\n",
    "axs[1].set_ylabel('KL Loss')\n",
    "\n",
    "plt.tight_layout()  # Adjusts subplot parameters to give specified padding\n",
    "plt.savefig('outputs/Images/beta_vs_loss.png')\n"
   ],
   "metadata": {
    "collapsed": false,
    "is_executing": true
   }
  },
  {
   "cell_type": "code",
   "execution_count": null,
   "outputs": [],
   "source": [
    "print(f'Best params: {best_params}, Best val loss: {best_val_loss}')\n"
   ],
   "metadata": {
    "collapsed": false,
    "is_executing": true
   }
  },
  {
   "cell_type": "code",
   "execution_count": null,
   "outputs": [],
   "source": [
    "h_dims = [[50, 50], [100, 100], [150, 150], [200, 200], [250, 250], [300, 300], [150, 100, 50], [200, 150, 100],\n",
    "          [250, 200, 150], [300, 200, 100]]\n",
    "epochs = 50\n",
    "h_dim_grid = create_param_grid(h_dims, [30], [0.2], ['relu'], ['glorot_uniform'], [.001])"
   ],
   "metadata": {
    "collapsed": false,
    "is_executing": true
   }
  },
  {
   "cell_type": "code",
   "execution_count": null,
   "outputs": [],
   "source": [
    "cv = VAECrossValidator(h_dim_grid, input_dim, 5, batch_size=128)"
   ],
   "metadata": {
    "collapsed": false,
    "is_executing": true
   }
  },
  {
   "cell_type": "code",
   "execution_count": null,
   "outputs": [],
   "source": [
    "results = cv.cross_validate(train_data, epochs=epochs, verbose=0)"
   ],
   "metadata": {
    "collapsed": false,
    "is_executing": true
   }
  },
  {
   "cell_type": "code",
   "execution_count": null,
   "outputs": [],
   "source": [
    "fig, axs = plt.subplots(2, 1, figsize=(10, 10))\n",
    "\n",
    "best_val_loss = 1000\n",
    "best_params = None\n",
    "for res in results:\n",
    "    metrics = res[1]\n",
    "    params = res[0]\n",
    "    label = ''\n",
    "    if metrics['recon_loss'] < best_val_loss:\n",
    "        best_val_loss = metrics['recon_loss']\n",
    "        best_params = params['encoder']['hidden_dim']\n",
    "    for dim in params['encoder']['hidden_dim']:\n",
    "        label += str(dim) + '_'\n",
    "    axs[0].plot(range(epochs), metrics['avg_training_losses'], label=label)\n",
    "    axs[1].plot(range(epochs), metrics['avg_kl_losses'], label=label)\n",
    "\n",
    "axs[0].legend()\n",
    "axs[0].set_title('Hidden Layer Dimensions vs Training Reconstruction Loss')\n",
    "axs[0].set_xlabel('Epochs')\n",
    "axs[0].set_ylabel('Training Loss')\n",
    "\n",
    "axs[1].legend()\n",
    "axs[1].set_title('Hidden Layer Dimensions vs KL Loss')\n",
    "axs[1].set_xlabel('Epochs')\n",
    "axs[1].set_ylabel('KL Loss')\n",
    "\n",
    "plt.tight_layout()  # Adjusts subplot parameters to give specified padding\n",
    "plt.savefig('outputs/Images/h_dim_vs_loss.png')"
   ],
   "metadata": {
    "collapsed": false,
    "is_executing": true
   }
  },
  {
   "cell_type": "code",
   "execution_count": null,
   "outputs": [],
   "source": [
    "print(f'Best params: {best_params}, Best val loss: {best_val_loss}')\n"
   ],
   "metadata": {
    "collapsed": false,
    "is_executing": true
   }
  },
  {
   "cell_type": "code",
   "execution_count": null,
   "outputs": [],
   "source": [
    "latent_dims = [5, 10, 15, 20, 25, 30]\n",
    "latent_dim_grid = create_param_grid([[300, 300]], latent_dims, [0.2], ['relu'], ['glorot_uniform'], [.001])\n"
   ],
   "metadata": {
    "collapsed": false,
    "is_executing": true
   }
  },
  {
   "cell_type": "code",
   "execution_count": null,
   "outputs": [],
   "source": [
    "cv = VAECrossValidator(latent_dim_grid, input_dim, 5, batch_size=128)"
   ],
   "metadata": {
    "collapsed": false,
    "is_executing": true
   }
  },
  {
   "cell_type": "code",
   "execution_count": null,
   "outputs": [],
   "source": [
    "results = cv.cross_validate(train_data, epochs=50, verbose=0)\n"
   ],
   "metadata": {
    "collapsed": false,
    "is_executing": true
   }
  },
  {
   "cell_type": "code",
   "execution_count": null,
   "outputs": [],
   "source": [
    "fig, axs = plt.subplots(2, 1, figsize=(10, 10))\n",
    "\n",
    "best_val_loss = 1000\n",
    "best_params = None\n",
    "for res in results:\n",
    "    metrics = res[1]\n",
    "    params = res[0]\n",
    "    label = ''\n",
    "    if metrics['recon_loss'] < best_val_loss:\n",
    "        best_val_loss = metrics['recon_loss']\n",
    "        best_params = params['encoder']['latent_dim']\n",
    "    label = str(params['encoder']['latent_dim'])\n",
    "    axs[0].plot(range(epochs), metrics['avg_training_losses'], label=label)\n",
    "    axs[1].plot(range(epochs), metrics['avg_kl_losses'], label=label)\n",
    "\n",
    "axs[0].legend()\n",
    "axs[0].set_title('Latent Dimension vs Training Reconstruction Loss')\n",
    "axs[0].set_xlabel('Epochs')\n",
    "axs[0].set_ylabel('Training Loss')\n",
    "\n",
    "axs[1].legend()\n",
    "axs[1].set_title('Latent Dimension vs KL Loss')\n",
    "axs[1].set_xlabel('Epochs')\n",
    "axs[1].set_ylabel('KL Loss')\n",
    "\n",
    "plt.tight_layout()  # Adjusts subplot parameters to give specified padding\n",
    "plt.savefig('outputs/Images/latent_dim_vs_loss.png')\n"
   ],
   "metadata": {
    "collapsed": false,
    "is_executing": true
   }
  },
  {
   "cell_type": "code",
   "execution_count": null,
   "outputs": [],
   "source": [
    "print(f'Best params: {best_params}, Best val loss: {best_val_loss}')\n"
   ],
   "metadata": {
    "collapsed": false,
    "is_executing": true
   }
  }
 ],
 "metadata": {
  "kernelspec": {
   "display_name": "Python 3",
   "language": "python",
   "name": "python3"
  },
  "language_info": {
   "codemirror_mode": {
    "name": "ipython",
    "version": 2
   },
   "file_extension": ".py",
   "mimetype": "text/x-python",
   "name": "python",
   "nbconvert_exporter": "python",
   "pygments_lexer": "ipython2",
   "version": "2.7.6"
  }
 },
 "nbformat": 4,
 "nbformat_minor": 0
}
