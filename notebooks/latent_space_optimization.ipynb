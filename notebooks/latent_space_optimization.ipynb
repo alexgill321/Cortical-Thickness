{
 "cells": [
  {
   "cell_type": "code",
   "execution_count": 3,
   "outputs": [],
   "source": [
    "\"\"\" Cross validates parameters for different latent dimensionality.\n",
    "\n",
    " Latent Dimensions tested are 5, 10, 15, 20, 25, 30.\"\"\"\n",
    "\n",
    "from modelUtils.vae_utils import create_param_grid, VAECrossValidator\n",
    "import os\n",
    "from utils import data_validation\n",
    "import pickle\n",
    "import matplotlib.pyplot as plt"
   ],
   "metadata": {
    "collapsed": false,
    "ExecuteTime": {
     "end_time": "2023-05-17T11:01:30.140098800Z",
     "start_time": "2023-05-17T11:01:30.075098300Z"
    }
   }
  },
  {
   "cell_type": "code",
   "execution_count": 4,
   "outputs": [],
   "source": [
    "cur = os.getcwd()\n",
    "filepath = os.path.join(cur, '../outputs/megasample_cleaned.csv')\n",
    "train_data, val_data, test_data = data_validation(filepath)\n",
    "input_dim = train_data.element_spec[0].shape[0]\n"
   ],
   "metadata": {
    "collapsed": false,
    "ExecuteTime": {
     "end_time": "2023-05-17T11:01:30.797129700Z",
     "start_time": "2023-05-17T11:01:30.079098Z"
    }
   }
  },
  {
   "cell_type": "code",
   "execution_count": 5,
   "outputs": [],
   "source": [
    "# Cross Validation for 10 dimension latent space\n",
    "latent_dims = [10]\n",
    "beta = [1e-5, 1e-4, 1e-3]\n",
    "hidden_dims = [[100, 100], [150, 150], [200, 200], [250, 250], [300, 300], [150, 100, 50], [200, 150, 100],\n",
    "               [250, 200, 150], [300, 200, 100]]\n",
    "epochs = 100\n",
    "\n",
    "dropout = [0.1, 0.2, 0.3]\n",
    "\n",
    "param_grid = create_param_grid(hidden_dims, latent_dims, dropout, ['relu'], ['glorot_uniform'], betas=beta)\n",
    "cv = VAECrossValidator(param_grid, input_dim, 5, batch_size=128)\n"
   ],
   "metadata": {
    "collapsed": false,
    "ExecuteTime": {
     "end_time": "2023-05-17T11:01:30.806672900Z",
     "start_time": "2023-05-17T11:01:30.797129700Z"
    }
   }
  },
  {
   "cell_type": "code",
   "execution_count": 6,
   "outputs": [
    {
     "name": "stdout",
     "output_type": "stream",
     "text": [
      "\n",
      "Training model with parameters {'encoder': {'activation': 'relu', 'dropout_rate': 0.1, 'hidden_dim': [100, 100], 'initializer': 'glorot_uniform', 'latent_dim': 10}, 'decoder': {'activation': 'relu', 'dropout_rate': 0.1, 'hidden_dim': [100, 100], 'initializer': 'glorot_uniform', 'latent_dim': 10}, 'vae': {'beta': 1e-05}}\n"
     ]
    },
    {
     "name": "stderr",
     "output_type": "stream",
     "text": [
      "Fold Progress: 100%|██████████████████████████████| 5/5 [01:44<00:00, 20.81s/it]"
     ]
    },
    {
     "name": "stdout",
     "output_type": "stream",
     "text": [
      "WARNING:tensorflow:Compiled the loaded model, but the compiled metrics have yet to be built. `model.compile_metrics` will be empty until you train or evaluate the model.\n"
     ]
    },
    {
     "name": "stderr",
     "output_type": "stream",
     "text": [
      "\n"
     ]
    },
    {
     "name": "stdout",
     "output_type": "stream",
     "text": [
      "INFO:tensorflow:Assets written to: ../outputs/models/vae\\vae_h_dim_100_100_z_dim_10_dropout_01_init_glorot_uniform_act_relu\\encoder\\assets\n",
      "WARNING:tensorflow:Compiled the loaded model, but the compiled metrics have yet to be built. `model.compile_metrics` will be empty until you train or evaluate the model.\n",
      "INFO:tensorflow:Assets written to: ../outputs/models/vae\\vae_h_dim_100_100_z_dim_10_dropout_01_init_glorot_uniform_act_relu\\decoder\\assets\n",
      "\n",
      "Training model with parameters {'encoder': {'activation': 'relu', 'dropout_rate': 0.1, 'hidden_dim': [100, 100], 'initializer': 'glorot_uniform', 'latent_dim': 10}, 'decoder': {'activation': 'relu', 'dropout_rate': 0.1, 'hidden_dim': [100, 100], 'initializer': 'glorot_uniform', 'latent_dim': 10}, 'vae': {'beta': 0.0001}}\n"
     ]
    },
    {
     "name": "stderr",
     "output_type": "stream",
     "text": [
      "Fold Progress: 100%|██████████████████████████████| 5/5 [01:36<00:00, 19.35s/it]\n"
     ]
    },
    {
     "name": "stdout",
     "output_type": "stream",
     "text": [
      "\n",
      "Training model with parameters {'encoder': {'activation': 'relu', 'dropout_rate': 0.1, 'hidden_dim': [100, 100], 'initializer': 'glorot_uniform', 'latent_dim': 10}, 'decoder': {'activation': 'relu', 'dropout_rate': 0.1, 'hidden_dim': [100, 100], 'initializer': 'glorot_uniform', 'latent_dim': 10}, 'vae': {'beta': 0.001}}\n"
     ]
    },
    {
     "name": "stderr",
     "output_type": "stream",
     "text": [
      "Fold Progress: 100%|██████████████████████████████| 5/5 [01:17<00:00, 15.48s/it]\n"
     ]
    },
    {
     "name": "stdout",
     "output_type": "stream",
     "text": [
      "\n",
      "Training model with parameters {'encoder': {'activation': 'relu', 'dropout_rate': 0.1, 'hidden_dim': [150, 150], 'initializer': 'glorot_uniform', 'latent_dim': 10}, 'decoder': {'activation': 'relu', 'dropout_rate': 0.1, 'hidden_dim': [150, 150], 'initializer': 'glorot_uniform', 'latent_dim': 10}, 'vae': {'beta': 1e-05}}\n"
     ]
    },
    {
     "name": "stderr",
     "output_type": "stream",
     "text": [
      "Fold Progress: 100%|██████████████████████████████| 5/5 [01:25<00:00, 17.20s/it]"
     ]
    },
    {
     "name": "stdout",
     "output_type": "stream",
     "text": [
      "WARNING:tensorflow:Compiled the loaded model, but the compiled metrics have yet to be built. `model.compile_metrics` will be empty until you train or evaluate the model.\n"
     ]
    },
    {
     "name": "stderr",
     "output_type": "stream",
     "text": [
      "\n"
     ]
    },
    {
     "name": "stdout",
     "output_type": "stream",
     "text": [
      "INFO:tensorflow:Assets written to: ../outputs/models/vae\\vae_h_dim_150_150_z_dim_10_dropout_01_init_glorot_uniform_act_relu\\encoder\\assets\n",
      "WARNING:tensorflow:Compiled the loaded model, but the compiled metrics have yet to be built. `model.compile_metrics` will be empty until you train or evaluate the model.\n",
      "INFO:tensorflow:Assets written to: ../outputs/models/vae\\vae_h_dim_150_150_z_dim_10_dropout_01_init_glorot_uniform_act_relu\\decoder\\assets\n",
      "\n",
      "Training model with parameters {'encoder': {'activation': 'relu', 'dropout_rate': 0.1, 'hidden_dim': [150, 150], 'initializer': 'glorot_uniform', 'latent_dim': 10}, 'decoder': {'activation': 'relu', 'dropout_rate': 0.1, 'hidden_dim': [150, 150], 'initializer': 'glorot_uniform', 'latent_dim': 10}, 'vae': {'beta': 0.0001}}\n"
     ]
    },
    {
     "name": "stderr",
     "output_type": "stream",
     "text": [
      "Fold Progress: 100%|██████████████████████████████| 5/5 [01:36<00:00, 19.35s/it]\n"
     ]
    },
    {
     "name": "stdout",
     "output_type": "stream",
     "text": [
      "\n",
      "Training model with parameters {'encoder': {'activation': 'relu', 'dropout_rate': 0.1, 'hidden_dim': [150, 150], 'initializer': 'glorot_uniform', 'latent_dim': 10}, 'decoder': {'activation': 'relu', 'dropout_rate': 0.1, 'hidden_dim': [150, 150], 'initializer': 'glorot_uniform', 'latent_dim': 10}, 'vae': {'beta': 0.001}}\n"
     ]
    },
    {
     "name": "stderr",
     "output_type": "stream",
     "text": [
      "Fold Progress: 100%|██████████████████████████████| 5/5 [01:23<00:00, 16.64s/it]\n"
     ]
    },
    {
     "name": "stdout",
     "output_type": "stream",
     "text": [
      "\n",
      "Training model with parameters {'encoder': {'activation': 'relu', 'dropout_rate': 0.1, 'hidden_dim': [200, 200], 'initializer': 'glorot_uniform', 'latent_dim': 10}, 'decoder': {'activation': 'relu', 'dropout_rate': 0.1, 'hidden_dim': [200, 200], 'initializer': 'glorot_uniform', 'latent_dim': 10}, 'vae': {'beta': 1e-05}}\n"
     ]
    },
    {
     "name": "stderr",
     "output_type": "stream",
     "text": [
      "Fold Progress: 100%|██████████████████████████████| 5/5 [01:40<00:00, 20.10s/it]"
     ]
    },
    {
     "name": "stdout",
     "output_type": "stream",
     "text": [
      "WARNING:tensorflow:Compiled the loaded model, but the compiled metrics have yet to be built. `model.compile_metrics` will be empty until you train or evaluate the model.\n"
     ]
    },
    {
     "name": "stderr",
     "output_type": "stream",
     "text": [
      "\n"
     ]
    },
    {
     "name": "stdout",
     "output_type": "stream",
     "text": [
      "INFO:tensorflow:Assets written to: ../outputs/models/vae\\vae_h_dim_200_200_z_dim_10_dropout_01_init_glorot_uniform_act_relu\\encoder\\assets\n",
      "WARNING:tensorflow:Compiled the loaded model, but the compiled metrics have yet to be built. `model.compile_metrics` will be empty until you train or evaluate the model.\n",
      "INFO:tensorflow:Assets written to: ../outputs/models/vae\\vae_h_dim_200_200_z_dim_10_dropout_01_init_glorot_uniform_act_relu\\decoder\\assets\n",
      "\n",
      "Training model with parameters {'encoder': {'activation': 'relu', 'dropout_rate': 0.1, 'hidden_dim': [200, 200], 'initializer': 'glorot_uniform', 'latent_dim': 10}, 'decoder': {'activation': 'relu', 'dropout_rate': 0.1, 'hidden_dim': [200, 200], 'initializer': 'glorot_uniform', 'latent_dim': 10}, 'vae': {'beta': 0.0001}}\n"
     ]
    },
    {
     "name": "stderr",
     "output_type": "stream",
     "text": [
      "Fold Progress: 100%|██████████████████████████████| 5/5 [01:30<00:00, 18.10s/it]\n"
     ]
    },
    {
     "name": "stdout",
     "output_type": "stream",
     "text": [
      "\n",
      "Training model with parameters {'encoder': {'activation': 'relu', 'dropout_rate': 0.1, 'hidden_dim': [200, 200], 'initializer': 'glorot_uniform', 'latent_dim': 10}, 'decoder': {'activation': 'relu', 'dropout_rate': 0.1, 'hidden_dim': [200, 200], 'initializer': 'glorot_uniform', 'latent_dim': 10}, 'vae': {'beta': 0.001}}\n"
     ]
    },
    {
     "name": "stderr",
     "output_type": "stream",
     "text": [
      "Fold Progress: 100%|██████████████████████████████| 5/5 [01:27<00:00, 17.40s/it]\n"
     ]
    },
    {
     "name": "stdout",
     "output_type": "stream",
     "text": [
      "\n",
      "Training model with parameters {'encoder': {'activation': 'relu', 'dropout_rate': 0.1, 'hidden_dim': [250, 250], 'initializer': 'glorot_uniform', 'latent_dim': 10}, 'decoder': {'activation': 'relu', 'dropout_rate': 0.1, 'hidden_dim': [250, 250], 'initializer': 'glorot_uniform', 'latent_dim': 10}, 'vae': {'beta': 1e-05}}\n"
     ]
    },
    {
     "name": "stderr",
     "output_type": "stream",
     "text": [
      "Fold Progress: 100%|██████████████████████████████| 5/5 [01:47<00:00, 21.56s/it]"
     ]
    },
    {
     "name": "stdout",
     "output_type": "stream",
     "text": [
      "WARNING:tensorflow:Compiled the loaded model, but the compiled metrics have yet to be built. `model.compile_metrics` will be empty until you train or evaluate the model.\n"
     ]
    },
    {
     "name": "stderr",
     "output_type": "stream",
     "text": [
      "\n"
     ]
    },
    {
     "name": "stdout",
     "output_type": "stream",
     "text": [
      "INFO:tensorflow:Assets written to: ../outputs/models/vae\\vae_h_dim_250_250_z_dim_10_dropout_01_init_glorot_uniform_act_relu\\encoder\\assets\n",
      "WARNING:tensorflow:Compiled the loaded model, but the compiled metrics have yet to be built. `model.compile_metrics` will be empty until you train or evaluate the model.\n",
      "INFO:tensorflow:Assets written to: ../outputs/models/vae\\vae_h_dim_250_250_z_dim_10_dropout_01_init_glorot_uniform_act_relu\\decoder\\assets\n",
      "\n",
      "Training model with parameters {'encoder': {'activation': 'relu', 'dropout_rate': 0.1, 'hidden_dim': [250, 250], 'initializer': 'glorot_uniform', 'latent_dim': 10}, 'decoder': {'activation': 'relu', 'dropout_rate': 0.1, 'hidden_dim': [250, 250], 'initializer': 'glorot_uniform', 'latent_dim': 10}, 'vae': {'beta': 0.0001}}\n"
     ]
    },
    {
     "name": "stderr",
     "output_type": "stream",
     "text": [
      "Fold Progress: 100%|██████████████████████████████| 5/5 [01:39<00:00, 19.80s/it]\n"
     ]
    },
    {
     "name": "stdout",
     "output_type": "stream",
     "text": [
      "\n",
      "Training model with parameters {'encoder': {'activation': 'relu', 'dropout_rate': 0.1, 'hidden_dim': [250, 250], 'initializer': 'glorot_uniform', 'latent_dim': 10}, 'decoder': {'activation': 'relu', 'dropout_rate': 0.1, 'hidden_dim': [250, 250], 'initializer': 'glorot_uniform', 'latent_dim': 10}, 'vae': {'beta': 0.001}}\n"
     ]
    },
    {
     "name": "stderr",
     "output_type": "stream",
     "text": [
      "Fold Progress: 100%|██████████████████████████████| 5/5 [01:52<00:00, 22.54s/it]\n"
     ]
    },
    {
     "name": "stdout",
     "output_type": "stream",
     "text": [
      "\n",
      "Training model with parameters {'encoder': {'activation': 'relu', 'dropout_rate': 0.1, 'hidden_dim': [300, 300], 'initializer': 'glorot_uniform', 'latent_dim': 10}, 'decoder': {'activation': 'relu', 'dropout_rate': 0.1, 'hidden_dim': [300, 300], 'initializer': 'glorot_uniform', 'latent_dim': 10}, 'vae': {'beta': 1e-05}}\n"
     ]
    },
    {
     "name": "stderr",
     "output_type": "stream",
     "text": [
      "Fold Progress: 100%|██████████████████████████████| 5/5 [01:51<00:00, 22.28s/it]"
     ]
    },
    {
     "name": "stdout",
     "output_type": "stream",
     "text": [
      "WARNING:tensorflow:Compiled the loaded model, but the compiled metrics have yet to be built. `model.compile_metrics` will be empty until you train or evaluate the model.\n"
     ]
    },
    {
     "name": "stderr",
     "output_type": "stream",
     "text": [
      "\n"
     ]
    },
    {
     "name": "stdout",
     "output_type": "stream",
     "text": [
      "INFO:tensorflow:Assets written to: ../outputs/models/vae\\vae_h_dim_300_300_z_dim_10_dropout_01_init_glorot_uniform_act_relu\\encoder\\assets\n",
      "WARNING:tensorflow:Compiled the loaded model, but the compiled metrics have yet to be built. `model.compile_metrics` will be empty until you train or evaluate the model.\n",
      "INFO:tensorflow:Assets written to: ../outputs/models/vae\\vae_h_dim_300_300_z_dim_10_dropout_01_init_glorot_uniform_act_relu\\decoder\\assets\n",
      "\n",
      "Training model with parameters {'encoder': {'activation': 'relu', 'dropout_rate': 0.1, 'hidden_dim': [300, 300], 'initializer': 'glorot_uniform', 'latent_dim': 10}, 'decoder': {'activation': 'relu', 'dropout_rate': 0.1, 'hidden_dim': [300, 300], 'initializer': 'glorot_uniform', 'latent_dim': 10}, 'vae': {'beta': 0.0001}}\n"
     ]
    },
    {
     "name": "stderr",
     "output_type": "stream",
     "text": [
      "Fold Progress: 100%|██████████████████████████████| 5/5 [01:56<00:00, 23.35s/it]\n"
     ]
    },
    {
     "name": "stdout",
     "output_type": "stream",
     "text": [
      "\n",
      "Training model with parameters {'encoder': {'activation': 'relu', 'dropout_rate': 0.1, 'hidden_dim': [300, 300], 'initializer': 'glorot_uniform', 'latent_dim': 10}, 'decoder': {'activation': 'relu', 'dropout_rate': 0.1, 'hidden_dim': [300, 300], 'initializer': 'glorot_uniform', 'latent_dim': 10}, 'vae': {'beta': 0.001}}\n"
     ]
    },
    {
     "name": "stderr",
     "output_type": "stream",
     "text": [
      "Fold Progress: 100%|██████████████████████████████| 5/5 [02:07<00:00, 25.49s/it]\n"
     ]
    },
    {
     "name": "stdout",
     "output_type": "stream",
     "text": [
      "\n",
      "Training model with parameters {'encoder': {'activation': 'relu', 'dropout_rate': 0.1, 'hidden_dim': [150, 100, 50], 'initializer': 'glorot_uniform', 'latent_dim': 10}, 'decoder': {'activation': 'relu', 'dropout_rate': 0.1, 'hidden_dim': [150, 100, 50], 'initializer': 'glorot_uniform', 'latent_dim': 10}, 'vae': {'beta': 1e-05}}\n"
     ]
    },
    {
     "name": "stderr",
     "output_type": "stream",
     "text": [
      "Fold Progress: 100%|██████████████████████████████| 5/5 [01:39<00:00, 19.95s/it]"
     ]
    },
    {
     "name": "stdout",
     "output_type": "stream",
     "text": [
      "WARNING:tensorflow:Compiled the loaded model, but the compiled metrics have yet to be built. `model.compile_metrics` will be empty until you train or evaluate the model.\n"
     ]
    },
    {
     "name": "stderr",
     "output_type": "stream",
     "text": [
      "\n"
     ]
    },
    {
     "name": "stdout",
     "output_type": "stream",
     "text": [
      "INFO:tensorflow:Assets written to: ../outputs/models/vae\\vae_h_dim_150_100_50_z_dim_10_dropout_01_init_glorot_uniform_act_relu\\encoder\\assets\n",
      "WARNING:tensorflow:Compiled the loaded model, but the compiled metrics have yet to be built. `model.compile_metrics` will be empty until you train or evaluate the model.\n",
      "INFO:tensorflow:Assets written to: ../outputs/models/vae\\vae_h_dim_150_100_50_z_dim_10_dropout_01_init_glorot_uniform_act_relu\\decoder\\assets\n",
      "\n",
      "Training model with parameters {'encoder': {'activation': 'relu', 'dropout_rate': 0.1, 'hidden_dim': [150, 100, 50], 'initializer': 'glorot_uniform', 'latent_dim': 10}, 'decoder': {'activation': 'relu', 'dropout_rate': 0.1, 'hidden_dim': [150, 100, 50], 'initializer': 'glorot_uniform', 'latent_dim': 10}, 'vae': {'beta': 0.0001}}\n"
     ]
    },
    {
     "name": "stderr",
     "output_type": "stream",
     "text": [
      "Fold Progress: 100%|██████████████████████████████| 5/5 [02:12<00:00, 26.40s/it]\n"
     ]
    },
    {
     "name": "stdout",
     "output_type": "stream",
     "text": [
      "\n",
      "Training model with parameters {'encoder': {'activation': 'relu', 'dropout_rate': 0.1, 'hidden_dim': [150, 100, 50], 'initializer': 'glorot_uniform', 'latent_dim': 10}, 'decoder': {'activation': 'relu', 'dropout_rate': 0.1, 'hidden_dim': [150, 100, 50], 'initializer': 'glorot_uniform', 'latent_dim': 10}, 'vae': {'beta': 0.001}}\n"
     ]
    },
    {
     "name": "stderr",
     "output_type": "stream",
     "text": [
      "Fold Progress: 100%|██████████████████████████████| 5/5 [01:58<00:00, 23.74s/it]\n"
     ]
    },
    {
     "name": "stdout",
     "output_type": "stream",
     "text": [
      "\n",
      "Training model with parameters {'encoder': {'activation': 'relu', 'dropout_rate': 0.1, 'hidden_dim': [200, 150, 100], 'initializer': 'glorot_uniform', 'latent_dim': 10}, 'decoder': {'activation': 'relu', 'dropout_rate': 0.1, 'hidden_dim': [200, 150, 100], 'initializer': 'glorot_uniform', 'latent_dim': 10}, 'vae': {'beta': 1e-05}}\n"
     ]
    },
    {
     "name": "stderr",
     "output_type": "stream",
     "text": [
      "Fold Progress: 100%|██████████████████████████████| 5/5 [02:09<00:00, 25.99s/it]"
     ]
    },
    {
     "name": "stdout",
     "output_type": "stream",
     "text": [
      "WARNING:tensorflow:Compiled the loaded model, but the compiled metrics have yet to be built. `model.compile_metrics` will be empty until you train or evaluate the model.\n"
     ]
    },
    {
     "name": "stderr",
     "output_type": "stream",
     "text": [
      "\n"
     ]
    },
    {
     "name": "stdout",
     "output_type": "stream",
     "text": [
      "INFO:tensorflow:Assets written to: ../outputs/models/vae\\vae_h_dim_200_150_100_z_dim_10_dropout_01_init_glorot_uniform_act_relu\\encoder\\assets\n",
      "WARNING:tensorflow:Compiled the loaded model, but the compiled metrics have yet to be built. `model.compile_metrics` will be empty until you train or evaluate the model.\n",
      "INFO:tensorflow:Assets written to: ../outputs/models/vae\\vae_h_dim_200_150_100_z_dim_10_dropout_01_init_glorot_uniform_act_relu\\decoder\\assets\n",
      "\n",
      "Training model with parameters {'encoder': {'activation': 'relu', 'dropout_rate': 0.1, 'hidden_dim': [200, 150, 100], 'initializer': 'glorot_uniform', 'latent_dim': 10}, 'decoder': {'activation': 'relu', 'dropout_rate': 0.1, 'hidden_dim': [200, 150, 100], 'initializer': 'glorot_uniform', 'latent_dim': 10}, 'vae': {'beta': 0.0001}}\n"
     ]
    },
    {
     "name": "stderr",
     "output_type": "stream",
     "text": [
      "Fold Progress: 100%|██████████████████████████████| 5/5 [02:17<00:00, 27.59s/it]\n"
     ]
    },
    {
     "name": "stdout",
     "output_type": "stream",
     "text": [
      "\n",
      "Training model with parameters {'encoder': {'activation': 'relu', 'dropout_rate': 0.1, 'hidden_dim': [200, 150, 100], 'initializer': 'glorot_uniform', 'latent_dim': 10}, 'decoder': {'activation': 'relu', 'dropout_rate': 0.1, 'hidden_dim': [200, 150, 100], 'initializer': 'glorot_uniform', 'latent_dim': 10}, 'vae': {'beta': 0.001}}\n"
     ]
    },
    {
     "name": "stderr",
     "output_type": "stream",
     "text": [
      "Fold Progress: 100%|██████████████████████████████| 5/5 [02:08<00:00, 25.68s/it]\n"
     ]
    },
    {
     "name": "stdout",
     "output_type": "stream",
     "text": [
      "\n",
      "Training model with parameters {'encoder': {'activation': 'relu', 'dropout_rate': 0.1, 'hidden_dim': [250, 200, 150], 'initializer': 'glorot_uniform', 'latent_dim': 10}, 'decoder': {'activation': 'relu', 'dropout_rate': 0.1, 'hidden_dim': [250, 200, 150], 'initializer': 'glorot_uniform', 'latent_dim': 10}, 'vae': {'beta': 1e-05}}\n"
     ]
    },
    {
     "name": "stderr",
     "output_type": "stream",
     "text": [
      "Fold Progress: 100%|██████████████████████████████| 5/5 [02:35<00:00, 31.06s/it]"
     ]
    },
    {
     "name": "stdout",
     "output_type": "stream",
     "text": [
      "WARNING:tensorflow:Compiled the loaded model, but the compiled metrics have yet to be built. `model.compile_metrics` will be empty until you train or evaluate the model.\n"
     ]
    },
    {
     "name": "stderr",
     "output_type": "stream",
     "text": [
      "\n"
     ]
    },
    {
     "name": "stdout",
     "output_type": "stream",
     "text": [
      "INFO:tensorflow:Assets written to: ../outputs/models/vae\\vae_h_dim_250_200_150_z_dim_10_dropout_01_init_glorot_uniform_act_relu\\encoder\\assets\n",
      "WARNING:tensorflow:Compiled the loaded model, but the compiled metrics have yet to be built. `model.compile_metrics` will be empty until you train or evaluate the model.\n",
      "INFO:tensorflow:Assets written to: ../outputs/models/vae\\vae_h_dim_250_200_150_z_dim_10_dropout_01_init_glorot_uniform_act_relu\\decoder\\assets\n",
      "\n",
      "Training model with parameters {'encoder': {'activation': 'relu', 'dropout_rate': 0.1, 'hidden_dim': [250, 200, 150], 'initializer': 'glorot_uniform', 'latent_dim': 10}, 'decoder': {'activation': 'relu', 'dropout_rate': 0.1, 'hidden_dim': [250, 200, 150], 'initializer': 'glorot_uniform', 'latent_dim': 10}, 'vae': {'beta': 0.0001}}\n"
     ]
    },
    {
     "name": "stderr",
     "output_type": "stream",
     "text": [
      "Fold Progress: 100%|██████████████████████████████| 5/5 [02:51<00:00, 34.33s/it]\n"
     ]
    },
    {
     "name": "stdout",
     "output_type": "stream",
     "text": [
      "\n",
      "Training model with parameters {'encoder': {'activation': 'relu', 'dropout_rate': 0.1, 'hidden_dim': [250, 200, 150], 'initializer': 'glorot_uniform', 'latent_dim': 10}, 'decoder': {'activation': 'relu', 'dropout_rate': 0.1, 'hidden_dim': [250, 200, 150], 'initializer': 'glorot_uniform', 'latent_dim': 10}, 'vae': {'beta': 0.001}}\n"
     ]
    },
    {
     "name": "stderr",
     "output_type": "stream",
     "text": [
      "Fold Progress: 100%|██████████████████████████████| 5/5 [02:26<00:00, 29.32s/it]\n"
     ]
    },
    {
     "name": "stdout",
     "output_type": "stream",
     "text": [
      "\n",
      "Training model with parameters {'encoder': {'activation': 'relu', 'dropout_rate': 0.1, 'hidden_dim': [300, 200, 100], 'initializer': 'glorot_uniform', 'latent_dim': 10}, 'decoder': {'activation': 'relu', 'dropout_rate': 0.1, 'hidden_dim': [300, 200, 100], 'initializer': 'glorot_uniform', 'latent_dim': 10}, 'vae': {'beta': 1e-05}}\n"
     ]
    },
    {
     "name": "stderr",
     "output_type": "stream",
     "text": [
      "Fold Progress: 100%|██████████████████████████████| 5/5 [02:43<00:00, 32.71s/it]"
     ]
    },
    {
     "name": "stdout",
     "output_type": "stream",
     "text": [
      "WARNING:tensorflow:Compiled the loaded model, but the compiled metrics have yet to be built. `model.compile_metrics` will be empty until you train or evaluate the model.\n"
     ]
    },
    {
     "name": "stderr",
     "output_type": "stream",
     "text": [
      "\n"
     ]
    },
    {
     "name": "stdout",
     "output_type": "stream",
     "text": [
      "INFO:tensorflow:Assets written to: ../outputs/models/vae\\vae_h_dim_300_200_100_z_dim_10_dropout_01_init_glorot_uniform_act_relu\\encoder\\assets\n",
      "WARNING:tensorflow:Compiled the loaded model, but the compiled metrics have yet to be built. `model.compile_metrics` will be empty until you train or evaluate the model.\n",
      "INFO:tensorflow:Assets written to: ../outputs/models/vae\\vae_h_dim_300_200_100_z_dim_10_dropout_01_init_glorot_uniform_act_relu\\decoder\\assets\n",
      "\n",
      "Training model with parameters {'encoder': {'activation': 'relu', 'dropout_rate': 0.1, 'hidden_dim': [300, 200, 100], 'initializer': 'glorot_uniform', 'latent_dim': 10}, 'decoder': {'activation': 'relu', 'dropout_rate': 0.1, 'hidden_dim': [300, 200, 100], 'initializer': 'glorot_uniform', 'latent_dim': 10}, 'vae': {'beta': 0.0001}}\n"
     ]
    },
    {
     "name": "stderr",
     "output_type": "stream",
     "text": [
      "Fold Progress: 100%|██████████████████████████████| 5/5 [02:18<00:00, 27.74s/it]\n"
     ]
    },
    {
     "name": "stdout",
     "output_type": "stream",
     "text": [
      "\n",
      "Training model with parameters {'encoder': {'activation': 'relu', 'dropout_rate': 0.1, 'hidden_dim': [300, 200, 100], 'initializer': 'glorot_uniform', 'latent_dim': 10}, 'decoder': {'activation': 'relu', 'dropout_rate': 0.1, 'hidden_dim': [300, 200, 100], 'initializer': 'glorot_uniform', 'latent_dim': 10}, 'vae': {'beta': 0.001}}\n"
     ]
    },
    {
     "name": "stderr",
     "output_type": "stream",
     "text": [
      "Fold Progress: 100%|██████████████████████████████| 5/5 [02:06<00:00, 25.27s/it]\n"
     ]
    },
    {
     "name": "stdout",
     "output_type": "stream",
     "text": [
      "\n",
      "Training model with parameters {'encoder': {'activation': 'relu', 'dropout_rate': 0.2, 'hidden_dim': [100, 100], 'initializer': 'glorot_uniform', 'latent_dim': 10}, 'decoder': {'activation': 'relu', 'dropout_rate': 0.2, 'hidden_dim': [100, 100], 'initializer': 'glorot_uniform', 'latent_dim': 10}, 'vae': {'beta': 1e-05}}\n"
     ]
    },
    {
     "name": "stderr",
     "output_type": "stream",
     "text": [
      "Fold Progress: 100%|██████████████████████████████| 5/5 [01:51<00:00, 22.26s/it]"
     ]
    },
    {
     "name": "stdout",
     "output_type": "stream",
     "text": [
      "WARNING:tensorflow:Compiled the loaded model, but the compiled metrics have yet to be built. `model.compile_metrics` will be empty until you train or evaluate the model.\n"
     ]
    },
    {
     "name": "stderr",
     "output_type": "stream",
     "text": [
      "\n"
     ]
    },
    {
     "name": "stdout",
     "output_type": "stream",
     "text": [
      "INFO:tensorflow:Assets written to: ../outputs/models/vae\\vae_h_dim_100_100_z_dim_10_dropout_02_init_glorot_uniform_act_relu\\encoder\\assets\n",
      "WARNING:tensorflow:Compiled the loaded model, but the compiled metrics have yet to be built. `model.compile_metrics` will be empty until you train or evaluate the model.\n",
      "INFO:tensorflow:Assets written to: ../outputs/models/vae\\vae_h_dim_100_100_z_dim_10_dropout_02_init_glorot_uniform_act_relu\\decoder\\assets\n",
      "\n",
      "Training model with parameters {'encoder': {'activation': 'relu', 'dropout_rate': 0.2, 'hidden_dim': [100, 100], 'initializer': 'glorot_uniform', 'latent_dim': 10}, 'decoder': {'activation': 'relu', 'dropout_rate': 0.2, 'hidden_dim': [100, 100], 'initializer': 'glorot_uniform', 'latent_dim': 10}, 'vae': {'beta': 0.0001}}\n"
     ]
    },
    {
     "name": "stderr",
     "output_type": "stream",
     "text": [
      "Fold Progress: 100%|██████████████████████████████| 5/5 [01:47<00:00, 21.55s/it]\n"
     ]
    },
    {
     "name": "stdout",
     "output_type": "stream",
     "text": [
      "\n",
      "Training model with parameters {'encoder': {'activation': 'relu', 'dropout_rate': 0.2, 'hidden_dim': [100, 100], 'initializer': 'glorot_uniform', 'latent_dim': 10}, 'decoder': {'activation': 'relu', 'dropout_rate': 0.2, 'hidden_dim': [100, 100], 'initializer': 'glorot_uniform', 'latent_dim': 10}, 'vae': {'beta': 0.001}}\n"
     ]
    },
    {
     "name": "stderr",
     "output_type": "stream",
     "text": [
      "Fold Progress: 100%|██████████████████████████████| 5/5 [01:46<00:00, 21.29s/it]\n"
     ]
    },
    {
     "name": "stdout",
     "output_type": "stream",
     "text": [
      "\n",
      "Training model with parameters {'encoder': {'activation': 'relu', 'dropout_rate': 0.2, 'hidden_dim': [150, 150], 'initializer': 'glorot_uniform', 'latent_dim': 10}, 'decoder': {'activation': 'relu', 'dropout_rate': 0.2, 'hidden_dim': [150, 150], 'initializer': 'glorot_uniform', 'latent_dim': 10}, 'vae': {'beta': 1e-05}}\n"
     ]
    },
    {
     "name": "stderr",
     "output_type": "stream",
     "text": [
      "Fold Progress: 100%|██████████████████████████████| 5/5 [02:03<00:00, 24.65s/it]"
     ]
    },
    {
     "name": "stdout",
     "output_type": "stream",
     "text": [
      "WARNING:tensorflow:Compiled the loaded model, but the compiled metrics have yet to be built. `model.compile_metrics` will be empty until you train or evaluate the model.\n"
     ]
    },
    {
     "name": "stderr",
     "output_type": "stream",
     "text": [
      "\n"
     ]
    },
    {
     "name": "stdout",
     "output_type": "stream",
     "text": [
      "INFO:tensorflow:Assets written to: ../outputs/models/vae\\vae_h_dim_150_150_z_dim_10_dropout_02_init_glorot_uniform_act_relu\\encoder\\assets\n",
      "WARNING:tensorflow:Compiled the loaded model, but the compiled metrics have yet to be built. `model.compile_metrics` will be empty until you train or evaluate the model.\n",
      "INFO:tensorflow:Assets written to: ../outputs/models/vae\\vae_h_dim_150_150_z_dim_10_dropout_02_init_glorot_uniform_act_relu\\decoder\\assets\n",
      "\n",
      "Training model with parameters {'encoder': {'activation': 'relu', 'dropout_rate': 0.2, 'hidden_dim': [150, 150], 'initializer': 'glorot_uniform', 'latent_dim': 10}, 'decoder': {'activation': 'relu', 'dropout_rate': 0.2, 'hidden_dim': [150, 150], 'initializer': 'glorot_uniform', 'latent_dim': 10}, 'vae': {'beta': 0.0001}}\n"
     ]
    },
    {
     "name": "stderr",
     "output_type": "stream",
     "text": [
      "Fold Progress: 100%|██████████████████████████████| 5/5 [01:45<00:00, 21.13s/it]\n"
     ]
    },
    {
     "name": "stdout",
     "output_type": "stream",
     "text": [
      "\n",
      "Training model with parameters {'encoder': {'activation': 'relu', 'dropout_rate': 0.2, 'hidden_dim': [150, 150], 'initializer': 'glorot_uniform', 'latent_dim': 10}, 'decoder': {'activation': 'relu', 'dropout_rate': 0.2, 'hidden_dim': [150, 150], 'initializer': 'glorot_uniform', 'latent_dim': 10}, 'vae': {'beta': 0.001}}\n"
     ]
    },
    {
     "name": "stderr",
     "output_type": "stream",
     "text": [
      "Fold Progress: 100%|██████████████████████████████| 5/5 [01:59<00:00, 23.84s/it]\n"
     ]
    },
    {
     "name": "stdout",
     "output_type": "stream",
     "text": [
      "\n",
      "Training model with parameters {'encoder': {'activation': 'relu', 'dropout_rate': 0.2, 'hidden_dim': [200, 200], 'initializer': 'glorot_uniform', 'latent_dim': 10}, 'decoder': {'activation': 'relu', 'dropout_rate': 0.2, 'hidden_dim': [200, 200], 'initializer': 'glorot_uniform', 'latent_dim': 10}, 'vae': {'beta': 1e-05}}\n"
     ]
    },
    {
     "name": "stderr",
     "output_type": "stream",
     "text": [
      "Fold Progress: 100%|██████████████████████████████| 5/5 [01:38<00:00, 19.65s/it]"
     ]
    },
    {
     "name": "stdout",
     "output_type": "stream",
     "text": [
      "WARNING:tensorflow:Compiled the loaded model, but the compiled metrics have yet to be built. `model.compile_metrics` will be empty until you train or evaluate the model.\n"
     ]
    },
    {
     "name": "stderr",
     "output_type": "stream",
     "text": [
      "\n"
     ]
    },
    {
     "name": "stdout",
     "output_type": "stream",
     "text": [
      "INFO:tensorflow:Assets written to: ../outputs/models/vae\\vae_h_dim_200_200_z_dim_10_dropout_02_init_glorot_uniform_act_relu\\encoder\\assets\n",
      "WARNING:tensorflow:Compiled the loaded model, but the compiled metrics have yet to be built. `model.compile_metrics` will be empty until you train or evaluate the model.\n",
      "INFO:tensorflow:Assets written to: ../outputs/models/vae\\vae_h_dim_200_200_z_dim_10_dropout_02_init_glorot_uniform_act_relu\\decoder\\assets\n",
      "\n",
      "Training model with parameters {'encoder': {'activation': 'relu', 'dropout_rate': 0.2, 'hidden_dim': [200, 200], 'initializer': 'glorot_uniform', 'latent_dim': 10}, 'decoder': {'activation': 'relu', 'dropout_rate': 0.2, 'hidden_dim': [200, 200], 'initializer': 'glorot_uniform', 'latent_dim': 10}, 'vae': {'beta': 0.0001}}\n"
     ]
    },
    {
     "name": "stderr",
     "output_type": "stream",
     "text": [
      "Fold Progress: 100%|██████████████████████████████| 5/5 [01:53<00:00, 22.74s/it]\n"
     ]
    },
    {
     "name": "stdout",
     "output_type": "stream",
     "text": [
      "\n",
      "Training model with parameters {'encoder': {'activation': 'relu', 'dropout_rate': 0.2, 'hidden_dim': [200, 200], 'initializer': 'glorot_uniform', 'latent_dim': 10}, 'decoder': {'activation': 'relu', 'dropout_rate': 0.2, 'hidden_dim': [200, 200], 'initializer': 'glorot_uniform', 'latent_dim': 10}, 'vae': {'beta': 0.001}}\n"
     ]
    },
    {
     "name": "stderr",
     "output_type": "stream",
     "text": [
      "Fold Progress: 100%|██████████████████████████████| 5/5 [01:49<00:00, 21.99s/it]\n"
     ]
    },
    {
     "name": "stdout",
     "output_type": "stream",
     "text": [
      "\n",
      "Training model with parameters {'encoder': {'activation': 'relu', 'dropout_rate': 0.2, 'hidden_dim': [250, 250], 'initializer': 'glorot_uniform', 'latent_dim': 10}, 'decoder': {'activation': 'relu', 'dropout_rate': 0.2, 'hidden_dim': [250, 250], 'initializer': 'glorot_uniform', 'latent_dim': 10}, 'vae': {'beta': 1e-05}}\n"
     ]
    },
    {
     "name": "stderr",
     "output_type": "stream",
     "text": [
      "Fold Progress: 100%|██████████████████████████████| 5/5 [01:51<00:00, 22.21s/it]"
     ]
    },
    {
     "name": "stdout",
     "output_type": "stream",
     "text": [
      "WARNING:tensorflow:Compiled the loaded model, but the compiled metrics have yet to be built. `model.compile_metrics` will be empty until you train or evaluate the model.\n"
     ]
    },
    {
     "name": "stderr",
     "output_type": "stream",
     "text": [
      "\n"
     ]
    },
    {
     "name": "stdout",
     "output_type": "stream",
     "text": [
      "INFO:tensorflow:Assets written to: ../outputs/models/vae\\vae_h_dim_250_250_z_dim_10_dropout_02_init_glorot_uniform_act_relu\\encoder\\assets\n",
      "WARNING:tensorflow:Compiled the loaded model, but the compiled metrics have yet to be built. `model.compile_metrics` will be empty until you train or evaluate the model.\n",
      "INFO:tensorflow:Assets written to: ../outputs/models/vae\\vae_h_dim_250_250_z_dim_10_dropout_02_init_glorot_uniform_act_relu\\decoder\\assets\n",
      "\n",
      "Training model with parameters {'encoder': {'activation': 'relu', 'dropout_rate': 0.2, 'hidden_dim': [250, 250], 'initializer': 'glorot_uniform', 'latent_dim': 10}, 'decoder': {'activation': 'relu', 'dropout_rate': 0.2, 'hidden_dim': [250, 250], 'initializer': 'glorot_uniform', 'latent_dim': 10}, 'vae': {'beta': 0.0001}}\n"
     ]
    },
    {
     "name": "stderr",
     "output_type": "stream",
     "text": [
      "Fold Progress: 100%|██████████████████████████████| 5/5 [02:15<00:00, 27.17s/it]\n"
     ]
    },
    {
     "name": "stdout",
     "output_type": "stream",
     "text": [
      "\n",
      "Training model with parameters {'encoder': {'activation': 'relu', 'dropout_rate': 0.2, 'hidden_dim': [250, 250], 'initializer': 'glorot_uniform', 'latent_dim': 10}, 'decoder': {'activation': 'relu', 'dropout_rate': 0.2, 'hidden_dim': [250, 250], 'initializer': 'glorot_uniform', 'latent_dim': 10}, 'vae': {'beta': 0.001}}\n"
     ]
    },
    {
     "name": "stderr",
     "output_type": "stream",
     "text": [
      "Fold Progress: 100%|██████████████████████████████| 5/5 [01:55<00:00, 23.00s/it]\n"
     ]
    },
    {
     "name": "stdout",
     "output_type": "stream",
     "text": [
      "\n",
      "Training model with parameters {'encoder': {'activation': 'relu', 'dropout_rate': 0.2, 'hidden_dim': [300, 300], 'initializer': 'glorot_uniform', 'latent_dim': 10}, 'decoder': {'activation': 'relu', 'dropout_rate': 0.2, 'hidden_dim': [300, 300], 'initializer': 'glorot_uniform', 'latent_dim': 10}, 'vae': {'beta': 1e-05}}\n"
     ]
    },
    {
     "name": "stderr",
     "output_type": "stream",
     "text": [
      "Fold Progress: 100%|██████████████████████████████| 5/5 [02:17<00:00, 27.57s/it]\n"
     ]
    },
    {
     "name": "stdout",
     "output_type": "stream",
     "text": [
      "\n",
      "Training model with parameters {'encoder': {'activation': 'relu', 'dropout_rate': 0.2, 'hidden_dim': [300, 300], 'initializer': 'glorot_uniform', 'latent_dim': 10}, 'decoder': {'activation': 'relu', 'dropout_rate': 0.2, 'hidden_dim': [300, 300], 'initializer': 'glorot_uniform', 'latent_dim': 10}, 'vae': {'beta': 0.0001}}\n"
     ]
    },
    {
     "name": "stderr",
     "output_type": "stream",
     "text": [
      "Fold Progress: 100%|██████████████████████████████| 5/5 [01:52<00:00, 22.45s/it]\n"
     ]
    },
    {
     "name": "stdout",
     "output_type": "stream",
     "text": [
      "\n",
      "Training model with parameters {'encoder': {'activation': 'relu', 'dropout_rate': 0.2, 'hidden_dim': [300, 300], 'initializer': 'glorot_uniform', 'latent_dim': 10}, 'decoder': {'activation': 'relu', 'dropout_rate': 0.2, 'hidden_dim': [300, 300], 'initializer': 'glorot_uniform', 'latent_dim': 10}, 'vae': {'beta': 0.001}}\n"
     ]
    },
    {
     "name": "stderr",
     "output_type": "stream",
     "text": [
      "Fold Progress: 100%|██████████████████████████████| 5/5 [02:24<00:00, 28.90s/it]\n"
     ]
    },
    {
     "name": "stdout",
     "output_type": "stream",
     "text": [
      "\n",
      "Training model with parameters {'encoder': {'activation': 'relu', 'dropout_rate': 0.2, 'hidden_dim': [150, 100, 50], 'initializer': 'glorot_uniform', 'latent_dim': 10}, 'decoder': {'activation': 'relu', 'dropout_rate': 0.2, 'hidden_dim': [150, 100, 50], 'initializer': 'glorot_uniform', 'latent_dim': 10}, 'vae': {'beta': 1e-05}}\n"
     ]
    },
    {
     "name": "stderr",
     "output_type": "stream",
     "text": [
      "Fold Progress: 100%|██████████████████████████████| 5/5 [02:14<00:00, 26.97s/it]"
     ]
    },
    {
     "name": "stdout",
     "output_type": "stream",
     "text": [
      "WARNING:tensorflow:Compiled the loaded model, but the compiled metrics have yet to be built. `model.compile_metrics` will be empty until you train or evaluate the model.\n"
     ]
    },
    {
     "name": "stderr",
     "output_type": "stream",
     "text": [
      "\n"
     ]
    },
    {
     "name": "stdout",
     "output_type": "stream",
     "text": [
      "INFO:tensorflow:Assets written to: ../outputs/models/vae\\vae_h_dim_150_100_50_z_dim_10_dropout_02_init_glorot_uniform_act_relu\\encoder\\assets\n",
      "WARNING:tensorflow:Compiled the loaded model, but the compiled metrics have yet to be built. `model.compile_metrics` will be empty until you train or evaluate the model.\n",
      "INFO:tensorflow:Assets written to: ../outputs/models/vae\\vae_h_dim_150_100_50_z_dim_10_dropout_02_init_glorot_uniform_act_relu\\decoder\\assets\n",
      "\n",
      "Training model with parameters {'encoder': {'activation': 'relu', 'dropout_rate': 0.2, 'hidden_dim': [150, 100, 50], 'initializer': 'glorot_uniform', 'latent_dim': 10}, 'decoder': {'activation': 'relu', 'dropout_rate': 0.2, 'hidden_dim': [150, 100, 50], 'initializer': 'glorot_uniform', 'latent_dim': 10}, 'vae': {'beta': 0.0001}}\n"
     ]
    },
    {
     "name": "stderr",
     "output_type": "stream",
     "text": [
      "Fold Progress: 100%|██████████████████████████████| 5/5 [02:18<00:00, 27.62s/it]\n"
     ]
    },
    {
     "name": "stdout",
     "output_type": "stream",
     "text": [
      "\n",
      "Training model with parameters {'encoder': {'activation': 'relu', 'dropout_rate': 0.2, 'hidden_dim': [150, 100, 50], 'initializer': 'glorot_uniform', 'latent_dim': 10}, 'decoder': {'activation': 'relu', 'dropout_rate': 0.2, 'hidden_dim': [150, 100, 50], 'initializer': 'glorot_uniform', 'latent_dim': 10}, 'vae': {'beta': 0.001}}\n"
     ]
    },
    {
     "name": "stderr",
     "output_type": "stream",
     "text": [
      "Fold Progress: 100%|██████████████████████████████| 5/5 [02:17<00:00, 27.48s/it]\n"
     ]
    },
    {
     "name": "stdout",
     "output_type": "stream",
     "text": [
      "\n",
      "Training model with parameters {'encoder': {'activation': 'relu', 'dropout_rate': 0.2, 'hidden_dim': [200, 150, 100], 'initializer': 'glorot_uniform', 'latent_dim': 10}, 'decoder': {'activation': 'relu', 'dropout_rate': 0.2, 'hidden_dim': [200, 150, 100], 'initializer': 'glorot_uniform', 'latent_dim': 10}, 'vae': {'beta': 1e-05}}\n"
     ]
    },
    {
     "name": "stderr",
     "output_type": "stream",
     "text": [
      "Fold Progress: 100%|██████████████████████████████| 5/5 [02:23<00:00, 28.63s/it]"
     ]
    },
    {
     "name": "stdout",
     "output_type": "stream",
     "text": [
      "WARNING:tensorflow:Compiled the loaded model, but the compiled metrics have yet to be built. `model.compile_metrics` will be empty until you train or evaluate the model.\n"
     ]
    },
    {
     "name": "stderr",
     "output_type": "stream",
     "text": [
      "\n"
     ]
    },
    {
     "name": "stdout",
     "output_type": "stream",
     "text": [
      "INFO:tensorflow:Assets written to: ../outputs/models/vae\\vae_h_dim_200_150_100_z_dim_10_dropout_02_init_glorot_uniform_act_relu\\encoder\\assets\n",
      "WARNING:tensorflow:Compiled the loaded model, but the compiled metrics have yet to be built. `model.compile_metrics` will be empty until you train or evaluate the model.\n",
      "INFO:tensorflow:Assets written to: ../outputs/models/vae\\vae_h_dim_200_150_100_z_dim_10_dropout_02_init_glorot_uniform_act_relu\\decoder\\assets\n",
      "\n",
      "Training model with parameters {'encoder': {'activation': 'relu', 'dropout_rate': 0.2, 'hidden_dim': [200, 150, 100], 'initializer': 'glorot_uniform', 'latent_dim': 10}, 'decoder': {'activation': 'relu', 'dropout_rate': 0.2, 'hidden_dim': [200, 150, 100], 'initializer': 'glorot_uniform', 'latent_dim': 10}, 'vae': {'beta': 0.0001}}\n"
     ]
    },
    {
     "name": "stderr",
     "output_type": "stream",
     "text": [
      "Fold Progress: 100%|██████████████████████████████| 5/5 [02:56<00:00, 35.26s/it]\n"
     ]
    },
    {
     "name": "stdout",
     "output_type": "stream",
     "text": [
      "\n",
      "Training model with parameters {'encoder': {'activation': 'relu', 'dropout_rate': 0.2, 'hidden_dim': [200, 150, 100], 'initializer': 'glorot_uniform', 'latent_dim': 10}, 'decoder': {'activation': 'relu', 'dropout_rate': 0.2, 'hidden_dim': [200, 150, 100], 'initializer': 'glorot_uniform', 'latent_dim': 10}, 'vae': {'beta': 0.001}}\n"
     ]
    },
    {
     "name": "stderr",
     "output_type": "stream",
     "text": [
      "Fold Progress: 100%|██████████████████████████████| 5/5 [02:54<00:00, 34.89s/it]\n"
     ]
    },
    {
     "name": "stdout",
     "output_type": "stream",
     "text": [
      "\n",
      "Training model with parameters {'encoder': {'activation': 'relu', 'dropout_rate': 0.2, 'hidden_dim': [250, 200, 150], 'initializer': 'glorot_uniform', 'latent_dim': 10}, 'decoder': {'activation': 'relu', 'dropout_rate': 0.2, 'hidden_dim': [250, 200, 150], 'initializer': 'glorot_uniform', 'latent_dim': 10}, 'vae': {'beta': 1e-05}}\n"
     ]
    },
    {
     "name": "stderr",
     "output_type": "stream",
     "text": [
      "Fold Progress: 100%|██████████████████████████████| 5/5 [03:27<00:00, 41.55s/it]"
     ]
    },
    {
     "name": "stdout",
     "output_type": "stream",
     "text": [
      "WARNING:tensorflow:Compiled the loaded model, but the compiled metrics have yet to be built. `model.compile_metrics` will be empty until you train or evaluate the model.\n"
     ]
    },
    {
     "name": "stderr",
     "output_type": "stream",
     "text": [
      "\n"
     ]
    },
    {
     "name": "stdout",
     "output_type": "stream",
     "text": [
      "INFO:tensorflow:Assets written to: ../outputs/models/vae\\vae_h_dim_250_200_150_z_dim_10_dropout_02_init_glorot_uniform_act_relu\\encoder\\assets\n",
      "WARNING:tensorflow:Compiled the loaded model, but the compiled metrics have yet to be built. `model.compile_metrics` will be empty until you train or evaluate the model.\n",
      "INFO:tensorflow:Assets written to: ../outputs/models/vae\\vae_h_dim_250_200_150_z_dim_10_dropout_02_init_glorot_uniform_act_relu\\decoder\\assets\n",
      "\n",
      "Training model with parameters {'encoder': {'activation': 'relu', 'dropout_rate': 0.2, 'hidden_dim': [250, 200, 150], 'initializer': 'glorot_uniform', 'latent_dim': 10}, 'decoder': {'activation': 'relu', 'dropout_rate': 0.2, 'hidden_dim': [250, 200, 150], 'initializer': 'glorot_uniform', 'latent_dim': 10}, 'vae': {'beta': 0.0001}}\n"
     ]
    },
    {
     "name": "stderr",
     "output_type": "stream",
     "text": [
      "Fold Progress: 100%|██████████████████████████████| 5/5 [03:02<00:00, 36.50s/it]\n"
     ]
    },
    {
     "name": "stdout",
     "output_type": "stream",
     "text": [
      "\n",
      "Training model with parameters {'encoder': {'activation': 'relu', 'dropout_rate': 0.2, 'hidden_dim': [250, 200, 150], 'initializer': 'glorot_uniform', 'latent_dim': 10}, 'decoder': {'activation': 'relu', 'dropout_rate': 0.2, 'hidden_dim': [250, 200, 150], 'initializer': 'glorot_uniform', 'latent_dim': 10}, 'vae': {'beta': 0.001}}\n"
     ]
    },
    {
     "name": "stderr",
     "output_type": "stream",
     "text": [
      "Fold Progress: 100%|██████████████████████████████| 5/5 [03:14<00:00, 38.80s/it]\n"
     ]
    },
    {
     "name": "stdout",
     "output_type": "stream",
     "text": [
      "\n",
      "Training model with parameters {'encoder': {'activation': 'relu', 'dropout_rate': 0.2, 'hidden_dim': [300, 200, 100], 'initializer': 'glorot_uniform', 'latent_dim': 10}, 'decoder': {'activation': 'relu', 'dropout_rate': 0.2, 'hidden_dim': [300, 200, 100], 'initializer': 'glorot_uniform', 'latent_dim': 10}, 'vae': {'beta': 1e-05}}\n"
     ]
    },
    {
     "name": "stderr",
     "output_type": "stream",
     "text": [
      "Fold Progress: 100%|██████████████████████████████| 5/5 [03:04<00:00, 36.99s/it]"
     ]
    },
    {
     "name": "stdout",
     "output_type": "stream",
     "text": [
      "WARNING:tensorflow:Compiled the loaded model, but the compiled metrics have yet to be built. `model.compile_metrics` will be empty until you train or evaluate the model.\n"
     ]
    },
    {
     "name": "stderr",
     "output_type": "stream",
     "text": [
      "\n"
     ]
    },
    {
     "name": "stdout",
     "output_type": "stream",
     "text": [
      "INFO:tensorflow:Assets written to: ../outputs/models/vae\\vae_h_dim_300_200_100_z_dim_10_dropout_02_init_glorot_uniform_act_relu\\encoder\\assets\n",
      "WARNING:tensorflow:Compiled the loaded model, but the compiled metrics have yet to be built. `model.compile_metrics` will be empty until you train or evaluate the model.\n",
      "INFO:tensorflow:Assets written to: ../outputs/models/vae\\vae_h_dim_300_200_100_z_dim_10_dropout_02_init_glorot_uniform_act_relu\\decoder\\assets\n",
      "\n",
      "Training model with parameters {'encoder': {'activation': 'relu', 'dropout_rate': 0.2, 'hidden_dim': [300, 200, 100], 'initializer': 'glorot_uniform', 'latent_dim': 10}, 'decoder': {'activation': 'relu', 'dropout_rate': 0.2, 'hidden_dim': [300, 200, 100], 'initializer': 'glorot_uniform', 'latent_dim': 10}, 'vae': {'beta': 0.0001}}\n"
     ]
    },
    {
     "name": "stderr",
     "output_type": "stream",
     "text": [
      "Fold Progress: 100%|██████████████████████████████| 5/5 [02:53<00:00, 34.68s/it]\n"
     ]
    },
    {
     "name": "stdout",
     "output_type": "stream",
     "text": [
      "\n",
      "Training model with parameters {'encoder': {'activation': 'relu', 'dropout_rate': 0.2, 'hidden_dim': [300, 200, 100], 'initializer': 'glorot_uniform', 'latent_dim': 10}, 'decoder': {'activation': 'relu', 'dropout_rate': 0.2, 'hidden_dim': [300, 200, 100], 'initializer': 'glorot_uniform', 'latent_dim': 10}, 'vae': {'beta': 0.001}}\n"
     ]
    },
    {
     "name": "stderr",
     "output_type": "stream",
     "text": [
      "Fold Progress: 100%|██████████████████████████████| 5/5 [02:56<00:00, 35.21s/it]\n"
     ]
    },
    {
     "name": "stdout",
     "output_type": "stream",
     "text": [
      "\n",
      "Training model with parameters {'encoder': {'activation': 'relu', 'dropout_rate': 0.3, 'hidden_dim': [100, 100], 'initializer': 'glorot_uniform', 'latent_dim': 10}, 'decoder': {'activation': 'relu', 'dropout_rate': 0.3, 'hidden_dim': [100, 100], 'initializer': 'glorot_uniform', 'latent_dim': 10}, 'vae': {'beta': 1e-05}}\n"
     ]
    },
    {
     "name": "stderr",
     "output_type": "stream",
     "text": [
      "Fold Progress: 100%|██████████████████████████████| 5/5 [01:56<00:00, 23.35s/it]"
     ]
    },
    {
     "name": "stdout",
     "output_type": "stream",
     "text": [
      "WARNING:tensorflow:Compiled the loaded model, but the compiled metrics have yet to be built. `model.compile_metrics` will be empty until you train or evaluate the model.\n"
     ]
    },
    {
     "name": "stderr",
     "output_type": "stream",
     "text": [
      "\n"
     ]
    },
    {
     "name": "stdout",
     "output_type": "stream",
     "text": [
      "INFO:tensorflow:Assets written to: ../outputs/models/vae\\vae_h_dim_100_100_z_dim_10_dropout_03_init_glorot_uniform_act_relu\\encoder\\assets\n",
      "WARNING:tensorflow:Compiled the loaded model, but the compiled metrics have yet to be built. `model.compile_metrics` will be empty until you train or evaluate the model.\n",
      "INFO:tensorflow:Assets written to: ../outputs/models/vae\\vae_h_dim_100_100_z_dim_10_dropout_03_init_glorot_uniform_act_relu\\decoder\\assets\n",
      "\n",
      "Training model with parameters {'encoder': {'activation': 'relu', 'dropout_rate': 0.3, 'hidden_dim': [100, 100], 'initializer': 'glorot_uniform', 'latent_dim': 10}, 'decoder': {'activation': 'relu', 'dropout_rate': 0.3, 'hidden_dim': [100, 100], 'initializer': 'glorot_uniform', 'latent_dim': 10}, 'vae': {'beta': 0.0001}}\n"
     ]
    },
    {
     "name": "stderr",
     "output_type": "stream",
     "text": [
      "Fold Progress: 100%|██████████████████████████████| 5/5 [02:00<00:00, 24.13s/it]\n"
     ]
    },
    {
     "name": "stdout",
     "output_type": "stream",
     "text": [
      "\n",
      "Training model with parameters {'encoder': {'activation': 'relu', 'dropout_rate': 0.3, 'hidden_dim': [100, 100], 'initializer': 'glorot_uniform', 'latent_dim': 10}, 'decoder': {'activation': 'relu', 'dropout_rate': 0.3, 'hidden_dim': [100, 100], 'initializer': 'glorot_uniform', 'latent_dim': 10}, 'vae': {'beta': 0.001}}\n"
     ]
    },
    {
     "name": "stderr",
     "output_type": "stream",
     "text": [
      "Fold Progress: 100%|██████████████████████████████| 5/5 [02:00<00:00, 24.01s/it]\n"
     ]
    },
    {
     "name": "stdout",
     "output_type": "stream",
     "text": [
      "\n",
      "Training model with parameters {'encoder': {'activation': 'relu', 'dropout_rate': 0.3, 'hidden_dim': [150, 150], 'initializer': 'glorot_uniform', 'latent_dim': 10}, 'decoder': {'activation': 'relu', 'dropout_rate': 0.3, 'hidden_dim': [150, 150], 'initializer': 'glorot_uniform', 'latent_dim': 10}, 'vae': {'beta': 1e-05}}\n"
     ]
    },
    {
     "name": "stderr",
     "output_type": "stream",
     "text": [
      "Fold Progress: 100%|██████████████████████████████| 5/5 [02:10<00:00, 26.05s/it]"
     ]
    },
    {
     "name": "stdout",
     "output_type": "stream",
     "text": [
      "WARNING:tensorflow:Compiled the loaded model, but the compiled metrics have yet to be built. `model.compile_metrics` will be empty until you train or evaluate the model.\n"
     ]
    },
    {
     "name": "stderr",
     "output_type": "stream",
     "text": [
      "\n"
     ]
    },
    {
     "name": "stdout",
     "output_type": "stream",
     "text": [
      "INFO:tensorflow:Assets written to: ../outputs/models/vae\\vae_h_dim_150_150_z_dim_10_dropout_03_init_glorot_uniform_act_relu\\encoder\\assets\n",
      "WARNING:tensorflow:Compiled the loaded model, but the compiled metrics have yet to be built. `model.compile_metrics` will be empty until you train or evaluate the model.\n",
      "INFO:tensorflow:Assets written to: ../outputs/models/vae\\vae_h_dim_150_150_z_dim_10_dropout_03_init_glorot_uniform_act_relu\\decoder\\assets\n",
      "\n",
      "Training model with parameters {'encoder': {'activation': 'relu', 'dropout_rate': 0.3, 'hidden_dim': [150, 150], 'initializer': 'glorot_uniform', 'latent_dim': 10}, 'decoder': {'activation': 'relu', 'dropout_rate': 0.3, 'hidden_dim': [150, 150], 'initializer': 'glorot_uniform', 'latent_dim': 10}, 'vae': {'beta': 0.0001}}\n"
     ]
    },
    {
     "name": "stderr",
     "output_type": "stream",
     "text": [
      "Fold Progress: 100%|██████████████████████████████| 5/5 [02:05<00:00, 25.05s/it]\n"
     ]
    },
    {
     "name": "stdout",
     "output_type": "stream",
     "text": [
      "\n",
      "Training model with parameters {'encoder': {'activation': 'relu', 'dropout_rate': 0.3, 'hidden_dim': [150, 150], 'initializer': 'glorot_uniform', 'latent_dim': 10}, 'decoder': {'activation': 'relu', 'dropout_rate': 0.3, 'hidden_dim': [150, 150], 'initializer': 'glorot_uniform', 'latent_dim': 10}, 'vae': {'beta': 0.001}}\n"
     ]
    },
    {
     "name": "stderr",
     "output_type": "stream",
     "text": [
      "Fold Progress: 100%|██████████████████████████████| 5/5 [02:00<00:00, 24.11s/it]\n"
     ]
    },
    {
     "name": "stdout",
     "output_type": "stream",
     "text": [
      "\n",
      "Training model with parameters {'encoder': {'activation': 'relu', 'dropout_rate': 0.3, 'hidden_dim': [200, 200], 'initializer': 'glorot_uniform', 'latent_dim': 10}, 'decoder': {'activation': 'relu', 'dropout_rate': 0.3, 'hidden_dim': [200, 200], 'initializer': 'glorot_uniform', 'latent_dim': 10}, 'vae': {'beta': 1e-05}}\n"
     ]
    },
    {
     "name": "stderr",
     "output_type": "stream",
     "text": [
      "Fold Progress: 100%|██████████████████████████████| 5/5 [01:43<00:00, 20.69s/it]"
     ]
    },
    {
     "name": "stdout",
     "output_type": "stream",
     "text": [
      "WARNING:tensorflow:Compiled the loaded model, but the compiled metrics have yet to be built. `model.compile_metrics` will be empty until you train or evaluate the model.\n"
     ]
    },
    {
     "name": "stderr",
     "output_type": "stream",
     "text": [
      "\n"
     ]
    },
    {
     "name": "stdout",
     "output_type": "stream",
     "text": [
      "INFO:tensorflow:Assets written to: ../outputs/models/vae\\vae_h_dim_200_200_z_dim_10_dropout_03_init_glorot_uniform_act_relu\\encoder\\assets\n",
      "WARNING:tensorflow:Compiled the loaded model, but the compiled metrics have yet to be built. `model.compile_metrics` will be empty until you train or evaluate the model.\n",
      "INFO:tensorflow:Assets written to: ../outputs/models/vae\\vae_h_dim_200_200_z_dim_10_dropout_03_init_glorot_uniform_act_relu\\decoder\\assets\n",
      "\n",
      "Training model with parameters {'encoder': {'activation': 'relu', 'dropout_rate': 0.3, 'hidden_dim': [200, 200], 'initializer': 'glorot_uniform', 'latent_dim': 10}, 'decoder': {'activation': 'relu', 'dropout_rate': 0.3, 'hidden_dim': [200, 200], 'initializer': 'glorot_uniform', 'latent_dim': 10}, 'vae': {'beta': 0.0001}}\n"
     ]
    },
    {
     "name": "stderr",
     "output_type": "stream",
     "text": [
      "Fold Progress: 100%|██████████████████████████████| 5/5 [02:25<00:00, 29.03s/it]\n"
     ]
    },
    {
     "name": "stdout",
     "output_type": "stream",
     "text": [
      "\n",
      "Training model with parameters {'encoder': {'activation': 'relu', 'dropout_rate': 0.3, 'hidden_dim': [200, 200], 'initializer': 'glorot_uniform', 'latent_dim': 10}, 'decoder': {'activation': 'relu', 'dropout_rate': 0.3, 'hidden_dim': [200, 200], 'initializer': 'glorot_uniform', 'latent_dim': 10}, 'vae': {'beta': 0.001}}\n"
     ]
    },
    {
     "name": "stderr",
     "output_type": "stream",
     "text": [
      "Fold Progress: 100%|██████████████████████████████| 5/5 [01:51<00:00, 22.32s/it]\n"
     ]
    },
    {
     "name": "stdout",
     "output_type": "stream",
     "text": [
      "\n",
      "Training model with parameters {'encoder': {'activation': 'relu', 'dropout_rate': 0.3, 'hidden_dim': [250, 250], 'initializer': 'glorot_uniform', 'latent_dim': 10}, 'decoder': {'activation': 'relu', 'dropout_rate': 0.3, 'hidden_dim': [250, 250], 'initializer': 'glorot_uniform', 'latent_dim': 10}, 'vae': {'beta': 1e-05}}\n"
     ]
    },
    {
     "name": "stderr",
     "output_type": "stream",
     "text": [
      "Fold Progress: 100%|██████████████████████████████| 5/5 [02:36<00:00, 31.26s/it]"
     ]
    },
    {
     "name": "stdout",
     "output_type": "stream",
     "text": [
      "WARNING:tensorflow:Compiled the loaded model, but the compiled metrics have yet to be built. `model.compile_metrics` will be empty until you train or evaluate the model.\n"
     ]
    },
    {
     "name": "stderr",
     "output_type": "stream",
     "text": [
      "\n"
     ]
    },
    {
     "name": "stdout",
     "output_type": "stream",
     "text": [
      "INFO:tensorflow:Assets written to: ../outputs/models/vae\\vae_h_dim_250_250_z_dim_10_dropout_03_init_glorot_uniform_act_relu\\encoder\\assets\n",
      "WARNING:tensorflow:Compiled the loaded model, but the compiled metrics have yet to be built. `model.compile_metrics` will be empty until you train or evaluate the model.\n",
      "INFO:tensorflow:Assets written to: ../outputs/models/vae\\vae_h_dim_250_250_z_dim_10_dropout_03_init_glorot_uniform_act_relu\\decoder\\assets\n",
      "\n",
      "Training model with parameters {'encoder': {'activation': 'relu', 'dropout_rate': 0.3, 'hidden_dim': [250, 250], 'initializer': 'glorot_uniform', 'latent_dim': 10}, 'decoder': {'activation': 'relu', 'dropout_rate': 0.3, 'hidden_dim': [250, 250], 'initializer': 'glorot_uniform', 'latent_dim': 10}, 'vae': {'beta': 0.0001}}\n"
     ]
    },
    {
     "name": "stderr",
     "output_type": "stream",
     "text": [
      "Fold Progress: 100%|██████████████████████████████| 5/5 [02:18<00:00, 27.75s/it]\n"
     ]
    },
    {
     "name": "stdout",
     "output_type": "stream",
     "text": [
      "\n",
      "Training model with parameters {'encoder': {'activation': 'relu', 'dropout_rate': 0.3, 'hidden_dim': [250, 250], 'initializer': 'glorot_uniform', 'latent_dim': 10}, 'decoder': {'activation': 'relu', 'dropout_rate': 0.3, 'hidden_dim': [250, 250], 'initializer': 'glorot_uniform', 'latent_dim': 10}, 'vae': {'beta': 0.001}}\n"
     ]
    },
    {
     "name": "stderr",
     "output_type": "stream",
     "text": [
      "Fold Progress: 100%|██████████████████████████████| 5/5 [02:18<00:00, 27.70s/it]\n"
     ]
    },
    {
     "name": "stdout",
     "output_type": "stream",
     "text": [
      "\n",
      "Training model with parameters {'encoder': {'activation': 'relu', 'dropout_rate': 0.3, 'hidden_dim': [300, 300], 'initializer': 'glorot_uniform', 'latent_dim': 10}, 'decoder': {'activation': 'relu', 'dropout_rate': 0.3, 'hidden_dim': [300, 300], 'initializer': 'glorot_uniform', 'latent_dim': 10}, 'vae': {'beta': 1e-05}}\n"
     ]
    },
    {
     "name": "stderr",
     "output_type": "stream",
     "text": [
      "Fold Progress: 100%|██████████████████████████████| 5/5 [02:30<00:00, 30.18s/it]"
     ]
    },
    {
     "name": "stdout",
     "output_type": "stream",
     "text": [
      "WARNING:tensorflow:Compiled the loaded model, but the compiled metrics have yet to be built. `model.compile_metrics` will be empty until you train or evaluate the model.\n"
     ]
    },
    {
     "name": "stderr",
     "output_type": "stream",
     "text": [
      "\n"
     ]
    },
    {
     "name": "stdout",
     "output_type": "stream",
     "text": [
      "INFO:tensorflow:Assets written to: ../outputs/models/vae\\vae_h_dim_300_300_z_dim_10_dropout_03_init_glorot_uniform_act_relu\\encoder\\assets\n",
      "WARNING:tensorflow:Compiled the loaded model, but the compiled metrics have yet to be built. `model.compile_metrics` will be empty until you train or evaluate the model.\n",
      "INFO:tensorflow:Assets written to: ../outputs/models/vae\\vae_h_dim_300_300_z_dim_10_dropout_03_init_glorot_uniform_act_relu\\decoder\\assets\n",
      "\n",
      "Training model with parameters {'encoder': {'activation': 'relu', 'dropout_rate': 0.3, 'hidden_dim': [300, 300], 'initializer': 'glorot_uniform', 'latent_dim': 10}, 'decoder': {'activation': 'relu', 'dropout_rate': 0.3, 'hidden_dim': [300, 300], 'initializer': 'glorot_uniform', 'latent_dim': 10}, 'vae': {'beta': 0.0001}}\n"
     ]
    },
    {
     "name": "stderr",
     "output_type": "stream",
     "text": [
      "Fold Progress: 100%|██████████████████████████████| 5/5 [02:53<00:00, 34.65s/it]\n"
     ]
    },
    {
     "name": "stdout",
     "output_type": "stream",
     "text": [
      "\n",
      "Training model with parameters {'encoder': {'activation': 'relu', 'dropout_rate': 0.3, 'hidden_dim': [300, 300], 'initializer': 'glorot_uniform', 'latent_dim': 10}, 'decoder': {'activation': 'relu', 'dropout_rate': 0.3, 'hidden_dim': [300, 300], 'initializer': 'glorot_uniform', 'latent_dim': 10}, 'vae': {'beta': 0.001}}\n"
     ]
    },
    {
     "name": "stderr",
     "output_type": "stream",
     "text": [
      "Fold Progress: 100%|██████████████████████████████| 5/5 [02:46<00:00, 33.24s/it]\n"
     ]
    },
    {
     "name": "stdout",
     "output_type": "stream",
     "text": [
      "\n",
      "Training model with parameters {'encoder': {'activation': 'relu', 'dropout_rate': 0.3, 'hidden_dim': [150, 100, 50], 'initializer': 'glorot_uniform', 'latent_dim': 10}, 'decoder': {'activation': 'relu', 'dropout_rate': 0.3, 'hidden_dim': [150, 100, 50], 'initializer': 'glorot_uniform', 'latent_dim': 10}, 'vae': {'beta': 1e-05}}\n"
     ]
    },
    {
     "name": "stderr",
     "output_type": "stream",
     "text": [
      "Fold Progress: 100%|██████████████████████████████| 5/5 [02:07<00:00, 25.54s/it]"
     ]
    },
    {
     "name": "stdout",
     "output_type": "stream",
     "text": [
      "WARNING:tensorflow:Compiled the loaded model, but the compiled metrics have yet to be built. `model.compile_metrics` will be empty until you train or evaluate the model.\n"
     ]
    },
    {
     "name": "stderr",
     "output_type": "stream",
     "text": [
      "\n"
     ]
    },
    {
     "name": "stdout",
     "output_type": "stream",
     "text": [
      "INFO:tensorflow:Assets written to: ../outputs/models/vae\\vae_h_dim_150_100_50_z_dim_10_dropout_03_init_glorot_uniform_act_relu\\encoder\\assets\n",
      "WARNING:tensorflow:Compiled the loaded model, but the compiled metrics have yet to be built. `model.compile_metrics` will be empty until you train or evaluate the model.\n",
      "INFO:tensorflow:Assets written to: ../outputs/models/vae\\vae_h_dim_150_100_50_z_dim_10_dropout_03_init_glorot_uniform_act_relu\\decoder\\assets\n",
      "\n",
      "Training model with parameters {'encoder': {'activation': 'relu', 'dropout_rate': 0.3, 'hidden_dim': [150, 100, 50], 'initializer': 'glorot_uniform', 'latent_dim': 10}, 'decoder': {'activation': 'relu', 'dropout_rate': 0.3, 'hidden_dim': [150, 100, 50], 'initializer': 'glorot_uniform', 'latent_dim': 10}, 'vae': {'beta': 0.0001}}\n"
     ]
    },
    {
     "name": "stderr",
     "output_type": "stream",
     "text": [
      "Fold Progress: 100%|██████████████████████████████| 5/5 [02:46<00:00, 33.20s/it]\n"
     ]
    },
    {
     "name": "stdout",
     "output_type": "stream",
     "text": [
      "\n",
      "Training model with parameters {'encoder': {'activation': 'relu', 'dropout_rate': 0.3, 'hidden_dim': [150, 100, 50], 'initializer': 'glorot_uniform', 'latent_dim': 10}, 'decoder': {'activation': 'relu', 'dropout_rate': 0.3, 'hidden_dim': [150, 100, 50], 'initializer': 'glorot_uniform', 'latent_dim': 10}, 'vae': {'beta': 0.001}}\n"
     ]
    },
    {
     "name": "stderr",
     "output_type": "stream",
     "text": [
      "Fold Progress: 100%|██████████████████████████████| 5/5 [02:14<00:00, 26.85s/it]\n"
     ]
    },
    {
     "name": "stdout",
     "output_type": "stream",
     "text": [
      "\n",
      "Training model with parameters {'encoder': {'activation': 'relu', 'dropout_rate': 0.3, 'hidden_dim': [200, 150, 100], 'initializer': 'glorot_uniform', 'latent_dim': 10}, 'decoder': {'activation': 'relu', 'dropout_rate': 0.3, 'hidden_dim': [200, 150, 100], 'initializer': 'glorot_uniform', 'latent_dim': 10}, 'vae': {'beta': 1e-05}}\n"
     ]
    },
    {
     "name": "stderr",
     "output_type": "stream",
     "text": [
      "Fold Progress: 100%|██████████████████████████████| 5/5 [02:20<00:00, 28.01s/it]"
     ]
    },
    {
     "name": "stdout",
     "output_type": "stream",
     "text": [
      "WARNING:tensorflow:Compiled the loaded model, but the compiled metrics have yet to be built. `model.compile_metrics` will be empty until you train or evaluate the model.\n"
     ]
    },
    {
     "name": "stderr",
     "output_type": "stream",
     "text": [
      "\n"
     ]
    },
    {
     "name": "stdout",
     "output_type": "stream",
     "text": [
      "INFO:tensorflow:Assets written to: ../outputs/models/vae\\vae_h_dim_200_150_100_z_dim_10_dropout_03_init_glorot_uniform_act_relu\\encoder\\assets\n",
      "WARNING:tensorflow:Compiled the loaded model, but the compiled metrics have yet to be built. `model.compile_metrics` will be empty until you train or evaluate the model.\n",
      "INFO:tensorflow:Assets written to: ../outputs/models/vae\\vae_h_dim_200_150_100_z_dim_10_dropout_03_init_glorot_uniform_act_relu\\decoder\\assets\n",
      "\n",
      "Training model with parameters {'encoder': {'activation': 'relu', 'dropout_rate': 0.3, 'hidden_dim': [200, 150, 100], 'initializer': 'glorot_uniform', 'latent_dim': 10}, 'decoder': {'activation': 'relu', 'dropout_rate': 0.3, 'hidden_dim': [200, 150, 100], 'initializer': 'glorot_uniform', 'latent_dim': 10}, 'vae': {'beta': 0.0001}}\n"
     ]
    },
    {
     "name": "stderr",
     "output_type": "stream",
     "text": [
      "Fold Progress: 100%|██████████████████████████████| 5/5 [03:13<00:00, 38.69s/it]\n"
     ]
    },
    {
     "name": "stdout",
     "output_type": "stream",
     "text": [
      "\n",
      "Training model with parameters {'encoder': {'activation': 'relu', 'dropout_rate': 0.3, 'hidden_dim': [200, 150, 100], 'initializer': 'glorot_uniform', 'latent_dim': 10}, 'decoder': {'activation': 'relu', 'dropout_rate': 0.3, 'hidden_dim': [200, 150, 100], 'initializer': 'glorot_uniform', 'latent_dim': 10}, 'vae': {'beta': 0.001}}\n"
     ]
    },
    {
     "name": "stderr",
     "output_type": "stream",
     "text": [
      "Fold Progress: 100%|██████████████████████████████| 5/5 [03:15<00:00, 39.12s/it]\n"
     ]
    },
    {
     "name": "stdout",
     "output_type": "stream",
     "text": [
      "\n",
      "Training model with parameters {'encoder': {'activation': 'relu', 'dropout_rate': 0.3, 'hidden_dim': [250, 200, 150], 'initializer': 'glorot_uniform', 'latent_dim': 10}, 'decoder': {'activation': 'relu', 'dropout_rate': 0.3, 'hidden_dim': [250, 200, 150], 'initializer': 'glorot_uniform', 'latent_dim': 10}, 'vae': {'beta': 1e-05}}\n"
     ]
    },
    {
     "name": "stderr",
     "output_type": "stream",
     "text": [
      "Fold Progress: 100%|██████████████████████████████| 5/5 [04:09<00:00, 49.83s/it]"
     ]
    },
    {
     "name": "stdout",
     "output_type": "stream",
     "text": [
      "WARNING:tensorflow:Compiled the loaded model, but the compiled metrics have yet to be built. `model.compile_metrics` will be empty until you train or evaluate the model.\n"
     ]
    },
    {
     "name": "stderr",
     "output_type": "stream",
     "text": [
      "\n"
     ]
    },
    {
     "name": "stdout",
     "output_type": "stream",
     "text": [
      "INFO:tensorflow:Assets written to: ../outputs/models/vae\\vae_h_dim_250_200_150_z_dim_10_dropout_03_init_glorot_uniform_act_relu\\encoder\\assets\n",
      "WARNING:tensorflow:Compiled the loaded model, but the compiled metrics have yet to be built. `model.compile_metrics` will be empty until you train or evaluate the model.\n",
      "INFO:tensorflow:Assets written to: ../outputs/models/vae\\vae_h_dim_250_200_150_z_dim_10_dropout_03_init_glorot_uniform_act_relu\\decoder\\assets\n",
      "\n",
      "Training model with parameters {'encoder': {'activation': 'relu', 'dropout_rate': 0.3, 'hidden_dim': [250, 200, 150], 'initializer': 'glorot_uniform', 'latent_dim': 10}, 'decoder': {'activation': 'relu', 'dropout_rate': 0.3, 'hidden_dim': [250, 200, 150], 'initializer': 'glorot_uniform', 'latent_dim': 10}, 'vae': {'beta': 0.0001}}\n"
     ]
    },
    {
     "name": "stderr",
     "output_type": "stream",
     "text": [
      "Fold Progress: 100%|██████████████████████████████| 5/5 [04:37<00:00, 55.50s/it]\n"
     ]
    },
    {
     "name": "stdout",
     "output_type": "stream",
     "text": [
      "\n",
      "Training model with parameters {'encoder': {'activation': 'relu', 'dropout_rate': 0.3, 'hidden_dim': [250, 200, 150], 'initializer': 'glorot_uniform', 'latent_dim': 10}, 'decoder': {'activation': 'relu', 'dropout_rate': 0.3, 'hidden_dim': [250, 200, 150], 'initializer': 'glorot_uniform', 'latent_dim': 10}, 'vae': {'beta': 0.001}}\n"
     ]
    },
    {
     "name": "stderr",
     "output_type": "stream",
     "text": [
      "Fold Progress: 100%|██████████████████████████████| 5/5 [04:16<00:00, 51.30s/it]\n"
     ]
    },
    {
     "name": "stdout",
     "output_type": "stream",
     "text": [
      "\n",
      "Training model with parameters {'encoder': {'activation': 'relu', 'dropout_rate': 0.3, 'hidden_dim': [300, 200, 100], 'initializer': 'glorot_uniform', 'latent_dim': 10}, 'decoder': {'activation': 'relu', 'dropout_rate': 0.3, 'hidden_dim': [300, 200, 100], 'initializer': 'glorot_uniform', 'latent_dim': 10}, 'vae': {'beta': 1e-05}}\n"
     ]
    },
    {
     "name": "stderr",
     "output_type": "stream",
     "text": [
      "Fold Progress: 100%|██████████████████████████████| 5/5 [03:41<00:00, 44.35s/it]"
     ]
    },
    {
     "name": "stdout",
     "output_type": "stream",
     "text": [
      "WARNING:tensorflow:Compiled the loaded model, but the compiled metrics have yet to be built. `model.compile_metrics` will be empty until you train or evaluate the model.\n"
     ]
    },
    {
     "name": "stderr",
     "output_type": "stream",
     "text": [
      "\n"
     ]
    },
    {
     "name": "stdout",
     "output_type": "stream",
     "text": [
      "INFO:tensorflow:Assets written to: ../outputs/models/vae\\vae_h_dim_300_200_100_z_dim_10_dropout_03_init_glorot_uniform_act_relu\\encoder\\assets\n",
      "WARNING:tensorflow:Compiled the loaded model, but the compiled metrics have yet to be built. `model.compile_metrics` will be empty until you train or evaluate the model.\n",
      "INFO:tensorflow:Assets written to: ../outputs/models/vae\\vae_h_dim_300_200_100_z_dim_10_dropout_03_init_glorot_uniform_act_relu\\decoder\\assets\n",
      "\n",
      "Training model with parameters {'encoder': {'activation': 'relu', 'dropout_rate': 0.3, 'hidden_dim': [300, 200, 100], 'initializer': 'glorot_uniform', 'latent_dim': 10}, 'decoder': {'activation': 'relu', 'dropout_rate': 0.3, 'hidden_dim': [300, 200, 100], 'initializer': 'glorot_uniform', 'latent_dim': 10}, 'vae': {'beta': 0.0001}}\n"
     ]
    },
    {
     "name": "stderr",
     "output_type": "stream",
     "text": [
      "Fold Progress: 100%|██████████████████████████████| 5/5 [03:47<00:00, 45.47s/it]\n"
     ]
    },
    {
     "name": "stdout",
     "output_type": "stream",
     "text": [
      "\n",
      "Training model with parameters {'encoder': {'activation': 'relu', 'dropout_rate': 0.3, 'hidden_dim': [300, 200, 100], 'initializer': 'glorot_uniform', 'latent_dim': 10}, 'decoder': {'activation': 'relu', 'dropout_rate': 0.3, 'hidden_dim': [300, 200, 100], 'initializer': 'glorot_uniform', 'latent_dim': 10}, 'vae': {'beta': 0.001}}\n"
     ]
    },
    {
     "name": "stderr",
     "output_type": "stream",
     "text": [
      "Fold Progress: 100%|██████████████████████████████| 5/5 [03:49<00:00, 45.80s/it]\n"
     ]
    }
   ],
   "source": [
    "results = cv.cross_validate(train_data, epochs=epochs, verbose=0)\n"
   ],
   "metadata": {
    "collapsed": false,
    "ExecuteTime": {
     "end_time": "2023-05-17T14:11:38.956004800Z",
     "start_time": "2023-05-17T11:01:30.809673500Z"
    }
   }
  },
  {
   "cell_type": "code",
   "execution_count": 7,
   "outputs": [],
   "source": [
    "with open('../outputs/CrossVal/cv_latent_10.pkl', 'wb') as file:\n",
    "    pickle.dump(results, file)\n"
   ],
   "metadata": {
    "collapsed": false,
    "ExecuteTime": {
     "end_time": "2023-05-17T14:11:38.972005Z",
     "start_time": "2023-05-17T14:11:38.959003500Z"
    }
   }
  },
  {
   "cell_type": "code",
   "execution_count": 8,
   "outputs": [],
   "source": [
    "# Cross Validation for 15 dimension latent space\n",
    "latent_dims = [15]\n",
    "beta = [1e-5, 1e-4, 1e-3]\n",
    "hidden_dims = [[100, 100], [150, 150], [200, 200], [250, 250], [300, 300], [150, 100, 50], [200, 150, 100],\n",
    "               [250, 200, 150], [300, 200, 100]]\n",
    "epochs = 100\n",
    "\n",
    "dropout = [0.1, 0.2, 0.3]\n",
    "\n",
    "param_grid = create_param_grid(hidden_dims, latent_dims, dropout, ['relu'], ['glorot_uniform'], betas=beta)\n",
    "cv = VAECrossValidator(param_grid, input_dim, 5, batch_size=128)\n"
   ],
   "metadata": {
    "collapsed": false,
    "ExecuteTime": {
     "end_time": "2023-05-17T14:11:38.993004800Z",
     "start_time": "2023-05-17T14:11:38.978004200Z"
    }
   }
  },
  {
   "cell_type": "code",
   "execution_count": 9,
   "outputs": [
    {
     "name": "stdout",
     "output_type": "stream",
     "text": [
      "\n",
      "Training model with parameters {'encoder': {'activation': 'relu', 'dropout_rate': 0.1, 'hidden_dim': [100, 100], 'initializer': 'glorot_uniform', 'latent_dim': 15}, 'decoder': {'activation': 'relu', 'dropout_rate': 0.1, 'hidden_dim': [100, 100], 'initializer': 'glorot_uniform', 'latent_dim': 15}, 'vae': {'beta': 1e-05}}\n"
     ]
    },
    {
     "name": "stderr",
     "output_type": "stream",
     "text": [
      "Fold Progress: 100%|██████████████████████████████| 5/5 [02:37<00:00, 31.42s/it]"
     ]
    },
    {
     "name": "stdout",
     "output_type": "stream",
     "text": [
      "WARNING:tensorflow:Compiled the loaded model, but the compiled metrics have yet to be built. `model.compile_metrics` will be empty until you train or evaluate the model.\n"
     ]
    },
    {
     "name": "stderr",
     "output_type": "stream",
     "text": [
      "\n"
     ]
    },
    {
     "name": "stdout",
     "output_type": "stream",
     "text": [
      "INFO:tensorflow:Assets written to: ../outputs/models/vae\\vae_h_dim_100_100_z_dim_15_dropout_01_init_glorot_uniform_act_relu\\encoder\\assets\n",
      "WARNING:tensorflow:Compiled the loaded model, but the compiled metrics have yet to be built. `model.compile_metrics` will be empty until you train or evaluate the model.\n",
      "INFO:tensorflow:Assets written to: ../outputs/models/vae\\vae_h_dim_100_100_z_dim_15_dropout_01_init_glorot_uniform_act_relu\\decoder\\assets\n",
      "\n",
      "Training model with parameters {'encoder': {'activation': 'relu', 'dropout_rate': 0.1, 'hidden_dim': [100, 100], 'initializer': 'glorot_uniform', 'latent_dim': 15}, 'decoder': {'activation': 'relu', 'dropout_rate': 0.1, 'hidden_dim': [100, 100], 'initializer': 'glorot_uniform', 'latent_dim': 15}, 'vae': {'beta': 0.0001}}\n"
     ]
    },
    {
     "name": "stderr",
     "output_type": "stream",
     "text": [
      "Fold Progress: 100%|██████████████████████████████| 5/5 [02:29<00:00, 30.00s/it]\n"
     ]
    },
    {
     "name": "stdout",
     "output_type": "stream",
     "text": [
      "\n",
      "Training model with parameters {'encoder': {'activation': 'relu', 'dropout_rate': 0.1, 'hidden_dim': [100, 100], 'initializer': 'glorot_uniform', 'latent_dim': 15}, 'decoder': {'activation': 'relu', 'dropout_rate': 0.1, 'hidden_dim': [100, 100], 'initializer': 'glorot_uniform', 'latent_dim': 15}, 'vae': {'beta': 0.001}}\n"
     ]
    },
    {
     "name": "stderr",
     "output_type": "stream",
     "text": [
      "Fold Progress: 100%|██████████████████████████████| 5/5 [01:44<00:00, 20.88s/it]\n"
     ]
    },
    {
     "name": "stdout",
     "output_type": "stream",
     "text": [
      "\n",
      "Training model with parameters {'encoder': {'activation': 'relu', 'dropout_rate': 0.1, 'hidden_dim': [150, 150], 'initializer': 'glorot_uniform', 'latent_dim': 15}, 'decoder': {'activation': 'relu', 'dropout_rate': 0.1, 'hidden_dim': [150, 150], 'initializer': 'glorot_uniform', 'latent_dim': 15}, 'vae': {'beta': 1e-05}}\n"
     ]
    },
    {
     "name": "stderr",
     "output_type": "stream",
     "text": [
      "Fold Progress: 100%|██████████████████████████████| 5/5 [02:47<00:00, 33.47s/it]"
     ]
    },
    {
     "name": "stdout",
     "output_type": "stream",
     "text": [
      "WARNING:tensorflow:Compiled the loaded model, but the compiled metrics have yet to be built. `model.compile_metrics` will be empty until you train or evaluate the model.\n"
     ]
    },
    {
     "name": "stderr",
     "output_type": "stream",
     "text": [
      "\n"
     ]
    },
    {
     "name": "stdout",
     "output_type": "stream",
     "text": [
      "INFO:tensorflow:Assets written to: ../outputs/models/vae\\vae_h_dim_150_150_z_dim_15_dropout_01_init_glorot_uniform_act_relu\\encoder\\assets\n",
      "WARNING:tensorflow:Compiled the loaded model, but the compiled metrics have yet to be built. `model.compile_metrics` will be empty until you train or evaluate the model.\n",
      "INFO:tensorflow:Assets written to: ../outputs/models/vae\\vae_h_dim_150_150_z_dim_15_dropout_01_init_glorot_uniform_act_relu\\decoder\\assets\n",
      "\n",
      "Training model with parameters {'encoder': {'activation': 'relu', 'dropout_rate': 0.1, 'hidden_dim': [150, 150], 'initializer': 'glorot_uniform', 'latent_dim': 15}, 'decoder': {'activation': 'relu', 'dropout_rate': 0.1, 'hidden_dim': [150, 150], 'initializer': 'glorot_uniform', 'latent_dim': 15}, 'vae': {'beta': 0.0001}}\n"
     ]
    },
    {
     "name": "stderr",
     "output_type": "stream",
     "text": [
      "Fold Progress: 100%|██████████████████████████████| 5/5 [02:30<00:00, 30.19s/it]\n"
     ]
    },
    {
     "name": "stdout",
     "output_type": "stream",
     "text": [
      "\n",
      "Training model with parameters {'encoder': {'activation': 'relu', 'dropout_rate': 0.1, 'hidden_dim': [150, 150], 'initializer': 'glorot_uniform', 'latent_dim': 15}, 'decoder': {'activation': 'relu', 'dropout_rate': 0.1, 'hidden_dim': [150, 150], 'initializer': 'glorot_uniform', 'latent_dim': 15}, 'vae': {'beta': 0.001}}\n"
     ]
    },
    {
     "name": "stderr",
     "output_type": "stream",
     "text": [
      "Fold Progress: 100%|██████████████████████████████| 5/5 [02:53<00:00, 34.75s/it]\n"
     ]
    },
    {
     "name": "stdout",
     "output_type": "stream",
     "text": [
      "\n",
      "Training model with parameters {'encoder': {'activation': 'relu', 'dropout_rate': 0.1, 'hidden_dim': [200, 200], 'initializer': 'glorot_uniform', 'latent_dim': 15}, 'decoder': {'activation': 'relu', 'dropout_rate': 0.1, 'hidden_dim': [200, 200], 'initializer': 'glorot_uniform', 'latent_dim': 15}, 'vae': {'beta': 1e-05}}\n"
     ]
    },
    {
     "name": "stderr",
     "output_type": "stream",
     "text": [
      "Fold Progress: 100%|██████████████████████████████| 5/5 [01:56<00:00, 23.39s/it]"
     ]
    },
    {
     "name": "stdout",
     "output_type": "stream",
     "text": [
      "WARNING:tensorflow:Compiled the loaded model, but the compiled metrics have yet to be built. `model.compile_metrics` will be empty until you train or evaluate the model.\n"
     ]
    },
    {
     "name": "stderr",
     "output_type": "stream",
     "text": [
      "\n"
     ]
    },
    {
     "name": "stdout",
     "output_type": "stream",
     "text": [
      "INFO:tensorflow:Assets written to: ../outputs/models/vae\\vae_h_dim_200_200_z_dim_15_dropout_01_init_glorot_uniform_act_relu\\encoder\\assets\n",
      "WARNING:tensorflow:Compiled the loaded model, but the compiled metrics have yet to be built. `model.compile_metrics` will be empty until you train or evaluate the model.\n",
      "INFO:tensorflow:Assets written to: ../outputs/models/vae\\vae_h_dim_200_200_z_dim_15_dropout_01_init_glorot_uniform_act_relu\\decoder\\assets\n",
      "\n",
      "Training model with parameters {'encoder': {'activation': 'relu', 'dropout_rate': 0.1, 'hidden_dim': [200, 200], 'initializer': 'glorot_uniform', 'latent_dim': 15}, 'decoder': {'activation': 'relu', 'dropout_rate': 0.1, 'hidden_dim': [200, 200], 'initializer': 'glorot_uniform', 'latent_dim': 15}, 'vae': {'beta': 0.0001}}\n"
     ]
    },
    {
     "name": "stderr",
     "output_type": "stream",
     "text": [
      "Fold Progress: 100%|██████████████████████████████| 5/5 [02:16<00:00, 27.33s/it]\n"
     ]
    },
    {
     "name": "stdout",
     "output_type": "stream",
     "text": [
      "\n",
      "Training model with parameters {'encoder': {'activation': 'relu', 'dropout_rate': 0.1, 'hidden_dim': [200, 200], 'initializer': 'glorot_uniform', 'latent_dim': 15}, 'decoder': {'activation': 'relu', 'dropout_rate': 0.1, 'hidden_dim': [200, 200], 'initializer': 'glorot_uniform', 'latent_dim': 15}, 'vae': {'beta': 0.001}}\n"
     ]
    },
    {
     "name": "stderr",
     "output_type": "stream",
     "text": [
      "Fold Progress: 100%|██████████████████████████████| 5/5 [01:57<00:00, 23.56s/it]\n"
     ]
    },
    {
     "name": "stdout",
     "output_type": "stream",
     "text": [
      "\n",
      "Training model with parameters {'encoder': {'activation': 'relu', 'dropout_rate': 0.1, 'hidden_dim': [250, 250], 'initializer': 'glorot_uniform', 'latent_dim': 15}, 'decoder': {'activation': 'relu', 'dropout_rate': 0.1, 'hidden_dim': [250, 250], 'initializer': 'glorot_uniform', 'latent_dim': 15}, 'vae': {'beta': 1e-05}}\n"
     ]
    },
    {
     "name": "stderr",
     "output_type": "stream",
     "text": [
      "Fold Progress: 100%|██████████████████████████████| 5/5 [02:20<00:00, 28.05s/it]"
     ]
    },
    {
     "name": "stdout",
     "output_type": "stream",
     "text": [
      "WARNING:tensorflow:Compiled the loaded model, but the compiled metrics have yet to be built. `model.compile_metrics` will be empty until you train or evaluate the model.\n"
     ]
    },
    {
     "name": "stderr",
     "output_type": "stream",
     "text": [
      "\n"
     ]
    },
    {
     "name": "stdout",
     "output_type": "stream",
     "text": [
      "INFO:tensorflow:Assets written to: ../outputs/models/vae\\vae_h_dim_250_250_z_dim_15_dropout_01_init_glorot_uniform_act_relu\\encoder\\assets\n",
      "WARNING:tensorflow:Compiled the loaded model, but the compiled metrics have yet to be built. `model.compile_metrics` will be empty until you train or evaluate the model.\n",
      "INFO:tensorflow:Assets written to: ../outputs/models/vae\\vae_h_dim_250_250_z_dim_15_dropout_01_init_glorot_uniform_act_relu\\decoder\\assets\n",
      "\n",
      "Training model with parameters {'encoder': {'activation': 'relu', 'dropout_rate': 0.1, 'hidden_dim': [250, 250], 'initializer': 'glorot_uniform', 'latent_dim': 15}, 'decoder': {'activation': 'relu', 'dropout_rate': 0.1, 'hidden_dim': [250, 250], 'initializer': 'glorot_uniform', 'latent_dim': 15}, 'vae': {'beta': 0.0001}}\n"
     ]
    },
    {
     "name": "stderr",
     "output_type": "stream",
     "text": [
      "Fold Progress: 100%|██████████████████████████████| 5/5 [02:20<00:00, 28.14s/it]\n"
     ]
    },
    {
     "name": "stdout",
     "output_type": "stream",
     "text": [
      "\n",
      "Training model with parameters {'encoder': {'activation': 'relu', 'dropout_rate': 0.1, 'hidden_dim': [250, 250], 'initializer': 'glorot_uniform', 'latent_dim': 15}, 'decoder': {'activation': 'relu', 'dropout_rate': 0.1, 'hidden_dim': [250, 250], 'initializer': 'glorot_uniform', 'latent_dim': 15}, 'vae': {'beta': 0.001}}\n"
     ]
    },
    {
     "name": "stderr",
     "output_type": "stream",
     "text": [
      "Fold Progress: 100%|██████████████████████████████| 5/5 [02:18<00:00, 27.67s/it]\n"
     ]
    },
    {
     "name": "stdout",
     "output_type": "stream",
     "text": [
      "\n",
      "Training model with parameters {'encoder': {'activation': 'relu', 'dropout_rate': 0.1, 'hidden_dim': [300, 300], 'initializer': 'glorot_uniform', 'latent_dim': 15}, 'decoder': {'activation': 'relu', 'dropout_rate': 0.1, 'hidden_dim': [300, 300], 'initializer': 'glorot_uniform', 'latent_dim': 15}, 'vae': {'beta': 1e-05}}\n"
     ]
    },
    {
     "name": "stderr",
     "output_type": "stream",
     "text": [
      "Fold Progress: 100%|██████████████████████████████| 5/5 [02:40<00:00, 32.10s/it]"
     ]
    },
    {
     "name": "stdout",
     "output_type": "stream",
     "text": [
      "WARNING:tensorflow:Compiled the loaded model, but the compiled metrics have yet to be built. `model.compile_metrics` will be empty until you train or evaluate the model.\n"
     ]
    },
    {
     "name": "stderr",
     "output_type": "stream",
     "text": [
      "\n"
     ]
    },
    {
     "name": "stdout",
     "output_type": "stream",
     "text": [
      "INFO:tensorflow:Assets written to: ../outputs/models/vae\\vae_h_dim_300_300_z_dim_15_dropout_01_init_glorot_uniform_act_relu\\encoder\\assets\n",
      "WARNING:tensorflow:Compiled the loaded model, but the compiled metrics have yet to be built. `model.compile_metrics` will be empty until you train or evaluate the model.\n",
      "INFO:tensorflow:Assets written to: ../outputs/models/vae\\vae_h_dim_300_300_z_dim_15_dropout_01_init_glorot_uniform_act_relu\\decoder\\assets\n",
      "\n",
      "Training model with parameters {'encoder': {'activation': 'relu', 'dropout_rate': 0.1, 'hidden_dim': [300, 300], 'initializer': 'glorot_uniform', 'latent_dim': 15}, 'decoder': {'activation': 'relu', 'dropout_rate': 0.1, 'hidden_dim': [300, 300], 'initializer': 'glorot_uniform', 'latent_dim': 15}, 'vae': {'beta': 0.0001}}\n"
     ]
    },
    {
     "name": "stderr",
     "output_type": "stream",
     "text": [
      "Fold Progress: 100%|██████████████████████████████| 5/5 [02:40<00:00, 32.06s/it]\n"
     ]
    },
    {
     "name": "stdout",
     "output_type": "stream",
     "text": [
      "\n",
      "Training model with parameters {'encoder': {'activation': 'relu', 'dropout_rate': 0.1, 'hidden_dim': [300, 300], 'initializer': 'glorot_uniform', 'latent_dim': 15}, 'decoder': {'activation': 'relu', 'dropout_rate': 0.1, 'hidden_dim': [300, 300], 'initializer': 'glorot_uniform', 'latent_dim': 15}, 'vae': {'beta': 0.001}}\n"
     ]
    },
    {
     "name": "stderr",
     "output_type": "stream",
     "text": [
      "Fold Progress: 100%|██████████████████████████████| 5/5 [02:37<00:00, 31.42s/it]\n"
     ]
    },
    {
     "name": "stdout",
     "output_type": "stream",
     "text": [
      "\n",
      "Training model with parameters {'encoder': {'activation': 'relu', 'dropout_rate': 0.1, 'hidden_dim': [150, 100, 50], 'initializer': 'glorot_uniform', 'latent_dim': 15}, 'decoder': {'activation': 'relu', 'dropout_rate': 0.1, 'hidden_dim': [150, 100, 50], 'initializer': 'glorot_uniform', 'latent_dim': 15}, 'vae': {'beta': 1e-05}}\n"
     ]
    },
    {
     "name": "stderr",
     "output_type": "stream",
     "text": [
      "Fold Progress: 100%|██████████████████████████████| 5/5 [02:06<00:00, 25.37s/it]"
     ]
    },
    {
     "name": "stdout",
     "output_type": "stream",
     "text": [
      "WARNING:tensorflow:Compiled the loaded model, but the compiled metrics have yet to be built. `model.compile_metrics` will be empty until you train or evaluate the model.\n"
     ]
    },
    {
     "name": "stderr",
     "output_type": "stream",
     "text": [
      "\n"
     ]
    },
    {
     "name": "stdout",
     "output_type": "stream",
     "text": [
      "INFO:tensorflow:Assets written to: ../outputs/models/vae\\vae_h_dim_150_100_50_z_dim_15_dropout_01_init_glorot_uniform_act_relu\\encoder\\assets\n",
      "WARNING:tensorflow:Compiled the loaded model, but the compiled metrics have yet to be built. `model.compile_metrics` will be empty until you train or evaluate the model.\n",
      "INFO:tensorflow:Assets written to: ../outputs/models/vae\\vae_h_dim_150_100_50_z_dim_15_dropout_01_init_glorot_uniform_act_relu\\decoder\\assets\n",
      "\n",
      "Training model with parameters {'encoder': {'activation': 'relu', 'dropout_rate': 0.1, 'hidden_dim': [150, 100, 50], 'initializer': 'glorot_uniform', 'latent_dim': 15}, 'decoder': {'activation': 'relu', 'dropout_rate': 0.1, 'hidden_dim': [150, 100, 50], 'initializer': 'glorot_uniform', 'latent_dim': 15}, 'vae': {'beta': 0.0001}}\n"
     ]
    },
    {
     "name": "stderr",
     "output_type": "stream",
     "text": [
      "Fold Progress: 100%|██████████████████████████████| 5/5 [02:40<00:00, 32.04s/it]\n"
     ]
    },
    {
     "name": "stdout",
     "output_type": "stream",
     "text": [
      "\n",
      "Training model with parameters {'encoder': {'activation': 'relu', 'dropout_rate': 0.1, 'hidden_dim': [150, 100, 50], 'initializer': 'glorot_uniform', 'latent_dim': 15}, 'decoder': {'activation': 'relu', 'dropout_rate': 0.1, 'hidden_dim': [150, 100, 50], 'initializer': 'glorot_uniform', 'latent_dim': 15}, 'vae': {'beta': 0.001}}\n"
     ]
    },
    {
     "name": "stderr",
     "output_type": "stream",
     "text": [
      "Fold Progress: 100%|██████████████████████████████| 5/5 [02:37<00:00, 31.51s/it]\n"
     ]
    },
    {
     "name": "stdout",
     "output_type": "stream",
     "text": [
      "\n",
      "Training model with parameters {'encoder': {'activation': 'relu', 'dropout_rate': 0.1, 'hidden_dim': [200, 150, 100], 'initializer': 'glorot_uniform', 'latent_dim': 15}, 'decoder': {'activation': 'relu', 'dropout_rate': 0.1, 'hidden_dim': [200, 150, 100], 'initializer': 'glorot_uniform', 'latent_dim': 15}, 'vae': {'beta': 1e-05}}\n"
     ]
    },
    {
     "name": "stderr",
     "output_type": "stream",
     "text": [
      "Fold Progress: 100%|██████████████████████████████| 5/5 [02:37<00:00, 31.44s/it]"
     ]
    },
    {
     "name": "stdout",
     "output_type": "stream",
     "text": [
      "WARNING:tensorflow:Compiled the loaded model, but the compiled metrics have yet to be built. `model.compile_metrics` will be empty until you train or evaluate the model.\n"
     ]
    },
    {
     "name": "stderr",
     "output_type": "stream",
     "text": [
      "\n"
     ]
    },
    {
     "name": "stdout",
     "output_type": "stream",
     "text": [
      "INFO:tensorflow:Assets written to: ../outputs/models/vae\\vae_h_dim_200_150_100_z_dim_15_dropout_01_init_glorot_uniform_act_relu\\encoder\\assets\n",
      "WARNING:tensorflow:Compiled the loaded model, but the compiled metrics have yet to be built. `model.compile_metrics` will be empty until you train or evaluate the model.\n",
      "INFO:tensorflow:Assets written to: ../outputs/models/vae\\vae_h_dim_200_150_100_z_dim_15_dropout_01_init_glorot_uniform_act_relu\\decoder\\assets\n",
      "\n",
      "Training model with parameters {'encoder': {'activation': 'relu', 'dropout_rate': 0.1, 'hidden_dim': [200, 150, 100], 'initializer': 'glorot_uniform', 'latent_dim': 15}, 'decoder': {'activation': 'relu', 'dropout_rate': 0.1, 'hidden_dim': [200, 150, 100], 'initializer': 'glorot_uniform', 'latent_dim': 15}, 'vae': {'beta': 0.0001}}\n"
     ]
    },
    {
     "name": "stderr",
     "output_type": "stream",
     "text": [
      "Fold Progress: 100%|██████████████████████████████| 5/5 [02:57<00:00, 35.60s/it]\n"
     ]
    },
    {
     "name": "stdout",
     "output_type": "stream",
     "text": [
      "\n",
      "Training model with parameters {'encoder': {'activation': 'relu', 'dropout_rate': 0.1, 'hidden_dim': [200, 150, 100], 'initializer': 'glorot_uniform', 'latent_dim': 15}, 'decoder': {'activation': 'relu', 'dropout_rate': 0.1, 'hidden_dim': [200, 150, 100], 'initializer': 'glorot_uniform', 'latent_dim': 15}, 'vae': {'beta': 0.001}}\n"
     ]
    },
    {
     "name": "stderr",
     "output_type": "stream",
     "text": [
      "Fold Progress: 100%|██████████████████████████████| 5/5 [02:55<00:00, 35.12s/it]\n"
     ]
    },
    {
     "name": "stdout",
     "output_type": "stream",
     "text": [
      "\n",
      "Training model with parameters {'encoder': {'activation': 'relu', 'dropout_rate': 0.1, 'hidden_dim': [250, 200, 150], 'initializer': 'glorot_uniform', 'latent_dim': 15}, 'decoder': {'activation': 'relu', 'dropout_rate': 0.1, 'hidden_dim': [250, 200, 150], 'initializer': 'glorot_uniform', 'latent_dim': 15}, 'vae': {'beta': 1e-05}}\n"
     ]
    },
    {
     "name": "stderr",
     "output_type": "stream",
     "text": [
      "Fold Progress: 100%|██████████████████████████████| 5/5 [03:25<00:00, 41.20s/it]"
     ]
    },
    {
     "name": "stdout",
     "output_type": "stream",
     "text": [
      "WARNING:tensorflow:Compiled the loaded model, but the compiled metrics have yet to be built. `model.compile_metrics` will be empty until you train or evaluate the model.\n"
     ]
    },
    {
     "name": "stderr",
     "output_type": "stream",
     "text": [
      "\n"
     ]
    },
    {
     "name": "stdout",
     "output_type": "stream",
     "text": [
      "INFO:tensorflow:Assets written to: ../outputs/models/vae\\vae_h_dim_250_200_150_z_dim_15_dropout_01_init_glorot_uniform_act_relu\\encoder\\assets\n",
      "WARNING:tensorflow:Compiled the loaded model, but the compiled metrics have yet to be built. `model.compile_metrics` will be empty until you train or evaluate the model.\n",
      "INFO:tensorflow:Assets written to: ../outputs/models/vae\\vae_h_dim_250_200_150_z_dim_15_dropout_01_init_glorot_uniform_act_relu\\decoder\\assets\n",
      "\n",
      "Training model with parameters {'encoder': {'activation': 'relu', 'dropout_rate': 0.1, 'hidden_dim': [250, 200, 150], 'initializer': 'glorot_uniform', 'latent_dim': 15}, 'decoder': {'activation': 'relu', 'dropout_rate': 0.1, 'hidden_dim': [250, 200, 150], 'initializer': 'glorot_uniform', 'latent_dim': 15}, 'vae': {'beta': 0.0001}}\n"
     ]
    },
    {
     "name": "stderr",
     "output_type": "stream",
     "text": [
      "Fold Progress: 100%|██████████████████████████████| 5/5 [03:42<00:00, 44.55s/it]\n"
     ]
    },
    {
     "name": "stdout",
     "output_type": "stream",
     "text": [
      "\n",
      "Training model with parameters {'encoder': {'activation': 'relu', 'dropout_rate': 0.1, 'hidden_dim': [250, 200, 150], 'initializer': 'glorot_uniform', 'latent_dim': 15}, 'decoder': {'activation': 'relu', 'dropout_rate': 0.1, 'hidden_dim': [250, 200, 150], 'initializer': 'glorot_uniform', 'latent_dim': 15}, 'vae': {'beta': 0.001}}\n"
     ]
    },
    {
     "name": "stderr",
     "output_type": "stream",
     "text": [
      "Fold Progress: 100%|██████████████████████████████| 5/5 [03:41<00:00, 44.35s/it]\n"
     ]
    },
    {
     "name": "stdout",
     "output_type": "stream",
     "text": [
      "\n",
      "Training model with parameters {'encoder': {'activation': 'relu', 'dropout_rate': 0.1, 'hidden_dim': [300, 200, 100], 'initializer': 'glorot_uniform', 'latent_dim': 15}, 'decoder': {'activation': 'relu', 'dropout_rate': 0.1, 'hidden_dim': [300, 200, 100], 'initializer': 'glorot_uniform', 'latent_dim': 15}, 'vae': {'beta': 1e-05}}\n"
     ]
    },
    {
     "name": "stderr",
     "output_type": "stream",
     "text": [
      "Fold Progress: 100%|██████████████████████████████| 5/5 [03:29<00:00, 41.98s/it]"
     ]
    },
    {
     "name": "stdout",
     "output_type": "stream",
     "text": [
      "WARNING:tensorflow:Compiled the loaded model, but the compiled metrics have yet to be built. `model.compile_metrics` will be empty until you train or evaluate the model.\n"
     ]
    },
    {
     "name": "stderr",
     "output_type": "stream",
     "text": [
      "\n"
     ]
    },
    {
     "name": "stdout",
     "output_type": "stream",
     "text": [
      "INFO:tensorflow:Assets written to: ../outputs/models/vae\\vae_h_dim_300_200_100_z_dim_15_dropout_01_init_glorot_uniform_act_relu\\encoder\\assets\n",
      "WARNING:tensorflow:Compiled the loaded model, but the compiled metrics have yet to be built. `model.compile_metrics` will be empty until you train or evaluate the model.\n",
      "INFO:tensorflow:Assets written to: ../outputs/models/vae\\vae_h_dim_300_200_100_z_dim_15_dropout_01_init_glorot_uniform_act_relu\\decoder\\assets\n",
      "\n",
      "Training model with parameters {'encoder': {'activation': 'relu', 'dropout_rate': 0.1, 'hidden_dim': [300, 200, 100], 'initializer': 'glorot_uniform', 'latent_dim': 15}, 'decoder': {'activation': 'relu', 'dropout_rate': 0.1, 'hidden_dim': [300, 200, 100], 'initializer': 'glorot_uniform', 'latent_dim': 15}, 'vae': {'beta': 0.0001}}\n"
     ]
    },
    {
     "name": "stderr",
     "output_type": "stream",
     "text": [
      "Fold Progress: 100%|██████████████████████████████| 5/5 [03:26<00:00, 41.23s/it]\n"
     ]
    },
    {
     "name": "stdout",
     "output_type": "stream",
     "text": [
      "\n",
      "Training model with parameters {'encoder': {'activation': 'relu', 'dropout_rate': 0.1, 'hidden_dim': [300, 200, 100], 'initializer': 'glorot_uniform', 'latent_dim': 15}, 'decoder': {'activation': 'relu', 'dropout_rate': 0.1, 'hidden_dim': [300, 200, 100], 'initializer': 'glorot_uniform', 'latent_dim': 15}, 'vae': {'beta': 0.001}}\n"
     ]
    },
    {
     "name": "stderr",
     "output_type": "stream",
     "text": [
      "Fold Progress: 100%|██████████████████████████████| 5/5 [03:19<00:00, 39.98s/it]\n"
     ]
    },
    {
     "name": "stdout",
     "output_type": "stream",
     "text": [
      "\n",
      "Training model with parameters {'encoder': {'activation': 'relu', 'dropout_rate': 0.2, 'hidden_dim': [100, 100], 'initializer': 'glorot_uniform', 'latent_dim': 15}, 'decoder': {'activation': 'relu', 'dropout_rate': 0.2, 'hidden_dim': [100, 100], 'initializer': 'glorot_uniform', 'latent_dim': 15}, 'vae': {'beta': 1e-05}}\n"
     ]
    },
    {
     "name": "stderr",
     "output_type": "stream",
     "text": [
      "Fold Progress: 100%|██████████████████████████████| 5/5 [02:31<00:00, 30.24s/it]"
     ]
    },
    {
     "name": "stdout",
     "output_type": "stream",
     "text": [
      "WARNING:tensorflow:Compiled the loaded model, but the compiled metrics have yet to be built. `model.compile_metrics` will be empty until you train or evaluate the model.\n"
     ]
    },
    {
     "name": "stderr",
     "output_type": "stream",
     "text": [
      "\n"
     ]
    },
    {
     "name": "stdout",
     "output_type": "stream",
     "text": [
      "INFO:tensorflow:Assets written to: ../outputs/models/vae\\vae_h_dim_100_100_z_dim_15_dropout_02_init_glorot_uniform_act_relu\\encoder\\assets\n",
      "WARNING:tensorflow:Compiled the loaded model, but the compiled metrics have yet to be built. `model.compile_metrics` will be empty until you train or evaluate the model.\n",
      "INFO:tensorflow:Assets written to: ../outputs/models/vae\\vae_h_dim_100_100_z_dim_15_dropout_02_init_glorot_uniform_act_relu\\decoder\\assets\n",
      "\n",
      "Training model with parameters {'encoder': {'activation': 'relu', 'dropout_rate': 0.2, 'hidden_dim': [100, 100], 'initializer': 'glorot_uniform', 'latent_dim': 15}, 'decoder': {'activation': 'relu', 'dropout_rate': 0.2, 'hidden_dim': [100, 100], 'initializer': 'glorot_uniform', 'latent_dim': 15}, 'vae': {'beta': 0.0001}}\n"
     ]
    },
    {
     "name": "stderr",
     "output_type": "stream",
     "text": [
      "Fold Progress: 100%|██████████████████████████████| 5/5 [02:27<00:00, 29.48s/it]\n"
     ]
    },
    {
     "name": "stdout",
     "output_type": "stream",
     "text": [
      "\n",
      "Training model with parameters {'encoder': {'activation': 'relu', 'dropout_rate': 0.2, 'hidden_dim': [100, 100], 'initializer': 'glorot_uniform', 'latent_dim': 15}, 'decoder': {'activation': 'relu', 'dropout_rate': 0.2, 'hidden_dim': [100, 100], 'initializer': 'glorot_uniform', 'latent_dim': 15}, 'vae': {'beta': 0.001}}\n"
     ]
    },
    {
     "name": "stderr",
     "output_type": "stream",
     "text": [
      "Fold Progress: 100%|██████████████████████████████| 5/5 [02:25<00:00, 29.01s/it]\n"
     ]
    },
    {
     "name": "stdout",
     "output_type": "stream",
     "text": [
      "\n",
      "Training model with parameters {'encoder': {'activation': 'relu', 'dropout_rate': 0.2, 'hidden_dim': [150, 150], 'initializer': 'glorot_uniform', 'latent_dim': 15}, 'decoder': {'activation': 'relu', 'dropout_rate': 0.2, 'hidden_dim': [150, 150], 'initializer': 'glorot_uniform', 'latent_dim': 15}, 'vae': {'beta': 1e-05}}\n"
     ]
    },
    {
     "name": "stderr",
     "output_type": "stream",
     "text": [
      "Fold Progress: 100%|██████████████████████████████| 5/5 [02:48<00:00, 33.67s/it]"
     ]
    },
    {
     "name": "stdout",
     "output_type": "stream",
     "text": [
      "WARNING:tensorflow:Compiled the loaded model, but the compiled metrics have yet to be built. `model.compile_metrics` will be empty until you train or evaluate the model.\n"
     ]
    },
    {
     "name": "stderr",
     "output_type": "stream",
     "text": [
      "\n"
     ]
    },
    {
     "name": "stdout",
     "output_type": "stream",
     "text": [
      "INFO:tensorflow:Assets written to: ../outputs/models/vae\\vae_h_dim_150_150_z_dim_15_dropout_02_init_glorot_uniform_act_relu\\encoder\\assets\n",
      "WARNING:tensorflow:Compiled the loaded model, but the compiled metrics have yet to be built. `model.compile_metrics` will be empty until you train or evaluate the model.\n",
      "INFO:tensorflow:Assets written to: ../outputs/models/vae\\vae_h_dim_150_150_z_dim_15_dropout_02_init_glorot_uniform_act_relu\\decoder\\assets\n",
      "\n",
      "Training model with parameters {'encoder': {'activation': 'relu', 'dropout_rate': 0.2, 'hidden_dim': [150, 150], 'initializer': 'glorot_uniform', 'latent_dim': 15}, 'decoder': {'activation': 'relu', 'dropout_rate': 0.2, 'hidden_dim': [150, 150], 'initializer': 'glorot_uniform', 'latent_dim': 15}, 'vae': {'beta': 0.0001}}\n"
     ]
    },
    {
     "name": "stderr",
     "output_type": "stream",
     "text": [
      "Fold Progress: 100%|██████████████████████████████| 5/5 [02:47<00:00, 33.48s/it]\n"
     ]
    },
    {
     "name": "stdout",
     "output_type": "stream",
     "text": [
      "\n",
      "Training model with parameters {'encoder': {'activation': 'relu', 'dropout_rate': 0.2, 'hidden_dim': [150, 150], 'initializer': 'glorot_uniform', 'latent_dim': 15}, 'decoder': {'activation': 'relu', 'dropout_rate': 0.2, 'hidden_dim': [150, 150], 'initializer': 'glorot_uniform', 'latent_dim': 15}, 'vae': {'beta': 0.001}}\n"
     ]
    },
    {
     "name": "stderr",
     "output_type": "stream",
     "text": [
      "Fold Progress: 100%|██████████████████████████████| 5/5 [02:40<00:00, 32.00s/it]\n"
     ]
    },
    {
     "name": "stdout",
     "output_type": "stream",
     "text": [
      "\n",
      "Training model with parameters {'encoder': {'activation': 'relu', 'dropout_rate': 0.2, 'hidden_dim': [200, 200], 'initializer': 'glorot_uniform', 'latent_dim': 15}, 'decoder': {'activation': 'relu', 'dropout_rate': 0.2, 'hidden_dim': [200, 200], 'initializer': 'glorot_uniform', 'latent_dim': 15}, 'vae': {'beta': 1e-05}}\n"
     ]
    },
    {
     "name": "stderr",
     "output_type": "stream",
     "text": [
      "Fold Progress: 100%|██████████████████████████████| 5/5 [02:04<00:00, 24.96s/it]"
     ]
    },
    {
     "name": "stdout",
     "output_type": "stream",
     "text": [
      "WARNING:tensorflow:Compiled the loaded model, but the compiled metrics have yet to be built. `model.compile_metrics` will be empty until you train or evaluate the model.\n"
     ]
    },
    {
     "name": "stderr",
     "output_type": "stream",
     "text": [
      "\n"
     ]
    },
    {
     "name": "stdout",
     "output_type": "stream",
     "text": [
      "INFO:tensorflow:Assets written to: ../outputs/models/vae\\vae_h_dim_200_200_z_dim_15_dropout_02_init_glorot_uniform_act_relu\\encoder\\assets\n",
      "WARNING:tensorflow:Compiled the loaded model, but the compiled metrics have yet to be built. `model.compile_metrics` will be empty until you train or evaluate the model.\n",
      "INFO:tensorflow:Assets written to: ../outputs/models/vae\\vae_h_dim_200_200_z_dim_15_dropout_02_init_glorot_uniform_act_relu\\decoder\\assets\n",
      "\n",
      "Training model with parameters {'encoder': {'activation': 'relu', 'dropout_rate': 0.2, 'hidden_dim': [200, 200], 'initializer': 'glorot_uniform', 'latent_dim': 15}, 'decoder': {'activation': 'relu', 'dropout_rate': 0.2, 'hidden_dim': [200, 200], 'initializer': 'glorot_uniform', 'latent_dim': 15}, 'vae': {'beta': 0.0001}}\n"
     ]
    },
    {
     "name": "stderr",
     "output_type": "stream",
     "text": [
      "Fold Progress: 100%|██████████████████████████████| 5/5 [02:19<00:00, 27.85s/it]\n"
     ]
    },
    {
     "name": "stdout",
     "output_type": "stream",
     "text": [
      "\n",
      "Training model with parameters {'encoder': {'activation': 'relu', 'dropout_rate': 0.2, 'hidden_dim': [200, 200], 'initializer': 'glorot_uniform', 'latent_dim': 15}, 'decoder': {'activation': 'relu', 'dropout_rate': 0.2, 'hidden_dim': [200, 200], 'initializer': 'glorot_uniform', 'latent_dim': 15}, 'vae': {'beta': 0.001}}\n"
     ]
    },
    {
     "name": "stderr",
     "output_type": "stream",
     "text": [
      "Fold Progress: 100%|██████████████████████████████| 5/5 [01:56<00:00, 23.26s/it]\n"
     ]
    },
    {
     "name": "stdout",
     "output_type": "stream",
     "text": [
      "\n",
      "Training model with parameters {'encoder': {'activation': 'relu', 'dropout_rate': 0.2, 'hidden_dim': [250, 250], 'initializer': 'glorot_uniform', 'latent_dim': 15}, 'decoder': {'activation': 'relu', 'dropout_rate': 0.2, 'hidden_dim': [250, 250], 'initializer': 'glorot_uniform', 'latent_dim': 15}, 'vae': {'beta': 1e-05}}\n"
     ]
    },
    {
     "name": "stderr",
     "output_type": "stream",
     "text": [
      "Fold Progress: 100%|██████████████████████████████| 5/5 [02:39<00:00, 31.95s/it]"
     ]
    },
    {
     "name": "stdout",
     "output_type": "stream",
     "text": [
      "WARNING:tensorflow:Compiled the loaded model, but the compiled metrics have yet to be built. `model.compile_metrics` will be empty until you train or evaluate the model.\n"
     ]
    },
    {
     "name": "stderr",
     "output_type": "stream",
     "text": [
      "\n"
     ]
    },
    {
     "name": "stdout",
     "output_type": "stream",
     "text": [
      "INFO:tensorflow:Assets written to: ../outputs/models/vae\\vae_h_dim_250_250_z_dim_15_dropout_02_init_glorot_uniform_act_relu\\encoder\\assets\n",
      "WARNING:tensorflow:Compiled the loaded model, but the compiled metrics have yet to be built. `model.compile_metrics` will be empty until you train or evaluate the model.\n",
      "INFO:tensorflow:Assets written to: ../outputs/models/vae\\vae_h_dim_250_250_z_dim_15_dropout_02_init_glorot_uniform_act_relu\\decoder\\assets\n",
      "\n",
      "Training model with parameters {'encoder': {'activation': 'relu', 'dropout_rate': 0.2, 'hidden_dim': [250, 250], 'initializer': 'glorot_uniform', 'latent_dim': 15}, 'decoder': {'activation': 'relu', 'dropout_rate': 0.2, 'hidden_dim': [250, 250], 'initializer': 'glorot_uniform', 'latent_dim': 15}, 'vae': {'beta': 0.0001}}\n"
     ]
    },
    {
     "name": "stderr",
     "output_type": "stream",
     "text": [
      "Fold Progress: 100%|██████████████████████████████| 5/5 [02:29<00:00, 29.98s/it]\n"
     ]
    },
    {
     "name": "stdout",
     "output_type": "stream",
     "text": [
      "\n",
      "Training model with parameters {'encoder': {'activation': 'relu', 'dropout_rate': 0.2, 'hidden_dim': [250, 250], 'initializer': 'glorot_uniform', 'latent_dim': 15}, 'decoder': {'activation': 'relu', 'dropout_rate': 0.2, 'hidden_dim': [250, 250], 'initializer': 'glorot_uniform', 'latent_dim': 15}, 'vae': {'beta': 0.001}}\n"
     ]
    },
    {
     "name": "stderr",
     "output_type": "stream",
     "text": [
      "Fold Progress: 100%|██████████████████████████████| 5/5 [02:44<00:00, 32.97s/it]\n"
     ]
    },
    {
     "name": "stdout",
     "output_type": "stream",
     "text": [
      "\n",
      "Training model with parameters {'encoder': {'activation': 'relu', 'dropout_rate': 0.2, 'hidden_dim': [300, 300], 'initializer': 'glorot_uniform', 'latent_dim': 15}, 'decoder': {'activation': 'relu', 'dropout_rate': 0.2, 'hidden_dim': [300, 300], 'initializer': 'glorot_uniform', 'latent_dim': 15}, 'vae': {'beta': 1e-05}}\n"
     ]
    },
    {
     "name": "stderr",
     "output_type": "stream",
     "text": [
      "Fold Progress: 100%|██████████████████████████████| 5/5 [02:25<00:00, 29.06s/it]\n"
     ]
    },
    {
     "name": "stdout",
     "output_type": "stream",
     "text": [
      "\n",
      "Training model with parameters {'encoder': {'activation': 'relu', 'dropout_rate': 0.2, 'hidden_dim': [300, 300], 'initializer': 'glorot_uniform', 'latent_dim': 15}, 'decoder': {'activation': 'relu', 'dropout_rate': 0.2, 'hidden_dim': [300, 300], 'initializer': 'glorot_uniform', 'latent_dim': 15}, 'vae': {'beta': 0.0001}}\n"
     ]
    },
    {
     "name": "stderr",
     "output_type": "stream",
     "text": [
      "Fold Progress: 100%|██████████████████████████████| 5/5 [03:27<00:00, 41.44s/it]\n"
     ]
    },
    {
     "name": "stdout",
     "output_type": "stream",
     "text": [
      "\n",
      "Training model with parameters {'encoder': {'activation': 'relu', 'dropout_rate': 0.2, 'hidden_dim': [300, 300], 'initializer': 'glorot_uniform', 'latent_dim': 15}, 'decoder': {'activation': 'relu', 'dropout_rate': 0.2, 'hidden_dim': [300, 300], 'initializer': 'glorot_uniform', 'latent_dim': 15}, 'vae': {'beta': 0.001}}\n"
     ]
    },
    {
     "name": "stderr",
     "output_type": "stream",
     "text": [
      "Fold Progress: 100%|██████████████████████████████| 5/5 [02:51<00:00, 34.27s/it]\n"
     ]
    },
    {
     "name": "stdout",
     "output_type": "stream",
     "text": [
      "\n",
      "Training model with parameters {'encoder': {'activation': 'relu', 'dropout_rate': 0.2, 'hidden_dim': [150, 100, 50], 'initializer': 'glorot_uniform', 'latent_dim': 15}, 'decoder': {'activation': 'relu', 'dropout_rate': 0.2, 'hidden_dim': [150, 100, 50], 'initializer': 'glorot_uniform', 'latent_dim': 15}, 'vae': {'beta': 1e-05}}\n"
     ]
    },
    {
     "name": "stderr",
     "output_type": "stream",
     "text": [
      "Fold Progress: 100%|██████████████████████████████| 5/5 [02:58<00:00, 35.72s/it]"
     ]
    },
    {
     "name": "stdout",
     "output_type": "stream",
     "text": [
      "WARNING:tensorflow:Compiled the loaded model, but the compiled metrics have yet to be built. `model.compile_metrics` will be empty until you train or evaluate the model.\n"
     ]
    },
    {
     "name": "stderr",
     "output_type": "stream",
     "text": [
      "\n"
     ]
    },
    {
     "name": "stdout",
     "output_type": "stream",
     "text": [
      "INFO:tensorflow:Assets written to: ../outputs/models/vae\\vae_h_dim_150_100_50_z_dim_15_dropout_02_init_glorot_uniform_act_relu\\encoder\\assets\n",
      "WARNING:tensorflow:Compiled the loaded model, but the compiled metrics have yet to be built. `model.compile_metrics` will be empty until you train or evaluate the model.\n",
      "INFO:tensorflow:Assets written to: ../outputs/models/vae\\vae_h_dim_150_100_50_z_dim_15_dropout_02_init_glorot_uniform_act_relu\\decoder\\assets\n",
      "\n",
      "Training model with parameters {'encoder': {'activation': 'relu', 'dropout_rate': 0.2, 'hidden_dim': [150, 100, 50], 'initializer': 'glorot_uniform', 'latent_dim': 15}, 'decoder': {'activation': 'relu', 'dropout_rate': 0.2, 'hidden_dim': [150, 100, 50], 'initializer': 'glorot_uniform', 'latent_dim': 15}, 'vae': {'beta': 0.0001}}\n"
     ]
    },
    {
     "name": "stderr",
     "output_type": "stream",
     "text": [
      "Fold Progress: 100%|██████████████████████████████| 5/5 [03:04<00:00, 36.90s/it]\n"
     ]
    },
    {
     "name": "stdout",
     "output_type": "stream",
     "text": [
      "\n",
      "Training model with parameters {'encoder': {'activation': 'relu', 'dropout_rate': 0.2, 'hidden_dim': [150, 100, 50], 'initializer': 'glorot_uniform', 'latent_dim': 15}, 'decoder': {'activation': 'relu', 'dropout_rate': 0.2, 'hidden_dim': [150, 100, 50], 'initializer': 'glorot_uniform', 'latent_dim': 15}, 'vae': {'beta': 0.001}}\n"
     ]
    },
    {
     "name": "stderr",
     "output_type": "stream",
     "text": [
      "Fold Progress: 100%|██████████████████████████████| 5/5 [02:50<00:00, 34.11s/it]\n"
     ]
    },
    {
     "name": "stdout",
     "output_type": "stream",
     "text": [
      "\n",
      "Training model with parameters {'encoder': {'activation': 'relu', 'dropout_rate': 0.2, 'hidden_dim': [200, 150, 100], 'initializer': 'glorot_uniform', 'latent_dim': 15}, 'decoder': {'activation': 'relu', 'dropout_rate': 0.2, 'hidden_dim': [200, 150, 100], 'initializer': 'glorot_uniform', 'latent_dim': 15}, 'vae': {'beta': 1e-05}}\n"
     ]
    },
    {
     "name": "stderr",
     "output_type": "stream",
     "text": [
      "Fold Progress: 100%|██████████████████████████████| 5/5 [03:31<00:00, 42.26s/it]"
     ]
    },
    {
     "name": "stdout",
     "output_type": "stream",
     "text": [
      "WARNING:tensorflow:Compiled the loaded model, but the compiled metrics have yet to be built. `model.compile_metrics` will be empty until you train or evaluate the model.\n"
     ]
    },
    {
     "name": "stderr",
     "output_type": "stream",
     "text": [
      "\n"
     ]
    },
    {
     "name": "stdout",
     "output_type": "stream",
     "text": [
      "INFO:tensorflow:Assets written to: ../outputs/models/vae\\vae_h_dim_200_150_100_z_dim_15_dropout_02_init_glorot_uniform_act_relu\\encoder\\assets\n",
      "WARNING:tensorflow:Compiled the loaded model, but the compiled metrics have yet to be built. `model.compile_metrics` will be empty until you train or evaluate the model.\n",
      "INFO:tensorflow:Assets written to: ../outputs/models/vae\\vae_h_dim_200_150_100_z_dim_15_dropout_02_init_glorot_uniform_act_relu\\decoder\\assets\n",
      "\n",
      "Training model with parameters {'encoder': {'activation': 'relu', 'dropout_rate': 0.2, 'hidden_dim': [200, 150, 100], 'initializer': 'glorot_uniform', 'latent_dim': 15}, 'decoder': {'activation': 'relu', 'dropout_rate': 0.2, 'hidden_dim': [200, 150, 100], 'initializer': 'glorot_uniform', 'latent_dim': 15}, 'vae': {'beta': 0.0001}}\n"
     ]
    },
    {
     "name": "stderr",
     "output_type": "stream",
     "text": [
      "Fold Progress: 100%|██████████████████████████████| 5/5 [03:35<00:00, 43.09s/it]\n"
     ]
    },
    {
     "name": "stdout",
     "output_type": "stream",
     "text": [
      "\n",
      "Training model with parameters {'encoder': {'activation': 'relu', 'dropout_rate': 0.2, 'hidden_dim': [200, 150, 100], 'initializer': 'glorot_uniform', 'latent_dim': 15}, 'decoder': {'activation': 'relu', 'dropout_rate': 0.2, 'hidden_dim': [200, 150, 100], 'initializer': 'glorot_uniform', 'latent_dim': 15}, 'vae': {'beta': 0.001}}\n"
     ]
    },
    {
     "name": "stderr",
     "output_type": "stream",
     "text": [
      "Fold Progress: 100%|██████████████████████████████| 5/5 [03:35<00:00, 43.08s/it]\n"
     ]
    },
    {
     "name": "stdout",
     "output_type": "stream",
     "text": [
      "\n",
      "Training model with parameters {'encoder': {'activation': 'relu', 'dropout_rate': 0.2, 'hidden_dim': [250, 200, 150], 'initializer': 'glorot_uniform', 'latent_dim': 15}, 'decoder': {'activation': 'relu', 'dropout_rate': 0.2, 'hidden_dim': [250, 200, 150], 'initializer': 'glorot_uniform', 'latent_dim': 15}, 'vae': {'beta': 1e-05}}\n"
     ]
    },
    {
     "name": "stderr",
     "output_type": "stream",
     "text": [
      "Fold Progress: 100%|██████████████████████████████| 5/5 [04:25<00:00, 53.01s/it]"
     ]
    },
    {
     "name": "stdout",
     "output_type": "stream",
     "text": [
      "WARNING:tensorflow:Compiled the loaded model, but the compiled metrics have yet to be built. `model.compile_metrics` will be empty until you train or evaluate the model.\n"
     ]
    },
    {
     "name": "stderr",
     "output_type": "stream",
     "text": [
      "\n"
     ]
    },
    {
     "name": "stdout",
     "output_type": "stream",
     "text": [
      "INFO:tensorflow:Assets written to: ../outputs/models/vae\\vae_h_dim_250_200_150_z_dim_15_dropout_02_init_glorot_uniform_act_relu\\encoder\\assets\n",
      "WARNING:tensorflow:Compiled the loaded model, but the compiled metrics have yet to be built. `model.compile_metrics` will be empty until you train or evaluate the model.\n",
      "INFO:tensorflow:Assets written to: ../outputs/models/vae\\vae_h_dim_250_200_150_z_dim_15_dropout_02_init_glorot_uniform_act_relu\\decoder\\assets\n",
      "\n",
      "Training model with parameters {'encoder': {'activation': 'relu', 'dropout_rate': 0.2, 'hidden_dim': [250, 200, 150], 'initializer': 'glorot_uniform', 'latent_dim': 15}, 'decoder': {'activation': 'relu', 'dropout_rate': 0.2, 'hidden_dim': [250, 200, 150], 'initializer': 'glorot_uniform', 'latent_dim': 15}, 'vae': {'beta': 0.0001}}\n"
     ]
    },
    {
     "name": "stderr",
     "output_type": "stream",
     "text": [
      "Fold Progress: 100%|██████████████████████████████| 5/5 [03:49<00:00, 45.86s/it]\n"
     ]
    },
    {
     "name": "stdout",
     "output_type": "stream",
     "text": [
      "\n",
      "Training model with parameters {'encoder': {'activation': 'relu', 'dropout_rate': 0.2, 'hidden_dim': [250, 200, 150], 'initializer': 'glorot_uniform', 'latent_dim': 15}, 'decoder': {'activation': 'relu', 'dropout_rate': 0.2, 'hidden_dim': [250, 200, 150], 'initializer': 'glorot_uniform', 'latent_dim': 15}, 'vae': {'beta': 0.001}}\n"
     ]
    },
    {
     "name": "stderr",
     "output_type": "stream",
     "text": [
      "Fold Progress: 100%|██████████████████████████████| 5/5 [04:03<00:00, 48.65s/it]\n"
     ]
    },
    {
     "name": "stdout",
     "output_type": "stream",
     "text": [
      "\n",
      "Training model with parameters {'encoder': {'activation': 'relu', 'dropout_rate': 0.2, 'hidden_dim': [300, 200, 100], 'initializer': 'glorot_uniform', 'latent_dim': 15}, 'decoder': {'activation': 'relu', 'dropout_rate': 0.2, 'hidden_dim': [300, 200, 100], 'initializer': 'glorot_uniform', 'latent_dim': 15}, 'vae': {'beta': 1e-05}}\n"
     ]
    },
    {
     "name": "stderr",
     "output_type": "stream",
     "text": [
      "Fold Progress: 100%|██████████████████████████████| 5/5 [03:47<00:00, 45.46s/it]"
     ]
    },
    {
     "name": "stdout",
     "output_type": "stream",
     "text": [
      "WARNING:tensorflow:Compiled the loaded model, but the compiled metrics have yet to be built. `model.compile_metrics` will be empty until you train or evaluate the model.\n"
     ]
    },
    {
     "name": "stderr",
     "output_type": "stream",
     "text": [
      "\n"
     ]
    },
    {
     "name": "stdout",
     "output_type": "stream",
     "text": [
      "INFO:tensorflow:Assets written to: ../outputs/models/vae\\vae_h_dim_300_200_100_z_dim_15_dropout_02_init_glorot_uniform_act_relu\\encoder\\assets\n",
      "WARNING:tensorflow:Compiled the loaded model, but the compiled metrics have yet to be built. `model.compile_metrics` will be empty until you train or evaluate the model.\n",
      "INFO:tensorflow:Assets written to: ../outputs/models/vae\\vae_h_dim_300_200_100_z_dim_15_dropout_02_init_glorot_uniform_act_relu\\decoder\\assets\n",
      "\n",
      "Training model with parameters {'encoder': {'activation': 'relu', 'dropout_rate': 0.2, 'hidden_dim': [300, 200, 100], 'initializer': 'glorot_uniform', 'latent_dim': 15}, 'decoder': {'activation': 'relu', 'dropout_rate': 0.2, 'hidden_dim': [300, 200, 100], 'initializer': 'glorot_uniform', 'latent_dim': 15}, 'vae': {'beta': 0.0001}}\n"
     ]
    },
    {
     "name": "stderr",
     "output_type": "stream",
     "text": [
      "Fold Progress: 100%|██████████████████████████████| 5/5 [03:51<00:00, 46.39s/it]\n"
     ]
    },
    {
     "name": "stdout",
     "output_type": "stream",
     "text": [
      "\n",
      "Training model with parameters {'encoder': {'activation': 'relu', 'dropout_rate': 0.2, 'hidden_dim': [300, 200, 100], 'initializer': 'glorot_uniform', 'latent_dim': 15}, 'decoder': {'activation': 'relu', 'dropout_rate': 0.2, 'hidden_dim': [300, 200, 100], 'initializer': 'glorot_uniform', 'latent_dim': 15}, 'vae': {'beta': 0.001}}\n"
     ]
    },
    {
     "name": "stderr",
     "output_type": "stream",
     "text": [
      "Fold Progress: 100%|██████████████████████████████| 5/5 [04:02<00:00, 48.57s/it]\n"
     ]
    },
    {
     "name": "stdout",
     "output_type": "stream",
     "text": [
      "\n",
      "Training model with parameters {'encoder': {'activation': 'relu', 'dropout_rate': 0.3, 'hidden_dim': [100, 100], 'initializer': 'glorot_uniform', 'latent_dim': 15}, 'decoder': {'activation': 'relu', 'dropout_rate': 0.3, 'hidden_dim': [100, 100], 'initializer': 'glorot_uniform', 'latent_dim': 15}, 'vae': {'beta': 1e-05}}\n"
     ]
    },
    {
     "name": "stderr",
     "output_type": "stream",
     "text": [
      "Fold Progress: 100%|██████████████████████████████| 5/5 [02:28<00:00, 29.79s/it]"
     ]
    },
    {
     "name": "stdout",
     "output_type": "stream",
     "text": [
      "WARNING:tensorflow:Compiled the loaded model, but the compiled metrics have yet to be built. `model.compile_metrics` will be empty until you train or evaluate the model.\n"
     ]
    },
    {
     "name": "stderr",
     "output_type": "stream",
     "text": [
      "\n"
     ]
    },
    {
     "name": "stdout",
     "output_type": "stream",
     "text": [
      "INFO:tensorflow:Assets written to: ../outputs/models/vae\\vae_h_dim_100_100_z_dim_15_dropout_03_init_glorot_uniform_act_relu\\encoder\\assets\n",
      "WARNING:tensorflow:Compiled the loaded model, but the compiled metrics have yet to be built. `model.compile_metrics` will be empty until you train or evaluate the model.\n",
      "INFO:tensorflow:Assets written to: ../outputs/models/vae\\vae_h_dim_100_100_z_dim_15_dropout_03_init_glorot_uniform_act_relu\\decoder\\assets\n",
      "\n",
      "Training model with parameters {'encoder': {'activation': 'relu', 'dropout_rate': 0.3, 'hidden_dim': [100, 100], 'initializer': 'glorot_uniform', 'latent_dim': 15}, 'decoder': {'activation': 'relu', 'dropout_rate': 0.3, 'hidden_dim': [100, 100], 'initializer': 'glorot_uniform', 'latent_dim': 15}, 'vae': {'beta': 0.0001}}\n"
     ]
    },
    {
     "name": "stderr",
     "output_type": "stream",
     "text": [
      "Fold Progress: 100%|██████████████████████████████| 5/5 [02:43<00:00, 32.63s/it]\n"
     ]
    },
    {
     "name": "stdout",
     "output_type": "stream",
     "text": [
      "\n",
      "Training model with parameters {'encoder': {'activation': 'relu', 'dropout_rate': 0.3, 'hidden_dim': [100, 100], 'initializer': 'glorot_uniform', 'latent_dim': 15}, 'decoder': {'activation': 'relu', 'dropout_rate': 0.3, 'hidden_dim': [100, 100], 'initializer': 'glorot_uniform', 'latent_dim': 15}, 'vae': {'beta': 0.001}}\n"
     ]
    },
    {
     "name": "stderr",
     "output_type": "stream",
     "text": [
      "Fold Progress: 100%|██████████████████████████████| 5/5 [02:21<00:00, 28.32s/it]\n"
     ]
    },
    {
     "name": "stdout",
     "output_type": "stream",
     "text": [
      "\n",
      "Training model with parameters {'encoder': {'activation': 'relu', 'dropout_rate': 0.3, 'hidden_dim': [150, 150], 'initializer': 'glorot_uniform', 'latent_dim': 15}, 'decoder': {'activation': 'relu', 'dropout_rate': 0.3, 'hidden_dim': [150, 150], 'initializer': 'glorot_uniform', 'latent_dim': 15}, 'vae': {'beta': 1e-05}}\n"
     ]
    },
    {
     "name": "stderr",
     "output_type": "stream",
     "text": [
      "Fold Progress: 100%|██████████████████████████████| 5/5 [03:23<00:00, 40.76s/it]"
     ]
    },
    {
     "name": "stdout",
     "output_type": "stream",
     "text": [
      "WARNING:tensorflow:Compiled the loaded model, but the compiled metrics have yet to be built. `model.compile_metrics` will be empty until you train or evaluate the model.\n"
     ]
    },
    {
     "name": "stderr",
     "output_type": "stream",
     "text": [
      "\n"
     ]
    },
    {
     "name": "stdout",
     "output_type": "stream",
     "text": [
      "INFO:tensorflow:Assets written to: ../outputs/models/vae\\vae_h_dim_150_150_z_dim_15_dropout_03_init_glorot_uniform_act_relu\\encoder\\assets\n",
      "WARNING:tensorflow:Compiled the loaded model, but the compiled metrics have yet to be built. `model.compile_metrics` will be empty until you train or evaluate the model.\n",
      "INFO:tensorflow:Assets written to: ../outputs/models/vae\\vae_h_dim_150_150_z_dim_15_dropout_03_init_glorot_uniform_act_relu\\decoder\\assets\n",
      "\n",
      "Training model with parameters {'encoder': {'activation': 'relu', 'dropout_rate': 0.3, 'hidden_dim': [150, 150], 'initializer': 'glorot_uniform', 'latent_dim': 15}, 'decoder': {'activation': 'relu', 'dropout_rate': 0.3, 'hidden_dim': [150, 150], 'initializer': 'glorot_uniform', 'latent_dim': 15}, 'vae': {'beta': 0.0001}}\n"
     ]
    },
    {
     "name": "stderr",
     "output_type": "stream",
     "text": [
      "Fold Progress: 100%|██████████████████████████████| 5/5 [02:48<00:00, 33.71s/it]\n"
     ]
    },
    {
     "name": "stdout",
     "output_type": "stream",
     "text": [
      "\n",
      "Training model with parameters {'encoder': {'activation': 'relu', 'dropout_rate': 0.3, 'hidden_dim': [150, 150], 'initializer': 'glorot_uniform', 'latent_dim': 15}, 'decoder': {'activation': 'relu', 'dropout_rate': 0.3, 'hidden_dim': [150, 150], 'initializer': 'glorot_uniform', 'latent_dim': 15}, 'vae': {'beta': 0.001}}\n"
     ]
    },
    {
     "name": "stderr",
     "output_type": "stream",
     "text": [
      "Fold Progress: 100%|██████████████████████████████| 5/5 [03:19<00:00, 39.86s/it]\n"
     ]
    },
    {
     "name": "stdout",
     "output_type": "stream",
     "text": [
      "\n",
      "Training model with parameters {'encoder': {'activation': 'relu', 'dropout_rate': 0.3, 'hidden_dim': [200, 200], 'initializer': 'glorot_uniform', 'latent_dim': 15}, 'decoder': {'activation': 'relu', 'dropout_rate': 0.3, 'hidden_dim': [200, 200], 'initializer': 'glorot_uniform', 'latent_dim': 15}, 'vae': {'beta': 1e-05}}\n"
     ]
    },
    {
     "name": "stderr",
     "output_type": "stream",
     "text": [
      "Fold Progress: 100%|██████████████████████████████| 5/5 [02:18<00:00, 27.74s/it]"
     ]
    },
    {
     "name": "stdout",
     "output_type": "stream",
     "text": [
      "WARNING:tensorflow:Compiled the loaded model, but the compiled metrics have yet to be built. `model.compile_metrics` will be empty until you train or evaluate the model.\n"
     ]
    },
    {
     "name": "stderr",
     "output_type": "stream",
     "text": [
      "\n"
     ]
    },
    {
     "name": "stdout",
     "output_type": "stream",
     "text": [
      "INFO:tensorflow:Assets written to: ../outputs/models/vae\\vae_h_dim_200_200_z_dim_15_dropout_03_init_glorot_uniform_act_relu\\encoder\\assets\n",
      "WARNING:tensorflow:Compiled the loaded model, but the compiled metrics have yet to be built. `model.compile_metrics` will be empty until you train or evaluate the model.\n",
      "INFO:tensorflow:Assets written to: ../outputs/models/vae\\vae_h_dim_200_200_z_dim_15_dropout_03_init_glorot_uniform_act_relu\\decoder\\assets\n",
      "\n",
      "Training model with parameters {'encoder': {'activation': 'relu', 'dropout_rate': 0.3, 'hidden_dim': [200, 200], 'initializer': 'glorot_uniform', 'latent_dim': 15}, 'decoder': {'activation': 'relu', 'dropout_rate': 0.3, 'hidden_dim': [200, 200], 'initializer': 'glorot_uniform', 'latent_dim': 15}, 'vae': {'beta': 0.0001}}\n"
     ]
    },
    {
     "name": "stderr",
     "output_type": "stream",
     "text": [
      "Fold Progress: 100%|██████████████████████████████| 5/5 [02:42<00:00, 32.59s/it]\n"
     ]
    },
    {
     "name": "stdout",
     "output_type": "stream",
     "text": [
      "\n",
      "Training model with parameters {'encoder': {'activation': 'relu', 'dropout_rate': 0.3, 'hidden_dim': [200, 200], 'initializer': 'glorot_uniform', 'latent_dim': 15}, 'decoder': {'activation': 'relu', 'dropout_rate': 0.3, 'hidden_dim': [200, 200], 'initializer': 'glorot_uniform', 'latent_dim': 15}, 'vae': {'beta': 0.001}}\n"
     ]
    },
    {
     "name": "stderr",
     "output_type": "stream",
     "text": [
      "Fold Progress: 100%|██████████████████████████████| 5/5 [02:15<00:00, 27.12s/it]\n"
     ]
    },
    {
     "name": "stdout",
     "output_type": "stream",
     "text": [
      "\n",
      "Training model with parameters {'encoder': {'activation': 'relu', 'dropout_rate': 0.3, 'hidden_dim': [250, 250], 'initializer': 'glorot_uniform', 'latent_dim': 15}, 'decoder': {'activation': 'relu', 'dropout_rate': 0.3, 'hidden_dim': [250, 250], 'initializer': 'glorot_uniform', 'latent_dim': 15}, 'vae': {'beta': 1e-05}}\n"
     ]
    },
    {
     "name": "stderr",
     "output_type": "stream",
     "text": [
      "Fold Progress: 100%|██████████████████████████████| 5/5 [03:07<00:00, 37.55s/it]"
     ]
    },
    {
     "name": "stdout",
     "output_type": "stream",
     "text": [
      "WARNING:tensorflow:Compiled the loaded model, but the compiled metrics have yet to be built. `model.compile_metrics` will be empty until you train or evaluate the model.\n"
     ]
    },
    {
     "name": "stderr",
     "output_type": "stream",
     "text": [
      "\n"
     ]
    },
    {
     "name": "stdout",
     "output_type": "stream",
     "text": [
      "INFO:tensorflow:Assets written to: ../outputs/models/vae\\vae_h_dim_250_250_z_dim_15_dropout_03_init_glorot_uniform_act_relu\\encoder\\assets\n",
      "WARNING:tensorflow:Compiled the loaded model, but the compiled metrics have yet to be built. `model.compile_metrics` will be empty until you train or evaluate the model.\n",
      "INFO:tensorflow:Assets written to: ../outputs/models/vae\\vae_h_dim_250_250_z_dim_15_dropout_03_init_glorot_uniform_act_relu\\decoder\\assets\n",
      "\n",
      "Training model with parameters {'encoder': {'activation': 'relu', 'dropout_rate': 0.3, 'hidden_dim': [250, 250], 'initializer': 'glorot_uniform', 'latent_dim': 15}, 'decoder': {'activation': 'relu', 'dropout_rate': 0.3, 'hidden_dim': [250, 250], 'initializer': 'glorot_uniform', 'latent_dim': 15}, 'vae': {'beta': 0.0001}}\n"
     ]
    },
    {
     "name": "stderr",
     "output_type": "stream",
     "text": [
      "Fold Progress: 100%|██████████████████████████████| 5/5 [02:36<00:00, 31.31s/it]\n"
     ]
    },
    {
     "name": "stdout",
     "output_type": "stream",
     "text": [
      "\n",
      "Training model with parameters {'encoder': {'activation': 'relu', 'dropout_rate': 0.3, 'hidden_dim': [250, 250], 'initializer': 'glorot_uniform', 'latent_dim': 15}, 'decoder': {'activation': 'relu', 'dropout_rate': 0.3, 'hidden_dim': [250, 250], 'initializer': 'glorot_uniform', 'latent_dim': 15}, 'vae': {'beta': 0.001}}\n"
     ]
    },
    {
     "name": "stderr",
     "output_type": "stream",
     "text": [
      "Fold Progress: 100%|██████████████████████████████| 5/5 [03:15<00:00, 39.16s/it]\n"
     ]
    },
    {
     "name": "stdout",
     "output_type": "stream",
     "text": [
      "\n",
      "Training model with parameters {'encoder': {'activation': 'relu', 'dropout_rate': 0.3, 'hidden_dim': [300, 300], 'initializer': 'glorot_uniform', 'latent_dim': 15}, 'decoder': {'activation': 'relu', 'dropout_rate': 0.3, 'hidden_dim': [300, 300], 'initializer': 'glorot_uniform', 'latent_dim': 15}, 'vae': {'beta': 1e-05}}\n"
     ]
    },
    {
     "name": "stderr",
     "output_type": "stream",
     "text": [
      "Fold Progress: 100%|██████████████████████████████| 5/5 [02:44<00:00, 32.98s/it]"
     ]
    },
    {
     "name": "stdout",
     "output_type": "stream",
     "text": [
      "WARNING:tensorflow:Compiled the loaded model, but the compiled metrics have yet to be built. `model.compile_metrics` will be empty until you train or evaluate the model.\n"
     ]
    },
    {
     "name": "stderr",
     "output_type": "stream",
     "text": [
      "\n"
     ]
    },
    {
     "name": "stdout",
     "output_type": "stream",
     "text": [
      "INFO:tensorflow:Assets written to: ../outputs/models/vae\\vae_h_dim_300_300_z_dim_15_dropout_03_init_glorot_uniform_act_relu\\encoder\\assets\n",
      "WARNING:tensorflow:Compiled the loaded model, but the compiled metrics have yet to be built. `model.compile_metrics` will be empty until you train or evaluate the model.\n",
      "INFO:tensorflow:Assets written to: ../outputs/models/vae\\vae_h_dim_300_300_z_dim_15_dropout_03_init_glorot_uniform_act_relu\\decoder\\assets\n",
      "\n",
      "Training model with parameters {'encoder': {'activation': 'relu', 'dropout_rate': 0.3, 'hidden_dim': [300, 300], 'initializer': 'glorot_uniform', 'latent_dim': 15}, 'decoder': {'activation': 'relu', 'dropout_rate': 0.3, 'hidden_dim': [300, 300], 'initializer': 'glorot_uniform', 'latent_dim': 15}, 'vae': {'beta': 0.0001}}\n"
     ]
    },
    {
     "name": "stderr",
     "output_type": "stream",
     "text": [
      "Fold Progress: 100%|██████████████████████████████| 5/5 [03:11<00:00, 38.39s/it]\n"
     ]
    },
    {
     "name": "stdout",
     "output_type": "stream",
     "text": [
      "\n",
      "Training model with parameters {'encoder': {'activation': 'relu', 'dropout_rate': 0.3, 'hidden_dim': [300, 300], 'initializer': 'glorot_uniform', 'latent_dim': 15}, 'decoder': {'activation': 'relu', 'dropout_rate': 0.3, 'hidden_dim': [300, 300], 'initializer': 'glorot_uniform', 'latent_dim': 15}, 'vae': {'beta': 0.001}}\n"
     ]
    },
    {
     "name": "stderr",
     "output_type": "stream",
     "text": [
      "Fold Progress: 100%|██████████████████████████████| 5/5 [02:32<00:00, 30.60s/it]\n"
     ]
    },
    {
     "name": "stdout",
     "output_type": "stream",
     "text": [
      "\n",
      "Training model with parameters {'encoder': {'activation': 'relu', 'dropout_rate': 0.3, 'hidden_dim': [150, 100, 50], 'initializer': 'glorot_uniform', 'latent_dim': 15}, 'decoder': {'activation': 'relu', 'dropout_rate': 0.3, 'hidden_dim': [150, 100, 50], 'initializer': 'glorot_uniform', 'latent_dim': 15}, 'vae': {'beta': 1e-05}}\n"
     ]
    },
    {
     "name": "stderr",
     "output_type": "stream",
     "text": [
      "Fold Progress: 100%|██████████████████████████████| 5/5 [02:58<00:00, 35.69s/it]"
     ]
    },
    {
     "name": "stdout",
     "output_type": "stream",
     "text": [
      "WARNING:tensorflow:Compiled the loaded model, but the compiled metrics have yet to be built. `model.compile_metrics` will be empty until you train or evaluate the model.\n"
     ]
    },
    {
     "name": "stderr",
     "output_type": "stream",
     "text": [
      "\n"
     ]
    },
    {
     "name": "stdout",
     "output_type": "stream",
     "text": [
      "INFO:tensorflow:Assets written to: ../outputs/models/vae\\vae_h_dim_150_100_50_z_dim_15_dropout_03_init_glorot_uniform_act_relu\\encoder\\assets\n",
      "WARNING:tensorflow:Compiled the loaded model, but the compiled metrics have yet to be built. `model.compile_metrics` will be empty until you train or evaluate the model.\n",
      "INFO:tensorflow:Assets written to: ../outputs/models/vae\\vae_h_dim_150_100_50_z_dim_15_dropout_03_init_glorot_uniform_act_relu\\decoder\\assets\n",
      "\n",
      "Training model with parameters {'encoder': {'activation': 'relu', 'dropout_rate': 0.3, 'hidden_dim': [150, 100, 50], 'initializer': 'glorot_uniform', 'latent_dim': 15}, 'decoder': {'activation': 'relu', 'dropout_rate': 0.3, 'hidden_dim': [150, 100, 50], 'initializer': 'glorot_uniform', 'latent_dim': 15}, 'vae': {'beta': 0.0001}}\n"
     ]
    },
    {
     "name": "stderr",
     "output_type": "stream",
     "text": [
      "Fold Progress: 100%|██████████████████████████████| 5/5 [02:52<00:00, 34.58s/it]\n"
     ]
    },
    {
     "name": "stdout",
     "output_type": "stream",
     "text": [
      "\n",
      "Training model with parameters {'encoder': {'activation': 'relu', 'dropout_rate': 0.3, 'hidden_dim': [150, 100, 50], 'initializer': 'glorot_uniform', 'latent_dim': 15}, 'decoder': {'activation': 'relu', 'dropout_rate': 0.3, 'hidden_dim': [150, 100, 50], 'initializer': 'glorot_uniform', 'latent_dim': 15}, 'vae': {'beta': 0.001}}\n"
     ]
    },
    {
     "name": "stderr",
     "output_type": "stream",
     "text": [
      "Fold Progress: 100%|██████████████████████████████| 5/5 [02:45<00:00, 33.02s/it]\n"
     ]
    },
    {
     "name": "stdout",
     "output_type": "stream",
     "text": [
      "\n",
      "Training model with parameters {'encoder': {'activation': 'relu', 'dropout_rate': 0.3, 'hidden_dim': [200, 150, 100], 'initializer': 'glorot_uniform', 'latent_dim': 15}, 'decoder': {'activation': 'relu', 'dropout_rate': 0.3, 'hidden_dim': [200, 150, 100], 'initializer': 'glorot_uniform', 'latent_dim': 15}, 'vae': {'beta': 1e-05}}\n"
     ]
    },
    {
     "name": "stderr",
     "output_type": "stream",
     "text": [
      "Fold Progress: 100%|██████████████████████████████| 5/5 [03:30<00:00, 42.19s/it]"
     ]
    },
    {
     "name": "stdout",
     "output_type": "stream",
     "text": [
      "WARNING:tensorflow:Compiled the loaded model, but the compiled metrics have yet to be built. `model.compile_metrics` will be empty until you train or evaluate the model.\n"
     ]
    },
    {
     "name": "stderr",
     "output_type": "stream",
     "text": [
      "\n"
     ]
    },
    {
     "name": "stdout",
     "output_type": "stream",
     "text": [
      "INFO:tensorflow:Assets written to: ../outputs/models/vae\\vae_h_dim_200_150_100_z_dim_15_dropout_03_init_glorot_uniform_act_relu\\encoder\\assets\n",
      "WARNING:tensorflow:Compiled the loaded model, but the compiled metrics have yet to be built. `model.compile_metrics` will be empty until you train or evaluate the model.\n",
      "INFO:tensorflow:Assets written to: ../outputs/models/vae\\vae_h_dim_200_150_100_z_dim_15_dropout_03_init_glorot_uniform_act_relu\\decoder\\assets\n",
      "\n",
      "Training model with parameters {'encoder': {'activation': 'relu', 'dropout_rate': 0.3, 'hidden_dim': [200, 150, 100], 'initializer': 'glorot_uniform', 'latent_dim': 15}, 'decoder': {'activation': 'relu', 'dropout_rate': 0.3, 'hidden_dim': [200, 150, 100], 'initializer': 'glorot_uniform', 'latent_dim': 15}, 'vae': {'beta': 0.0001}}\n"
     ]
    },
    {
     "name": "stderr",
     "output_type": "stream",
     "text": [
      "Fold Progress: 100%|██████████████████████████████| 5/5 [02:49<00:00, 33.93s/it]\n"
     ]
    },
    {
     "name": "stdout",
     "output_type": "stream",
     "text": [
      "\n",
      "Training model with parameters {'encoder': {'activation': 'relu', 'dropout_rate': 0.3, 'hidden_dim': [200, 150, 100], 'initializer': 'glorot_uniform', 'latent_dim': 15}, 'decoder': {'activation': 'relu', 'dropout_rate': 0.3, 'hidden_dim': [200, 150, 100], 'initializer': 'glorot_uniform', 'latent_dim': 15}, 'vae': {'beta': 0.001}}\n"
     ]
    },
    {
     "name": "stderr",
     "output_type": "stream",
     "text": [
      "Fold Progress: 100%|██████████████████████████████| 5/5 [03:14<00:00, 38.90s/it]\n"
     ]
    },
    {
     "name": "stdout",
     "output_type": "stream",
     "text": [
      "\n",
      "Training model with parameters {'encoder': {'activation': 'relu', 'dropout_rate': 0.3, 'hidden_dim': [250, 200, 150], 'initializer': 'glorot_uniform', 'latent_dim': 15}, 'decoder': {'activation': 'relu', 'dropout_rate': 0.3, 'hidden_dim': [250, 200, 150], 'initializer': 'glorot_uniform', 'latent_dim': 15}, 'vae': {'beta': 1e-05}}\n"
     ]
    },
    {
     "name": "stderr",
     "output_type": "stream",
     "text": [
      "Fold Progress: 100%|██████████████████████████████| 5/5 [03:41<00:00, 44.27s/it]"
     ]
    },
    {
     "name": "stdout",
     "output_type": "stream",
     "text": [
      "WARNING:tensorflow:Compiled the loaded model, but the compiled metrics have yet to be built. `model.compile_metrics` will be empty until you train or evaluate the model.\n"
     ]
    },
    {
     "name": "stderr",
     "output_type": "stream",
     "text": [
      "\n"
     ]
    },
    {
     "name": "stdout",
     "output_type": "stream",
     "text": [
      "INFO:tensorflow:Assets written to: ../outputs/models/vae\\vae_h_dim_250_200_150_z_dim_15_dropout_03_init_glorot_uniform_act_relu\\encoder\\assets\n",
      "WARNING:tensorflow:Compiled the loaded model, but the compiled metrics have yet to be built. `model.compile_metrics` will be empty until you train or evaluate the model.\n",
      "INFO:tensorflow:Assets written to: ../outputs/models/vae\\vae_h_dim_250_200_150_z_dim_15_dropout_03_init_glorot_uniform_act_relu\\decoder\\assets\n",
      "\n",
      "Training model with parameters {'encoder': {'activation': 'relu', 'dropout_rate': 0.3, 'hidden_dim': [250, 200, 150], 'initializer': 'glorot_uniform', 'latent_dim': 15}, 'decoder': {'activation': 'relu', 'dropout_rate': 0.3, 'hidden_dim': [250, 200, 150], 'initializer': 'glorot_uniform', 'latent_dim': 15}, 'vae': {'beta': 0.0001}}\n"
     ]
    },
    {
     "name": "stderr",
     "output_type": "stream",
     "text": [
      "Fold Progress: 100%|██████████████████████████████| 5/5 [03:44<00:00, 44.87s/it]\n"
     ]
    },
    {
     "name": "stdout",
     "output_type": "stream",
     "text": [
      "\n",
      "Training model with parameters {'encoder': {'activation': 'relu', 'dropout_rate': 0.3, 'hidden_dim': [250, 200, 150], 'initializer': 'glorot_uniform', 'latent_dim': 15}, 'decoder': {'activation': 'relu', 'dropout_rate': 0.3, 'hidden_dim': [250, 200, 150], 'initializer': 'glorot_uniform', 'latent_dim': 15}, 'vae': {'beta': 0.001}}\n"
     ]
    },
    {
     "name": "stderr",
     "output_type": "stream",
     "text": [
      "Fold Progress: 100%|██████████████████████████████| 5/5 [03:50<00:00, 46.10s/it]\n"
     ]
    },
    {
     "name": "stdout",
     "output_type": "stream",
     "text": [
      "\n",
      "Training model with parameters {'encoder': {'activation': 'relu', 'dropout_rate': 0.3, 'hidden_dim': [300, 200, 100], 'initializer': 'glorot_uniform', 'latent_dim': 15}, 'decoder': {'activation': 'relu', 'dropout_rate': 0.3, 'hidden_dim': [300, 200, 100], 'initializer': 'glorot_uniform', 'latent_dim': 15}, 'vae': {'beta': 1e-05}}\n"
     ]
    },
    {
     "name": "stderr",
     "output_type": "stream",
     "text": [
      "Fold Progress: 100%|██████████████████████████████| 5/5 [03:17<00:00, 39.45s/it]"
     ]
    },
    {
     "name": "stdout",
     "output_type": "stream",
     "text": [
      "WARNING:tensorflow:Compiled the loaded model, but the compiled metrics have yet to be built. `model.compile_metrics` will be empty until you train or evaluate the model.\n"
     ]
    },
    {
     "name": "stderr",
     "output_type": "stream",
     "text": [
      "\n"
     ]
    },
    {
     "name": "stdout",
     "output_type": "stream",
     "text": [
      "INFO:tensorflow:Assets written to: ../outputs/models/vae\\vae_h_dim_300_200_100_z_dim_15_dropout_03_init_glorot_uniform_act_relu\\encoder\\assets\n",
      "WARNING:tensorflow:Compiled the loaded model, but the compiled metrics have yet to be built. `model.compile_metrics` will be empty until you train or evaluate the model.\n",
      "INFO:tensorflow:Assets written to: ../outputs/models/vae\\vae_h_dim_300_200_100_z_dim_15_dropout_03_init_glorot_uniform_act_relu\\decoder\\assets\n",
      "\n",
      "Training model with parameters {'encoder': {'activation': 'relu', 'dropout_rate': 0.3, 'hidden_dim': [300, 200, 100], 'initializer': 'glorot_uniform', 'latent_dim': 15}, 'decoder': {'activation': 'relu', 'dropout_rate': 0.3, 'hidden_dim': [300, 200, 100], 'initializer': 'glorot_uniform', 'latent_dim': 15}, 'vae': {'beta': 0.0001}}\n"
     ]
    },
    {
     "name": "stderr",
     "output_type": "stream",
     "text": [
      "Fold Progress: 100%|██████████████████████████████| 5/5 [03:36<00:00, 43.32s/it]\n"
     ]
    },
    {
     "name": "stdout",
     "output_type": "stream",
     "text": [
      "\n",
      "Training model with parameters {'encoder': {'activation': 'relu', 'dropout_rate': 0.3, 'hidden_dim': [300, 200, 100], 'initializer': 'glorot_uniform', 'latent_dim': 15}, 'decoder': {'activation': 'relu', 'dropout_rate': 0.3, 'hidden_dim': [300, 200, 100], 'initializer': 'glorot_uniform', 'latent_dim': 15}, 'vae': {'beta': 0.001}}\n"
     ]
    },
    {
     "name": "stderr",
     "output_type": "stream",
     "text": [
      "Fold Progress: 100%|██████████████████████████████| 5/5 [03:35<00:00, 43.06s/it]\n"
     ]
    }
   ],
   "source": [
    "results = cv.cross_validate(train_data, epochs=epochs, verbose=0)\n"
   ],
   "metadata": {
    "collapsed": false,
    "ExecuteTime": {
     "end_time": "2023-05-17T18:09:39.160590200Z",
     "start_time": "2023-05-17T14:11:38.991004100Z"
    }
   }
  },
  {
   "cell_type": "code",
   "execution_count": 10,
   "outputs": [],
   "source": [
    "with open('../outputs/CrossVal/cv_latent_15.pkl', 'wb') as file:\n",
    "    pickle.dump(results, file)\n"
   ],
   "metadata": {
    "collapsed": false,
    "ExecuteTime": {
     "end_time": "2023-05-17T18:09:39.179760800Z",
     "start_time": "2023-05-17T18:09:39.163758700Z"
    }
   }
  },
  {
   "cell_type": "code",
   "execution_count": 11,
   "outputs": [],
   "source": [
    "# Cross Validation for 20 dimension latent space\n",
    "latent_dims = [20]\n",
    "beta = [1e-5, 1e-4, 1e-3]\n",
    "hidden_dims = [[100, 100], [150, 150], [200, 200], [250, 250], [300, 300], [150, 100, 50], [200, 150, 100],\n",
    "               [250, 200, 150], [300, 200, 100]]\n",
    "epochs = 100\n",
    "\n",
    "dropout = [0.1, 0.2, 0.3]\n",
    "\n",
    "param_grid = create_param_grid(hidden_dims, latent_dims, dropout, ['relu'], ['glorot_uniform'], betas=beta)\n",
    "cv = VAECrossValidator(param_grid, input_dim, 5, batch_size=128)\n"
   ],
   "metadata": {
    "collapsed": false,
    "ExecuteTime": {
     "end_time": "2023-05-17T18:09:39.199759900Z",
     "start_time": "2023-05-17T18:09:39.181760700Z"
    }
   }
  },
  {
   "cell_type": "code",
   "execution_count": 12,
   "outputs": [
    {
     "name": "stdout",
     "output_type": "stream",
     "text": [
      "\n",
      "Training model with parameters {'encoder': {'activation': 'relu', 'dropout_rate': 0.1, 'hidden_dim': [100, 100], 'initializer': 'glorot_uniform', 'latent_dim': 20}, 'decoder': {'activation': 'relu', 'dropout_rate': 0.1, 'hidden_dim': [100, 100], 'initializer': 'glorot_uniform', 'latent_dim': 20}, 'vae': {'beta': 1e-05}}\n"
     ]
    },
    {
     "name": "stderr",
     "output_type": "stream",
     "text": [
      "Fold Progress: 100%|██████████████████████████████| 5/5 [02:22<00:00, 28.47s/it]"
     ]
    },
    {
     "name": "stdout",
     "output_type": "stream",
     "text": [
      "WARNING:tensorflow:Compiled the loaded model, but the compiled metrics have yet to be built. `model.compile_metrics` will be empty until you train or evaluate the model.\n"
     ]
    },
    {
     "name": "stderr",
     "output_type": "stream",
     "text": [
      "\n"
     ]
    },
    {
     "name": "stdout",
     "output_type": "stream",
     "text": [
      "INFO:tensorflow:Assets written to: ../outputs/models/vae\\vae_h_dim_100_100_z_dim_20_dropout_01_init_glorot_uniform_act_relu\\encoder\\assets\n",
      "WARNING:tensorflow:Compiled the loaded model, but the compiled metrics have yet to be built. `model.compile_metrics` will be empty until you train or evaluate the model.\n",
      "INFO:tensorflow:Assets written to: ../outputs/models/vae\\vae_h_dim_100_100_z_dim_20_dropout_01_init_glorot_uniform_act_relu\\decoder\\assets\n",
      "\n",
      "Training model with parameters {'encoder': {'activation': 'relu', 'dropout_rate': 0.1, 'hidden_dim': [100, 100], 'initializer': 'glorot_uniform', 'latent_dim': 20}, 'decoder': {'activation': 'relu', 'dropout_rate': 0.1, 'hidden_dim': [100, 100], 'initializer': 'glorot_uniform', 'latent_dim': 20}, 'vae': {'beta': 0.0001}}\n"
     ]
    },
    {
     "name": "stderr",
     "output_type": "stream",
     "text": [
      "Fold Progress: 100%|██████████████████████████████| 5/5 [02:25<00:00, 29.12s/it]\n"
     ]
    },
    {
     "name": "stdout",
     "output_type": "stream",
     "text": [
      "\n",
      "Training model with parameters {'encoder': {'activation': 'relu', 'dropout_rate': 0.1, 'hidden_dim': [100, 100], 'initializer': 'glorot_uniform', 'latent_dim': 20}, 'decoder': {'activation': 'relu', 'dropout_rate': 0.1, 'hidden_dim': [100, 100], 'initializer': 'glorot_uniform', 'latent_dim': 20}, 'vae': {'beta': 0.001}}\n"
     ]
    },
    {
     "name": "stderr",
     "output_type": "stream",
     "text": [
      "Fold Progress: 100%|██████████████████████████████| 5/5 [02:12<00:00, 26.57s/it]\n"
     ]
    },
    {
     "name": "stdout",
     "output_type": "stream",
     "text": [
      "\n",
      "Training model with parameters {'encoder': {'activation': 'relu', 'dropout_rate': 0.1, 'hidden_dim': [150, 150], 'initializer': 'glorot_uniform', 'latent_dim': 20}, 'decoder': {'activation': 'relu', 'dropout_rate': 0.1, 'hidden_dim': [150, 150], 'initializer': 'glorot_uniform', 'latent_dim': 20}, 'vae': {'beta': 1e-05}}\n"
     ]
    },
    {
     "name": "stderr",
     "output_type": "stream",
     "text": [
      "Fold Progress: 100%|██████████████████████████████| 5/5 [02:30<00:00, 30.13s/it]"
     ]
    },
    {
     "name": "stdout",
     "output_type": "stream",
     "text": [
      "WARNING:tensorflow:Compiled the loaded model, but the compiled metrics have yet to be built. `model.compile_metrics` will be empty until you train or evaluate the model.\n"
     ]
    },
    {
     "name": "stderr",
     "output_type": "stream",
     "text": [
      "\n"
     ]
    },
    {
     "name": "stdout",
     "output_type": "stream",
     "text": [
      "INFO:tensorflow:Assets written to: ../outputs/models/vae\\vae_h_dim_150_150_z_dim_20_dropout_01_init_glorot_uniform_act_relu\\encoder\\assets\n",
      "WARNING:tensorflow:Compiled the loaded model, but the compiled metrics have yet to be built. `model.compile_metrics` will be empty until you train or evaluate the model.\n",
      "INFO:tensorflow:Assets written to: ../outputs/models/vae\\vae_h_dim_150_150_z_dim_20_dropout_01_init_glorot_uniform_act_relu\\decoder\\assets\n",
      "\n",
      "Training model with parameters {'encoder': {'activation': 'relu', 'dropout_rate': 0.1, 'hidden_dim': [150, 150], 'initializer': 'glorot_uniform', 'latent_dim': 20}, 'decoder': {'activation': 'relu', 'dropout_rate': 0.1, 'hidden_dim': [150, 150], 'initializer': 'glorot_uniform', 'latent_dim': 20}, 'vae': {'beta': 0.0001}}\n"
     ]
    },
    {
     "name": "stderr",
     "output_type": "stream",
     "text": [
      "Fold Progress: 100%|██████████████████████████████| 5/5 [02:48<00:00, 33.64s/it]\n"
     ]
    },
    {
     "name": "stdout",
     "output_type": "stream",
     "text": [
      "\n",
      "Training model with parameters {'encoder': {'activation': 'relu', 'dropout_rate': 0.1, 'hidden_dim': [150, 150], 'initializer': 'glorot_uniform', 'latent_dim': 20}, 'decoder': {'activation': 'relu', 'dropout_rate': 0.1, 'hidden_dim': [150, 150], 'initializer': 'glorot_uniform', 'latent_dim': 20}, 'vae': {'beta': 0.001}}\n"
     ]
    },
    {
     "name": "stderr",
     "output_type": "stream",
     "text": [
      "Fold Progress: 100%|██████████████████████████████| 5/5 [02:19<00:00, 27.89s/it]\n"
     ]
    },
    {
     "name": "stdout",
     "output_type": "stream",
     "text": [
      "\n",
      "Training model with parameters {'encoder': {'activation': 'relu', 'dropout_rate': 0.1, 'hidden_dim': [200, 200], 'initializer': 'glorot_uniform', 'latent_dim': 20}, 'decoder': {'activation': 'relu', 'dropout_rate': 0.1, 'hidden_dim': [200, 200], 'initializer': 'glorot_uniform', 'latent_dim': 20}, 'vae': {'beta': 1e-05}}\n"
     ]
    },
    {
     "name": "stderr",
     "output_type": "stream",
     "text": [
      "Fold Progress: 100%|██████████████████████████████| 5/5 [02:16<00:00, 27.35s/it]"
     ]
    },
    {
     "name": "stdout",
     "output_type": "stream",
     "text": [
      "WARNING:tensorflow:Compiled the loaded model, but the compiled metrics have yet to be built. `model.compile_metrics` will be empty until you train or evaluate the model.\n"
     ]
    },
    {
     "name": "stderr",
     "output_type": "stream",
     "text": [
      "\n"
     ]
    },
    {
     "name": "stdout",
     "output_type": "stream",
     "text": [
      "INFO:tensorflow:Assets written to: ../outputs/models/vae\\vae_h_dim_200_200_z_dim_20_dropout_01_init_glorot_uniform_act_relu\\encoder\\assets\n",
      "WARNING:tensorflow:Compiled the loaded model, but the compiled metrics have yet to be built. `model.compile_metrics` will be empty until you train or evaluate the model.\n",
      "INFO:tensorflow:Assets written to: ../outputs/models/vae\\vae_h_dim_200_200_z_dim_20_dropout_01_init_glorot_uniform_act_relu\\decoder\\assets\n",
      "\n",
      "Training model with parameters {'encoder': {'activation': 'relu', 'dropout_rate': 0.1, 'hidden_dim': [200, 200], 'initializer': 'glorot_uniform', 'latent_dim': 20}, 'decoder': {'activation': 'relu', 'dropout_rate': 0.1, 'hidden_dim': [200, 200], 'initializer': 'glorot_uniform', 'latent_dim': 20}, 'vae': {'beta': 0.0001}}\n"
     ]
    },
    {
     "name": "stderr",
     "output_type": "stream",
     "text": [
      "Fold Progress: 100%|██████████████████████████████| 5/5 [02:12<00:00, 26.46s/it]\n"
     ]
    },
    {
     "name": "stdout",
     "output_type": "stream",
     "text": [
      "\n",
      "Training model with parameters {'encoder': {'activation': 'relu', 'dropout_rate': 0.1, 'hidden_dim': [200, 200], 'initializer': 'glorot_uniform', 'latent_dim': 20}, 'decoder': {'activation': 'relu', 'dropout_rate': 0.1, 'hidden_dim': [200, 200], 'initializer': 'glorot_uniform', 'latent_dim': 20}, 'vae': {'beta': 0.001}}\n"
     ]
    },
    {
     "name": "stderr",
     "output_type": "stream",
     "text": [
      "Fold Progress: 100%|██████████████████████████████| 5/5 [02:29<00:00, 29.82s/it]\n"
     ]
    },
    {
     "name": "stdout",
     "output_type": "stream",
     "text": [
      "\n",
      "Training model with parameters {'encoder': {'activation': 'relu', 'dropout_rate': 0.1, 'hidden_dim': [250, 250], 'initializer': 'glorot_uniform', 'latent_dim': 20}, 'decoder': {'activation': 'relu', 'dropout_rate': 0.1, 'hidden_dim': [250, 250], 'initializer': 'glorot_uniform', 'latent_dim': 20}, 'vae': {'beta': 1e-05}}\n"
     ]
    },
    {
     "name": "stderr",
     "output_type": "stream",
     "text": [
      "Fold Progress: 100%|██████████████████████████████| 5/5 [02:12<00:00, 26.47s/it]"
     ]
    },
    {
     "name": "stdout",
     "output_type": "stream",
     "text": [
      "WARNING:tensorflow:Compiled the loaded model, but the compiled metrics have yet to be built. `model.compile_metrics` will be empty until you train or evaluate the model.\n"
     ]
    },
    {
     "name": "stderr",
     "output_type": "stream",
     "text": [
      "\n"
     ]
    },
    {
     "name": "stdout",
     "output_type": "stream",
     "text": [
      "INFO:tensorflow:Assets written to: ../outputs/models/vae\\vae_h_dim_250_250_z_dim_20_dropout_01_init_glorot_uniform_act_relu\\encoder\\assets\n",
      "WARNING:tensorflow:Compiled the loaded model, but the compiled metrics have yet to be built. `model.compile_metrics` will be empty until you train or evaluate the model.\n",
      "INFO:tensorflow:Assets written to: ../outputs/models/vae\\vae_h_dim_250_250_z_dim_20_dropout_01_init_glorot_uniform_act_relu\\decoder\\assets\n",
      "\n",
      "Training model with parameters {'encoder': {'activation': 'relu', 'dropout_rate': 0.1, 'hidden_dim': [250, 250], 'initializer': 'glorot_uniform', 'latent_dim': 20}, 'decoder': {'activation': 'relu', 'dropout_rate': 0.1, 'hidden_dim': [250, 250], 'initializer': 'glorot_uniform', 'latent_dim': 20}, 'vae': {'beta': 0.0001}}\n"
     ]
    },
    {
     "name": "stderr",
     "output_type": "stream",
     "text": [
      "Fold Progress: 100%|██████████████████████████████| 5/5 [02:49<00:00, 33.98s/it]\n"
     ]
    },
    {
     "name": "stdout",
     "output_type": "stream",
     "text": [
      "\n",
      "Training model with parameters {'encoder': {'activation': 'relu', 'dropout_rate': 0.1, 'hidden_dim': [250, 250], 'initializer': 'glorot_uniform', 'latent_dim': 20}, 'decoder': {'activation': 'relu', 'dropout_rate': 0.1, 'hidden_dim': [250, 250], 'initializer': 'glorot_uniform', 'latent_dim': 20}, 'vae': {'beta': 0.001}}\n"
     ]
    },
    {
     "name": "stderr",
     "output_type": "stream",
     "text": [
      "Fold Progress: 100%|██████████████████████████████| 5/5 [02:25<00:00, 29.20s/it]\n"
     ]
    },
    {
     "name": "stdout",
     "output_type": "stream",
     "text": [
      "\n",
      "Training model with parameters {'encoder': {'activation': 'relu', 'dropout_rate': 0.1, 'hidden_dim': [300, 300], 'initializer': 'glorot_uniform', 'latent_dim': 20}, 'decoder': {'activation': 'relu', 'dropout_rate': 0.1, 'hidden_dim': [300, 300], 'initializer': 'glorot_uniform', 'latent_dim': 20}, 'vae': {'beta': 1e-05}}\n"
     ]
    },
    {
     "name": "stderr",
     "output_type": "stream",
     "text": [
      "Fold Progress: 100%|██████████████████████████████| 5/5 [03:47<00:00, 45.48s/it]"
     ]
    },
    {
     "name": "stdout",
     "output_type": "stream",
     "text": [
      "WARNING:tensorflow:Compiled the loaded model, but the compiled metrics have yet to be built. `model.compile_metrics` will be empty until you train or evaluate the model.\n"
     ]
    },
    {
     "name": "stderr",
     "output_type": "stream",
     "text": [
      "\n"
     ]
    },
    {
     "name": "stdout",
     "output_type": "stream",
     "text": [
      "INFO:tensorflow:Assets written to: ../outputs/models/vae\\vae_h_dim_300_300_z_dim_20_dropout_01_init_glorot_uniform_act_relu\\encoder\\assets\n",
      "WARNING:tensorflow:Compiled the loaded model, but the compiled metrics have yet to be built. `model.compile_metrics` will be empty until you train or evaluate the model.\n",
      "INFO:tensorflow:Assets written to: ../outputs/models/vae\\vae_h_dim_300_300_z_dim_20_dropout_01_init_glorot_uniform_act_relu\\decoder\\assets\n",
      "\n",
      "Training model with parameters {'encoder': {'activation': 'relu', 'dropout_rate': 0.1, 'hidden_dim': [300, 300], 'initializer': 'glorot_uniform', 'latent_dim': 20}, 'decoder': {'activation': 'relu', 'dropout_rate': 0.1, 'hidden_dim': [300, 300], 'initializer': 'glorot_uniform', 'latent_dim': 20}, 'vae': {'beta': 0.0001}}\n"
     ]
    },
    {
     "name": "stderr",
     "output_type": "stream",
     "text": [
      "Fold Progress: 100%|██████████████████████████████| 5/5 [03:09<00:00, 37.91s/it]\n"
     ]
    },
    {
     "name": "stdout",
     "output_type": "stream",
     "text": [
      "\n",
      "Training model with parameters {'encoder': {'activation': 'relu', 'dropout_rate': 0.1, 'hidden_dim': [300, 300], 'initializer': 'glorot_uniform', 'latent_dim': 20}, 'decoder': {'activation': 'relu', 'dropout_rate': 0.1, 'hidden_dim': [300, 300], 'initializer': 'glorot_uniform', 'latent_dim': 20}, 'vae': {'beta': 0.001}}\n"
     ]
    },
    {
     "name": "stderr",
     "output_type": "stream",
     "text": [
      "Fold Progress: 100%|██████████████████████████████| 5/5 [03:28<00:00, 41.64s/it]\n"
     ]
    },
    {
     "name": "stdout",
     "output_type": "stream",
     "text": [
      "\n",
      "Training model with parameters {'encoder': {'activation': 'relu', 'dropout_rate': 0.1, 'hidden_dim': [150, 100, 50], 'initializer': 'glorot_uniform', 'latent_dim': 20}, 'decoder': {'activation': 'relu', 'dropout_rate': 0.1, 'hidden_dim': [150, 100, 50], 'initializer': 'glorot_uniform', 'latent_dim': 20}, 'vae': {'beta': 1e-05}}\n"
     ]
    },
    {
     "name": "stderr",
     "output_type": "stream",
     "text": [
      "Fold Progress: 100%|██████████████████████████████| 5/5 [02:15<00:00, 27.20s/it]"
     ]
    },
    {
     "name": "stdout",
     "output_type": "stream",
     "text": [
      "WARNING:tensorflow:Compiled the loaded model, but the compiled metrics have yet to be built. `model.compile_metrics` will be empty until you train or evaluate the model.\n"
     ]
    },
    {
     "name": "stderr",
     "output_type": "stream",
     "text": [
      "\n"
     ]
    },
    {
     "name": "stdout",
     "output_type": "stream",
     "text": [
      "INFO:tensorflow:Assets written to: ../outputs/models/vae\\vae_h_dim_150_100_50_z_dim_20_dropout_01_init_glorot_uniform_act_relu\\encoder\\assets\n",
      "WARNING:tensorflow:Compiled the loaded model, but the compiled metrics have yet to be built. `model.compile_metrics` will be empty until you train or evaluate the model.\n",
      "INFO:tensorflow:Assets written to: ../outputs/models/vae\\vae_h_dim_150_100_50_z_dim_20_dropout_01_init_glorot_uniform_act_relu\\decoder\\assets\n",
      "\n",
      "Training model with parameters {'encoder': {'activation': 'relu', 'dropout_rate': 0.1, 'hidden_dim': [150, 100, 50], 'initializer': 'glorot_uniform', 'latent_dim': 20}, 'decoder': {'activation': 'relu', 'dropout_rate': 0.1, 'hidden_dim': [150, 100, 50], 'initializer': 'glorot_uniform', 'latent_dim': 20}, 'vae': {'beta': 0.0001}}\n"
     ]
    },
    {
     "name": "stderr",
     "output_type": "stream",
     "text": [
      "Fold Progress: 100%|██████████████████████████████| 5/5 [02:49<00:00, 33.98s/it]\n"
     ]
    },
    {
     "name": "stdout",
     "output_type": "stream",
     "text": [
      "\n",
      "Training model with parameters {'encoder': {'activation': 'relu', 'dropout_rate': 0.1, 'hidden_dim': [150, 100, 50], 'initializer': 'glorot_uniform', 'latent_dim': 20}, 'decoder': {'activation': 'relu', 'dropout_rate': 0.1, 'hidden_dim': [150, 100, 50], 'initializer': 'glorot_uniform', 'latent_dim': 20}, 'vae': {'beta': 0.001}}\n"
     ]
    },
    {
     "name": "stderr",
     "output_type": "stream",
     "text": [
      "Fold Progress: 100%|██████████████████████████████| 5/5 [02:40<00:00, 32.09s/it]\n"
     ]
    },
    {
     "name": "stdout",
     "output_type": "stream",
     "text": [
      "\n",
      "Training model with parameters {'encoder': {'activation': 'relu', 'dropout_rate': 0.1, 'hidden_dim': [200, 150, 100], 'initializer': 'glorot_uniform', 'latent_dim': 20}, 'decoder': {'activation': 'relu', 'dropout_rate': 0.1, 'hidden_dim': [200, 150, 100], 'initializer': 'glorot_uniform', 'latent_dim': 20}, 'vae': {'beta': 1e-05}}\n"
     ]
    },
    {
     "name": "stderr",
     "output_type": "stream",
     "text": [
      "Fold Progress: 100%|██████████████████████████████| 5/5 [02:56<00:00, 35.31s/it]"
     ]
    },
    {
     "name": "stdout",
     "output_type": "stream",
     "text": [
      "WARNING:tensorflow:Compiled the loaded model, but the compiled metrics have yet to be built. `model.compile_metrics` will be empty until you train or evaluate the model.\n"
     ]
    },
    {
     "name": "stderr",
     "output_type": "stream",
     "text": [
      "\n"
     ]
    },
    {
     "name": "stdout",
     "output_type": "stream",
     "text": [
      "INFO:tensorflow:Assets written to: ../outputs/models/vae\\vae_h_dim_200_150_100_z_dim_20_dropout_01_init_glorot_uniform_act_relu\\encoder\\assets\n",
      "WARNING:tensorflow:Compiled the loaded model, but the compiled metrics have yet to be built. `model.compile_metrics` will be empty until you train or evaluate the model.\n",
      "INFO:tensorflow:Assets written to: ../outputs/models/vae\\vae_h_dim_200_150_100_z_dim_20_dropout_01_init_glorot_uniform_act_relu\\decoder\\assets\n",
      "\n",
      "Training model with parameters {'encoder': {'activation': 'relu', 'dropout_rate': 0.1, 'hidden_dim': [200, 150, 100], 'initializer': 'glorot_uniform', 'latent_dim': 20}, 'decoder': {'activation': 'relu', 'dropout_rate': 0.1, 'hidden_dim': [200, 150, 100], 'initializer': 'glorot_uniform', 'latent_dim': 20}, 'vae': {'beta': 0.0001}}\n"
     ]
    },
    {
     "name": "stderr",
     "output_type": "stream",
     "text": [
      "Fold Progress: 100%|██████████████████████████████| 5/5 [03:21<00:00, 40.25s/it]\n"
     ]
    },
    {
     "name": "stdout",
     "output_type": "stream",
     "text": [
      "\n",
      "Training model with parameters {'encoder': {'activation': 'relu', 'dropout_rate': 0.1, 'hidden_dim': [200, 150, 100], 'initializer': 'glorot_uniform', 'latent_dim': 20}, 'decoder': {'activation': 'relu', 'dropout_rate': 0.1, 'hidden_dim': [200, 150, 100], 'initializer': 'glorot_uniform', 'latent_dim': 20}, 'vae': {'beta': 0.001}}\n"
     ]
    },
    {
     "name": "stderr",
     "output_type": "stream",
     "text": [
      "Fold Progress: 100%|██████████████████████████████| 5/5 [03:08<00:00, 37.68s/it]\n"
     ]
    },
    {
     "name": "stdout",
     "output_type": "stream",
     "text": [
      "\n",
      "Training model with parameters {'encoder': {'activation': 'relu', 'dropout_rate': 0.1, 'hidden_dim': [250, 200, 150], 'initializer': 'glorot_uniform', 'latent_dim': 20}, 'decoder': {'activation': 'relu', 'dropout_rate': 0.1, 'hidden_dim': [250, 200, 150], 'initializer': 'glorot_uniform', 'latent_dim': 20}, 'vae': {'beta': 1e-05}}\n"
     ]
    },
    {
     "name": "stderr",
     "output_type": "stream",
     "text": [
      "Fold Progress: 100%|██████████████████████████████| 5/5 [04:45<00:00, 57.12s/it]"
     ]
    },
    {
     "name": "stdout",
     "output_type": "stream",
     "text": [
      "WARNING:tensorflow:Compiled the loaded model, but the compiled metrics have yet to be built. `model.compile_metrics` will be empty until you train or evaluate the model.\n"
     ]
    },
    {
     "name": "stderr",
     "output_type": "stream",
     "text": [
      "\n"
     ]
    },
    {
     "name": "stdout",
     "output_type": "stream",
     "text": [
      "INFO:tensorflow:Assets written to: ../outputs/models/vae\\vae_h_dim_250_200_150_z_dim_20_dropout_01_init_glorot_uniform_act_relu\\encoder\\assets\n",
      "WARNING:tensorflow:Compiled the loaded model, but the compiled metrics have yet to be built. `model.compile_metrics` will be empty until you train or evaluate the model.\n",
      "INFO:tensorflow:Assets written to: ../outputs/models/vae\\vae_h_dim_250_200_150_z_dim_20_dropout_01_init_glorot_uniform_act_relu\\decoder\\assets\n",
      "\n",
      "Training model with parameters {'encoder': {'activation': 'relu', 'dropout_rate': 0.1, 'hidden_dim': [250, 200, 150], 'initializer': 'glorot_uniform', 'latent_dim': 20}, 'decoder': {'activation': 'relu', 'dropout_rate': 0.1, 'hidden_dim': [250, 200, 150], 'initializer': 'glorot_uniform', 'latent_dim': 20}, 'vae': {'beta': 0.0001}}\n"
     ]
    },
    {
     "name": "stderr",
     "output_type": "stream",
     "text": [
      "Fold Progress: 100%|██████████████████████████████| 5/5 [04:32<00:00, 54.55s/it]\n"
     ]
    },
    {
     "name": "stdout",
     "output_type": "stream",
     "text": [
      "\n",
      "Training model with parameters {'encoder': {'activation': 'relu', 'dropout_rate': 0.1, 'hidden_dim': [250, 200, 150], 'initializer': 'glorot_uniform', 'latent_dim': 20}, 'decoder': {'activation': 'relu', 'dropout_rate': 0.1, 'hidden_dim': [250, 200, 150], 'initializer': 'glorot_uniform', 'latent_dim': 20}, 'vae': {'beta': 0.001}}\n"
     ]
    },
    {
     "name": "stderr",
     "output_type": "stream",
     "text": [
      "Fold Progress: 100%|██████████████████████████████| 5/5 [04:19<00:00, 51.80s/it]\n"
     ]
    },
    {
     "name": "stdout",
     "output_type": "stream",
     "text": [
      "\n",
      "Training model with parameters {'encoder': {'activation': 'relu', 'dropout_rate': 0.1, 'hidden_dim': [300, 200, 100], 'initializer': 'glorot_uniform', 'latent_dim': 20}, 'decoder': {'activation': 'relu', 'dropout_rate': 0.1, 'hidden_dim': [300, 200, 100], 'initializer': 'glorot_uniform', 'latent_dim': 20}, 'vae': {'beta': 1e-05}}\n"
     ]
    },
    {
     "name": "stderr",
     "output_type": "stream",
     "text": [
      "Fold Progress: 100%|██████████████████████████████| 5/5 [03:33<00:00, 42.78s/it]"
     ]
    },
    {
     "name": "stdout",
     "output_type": "stream",
     "text": [
      "WARNING:tensorflow:Compiled the loaded model, but the compiled metrics have yet to be built. `model.compile_metrics` will be empty until you train or evaluate the model.\n"
     ]
    },
    {
     "name": "stderr",
     "output_type": "stream",
     "text": [
      "\n"
     ]
    },
    {
     "name": "stdout",
     "output_type": "stream",
     "text": [
      "INFO:tensorflow:Assets written to: ../outputs/models/vae\\vae_h_dim_300_200_100_z_dim_20_dropout_01_init_glorot_uniform_act_relu\\encoder\\assets\n",
      "WARNING:tensorflow:Compiled the loaded model, but the compiled metrics have yet to be built. `model.compile_metrics` will be empty until you train or evaluate the model.\n",
      "INFO:tensorflow:Assets written to: ../outputs/models/vae\\vae_h_dim_300_200_100_z_dim_20_dropout_01_init_glorot_uniform_act_relu\\decoder\\assets\n",
      "\n",
      "Training model with parameters {'encoder': {'activation': 'relu', 'dropout_rate': 0.1, 'hidden_dim': [300, 200, 100], 'initializer': 'glorot_uniform', 'latent_dim': 20}, 'decoder': {'activation': 'relu', 'dropout_rate': 0.1, 'hidden_dim': [300, 200, 100], 'initializer': 'glorot_uniform', 'latent_dim': 20}, 'vae': {'beta': 0.0001}}\n"
     ]
    },
    {
     "name": "stderr",
     "output_type": "stream",
     "text": [
      "Fold Progress: 100%|██████████████████████████████| 5/5 [03:18<00:00, 39.70s/it]\n"
     ]
    },
    {
     "name": "stdout",
     "output_type": "stream",
     "text": [
      "\n",
      "Training model with parameters {'encoder': {'activation': 'relu', 'dropout_rate': 0.1, 'hidden_dim': [300, 200, 100], 'initializer': 'glorot_uniform', 'latent_dim': 20}, 'decoder': {'activation': 'relu', 'dropout_rate': 0.1, 'hidden_dim': [300, 200, 100], 'initializer': 'glorot_uniform', 'latent_dim': 20}, 'vae': {'beta': 0.001}}\n"
     ]
    },
    {
     "name": "stderr",
     "output_type": "stream",
     "text": [
      "Fold Progress: 100%|██████████████████████████████| 5/5 [03:32<00:00, 42.59s/it]\n"
     ]
    },
    {
     "name": "stdout",
     "output_type": "stream",
     "text": [
      "\n",
      "Training model with parameters {'encoder': {'activation': 'relu', 'dropout_rate': 0.2, 'hidden_dim': [100, 100], 'initializer': 'glorot_uniform', 'latent_dim': 20}, 'decoder': {'activation': 'relu', 'dropout_rate': 0.2, 'hidden_dim': [100, 100], 'initializer': 'glorot_uniform', 'latent_dim': 20}, 'vae': {'beta': 1e-05}}\n"
     ]
    },
    {
     "name": "stderr",
     "output_type": "stream",
     "text": [
      "Fold Progress: 100%|██████████████████████████████| 5/5 [02:10<00:00, 26.03s/it]"
     ]
    },
    {
     "name": "stdout",
     "output_type": "stream",
     "text": [
      "WARNING:tensorflow:Compiled the loaded model, but the compiled metrics have yet to be built. `model.compile_metrics` will be empty until you train or evaluate the model.\n"
     ]
    },
    {
     "name": "stderr",
     "output_type": "stream",
     "text": [
      "\n"
     ]
    },
    {
     "name": "stdout",
     "output_type": "stream",
     "text": [
      "INFO:tensorflow:Assets written to: ../outputs/models/vae\\vae_h_dim_100_100_z_dim_20_dropout_02_init_glorot_uniform_act_relu\\encoder\\assets\n",
      "WARNING:tensorflow:Compiled the loaded model, but the compiled metrics have yet to be built. `model.compile_metrics` will be empty until you train or evaluate the model.\n",
      "INFO:tensorflow:Assets written to: ../outputs/models/vae\\vae_h_dim_100_100_z_dim_20_dropout_02_init_glorot_uniform_act_relu\\decoder\\assets\n",
      "\n",
      "Training model with parameters {'encoder': {'activation': 'relu', 'dropout_rate': 0.2, 'hidden_dim': [100, 100], 'initializer': 'glorot_uniform', 'latent_dim': 20}, 'decoder': {'activation': 'relu', 'dropout_rate': 0.2, 'hidden_dim': [100, 100], 'initializer': 'glorot_uniform', 'latent_dim': 20}, 'vae': {'beta': 0.0001}}\n"
     ]
    },
    {
     "name": "stderr",
     "output_type": "stream",
     "text": [
      "Fold Progress: 100%|██████████████████████████████| 5/5 [02:29<00:00, 29.89s/it]\n"
     ]
    },
    {
     "name": "stdout",
     "output_type": "stream",
     "text": [
      "\n",
      "Training model with parameters {'encoder': {'activation': 'relu', 'dropout_rate': 0.2, 'hidden_dim': [100, 100], 'initializer': 'glorot_uniform', 'latent_dim': 20}, 'decoder': {'activation': 'relu', 'dropout_rate': 0.2, 'hidden_dim': [100, 100], 'initializer': 'glorot_uniform', 'latent_dim': 20}, 'vae': {'beta': 0.001}}\n"
     ]
    },
    {
     "name": "stderr",
     "output_type": "stream",
     "text": [
      "Fold Progress: 100%|██████████████████████████████| 5/5 [02:03<00:00, 24.77s/it]\n"
     ]
    },
    {
     "name": "stdout",
     "output_type": "stream",
     "text": [
      "\n",
      "Training model with parameters {'encoder': {'activation': 'relu', 'dropout_rate': 0.2, 'hidden_dim': [150, 150], 'initializer': 'glorot_uniform', 'latent_dim': 20}, 'decoder': {'activation': 'relu', 'dropout_rate': 0.2, 'hidden_dim': [150, 150], 'initializer': 'glorot_uniform', 'latent_dim': 20}, 'vae': {'beta': 1e-05}}\n"
     ]
    },
    {
     "name": "stderr",
     "output_type": "stream",
     "text": [
      "Fold Progress: 100%|██████████████████████████████| 5/5 [02:58<00:00, 35.62s/it]"
     ]
    },
    {
     "name": "stdout",
     "output_type": "stream",
     "text": [
      "WARNING:tensorflow:Compiled the loaded model, but the compiled metrics have yet to be built. `model.compile_metrics` will be empty until you train or evaluate the model.\n"
     ]
    },
    {
     "name": "stderr",
     "output_type": "stream",
     "text": [
      "\n"
     ]
    },
    {
     "name": "stdout",
     "output_type": "stream",
     "text": [
      "INFO:tensorflow:Assets written to: ../outputs/models/vae\\vae_h_dim_150_150_z_dim_20_dropout_02_init_glorot_uniform_act_relu\\encoder\\assets\n",
      "WARNING:tensorflow:Compiled the loaded model, but the compiled metrics have yet to be built. `model.compile_metrics` will be empty until you train or evaluate the model.\n",
      "INFO:tensorflow:Assets written to: ../outputs/models/vae\\vae_h_dim_150_150_z_dim_20_dropout_02_init_glorot_uniform_act_relu\\decoder\\assets\n",
      "\n",
      "Training model with parameters {'encoder': {'activation': 'relu', 'dropout_rate': 0.2, 'hidden_dim': [150, 150], 'initializer': 'glorot_uniform', 'latent_dim': 20}, 'decoder': {'activation': 'relu', 'dropout_rate': 0.2, 'hidden_dim': [150, 150], 'initializer': 'glorot_uniform', 'latent_dim': 20}, 'vae': {'beta': 0.0001}}\n"
     ]
    },
    {
     "name": "stderr",
     "output_type": "stream",
     "text": [
      "Fold Progress: 100%|██████████████████████████████| 5/5 [02:38<00:00, 31.72s/it]\n"
     ]
    },
    {
     "name": "stdout",
     "output_type": "stream",
     "text": [
      "\n",
      "Training model with parameters {'encoder': {'activation': 'relu', 'dropout_rate': 0.2, 'hidden_dim': [150, 150], 'initializer': 'glorot_uniform', 'latent_dim': 20}, 'decoder': {'activation': 'relu', 'dropout_rate': 0.2, 'hidden_dim': [150, 150], 'initializer': 'glorot_uniform', 'latent_dim': 20}, 'vae': {'beta': 0.001}}\n"
     ]
    },
    {
     "name": "stderr",
     "output_type": "stream",
     "text": [
      "Fold Progress: 100%|██████████████████████████████| 5/5 [03:03<00:00, 36.70s/it]\n"
     ]
    },
    {
     "name": "stdout",
     "output_type": "stream",
     "text": [
      "\n",
      "Training model with parameters {'encoder': {'activation': 'relu', 'dropout_rate': 0.2, 'hidden_dim': [200, 200], 'initializer': 'glorot_uniform', 'latent_dim': 20}, 'decoder': {'activation': 'relu', 'dropout_rate': 0.2, 'hidden_dim': [200, 200], 'initializer': 'glorot_uniform', 'latent_dim': 20}, 'vae': {'beta': 1e-05}}\n"
     ]
    },
    {
     "name": "stderr",
     "output_type": "stream",
     "text": [
      "Fold Progress: 100%|██████████████████████████████| 5/5 [02:03<00:00, 24.65s/it]"
     ]
    },
    {
     "name": "stdout",
     "output_type": "stream",
     "text": [
      "WARNING:tensorflow:Compiled the loaded model, but the compiled metrics have yet to be built. `model.compile_metrics` will be empty until you train or evaluate the model.\n"
     ]
    },
    {
     "name": "stderr",
     "output_type": "stream",
     "text": [
      "\n"
     ]
    },
    {
     "name": "stdout",
     "output_type": "stream",
     "text": [
      "INFO:tensorflow:Assets written to: ../outputs/models/vae\\vae_h_dim_200_200_z_dim_20_dropout_02_init_glorot_uniform_act_relu\\encoder\\assets\n",
      "WARNING:tensorflow:Compiled the loaded model, but the compiled metrics have yet to be built. `model.compile_metrics` will be empty until you train or evaluate the model.\n",
      "INFO:tensorflow:Assets written to: ../outputs/models/vae\\vae_h_dim_200_200_z_dim_20_dropout_02_init_glorot_uniform_act_relu\\decoder\\assets\n",
      "\n",
      "Training model with parameters {'encoder': {'activation': 'relu', 'dropout_rate': 0.2, 'hidden_dim': [200, 200], 'initializer': 'glorot_uniform', 'latent_dim': 20}, 'decoder': {'activation': 'relu', 'dropout_rate': 0.2, 'hidden_dim': [200, 200], 'initializer': 'glorot_uniform', 'latent_dim': 20}, 'vae': {'beta': 0.0001}}\n"
     ]
    },
    {
     "name": "stderr",
     "output_type": "stream",
     "text": [
      "Fold Progress: 100%|██████████████████████████████| 5/5 [02:37<00:00, 31.51s/it]\n"
     ]
    },
    {
     "name": "stdout",
     "output_type": "stream",
     "text": [
      "\n",
      "Training model with parameters {'encoder': {'activation': 'relu', 'dropout_rate': 0.2, 'hidden_dim': [200, 200], 'initializer': 'glorot_uniform', 'latent_dim': 20}, 'decoder': {'activation': 'relu', 'dropout_rate': 0.2, 'hidden_dim': [200, 200], 'initializer': 'glorot_uniform', 'latent_dim': 20}, 'vae': {'beta': 0.001}}\n"
     ]
    },
    {
     "name": "stderr",
     "output_type": "stream",
     "text": [
      "Fold Progress: 100%|██████████████████████████████| 5/5 [02:22<00:00, 28.59s/it]\n"
     ]
    },
    {
     "name": "stdout",
     "output_type": "stream",
     "text": [
      "\n",
      "Training model with parameters {'encoder': {'activation': 'relu', 'dropout_rate': 0.2, 'hidden_dim': [250, 250], 'initializer': 'glorot_uniform', 'latent_dim': 20}, 'decoder': {'activation': 'relu', 'dropout_rate': 0.2, 'hidden_dim': [250, 250], 'initializer': 'glorot_uniform', 'latent_dim': 20}, 'vae': {'beta': 1e-05}}\n"
     ]
    },
    {
     "name": "stderr",
     "output_type": "stream",
     "text": [
      "Fold Progress: 100%|██████████████████████████████| 5/5 [02:50<00:00, 34.00s/it]"
     ]
    },
    {
     "name": "stdout",
     "output_type": "stream",
     "text": [
      "WARNING:tensorflow:Compiled the loaded model, but the compiled metrics have yet to be built. `model.compile_metrics` will be empty until you train or evaluate the model.\n"
     ]
    },
    {
     "name": "stderr",
     "output_type": "stream",
     "text": [
      "\n"
     ]
    },
    {
     "name": "stdout",
     "output_type": "stream",
     "text": [
      "INFO:tensorflow:Assets written to: ../outputs/models/vae\\vae_h_dim_250_250_z_dim_20_dropout_02_init_glorot_uniform_act_relu\\encoder\\assets\n",
      "WARNING:tensorflow:Compiled the loaded model, but the compiled metrics have yet to be built. `model.compile_metrics` will be empty until you train or evaluate the model.\n",
      "INFO:tensorflow:Assets written to: ../outputs/models/vae\\vae_h_dim_250_250_z_dim_20_dropout_02_init_glorot_uniform_act_relu\\decoder\\assets\n",
      "\n",
      "Training model with parameters {'encoder': {'activation': 'relu', 'dropout_rate': 0.2, 'hidden_dim': [250, 250], 'initializer': 'glorot_uniform', 'latent_dim': 20}, 'decoder': {'activation': 'relu', 'dropout_rate': 0.2, 'hidden_dim': [250, 250], 'initializer': 'glorot_uniform', 'latent_dim': 20}, 'vae': {'beta': 0.0001}}\n"
     ]
    },
    {
     "name": "stderr",
     "output_type": "stream",
     "text": [
      "Fold Progress: 100%|██████████████████████████████| 5/5 [02:42<00:00, 32.52s/it]\n"
     ]
    },
    {
     "name": "stdout",
     "output_type": "stream",
     "text": [
      "\n",
      "Training model with parameters {'encoder': {'activation': 'relu', 'dropout_rate': 0.2, 'hidden_dim': [250, 250], 'initializer': 'glorot_uniform', 'latent_dim': 20}, 'decoder': {'activation': 'relu', 'dropout_rate': 0.2, 'hidden_dim': [250, 250], 'initializer': 'glorot_uniform', 'latent_dim': 20}, 'vae': {'beta': 0.001}}\n"
     ]
    },
    {
     "name": "stderr",
     "output_type": "stream",
     "text": [
      "Fold Progress: 100%|██████████████████████████████| 5/5 [02:42<00:00, 32.46s/it]\n"
     ]
    },
    {
     "name": "stdout",
     "output_type": "stream",
     "text": [
      "\n",
      "Training model with parameters {'encoder': {'activation': 'relu', 'dropout_rate': 0.2, 'hidden_dim': [300, 300], 'initializer': 'glorot_uniform', 'latent_dim': 20}, 'decoder': {'activation': 'relu', 'dropout_rate': 0.2, 'hidden_dim': [300, 300], 'initializer': 'glorot_uniform', 'latent_dim': 20}, 'vae': {'beta': 1e-05}}\n"
     ]
    },
    {
     "name": "stderr",
     "output_type": "stream",
     "text": [
      "Fold Progress: 100%|██████████████████████████████| 5/5 [03:23<00:00, 40.72s/it]\n"
     ]
    },
    {
     "name": "stdout",
     "output_type": "stream",
     "text": [
      "\n",
      "Training model with parameters {'encoder': {'activation': 'relu', 'dropout_rate': 0.2, 'hidden_dim': [300, 300], 'initializer': 'glorot_uniform', 'latent_dim': 20}, 'decoder': {'activation': 'relu', 'dropout_rate': 0.2, 'hidden_dim': [300, 300], 'initializer': 'glorot_uniform', 'latent_dim': 20}, 'vae': {'beta': 0.0001}}\n"
     ]
    },
    {
     "name": "stderr",
     "output_type": "stream",
     "text": [
      "Fold Progress: 100%|██████████████████████████████| 5/5 [03:04<00:00, 36.98s/it]\n"
     ]
    },
    {
     "name": "stdout",
     "output_type": "stream",
     "text": [
      "\n",
      "Training model with parameters {'encoder': {'activation': 'relu', 'dropout_rate': 0.2, 'hidden_dim': [300, 300], 'initializer': 'glorot_uniform', 'latent_dim': 20}, 'decoder': {'activation': 'relu', 'dropout_rate': 0.2, 'hidden_dim': [300, 300], 'initializer': 'glorot_uniform', 'latent_dim': 20}, 'vae': {'beta': 0.001}}\n"
     ]
    },
    {
     "name": "stderr",
     "output_type": "stream",
     "text": [
      "Fold Progress: 100%|██████████████████████████████| 5/5 [03:42<00:00, 44.50s/it]\n"
     ]
    },
    {
     "name": "stdout",
     "output_type": "stream",
     "text": [
      "\n",
      "Training model with parameters {'encoder': {'activation': 'relu', 'dropout_rate': 0.2, 'hidden_dim': [150, 100, 50], 'initializer': 'glorot_uniform', 'latent_dim': 20}, 'decoder': {'activation': 'relu', 'dropout_rate': 0.2, 'hidden_dim': [150, 100, 50], 'initializer': 'glorot_uniform', 'latent_dim': 20}, 'vae': {'beta': 1e-05}}\n"
     ]
    },
    {
     "name": "stderr",
     "output_type": "stream",
     "text": [
      "Fold Progress: 100%|██████████████████████████████| 5/5 [02:27<00:00, 29.52s/it]"
     ]
    },
    {
     "name": "stdout",
     "output_type": "stream",
     "text": [
      "WARNING:tensorflow:Compiled the loaded model, but the compiled metrics have yet to be built. `model.compile_metrics` will be empty until you train or evaluate the model.\n"
     ]
    },
    {
     "name": "stderr",
     "output_type": "stream",
     "text": [
      "\n"
     ]
    },
    {
     "name": "stdout",
     "output_type": "stream",
     "text": [
      "INFO:tensorflow:Assets written to: ../outputs/models/vae\\vae_h_dim_150_100_50_z_dim_20_dropout_02_init_glorot_uniform_act_relu\\encoder\\assets\n",
      "WARNING:tensorflow:Compiled the loaded model, but the compiled metrics have yet to be built. `model.compile_metrics` will be empty until you train or evaluate the model.\n",
      "INFO:tensorflow:Assets written to: ../outputs/models/vae\\vae_h_dim_150_100_50_z_dim_20_dropout_02_init_glorot_uniform_act_relu\\decoder\\assets\n",
      "\n",
      "Training model with parameters {'encoder': {'activation': 'relu', 'dropout_rate': 0.2, 'hidden_dim': [150, 100, 50], 'initializer': 'glorot_uniform', 'latent_dim': 20}, 'decoder': {'activation': 'relu', 'dropout_rate': 0.2, 'hidden_dim': [150, 100, 50], 'initializer': 'glorot_uniform', 'latent_dim': 20}, 'vae': {'beta': 0.0001}}\n"
     ]
    },
    {
     "name": "stderr",
     "output_type": "stream",
     "text": [
      "Fold Progress: 100%|██████████████████████████████| 5/5 [03:04<00:00, 36.81s/it]\n"
     ]
    },
    {
     "name": "stdout",
     "output_type": "stream",
     "text": [
      "\n",
      "Training model with parameters {'encoder': {'activation': 'relu', 'dropout_rate': 0.2, 'hidden_dim': [150, 100, 50], 'initializer': 'glorot_uniform', 'latent_dim': 20}, 'decoder': {'activation': 'relu', 'dropout_rate': 0.2, 'hidden_dim': [150, 100, 50], 'initializer': 'glorot_uniform', 'latent_dim': 20}, 'vae': {'beta': 0.001}}\n"
     ]
    },
    {
     "name": "stderr",
     "output_type": "stream",
     "text": [
      "Fold Progress: 100%|██████████████████████████████| 5/5 [02:57<00:00, 35.46s/it]\n"
     ]
    },
    {
     "name": "stdout",
     "output_type": "stream",
     "text": [
      "\n",
      "Training model with parameters {'encoder': {'activation': 'relu', 'dropout_rate': 0.2, 'hidden_dim': [200, 150, 100], 'initializer': 'glorot_uniform', 'latent_dim': 20}, 'decoder': {'activation': 'relu', 'dropout_rate': 0.2, 'hidden_dim': [200, 150, 100], 'initializer': 'glorot_uniform', 'latent_dim': 20}, 'vae': {'beta': 1e-05}}\n"
     ]
    },
    {
     "name": "stderr",
     "output_type": "stream",
     "text": [
      "Fold Progress: 100%|██████████████████████████████| 5/5 [03:19<00:00, 39.93s/it]"
     ]
    },
    {
     "name": "stdout",
     "output_type": "stream",
     "text": [
      "WARNING:tensorflow:Compiled the loaded model, but the compiled metrics have yet to be built. `model.compile_metrics` will be empty until you train or evaluate the model.\n"
     ]
    },
    {
     "name": "stderr",
     "output_type": "stream",
     "text": [
      "\n"
     ]
    },
    {
     "name": "stdout",
     "output_type": "stream",
     "text": [
      "INFO:tensorflow:Assets written to: ../outputs/models/vae\\vae_h_dim_200_150_100_z_dim_20_dropout_02_init_glorot_uniform_act_relu\\encoder\\assets\n",
      "WARNING:tensorflow:Compiled the loaded model, but the compiled metrics have yet to be built. `model.compile_metrics` will be empty until you train or evaluate the model.\n",
      "INFO:tensorflow:Assets written to: ../outputs/models/vae\\vae_h_dim_200_150_100_z_dim_20_dropout_02_init_glorot_uniform_act_relu\\decoder\\assets\n",
      "\n",
      "Training model with parameters {'encoder': {'activation': 'relu', 'dropout_rate': 0.2, 'hidden_dim': [200, 150, 100], 'initializer': 'glorot_uniform', 'latent_dim': 20}, 'decoder': {'activation': 'relu', 'dropout_rate': 0.2, 'hidden_dim': [200, 150, 100], 'initializer': 'glorot_uniform', 'latent_dim': 20}, 'vae': {'beta': 0.0001}}\n"
     ]
    },
    {
     "name": "stderr",
     "output_type": "stream",
     "text": [
      "Fold Progress: 100%|██████████████████████████████| 5/5 [03:20<00:00, 40.12s/it]\n"
     ]
    },
    {
     "name": "stdout",
     "output_type": "stream",
     "text": [
      "\n",
      "Training model with parameters {'encoder': {'activation': 'relu', 'dropout_rate': 0.2, 'hidden_dim': [200, 150, 100], 'initializer': 'glorot_uniform', 'latent_dim': 20}, 'decoder': {'activation': 'relu', 'dropout_rate': 0.2, 'hidden_dim': [200, 150, 100], 'initializer': 'glorot_uniform', 'latent_dim': 20}, 'vae': {'beta': 0.001}}\n"
     ]
    },
    {
     "name": "stderr",
     "output_type": "stream",
     "text": [
      "Fold Progress: 100%|██████████████████████████████| 5/5 [03:03<00:00, 36.67s/it]\n"
     ]
    },
    {
     "name": "stdout",
     "output_type": "stream",
     "text": [
      "\n",
      "Training model with parameters {'encoder': {'activation': 'relu', 'dropout_rate': 0.2, 'hidden_dim': [250, 200, 150], 'initializer': 'glorot_uniform', 'latent_dim': 20}, 'decoder': {'activation': 'relu', 'dropout_rate': 0.2, 'hidden_dim': [250, 200, 150], 'initializer': 'glorot_uniform', 'latent_dim': 20}, 'vae': {'beta': 1e-05}}\n"
     ]
    },
    {
     "name": "stderr",
     "output_type": "stream",
     "text": [
      "Fold Progress: 100%|██████████████████████████████| 5/5 [04:12<00:00, 50.53s/it]"
     ]
    },
    {
     "name": "stdout",
     "output_type": "stream",
     "text": [
      "WARNING:tensorflow:Compiled the loaded model, but the compiled metrics have yet to be built. `model.compile_metrics` will be empty until you train or evaluate the model.\n"
     ]
    },
    {
     "name": "stderr",
     "output_type": "stream",
     "text": [
      "\n"
     ]
    },
    {
     "name": "stdout",
     "output_type": "stream",
     "text": [
      "INFO:tensorflow:Assets written to: ../outputs/models/vae\\vae_h_dim_250_200_150_z_dim_20_dropout_02_init_glorot_uniform_act_relu\\encoder\\assets\n",
      "WARNING:tensorflow:Compiled the loaded model, but the compiled metrics have yet to be built. `model.compile_metrics` will be empty until you train or evaluate the model.\n",
      "INFO:tensorflow:Assets written to: ../outputs/models/vae\\vae_h_dim_250_200_150_z_dim_20_dropout_02_init_glorot_uniform_act_relu\\decoder\\assets\n",
      "\n",
      "Training model with parameters {'encoder': {'activation': 'relu', 'dropout_rate': 0.2, 'hidden_dim': [250, 200, 150], 'initializer': 'glorot_uniform', 'latent_dim': 20}, 'decoder': {'activation': 'relu', 'dropout_rate': 0.2, 'hidden_dim': [250, 200, 150], 'initializer': 'glorot_uniform', 'latent_dim': 20}, 'vae': {'beta': 0.0001}}\n"
     ]
    },
    {
     "name": "stderr",
     "output_type": "stream",
     "text": [
      "Fold Progress: 100%|██████████████████████████████| 5/5 [04:12<00:00, 50.41s/it]\n"
     ]
    },
    {
     "name": "stdout",
     "output_type": "stream",
     "text": [
      "\n",
      "Training model with parameters {'encoder': {'activation': 'relu', 'dropout_rate': 0.2, 'hidden_dim': [250, 200, 150], 'initializer': 'glorot_uniform', 'latent_dim': 20}, 'decoder': {'activation': 'relu', 'dropout_rate': 0.2, 'hidden_dim': [250, 200, 150], 'initializer': 'glorot_uniform', 'latent_dim': 20}, 'vae': {'beta': 0.001}}\n"
     ]
    },
    {
     "name": "stderr",
     "output_type": "stream",
     "text": [
      "Fold Progress: 100%|██████████████████████████████| 5/5 [04:15<00:00, 51.11s/it]\n"
     ]
    },
    {
     "name": "stdout",
     "output_type": "stream",
     "text": [
      "\n",
      "Training model with parameters {'encoder': {'activation': 'relu', 'dropout_rate': 0.2, 'hidden_dim': [300, 200, 100], 'initializer': 'glorot_uniform', 'latent_dim': 20}, 'decoder': {'activation': 'relu', 'dropout_rate': 0.2, 'hidden_dim': [300, 200, 100], 'initializer': 'glorot_uniform', 'latent_dim': 20}, 'vae': {'beta': 1e-05}}\n"
     ]
    },
    {
     "name": "stderr",
     "output_type": "stream",
     "text": [
      "Fold Progress: 100%|██████████████████████████████| 5/5 [03:49<00:00, 45.92s/it]"
     ]
    },
    {
     "name": "stdout",
     "output_type": "stream",
     "text": [
      "WARNING:tensorflow:Compiled the loaded model, but the compiled metrics have yet to be built. `model.compile_metrics` will be empty until you train or evaluate the model.\n"
     ]
    },
    {
     "name": "stderr",
     "output_type": "stream",
     "text": [
      "\n"
     ]
    },
    {
     "name": "stdout",
     "output_type": "stream",
     "text": [
      "INFO:tensorflow:Assets written to: ../outputs/models/vae\\vae_h_dim_300_200_100_z_dim_20_dropout_02_init_glorot_uniform_act_relu\\encoder\\assets\n",
      "WARNING:tensorflow:Compiled the loaded model, but the compiled metrics have yet to be built. `model.compile_metrics` will be empty until you train or evaluate the model.\n",
      "INFO:tensorflow:Assets written to: ../outputs/models/vae\\vae_h_dim_300_200_100_z_dim_20_dropout_02_init_glorot_uniform_act_relu\\decoder\\assets\n",
      "\n",
      "Training model with parameters {'encoder': {'activation': 'relu', 'dropout_rate': 0.2, 'hidden_dim': [300, 200, 100], 'initializer': 'glorot_uniform', 'latent_dim': 20}, 'decoder': {'activation': 'relu', 'dropout_rate': 0.2, 'hidden_dim': [300, 200, 100], 'initializer': 'glorot_uniform', 'latent_dim': 20}, 'vae': {'beta': 0.0001}}\n"
     ]
    },
    {
     "name": "stderr",
     "output_type": "stream",
     "text": [
      "Fold Progress: 100%|██████████████████████████████| 5/5 [03:44<00:00, 44.82s/it]\n"
     ]
    },
    {
     "name": "stdout",
     "output_type": "stream",
     "text": [
      "\n",
      "Training model with parameters {'encoder': {'activation': 'relu', 'dropout_rate': 0.2, 'hidden_dim': [300, 200, 100], 'initializer': 'glorot_uniform', 'latent_dim': 20}, 'decoder': {'activation': 'relu', 'dropout_rate': 0.2, 'hidden_dim': [300, 200, 100], 'initializer': 'glorot_uniform', 'latent_dim': 20}, 'vae': {'beta': 0.001}}\n"
     ]
    },
    {
     "name": "stderr",
     "output_type": "stream",
     "text": [
      "Fold Progress: 100%|██████████████████████████████| 5/5 [04:08<00:00, 49.69s/it]\n"
     ]
    },
    {
     "name": "stdout",
     "output_type": "stream",
     "text": [
      "\n",
      "Training model with parameters {'encoder': {'activation': 'relu', 'dropout_rate': 0.3, 'hidden_dim': [100, 100], 'initializer': 'glorot_uniform', 'latent_dim': 20}, 'decoder': {'activation': 'relu', 'dropout_rate': 0.3, 'hidden_dim': [100, 100], 'initializer': 'glorot_uniform', 'latent_dim': 20}, 'vae': {'beta': 1e-05}}\n"
     ]
    },
    {
     "name": "stderr",
     "output_type": "stream",
     "text": [
      "Fold Progress: 100%|██████████████████████████████| 5/5 [02:33<00:00, 30.69s/it]"
     ]
    },
    {
     "name": "stdout",
     "output_type": "stream",
     "text": [
      "WARNING:tensorflow:Compiled the loaded model, but the compiled metrics have yet to be built. `model.compile_metrics` will be empty until you train or evaluate the model.\n"
     ]
    },
    {
     "name": "stderr",
     "output_type": "stream",
     "text": [
      "\n"
     ]
    },
    {
     "name": "stdout",
     "output_type": "stream",
     "text": [
      "INFO:tensorflow:Assets written to: ../outputs/models/vae\\vae_h_dim_100_100_z_dim_20_dropout_03_init_glorot_uniform_act_relu\\encoder\\assets\n",
      "WARNING:tensorflow:Compiled the loaded model, but the compiled metrics have yet to be built. `model.compile_metrics` will be empty until you train or evaluate the model.\n",
      "INFO:tensorflow:Assets written to: ../outputs/models/vae\\vae_h_dim_100_100_z_dim_20_dropout_03_init_glorot_uniform_act_relu\\decoder\\assets\n",
      "\n",
      "Training model with parameters {'encoder': {'activation': 'relu', 'dropout_rate': 0.3, 'hidden_dim': [100, 100], 'initializer': 'glorot_uniform', 'latent_dim': 20}, 'decoder': {'activation': 'relu', 'dropout_rate': 0.3, 'hidden_dim': [100, 100], 'initializer': 'glorot_uniform', 'latent_dim': 20}, 'vae': {'beta': 0.0001}}\n"
     ]
    },
    {
     "name": "stderr",
     "output_type": "stream",
     "text": [
      "Fold Progress: 100%|██████████████████████████████| 5/5 [02:43<00:00, 32.69s/it]\n"
     ]
    },
    {
     "name": "stdout",
     "output_type": "stream",
     "text": [
      "\n",
      "Training model with parameters {'encoder': {'activation': 'relu', 'dropout_rate': 0.3, 'hidden_dim': [100, 100], 'initializer': 'glorot_uniform', 'latent_dim': 20}, 'decoder': {'activation': 'relu', 'dropout_rate': 0.3, 'hidden_dim': [100, 100], 'initializer': 'glorot_uniform', 'latent_dim': 20}, 'vae': {'beta': 0.001}}\n"
     ]
    },
    {
     "name": "stderr",
     "output_type": "stream",
     "text": [
      "Fold Progress: 100%|██████████████████████████████| 5/5 [02:22<00:00, 28.57s/it]\n"
     ]
    },
    {
     "name": "stdout",
     "output_type": "stream",
     "text": [
      "\n",
      "Training model with parameters {'encoder': {'activation': 'relu', 'dropout_rate': 0.3, 'hidden_dim': [150, 150], 'initializer': 'glorot_uniform', 'latent_dim': 20}, 'decoder': {'activation': 'relu', 'dropout_rate': 0.3, 'hidden_dim': [150, 150], 'initializer': 'glorot_uniform', 'latent_dim': 20}, 'vae': {'beta': 1e-05}}\n"
     ]
    },
    {
     "name": "stderr",
     "output_type": "stream",
     "text": [
      "Fold Progress: 100%|██████████████████████████████| 5/5 [02:57<00:00, 35.52s/it]"
     ]
    },
    {
     "name": "stdout",
     "output_type": "stream",
     "text": [
      "WARNING:tensorflow:Compiled the loaded model, but the compiled metrics have yet to be built. `model.compile_metrics` will be empty until you train or evaluate the model.\n"
     ]
    },
    {
     "name": "stderr",
     "output_type": "stream",
     "text": [
      "\n"
     ]
    },
    {
     "name": "stdout",
     "output_type": "stream",
     "text": [
      "INFO:tensorflow:Assets written to: ../outputs/models/vae\\vae_h_dim_150_150_z_dim_20_dropout_03_init_glorot_uniform_act_relu\\encoder\\assets\n",
      "WARNING:tensorflow:Compiled the loaded model, but the compiled metrics have yet to be built. `model.compile_metrics` will be empty until you train or evaluate the model.\n",
      "INFO:tensorflow:Assets written to: ../outputs/models/vae\\vae_h_dim_150_150_z_dim_20_dropout_03_init_glorot_uniform_act_relu\\decoder\\assets\n",
      "\n",
      "Training model with parameters {'encoder': {'activation': 'relu', 'dropout_rate': 0.3, 'hidden_dim': [150, 150], 'initializer': 'glorot_uniform', 'latent_dim': 20}, 'decoder': {'activation': 'relu', 'dropout_rate': 0.3, 'hidden_dim': [150, 150], 'initializer': 'glorot_uniform', 'latent_dim': 20}, 'vae': {'beta': 0.0001}}\n"
     ]
    },
    {
     "name": "stderr",
     "output_type": "stream",
     "text": [
      "Fold Progress: 100%|██████████████████████████████| 5/5 [02:44<00:00, 32.90s/it]\n"
     ]
    },
    {
     "name": "stdout",
     "output_type": "stream",
     "text": [
      "\n",
      "Training model with parameters {'encoder': {'activation': 'relu', 'dropout_rate': 0.3, 'hidden_dim': [150, 150], 'initializer': 'glorot_uniform', 'latent_dim': 20}, 'decoder': {'activation': 'relu', 'dropout_rate': 0.3, 'hidden_dim': [150, 150], 'initializer': 'glorot_uniform', 'latent_dim': 20}, 'vae': {'beta': 0.001}}\n"
     ]
    },
    {
     "name": "stderr",
     "output_type": "stream",
     "text": [
      "Fold Progress: 100%|██████████████████████████████| 5/5 [02:33<00:00, 30.79s/it]\n"
     ]
    },
    {
     "name": "stdout",
     "output_type": "stream",
     "text": [
      "\n",
      "Training model with parameters {'encoder': {'activation': 'relu', 'dropout_rate': 0.3, 'hidden_dim': [200, 200], 'initializer': 'glorot_uniform', 'latent_dim': 20}, 'decoder': {'activation': 'relu', 'dropout_rate': 0.3, 'hidden_dim': [200, 200], 'initializer': 'glorot_uniform', 'latent_dim': 20}, 'vae': {'beta': 1e-05}}\n"
     ]
    },
    {
     "name": "stderr",
     "output_type": "stream",
     "text": [
      "Fold Progress: 100%|██████████████████████████████| 5/5 [02:24<00:00, 28.80s/it]"
     ]
    },
    {
     "name": "stdout",
     "output_type": "stream",
     "text": [
      "WARNING:tensorflow:Compiled the loaded model, but the compiled metrics have yet to be built. `model.compile_metrics` will be empty until you train or evaluate the model.\n"
     ]
    },
    {
     "name": "stderr",
     "output_type": "stream",
     "text": [
      "\n"
     ]
    },
    {
     "name": "stdout",
     "output_type": "stream",
     "text": [
      "INFO:tensorflow:Assets written to: ../outputs/models/vae\\vae_h_dim_200_200_z_dim_20_dropout_03_init_glorot_uniform_act_relu\\encoder\\assets\n",
      "WARNING:tensorflow:Compiled the loaded model, but the compiled metrics have yet to be built. `model.compile_metrics` will be empty until you train or evaluate the model.\n",
      "INFO:tensorflow:Assets written to: ../outputs/models/vae\\vae_h_dim_200_200_z_dim_20_dropout_03_init_glorot_uniform_act_relu\\decoder\\assets\n",
      "\n",
      "Training model with parameters {'encoder': {'activation': 'relu', 'dropout_rate': 0.3, 'hidden_dim': [200, 200], 'initializer': 'glorot_uniform', 'latent_dim': 20}, 'decoder': {'activation': 'relu', 'dropout_rate': 0.3, 'hidden_dim': [200, 200], 'initializer': 'glorot_uniform', 'latent_dim': 20}, 'vae': {'beta': 0.0001}}\n"
     ]
    },
    {
     "name": "stderr",
     "output_type": "stream",
     "text": [
      "Fold Progress: 100%|██████████████████████████████| 5/5 [02:21<00:00, 28.33s/it]\n"
     ]
    },
    {
     "name": "stdout",
     "output_type": "stream",
     "text": [
      "\n",
      "Training model with parameters {'encoder': {'activation': 'relu', 'dropout_rate': 0.3, 'hidden_dim': [200, 200], 'initializer': 'glorot_uniform', 'latent_dim': 20}, 'decoder': {'activation': 'relu', 'dropout_rate': 0.3, 'hidden_dim': [200, 200], 'initializer': 'glorot_uniform', 'latent_dim': 20}, 'vae': {'beta': 0.001}}\n"
     ]
    },
    {
     "name": "stderr",
     "output_type": "stream",
     "text": [
      "Fold Progress: 100%|██████████████████████████████| 5/5 [02:24<00:00, 28.91s/it]\n"
     ]
    },
    {
     "name": "stdout",
     "output_type": "stream",
     "text": [
      "\n",
      "Training model with parameters {'encoder': {'activation': 'relu', 'dropout_rate': 0.3, 'hidden_dim': [250, 250], 'initializer': 'glorot_uniform', 'latent_dim': 20}, 'decoder': {'activation': 'relu', 'dropout_rate': 0.3, 'hidden_dim': [250, 250], 'initializer': 'glorot_uniform', 'latent_dim': 20}, 'vae': {'beta': 1e-05}}\n"
     ]
    },
    {
     "name": "stderr",
     "output_type": "stream",
     "text": [
      "Fold Progress: 100%|██████████████████████████████| 5/5 [02:16<00:00, 27.25s/it]"
     ]
    },
    {
     "name": "stdout",
     "output_type": "stream",
     "text": [
      "WARNING:tensorflow:Compiled the loaded model, but the compiled metrics have yet to be built. `model.compile_metrics` will be empty until you train or evaluate the model.\n"
     ]
    },
    {
     "name": "stderr",
     "output_type": "stream",
     "text": [
      "\n"
     ]
    },
    {
     "name": "stdout",
     "output_type": "stream",
     "text": [
      "INFO:tensorflow:Assets written to: ../outputs/models/vae\\vae_h_dim_250_250_z_dim_20_dropout_03_init_glorot_uniform_act_relu\\encoder\\assets\n",
      "WARNING:tensorflow:Compiled the loaded model, but the compiled metrics have yet to be built. `model.compile_metrics` will be empty until you train or evaluate the model.\n",
      "INFO:tensorflow:Assets written to: ../outputs/models/vae\\vae_h_dim_250_250_z_dim_20_dropout_03_init_glorot_uniform_act_relu\\decoder\\assets\n",
      "\n",
      "Training model with parameters {'encoder': {'activation': 'relu', 'dropout_rate': 0.3, 'hidden_dim': [250, 250], 'initializer': 'glorot_uniform', 'latent_dim': 20}, 'decoder': {'activation': 'relu', 'dropout_rate': 0.3, 'hidden_dim': [250, 250], 'initializer': 'glorot_uniform', 'latent_dim': 20}, 'vae': {'beta': 0.0001}}\n"
     ]
    },
    {
     "name": "stderr",
     "output_type": "stream",
     "text": [
      "Fold Progress: 100%|██████████████████████████████| 5/5 [03:29<00:00, 41.81s/it]\n"
     ]
    },
    {
     "name": "stdout",
     "output_type": "stream",
     "text": [
      "\n",
      "Training model with parameters {'encoder': {'activation': 'relu', 'dropout_rate': 0.3, 'hidden_dim': [250, 250], 'initializer': 'glorot_uniform', 'latent_dim': 20}, 'decoder': {'activation': 'relu', 'dropout_rate': 0.3, 'hidden_dim': [250, 250], 'initializer': 'glorot_uniform', 'latent_dim': 20}, 'vae': {'beta': 0.001}}\n"
     ]
    },
    {
     "name": "stderr",
     "output_type": "stream",
     "text": [
      "Fold Progress: 100%|██████████████████████████████| 5/5 [02:47<00:00, 33.47s/it]\n"
     ]
    },
    {
     "name": "stdout",
     "output_type": "stream",
     "text": [
      "\n",
      "Training model with parameters {'encoder': {'activation': 'relu', 'dropout_rate': 0.3, 'hidden_dim': [300, 300], 'initializer': 'glorot_uniform', 'latent_dim': 20}, 'decoder': {'activation': 'relu', 'dropout_rate': 0.3, 'hidden_dim': [300, 300], 'initializer': 'glorot_uniform', 'latent_dim': 20}, 'vae': {'beta': 1e-05}}\n"
     ]
    },
    {
     "name": "stderr",
     "output_type": "stream",
     "text": [
      "Fold Progress: 100%|██████████████████████████████| 5/5 [03:58<00:00, 47.62s/it]"
     ]
    },
    {
     "name": "stdout",
     "output_type": "stream",
     "text": [
      "WARNING:tensorflow:Compiled the loaded model, but the compiled metrics have yet to be built. `model.compile_metrics` will be empty until you train or evaluate the model.\n"
     ]
    },
    {
     "name": "stderr",
     "output_type": "stream",
     "text": [
      "\n"
     ]
    },
    {
     "name": "stdout",
     "output_type": "stream",
     "text": [
      "INFO:tensorflow:Assets written to: ../outputs/models/vae\\vae_h_dim_300_300_z_dim_20_dropout_03_init_glorot_uniform_act_relu\\encoder\\assets\n",
      "WARNING:tensorflow:Compiled the loaded model, but the compiled metrics have yet to be built. `model.compile_metrics` will be empty until you train or evaluate the model.\n",
      "INFO:tensorflow:Assets written to: ../outputs/models/vae\\vae_h_dim_300_300_z_dim_20_dropout_03_init_glorot_uniform_act_relu\\decoder\\assets\n",
      "\n",
      "Training model with parameters {'encoder': {'activation': 'relu', 'dropout_rate': 0.3, 'hidden_dim': [300, 300], 'initializer': 'glorot_uniform', 'latent_dim': 20}, 'decoder': {'activation': 'relu', 'dropout_rate': 0.3, 'hidden_dim': [300, 300], 'initializer': 'glorot_uniform', 'latent_dim': 20}, 'vae': {'beta': 0.0001}}\n"
     ]
    },
    {
     "name": "stderr",
     "output_type": "stream",
     "text": [
      "Fold Progress: 100%|██████████████████████████████| 5/5 [03:13<00:00, 38.69s/it]\n"
     ]
    },
    {
     "name": "stdout",
     "output_type": "stream",
     "text": [
      "\n",
      "Training model with parameters {'encoder': {'activation': 'relu', 'dropout_rate': 0.3, 'hidden_dim': [300, 300], 'initializer': 'glorot_uniform', 'latent_dim': 20}, 'decoder': {'activation': 'relu', 'dropout_rate': 0.3, 'hidden_dim': [300, 300], 'initializer': 'glorot_uniform', 'latent_dim': 20}, 'vae': {'beta': 0.001}}\n"
     ]
    },
    {
     "name": "stderr",
     "output_type": "stream",
     "text": [
      "Fold Progress: 100%|██████████████████████████████| 5/5 [03:26<00:00, 41.32s/it]\n"
     ]
    },
    {
     "name": "stdout",
     "output_type": "stream",
     "text": [
      "\n",
      "Training model with parameters {'encoder': {'activation': 'relu', 'dropout_rate': 0.3, 'hidden_dim': [150, 100, 50], 'initializer': 'glorot_uniform', 'latent_dim': 20}, 'decoder': {'activation': 'relu', 'dropout_rate': 0.3, 'hidden_dim': [150, 100, 50], 'initializer': 'glorot_uniform', 'latent_dim': 20}, 'vae': {'beta': 1e-05}}\n"
     ]
    },
    {
     "name": "stderr",
     "output_type": "stream",
     "text": [
      "Fold Progress: 100%|██████████████████████████████| 5/5 [02:28<00:00, 29.66s/it]"
     ]
    },
    {
     "name": "stdout",
     "output_type": "stream",
     "text": [
      "WARNING:tensorflow:Compiled the loaded model, but the compiled metrics have yet to be built. `model.compile_metrics` will be empty until you train or evaluate the model.\n"
     ]
    },
    {
     "name": "stderr",
     "output_type": "stream",
     "text": [
      "\n"
     ]
    },
    {
     "name": "stdout",
     "output_type": "stream",
     "text": [
      "INFO:tensorflow:Assets written to: ../outputs/models/vae\\vae_h_dim_150_100_50_z_dim_20_dropout_03_init_glorot_uniform_act_relu\\encoder\\assets\n",
      "WARNING:tensorflow:Compiled the loaded model, but the compiled metrics have yet to be built. `model.compile_metrics` will be empty until you train or evaluate the model.\n",
      "INFO:tensorflow:Assets written to: ../outputs/models/vae\\vae_h_dim_150_100_50_z_dim_20_dropout_03_init_glorot_uniform_act_relu\\decoder\\assets\n",
      "\n",
      "Training model with parameters {'encoder': {'activation': 'relu', 'dropout_rate': 0.3, 'hidden_dim': [150, 100, 50], 'initializer': 'glorot_uniform', 'latent_dim': 20}, 'decoder': {'activation': 'relu', 'dropout_rate': 0.3, 'hidden_dim': [150, 100, 50], 'initializer': 'glorot_uniform', 'latent_dim': 20}, 'vae': {'beta': 0.0001}}\n"
     ]
    },
    {
     "name": "stderr",
     "output_type": "stream",
     "text": [
      "Fold Progress: 100%|██████████████████████████████| 5/5 [02:49<00:00, 33.95s/it]\n"
     ]
    },
    {
     "name": "stdout",
     "output_type": "stream",
     "text": [
      "\n",
      "Training model with parameters {'encoder': {'activation': 'relu', 'dropout_rate': 0.3, 'hidden_dim': [150, 100, 50], 'initializer': 'glorot_uniform', 'latent_dim': 20}, 'decoder': {'activation': 'relu', 'dropout_rate': 0.3, 'hidden_dim': [150, 100, 50], 'initializer': 'glorot_uniform', 'latent_dim': 20}, 'vae': {'beta': 0.001}}\n"
     ]
    },
    {
     "name": "stderr",
     "output_type": "stream",
     "text": [
      "Fold Progress: 100%|██████████████████████████████| 5/5 [02:34<00:00, 30.98s/it]\n"
     ]
    },
    {
     "name": "stdout",
     "output_type": "stream",
     "text": [
      "\n",
      "Training model with parameters {'encoder': {'activation': 'relu', 'dropout_rate': 0.3, 'hidden_dim': [200, 150, 100], 'initializer': 'glorot_uniform', 'latent_dim': 20}, 'decoder': {'activation': 'relu', 'dropout_rate': 0.3, 'hidden_dim': [200, 150, 100], 'initializer': 'glorot_uniform', 'latent_dim': 20}, 'vae': {'beta': 1e-05}}\n"
     ]
    },
    {
     "name": "stderr",
     "output_type": "stream",
     "text": [
      "Fold Progress: 100%|██████████████████████████████| 5/5 [03:05<00:00, 37.06s/it]"
     ]
    },
    {
     "name": "stdout",
     "output_type": "stream",
     "text": [
      "WARNING:tensorflow:Compiled the loaded model, but the compiled metrics have yet to be built. `model.compile_metrics` will be empty until you train or evaluate the model.\n"
     ]
    },
    {
     "name": "stderr",
     "output_type": "stream",
     "text": [
      "\n"
     ]
    },
    {
     "name": "stdout",
     "output_type": "stream",
     "text": [
      "INFO:tensorflow:Assets written to: ../outputs/models/vae\\vae_h_dim_200_150_100_z_dim_20_dropout_03_init_glorot_uniform_act_relu\\encoder\\assets\n",
      "WARNING:tensorflow:Compiled the loaded model, but the compiled metrics have yet to be built. `model.compile_metrics` will be empty until you train or evaluate the model.\n",
      "INFO:tensorflow:Assets written to: ../outputs/models/vae\\vae_h_dim_200_150_100_z_dim_20_dropout_03_init_glorot_uniform_act_relu\\decoder\\assets\n",
      "\n",
      "Training model with parameters {'encoder': {'activation': 'relu', 'dropout_rate': 0.3, 'hidden_dim': [200, 150, 100], 'initializer': 'glorot_uniform', 'latent_dim': 20}, 'decoder': {'activation': 'relu', 'dropout_rate': 0.3, 'hidden_dim': [200, 150, 100], 'initializer': 'glorot_uniform', 'latent_dim': 20}, 'vae': {'beta': 0.0001}}\n"
     ]
    },
    {
     "name": "stderr",
     "output_type": "stream",
     "text": [
      "Fold Progress: 100%|██████████████████████████████| 5/5 [03:11<00:00, 38.25s/it]\n"
     ]
    },
    {
     "name": "stdout",
     "output_type": "stream",
     "text": [
      "\n",
      "Training model with parameters {'encoder': {'activation': 'relu', 'dropout_rate': 0.3, 'hidden_dim': [200, 150, 100], 'initializer': 'glorot_uniform', 'latent_dim': 20}, 'decoder': {'activation': 'relu', 'dropout_rate': 0.3, 'hidden_dim': [200, 150, 100], 'initializer': 'glorot_uniform', 'latent_dim': 20}, 'vae': {'beta': 0.001}}\n"
     ]
    },
    {
     "name": "stderr",
     "output_type": "stream",
     "text": [
      "Fold Progress: 100%|██████████████████████████████| 5/5 [03:01<00:00, 36.25s/it]\n"
     ]
    },
    {
     "name": "stdout",
     "output_type": "stream",
     "text": [
      "\n",
      "Training model with parameters {'encoder': {'activation': 'relu', 'dropout_rate': 0.3, 'hidden_dim': [250, 200, 150], 'initializer': 'glorot_uniform', 'latent_dim': 20}, 'decoder': {'activation': 'relu', 'dropout_rate': 0.3, 'hidden_dim': [250, 200, 150], 'initializer': 'glorot_uniform', 'latent_dim': 20}, 'vae': {'beta': 1e-05}}\n"
     ]
    },
    {
     "name": "stderr",
     "output_type": "stream",
     "text": [
      "Fold Progress: 100%|██████████████████████████████| 5/5 [03:59<00:00, 47.94s/it]"
     ]
    },
    {
     "name": "stdout",
     "output_type": "stream",
     "text": [
      "WARNING:tensorflow:Compiled the loaded model, but the compiled metrics have yet to be built. `model.compile_metrics` will be empty until you train or evaluate the model.\n"
     ]
    },
    {
     "name": "stderr",
     "output_type": "stream",
     "text": [
      "\n"
     ]
    },
    {
     "name": "stdout",
     "output_type": "stream",
     "text": [
      "INFO:tensorflow:Assets written to: ../outputs/models/vae\\vae_h_dim_250_200_150_z_dim_20_dropout_03_init_glorot_uniform_act_relu\\encoder\\assets\n",
      "WARNING:tensorflow:Compiled the loaded model, but the compiled metrics have yet to be built. `model.compile_metrics` will be empty until you train or evaluate the model.\n",
      "INFO:tensorflow:Assets written to: ../outputs/models/vae\\vae_h_dim_250_200_150_z_dim_20_dropout_03_init_glorot_uniform_act_relu\\decoder\\assets\n",
      "\n",
      "Training model with parameters {'encoder': {'activation': 'relu', 'dropout_rate': 0.3, 'hidden_dim': [250, 200, 150], 'initializer': 'glorot_uniform', 'latent_dim': 20}, 'decoder': {'activation': 'relu', 'dropout_rate': 0.3, 'hidden_dim': [250, 200, 150], 'initializer': 'glorot_uniform', 'latent_dim': 20}, 'vae': {'beta': 0.0001}}\n"
     ]
    },
    {
     "name": "stderr",
     "output_type": "stream",
     "text": [
      "Fold Progress: 100%|██████████████████████████████| 5/5 [04:08<00:00, 49.69s/it]\n"
     ]
    },
    {
     "name": "stdout",
     "output_type": "stream",
     "text": [
      "\n",
      "Training model with parameters {'encoder': {'activation': 'relu', 'dropout_rate': 0.3, 'hidden_dim': [250, 200, 150], 'initializer': 'glorot_uniform', 'latent_dim': 20}, 'decoder': {'activation': 'relu', 'dropout_rate': 0.3, 'hidden_dim': [250, 200, 150], 'initializer': 'glorot_uniform', 'latent_dim': 20}, 'vae': {'beta': 0.001}}\n"
     ]
    },
    {
     "name": "stderr",
     "output_type": "stream",
     "text": [
      "Fold Progress: 100%|██████████████████████████████| 5/5 [04:26<00:00, 53.20s/it]\n"
     ]
    },
    {
     "name": "stdout",
     "output_type": "stream",
     "text": [
      "\n",
      "Training model with parameters {'encoder': {'activation': 'relu', 'dropout_rate': 0.3, 'hidden_dim': [300, 200, 100], 'initializer': 'glorot_uniform', 'latent_dim': 20}, 'decoder': {'activation': 'relu', 'dropout_rate': 0.3, 'hidden_dim': [300, 200, 100], 'initializer': 'glorot_uniform', 'latent_dim': 20}, 'vae': {'beta': 1e-05}}\n"
     ]
    },
    {
     "name": "stderr",
     "output_type": "stream",
     "text": [
      "Fold Progress: 100%|██████████████████████████████| 5/5 [03:24<00:00, 40.87s/it]"
     ]
    },
    {
     "name": "stdout",
     "output_type": "stream",
     "text": [
      "WARNING:tensorflow:Compiled the loaded model, but the compiled metrics have yet to be built. `model.compile_metrics` will be empty until you train or evaluate the model.\n"
     ]
    },
    {
     "name": "stderr",
     "output_type": "stream",
     "text": [
      "\n"
     ]
    },
    {
     "name": "stdout",
     "output_type": "stream",
     "text": [
      "INFO:tensorflow:Assets written to: ../outputs/models/vae\\vae_h_dim_300_200_100_z_dim_20_dropout_03_init_glorot_uniform_act_relu\\encoder\\assets\n",
      "WARNING:tensorflow:Compiled the loaded model, but the compiled metrics have yet to be built. `model.compile_metrics` will be empty until you train or evaluate the model.\n",
      "INFO:tensorflow:Assets written to: ../outputs/models/vae\\vae_h_dim_300_200_100_z_dim_20_dropout_03_init_glorot_uniform_act_relu\\decoder\\assets\n",
      "\n",
      "Training model with parameters {'encoder': {'activation': 'relu', 'dropout_rate': 0.3, 'hidden_dim': [300, 200, 100], 'initializer': 'glorot_uniform', 'latent_dim': 20}, 'decoder': {'activation': 'relu', 'dropout_rate': 0.3, 'hidden_dim': [300, 200, 100], 'initializer': 'glorot_uniform', 'latent_dim': 20}, 'vae': {'beta': 0.0001}}\n"
     ]
    },
    {
     "name": "stderr",
     "output_type": "stream",
     "text": [
      "Fold Progress: 100%|██████████████████████████████| 5/5 [03:50<00:00, 46.04s/it]\n"
     ]
    },
    {
     "name": "stdout",
     "output_type": "stream",
     "text": [
      "\n",
      "Training model with parameters {'encoder': {'activation': 'relu', 'dropout_rate': 0.3, 'hidden_dim': [300, 200, 100], 'initializer': 'glorot_uniform', 'latent_dim': 20}, 'decoder': {'activation': 'relu', 'dropout_rate': 0.3, 'hidden_dim': [300, 200, 100], 'initializer': 'glorot_uniform', 'latent_dim': 20}, 'vae': {'beta': 0.001}}\n"
     ]
    },
    {
     "name": "stderr",
     "output_type": "stream",
     "text": [
      "Fold Progress: 100%|██████████████████████████████| 5/5 [03:27<00:00, 41.54s/it]\n"
     ]
    }
   ],
   "source": [
    "results = cv.cross_validate(train_data, epochs=epochs, verbose=0)\n"
   ],
   "metadata": {
    "collapsed": false,
    "ExecuteTime": {
     "end_time": "2023-05-17T22:17:22.738210300Z",
     "start_time": "2023-05-17T18:09:39.196761600Z"
    }
   }
  },
  {
   "cell_type": "code",
   "execution_count": 13,
   "outputs": [],
   "source": [
    "with open('../outputs/CrossVal/cv_latent_20.pkl', 'wb') as file:\n",
    "    pickle.dump(results, file)\n"
   ],
   "metadata": {
    "collapsed": false,
    "ExecuteTime": {
     "end_time": "2023-05-17T22:17:22.773746700Z",
     "start_time": "2023-05-17T22:17:22.739623500Z"
    }
   }
  },
  {
   "cell_type": "code",
   "execution_count": 14,
   "outputs": [],
   "source": [
    "# Cross Validation for 25 dimension latent space\n",
    "latent_dims = [25]\n",
    "beta = [1e-5, 1e-4, 1e-3]\n",
    "hidden_dims = [[100, 100], [150, 150], [200, 200], [250, 250], [300, 300], [150, 100, 50], [200, 150, 100],\n",
    "               [250, 200, 150], [300, 200, 100]]\n",
    "epochs = 100\n",
    "\n",
    "dropout = [0.1, 0.2, 0.3]\n",
    "\n",
    "param_grid = create_param_grid(hidden_dims, latent_dims, dropout, ['relu'], ['glorot_uniform'], betas=beta)\n",
    "cv = VAECrossValidator(param_grid, input_dim, 5, batch_size=128)\n"
   ],
   "metadata": {
    "collapsed": false,
    "ExecuteTime": {
     "end_time": "2023-05-17T22:17:22.796741600Z",
     "start_time": "2023-05-17T22:17:22.772746500Z"
    }
   }
  },
  {
   "cell_type": "code",
   "execution_count": 15,
   "outputs": [
    {
     "name": "stdout",
     "output_type": "stream",
     "text": [
      "\n",
      "Training model with parameters {'encoder': {'activation': 'relu', 'dropout_rate': 0.1, 'hidden_dim': [100, 100], 'initializer': 'glorot_uniform', 'latent_dim': 25}, 'decoder': {'activation': 'relu', 'dropout_rate': 0.1, 'hidden_dim': [100, 100], 'initializer': 'glorot_uniform', 'latent_dim': 25}, 'vae': {'beta': 1e-05}}\n"
     ]
    },
    {
     "name": "stderr",
     "output_type": "stream",
     "text": [
      "Fold Progress: 100%|██████████████████████████████| 5/5 [02:49<00:00, 33.91s/it]"
     ]
    },
    {
     "name": "stdout",
     "output_type": "stream",
     "text": [
      "WARNING:tensorflow:Compiled the loaded model, but the compiled metrics have yet to be built. `model.compile_metrics` will be empty until you train or evaluate the model.\n"
     ]
    },
    {
     "name": "stderr",
     "output_type": "stream",
     "text": [
      "\n"
     ]
    },
    {
     "name": "stdout",
     "output_type": "stream",
     "text": [
      "INFO:tensorflow:Assets written to: ../outputs/models/vae\\vae_h_dim_100_100_z_dim_25_dropout_01_init_glorot_uniform_act_relu\\encoder\\assets\n",
      "WARNING:tensorflow:Compiled the loaded model, but the compiled metrics have yet to be built. `model.compile_metrics` will be empty until you train or evaluate the model.\n",
      "INFO:tensorflow:Assets written to: ../outputs/models/vae\\vae_h_dim_100_100_z_dim_25_dropout_01_init_glorot_uniform_act_relu\\decoder\\assets\n",
      "\n",
      "Training model with parameters {'encoder': {'activation': 'relu', 'dropout_rate': 0.1, 'hidden_dim': [100, 100], 'initializer': 'glorot_uniform', 'latent_dim': 25}, 'decoder': {'activation': 'relu', 'dropout_rate': 0.1, 'hidden_dim': [100, 100], 'initializer': 'glorot_uniform', 'latent_dim': 25}, 'vae': {'beta': 0.0001}}\n"
     ]
    },
    {
     "name": "stderr",
     "output_type": "stream",
     "text": [
      "Fold Progress: 100%|██████████████████████████████| 5/5 [02:52<00:00, 34.41s/it]\n"
     ]
    },
    {
     "name": "stdout",
     "output_type": "stream",
     "text": [
      "\n",
      "Training model with parameters {'encoder': {'activation': 'relu', 'dropout_rate': 0.1, 'hidden_dim': [100, 100], 'initializer': 'glorot_uniform', 'latent_dim': 25}, 'decoder': {'activation': 'relu', 'dropout_rate': 0.1, 'hidden_dim': [100, 100], 'initializer': 'glorot_uniform', 'latent_dim': 25}, 'vae': {'beta': 0.001}}\n"
     ]
    },
    {
     "name": "stderr",
     "output_type": "stream",
     "text": [
      "Fold Progress: 100%|██████████████████████████████| 5/5 [02:54<00:00, 34.91s/it]\n"
     ]
    },
    {
     "name": "stdout",
     "output_type": "stream",
     "text": [
      "\n",
      "Training model with parameters {'encoder': {'activation': 'relu', 'dropout_rate': 0.1, 'hidden_dim': [150, 150], 'initializer': 'glorot_uniform', 'latent_dim': 25}, 'decoder': {'activation': 'relu', 'dropout_rate': 0.1, 'hidden_dim': [150, 150], 'initializer': 'glorot_uniform', 'latent_dim': 25}, 'vae': {'beta': 1e-05}}\n"
     ]
    },
    {
     "name": "stderr",
     "output_type": "stream",
     "text": [
      "Fold Progress: 100%|██████████████████████████████| 5/5 [02:26<00:00, 29.38s/it]"
     ]
    },
    {
     "name": "stdout",
     "output_type": "stream",
     "text": [
      "WARNING:tensorflow:Compiled the loaded model, but the compiled metrics have yet to be built. `model.compile_metrics` will be empty until you train or evaluate the model.\n"
     ]
    },
    {
     "name": "stderr",
     "output_type": "stream",
     "text": [
      "\n"
     ]
    },
    {
     "name": "stdout",
     "output_type": "stream",
     "text": [
      "INFO:tensorflow:Assets written to: ../outputs/models/vae\\vae_h_dim_150_150_z_dim_25_dropout_01_init_glorot_uniform_act_relu\\encoder\\assets\n",
      "WARNING:tensorflow:Compiled the loaded model, but the compiled metrics have yet to be built. `model.compile_metrics` will be empty until you train or evaluate the model.\n",
      "INFO:tensorflow:Assets written to: ../outputs/models/vae\\vae_h_dim_150_150_z_dim_25_dropout_01_init_glorot_uniform_act_relu\\decoder\\assets\n",
      "\n",
      "Training model with parameters {'encoder': {'activation': 'relu', 'dropout_rate': 0.1, 'hidden_dim': [150, 150], 'initializer': 'glorot_uniform', 'latent_dim': 25}, 'decoder': {'activation': 'relu', 'dropout_rate': 0.1, 'hidden_dim': [150, 150], 'initializer': 'glorot_uniform', 'latent_dim': 25}, 'vae': {'beta': 0.0001}}\n"
     ]
    },
    {
     "name": "stderr",
     "output_type": "stream",
     "text": [
      "Fold Progress: 100%|██████████████████████████████| 5/5 [03:18<00:00, 39.63s/it]\n"
     ]
    },
    {
     "name": "stdout",
     "output_type": "stream",
     "text": [
      "\n",
      "Training model with parameters {'encoder': {'activation': 'relu', 'dropout_rate': 0.1, 'hidden_dim': [150, 150], 'initializer': 'glorot_uniform', 'latent_dim': 25}, 'decoder': {'activation': 'relu', 'dropout_rate': 0.1, 'hidden_dim': [150, 150], 'initializer': 'glorot_uniform', 'latent_dim': 25}, 'vae': {'beta': 0.001}}\n"
     ]
    },
    {
     "name": "stderr",
     "output_type": "stream",
     "text": [
      "Fold Progress: 100%|██████████████████████████████| 5/5 [02:41<00:00, 32.29s/it]\n"
     ]
    },
    {
     "name": "stdout",
     "output_type": "stream",
     "text": [
      "\n",
      "Training model with parameters {'encoder': {'activation': 'relu', 'dropout_rate': 0.1, 'hidden_dim': [200, 200], 'initializer': 'glorot_uniform', 'latent_dim': 25}, 'decoder': {'activation': 'relu', 'dropout_rate': 0.1, 'hidden_dim': [200, 200], 'initializer': 'glorot_uniform', 'latent_dim': 25}, 'vae': {'beta': 1e-05}}\n"
     ]
    },
    {
     "name": "stderr",
     "output_type": "stream",
     "text": [
      "Fold Progress: 100%|██████████████████████████████| 5/5 [02:47<00:00, 33.57s/it]"
     ]
    },
    {
     "name": "stdout",
     "output_type": "stream",
     "text": [
      "WARNING:tensorflow:Compiled the loaded model, but the compiled metrics have yet to be built. `model.compile_metrics` will be empty until you train or evaluate the model.\n"
     ]
    },
    {
     "name": "stderr",
     "output_type": "stream",
     "text": [
      "\n"
     ]
    },
    {
     "name": "stdout",
     "output_type": "stream",
     "text": [
      "INFO:tensorflow:Assets written to: ../outputs/models/vae\\vae_h_dim_200_200_z_dim_25_dropout_01_init_glorot_uniform_act_relu\\encoder\\assets\n",
      "WARNING:tensorflow:Compiled the loaded model, but the compiled metrics have yet to be built. `model.compile_metrics` will be empty until you train or evaluate the model.\n",
      "INFO:tensorflow:Assets written to: ../outputs/models/vae\\vae_h_dim_200_200_z_dim_25_dropout_01_init_glorot_uniform_act_relu\\decoder\\assets\n",
      "\n",
      "Training model with parameters {'encoder': {'activation': 'relu', 'dropout_rate': 0.1, 'hidden_dim': [200, 200], 'initializer': 'glorot_uniform', 'latent_dim': 25}, 'decoder': {'activation': 'relu', 'dropout_rate': 0.1, 'hidden_dim': [200, 200], 'initializer': 'glorot_uniform', 'latent_dim': 25}, 'vae': {'beta': 0.0001}}\n"
     ]
    },
    {
     "name": "stderr",
     "output_type": "stream",
     "text": [
      "Fold Progress: 100%|██████████████████████████████| 5/5 [02:55<00:00, 35.05s/it]\n"
     ]
    },
    {
     "name": "stdout",
     "output_type": "stream",
     "text": [
      "\n",
      "Training model with parameters {'encoder': {'activation': 'relu', 'dropout_rate': 0.1, 'hidden_dim': [200, 200], 'initializer': 'glorot_uniform', 'latent_dim': 25}, 'decoder': {'activation': 'relu', 'dropout_rate': 0.1, 'hidden_dim': [200, 200], 'initializer': 'glorot_uniform', 'latent_dim': 25}, 'vae': {'beta': 0.001}}\n"
     ]
    },
    {
     "name": "stderr",
     "output_type": "stream",
     "text": [
      "Fold Progress: 100%|██████████████████████████████| 5/5 [02:36<00:00, 31.31s/it]\n"
     ]
    },
    {
     "name": "stdout",
     "output_type": "stream",
     "text": [
      "\n",
      "Training model with parameters {'encoder': {'activation': 'relu', 'dropout_rate': 0.1, 'hidden_dim': [250, 250], 'initializer': 'glorot_uniform', 'latent_dim': 25}, 'decoder': {'activation': 'relu', 'dropout_rate': 0.1, 'hidden_dim': [250, 250], 'initializer': 'glorot_uniform', 'latent_dim': 25}, 'vae': {'beta': 1e-05}}\n"
     ]
    },
    {
     "name": "stderr",
     "output_type": "stream",
     "text": [
      "Fold Progress: 100%|██████████████████████████████| 5/5 [02:57<00:00, 35.52s/it]"
     ]
    },
    {
     "name": "stdout",
     "output_type": "stream",
     "text": [
      "WARNING:tensorflow:Compiled the loaded model, but the compiled metrics have yet to be built. `model.compile_metrics` will be empty until you train or evaluate the model.\n"
     ]
    },
    {
     "name": "stderr",
     "output_type": "stream",
     "text": [
      "\n"
     ]
    },
    {
     "name": "stdout",
     "output_type": "stream",
     "text": [
      "INFO:tensorflow:Assets written to: ../outputs/models/vae\\vae_h_dim_250_250_z_dim_25_dropout_01_init_glorot_uniform_act_relu\\encoder\\assets\n",
      "WARNING:tensorflow:Compiled the loaded model, but the compiled metrics have yet to be built. `model.compile_metrics` will be empty until you train or evaluate the model.\n",
      "INFO:tensorflow:Assets written to: ../outputs/models/vae\\vae_h_dim_250_250_z_dim_25_dropout_01_init_glorot_uniform_act_relu\\decoder\\assets\n",
      "\n",
      "Training model with parameters {'encoder': {'activation': 'relu', 'dropout_rate': 0.1, 'hidden_dim': [250, 250], 'initializer': 'glorot_uniform', 'latent_dim': 25}, 'decoder': {'activation': 'relu', 'dropout_rate': 0.1, 'hidden_dim': [250, 250], 'initializer': 'glorot_uniform', 'latent_dim': 25}, 'vae': {'beta': 0.0001}}\n"
     ]
    },
    {
     "name": "stderr",
     "output_type": "stream",
     "text": [
      "Fold Progress: 100%|██████████████████████████████| 5/5 [02:44<00:00, 33.00s/it]\n"
     ]
    },
    {
     "name": "stdout",
     "output_type": "stream",
     "text": [
      "\n",
      "Training model with parameters {'encoder': {'activation': 'relu', 'dropout_rate': 0.1, 'hidden_dim': [250, 250], 'initializer': 'glorot_uniform', 'latent_dim': 25}, 'decoder': {'activation': 'relu', 'dropout_rate': 0.1, 'hidden_dim': [250, 250], 'initializer': 'glorot_uniform', 'latent_dim': 25}, 'vae': {'beta': 0.001}}\n"
     ]
    },
    {
     "name": "stderr",
     "output_type": "stream",
     "text": [
      "Fold Progress: 100%|██████████████████████████████| 5/5 [03:35<00:00, 43.17s/it]\n"
     ]
    },
    {
     "name": "stdout",
     "output_type": "stream",
     "text": [
      "\n",
      "Training model with parameters {'encoder': {'activation': 'relu', 'dropout_rate': 0.1, 'hidden_dim': [300, 300], 'initializer': 'glorot_uniform', 'latent_dim': 25}, 'decoder': {'activation': 'relu', 'dropout_rate': 0.1, 'hidden_dim': [300, 300], 'initializer': 'glorot_uniform', 'latent_dim': 25}, 'vae': {'beta': 1e-05}}\n"
     ]
    },
    {
     "name": "stderr",
     "output_type": "stream",
     "text": [
      "Fold Progress: 100%|██████████████████████████████| 5/5 [03:01<00:00, 36.35s/it]"
     ]
    },
    {
     "name": "stdout",
     "output_type": "stream",
     "text": [
      "WARNING:tensorflow:Compiled the loaded model, but the compiled metrics have yet to be built. `model.compile_metrics` will be empty until you train or evaluate the model.\n"
     ]
    },
    {
     "name": "stderr",
     "output_type": "stream",
     "text": [
      "\n"
     ]
    },
    {
     "name": "stdout",
     "output_type": "stream",
     "text": [
      "INFO:tensorflow:Assets written to: ../outputs/models/vae\\vae_h_dim_300_300_z_dim_25_dropout_01_init_glorot_uniform_act_relu\\encoder\\assets\n",
      "WARNING:tensorflow:Compiled the loaded model, but the compiled metrics have yet to be built. `model.compile_metrics` will be empty until you train or evaluate the model.\n",
      "INFO:tensorflow:Assets written to: ../outputs/models/vae\\vae_h_dim_300_300_z_dim_25_dropout_01_init_glorot_uniform_act_relu\\decoder\\assets\n",
      "\n",
      "Training model with parameters {'encoder': {'activation': 'relu', 'dropout_rate': 0.1, 'hidden_dim': [300, 300], 'initializer': 'glorot_uniform', 'latent_dim': 25}, 'decoder': {'activation': 'relu', 'dropout_rate': 0.1, 'hidden_dim': [300, 300], 'initializer': 'glorot_uniform', 'latent_dim': 25}, 'vae': {'beta': 0.0001}}\n"
     ]
    },
    {
     "name": "stderr",
     "output_type": "stream",
     "text": [
      "Fold Progress: 100%|██████████████████████████████| 5/5 [04:06<00:00, 49.36s/it]\n"
     ]
    },
    {
     "name": "stdout",
     "output_type": "stream",
     "text": [
      "\n",
      "Training model with parameters {'encoder': {'activation': 'relu', 'dropout_rate': 0.1, 'hidden_dim': [300, 300], 'initializer': 'glorot_uniform', 'latent_dim': 25}, 'decoder': {'activation': 'relu', 'dropout_rate': 0.1, 'hidden_dim': [300, 300], 'initializer': 'glorot_uniform', 'latent_dim': 25}, 'vae': {'beta': 0.001}}\n"
     ]
    },
    {
     "name": "stderr",
     "output_type": "stream",
     "text": [
      "Fold Progress: 100%|██████████████████████████████| 5/5 [03:32<00:00, 42.40s/it]\n"
     ]
    },
    {
     "name": "stdout",
     "output_type": "stream",
     "text": [
      "\n",
      "Training model with parameters {'encoder': {'activation': 'relu', 'dropout_rate': 0.1, 'hidden_dim': [150, 100, 50], 'initializer': 'glorot_uniform', 'latent_dim': 25}, 'decoder': {'activation': 'relu', 'dropout_rate': 0.1, 'hidden_dim': [150, 100, 50], 'initializer': 'glorot_uniform', 'latent_dim': 25}, 'vae': {'beta': 1e-05}}\n"
     ]
    },
    {
     "name": "stderr",
     "output_type": "stream",
     "text": [
      "Fold Progress: 100%|██████████████████████████████| 5/5 [03:02<00:00, 36.59s/it]"
     ]
    },
    {
     "name": "stdout",
     "output_type": "stream",
     "text": [
      "WARNING:tensorflow:Compiled the loaded model, but the compiled metrics have yet to be built. `model.compile_metrics` will be empty until you train or evaluate the model.\n"
     ]
    },
    {
     "name": "stderr",
     "output_type": "stream",
     "text": [
      "\n"
     ]
    },
    {
     "name": "stdout",
     "output_type": "stream",
     "text": [
      "INFO:tensorflow:Assets written to: ../outputs/models/vae\\vae_h_dim_150_100_50_z_dim_25_dropout_01_init_glorot_uniform_act_relu\\encoder\\assets\n",
      "WARNING:tensorflow:Compiled the loaded model, but the compiled metrics have yet to be built. `model.compile_metrics` will be empty until you train or evaluate the model.\n",
      "INFO:tensorflow:Assets written to: ../outputs/models/vae\\vae_h_dim_150_100_50_z_dim_25_dropout_01_init_glorot_uniform_act_relu\\decoder\\assets\n",
      "\n",
      "Training model with parameters {'encoder': {'activation': 'relu', 'dropout_rate': 0.1, 'hidden_dim': [150, 100, 50], 'initializer': 'glorot_uniform', 'latent_dim': 25}, 'decoder': {'activation': 'relu', 'dropout_rate': 0.1, 'hidden_dim': [150, 100, 50], 'initializer': 'glorot_uniform', 'latent_dim': 25}, 'vae': {'beta': 0.0001}}\n"
     ]
    },
    {
     "name": "stderr",
     "output_type": "stream",
     "text": [
      "Fold Progress: 100%|██████████████████████████████| 5/5 [03:27<00:00, 41.51s/it]\n"
     ]
    },
    {
     "name": "stdout",
     "output_type": "stream",
     "text": [
      "\n",
      "Training model with parameters {'encoder': {'activation': 'relu', 'dropout_rate': 0.1, 'hidden_dim': [150, 100, 50], 'initializer': 'glorot_uniform', 'latent_dim': 25}, 'decoder': {'activation': 'relu', 'dropout_rate': 0.1, 'hidden_dim': [150, 100, 50], 'initializer': 'glorot_uniform', 'latent_dim': 25}, 'vae': {'beta': 0.001}}\n"
     ]
    },
    {
     "name": "stderr",
     "output_type": "stream",
     "text": [
      "Fold Progress: 100%|██████████████████████████████| 5/5 [04:05<00:00, 49.17s/it]\n"
     ]
    },
    {
     "name": "stdout",
     "output_type": "stream",
     "text": [
      "\n",
      "Training model with parameters {'encoder': {'activation': 'relu', 'dropout_rate': 0.1, 'hidden_dim': [200, 150, 100], 'initializer': 'glorot_uniform', 'latent_dim': 25}, 'decoder': {'activation': 'relu', 'dropout_rate': 0.1, 'hidden_dim': [200, 150, 100], 'initializer': 'glorot_uniform', 'latent_dim': 25}, 'vae': {'beta': 1e-05}}\n"
     ]
    },
    {
     "name": "stderr",
     "output_type": "stream",
     "text": [
      "Fold Progress: 100%|██████████████████████████████| 5/5 [03:44<00:00, 44.83s/it]"
     ]
    },
    {
     "name": "stdout",
     "output_type": "stream",
     "text": [
      "WARNING:tensorflow:Compiled the loaded model, but the compiled metrics have yet to be built. `model.compile_metrics` will be empty until you train or evaluate the model.\n"
     ]
    },
    {
     "name": "stderr",
     "output_type": "stream",
     "text": [
      "\n"
     ]
    },
    {
     "name": "stdout",
     "output_type": "stream",
     "text": [
      "INFO:tensorflow:Assets written to: ../outputs/models/vae\\vae_h_dim_200_150_100_z_dim_25_dropout_01_init_glorot_uniform_act_relu\\encoder\\assets\n",
      "WARNING:tensorflow:Compiled the loaded model, but the compiled metrics have yet to be built. `model.compile_metrics` will be empty until you train or evaluate the model.\n",
      "INFO:tensorflow:Assets written to: ../outputs/models/vae\\vae_h_dim_200_150_100_z_dim_25_dropout_01_init_glorot_uniform_act_relu\\decoder\\assets\n",
      "\n",
      "Training model with parameters {'encoder': {'activation': 'relu', 'dropout_rate': 0.1, 'hidden_dim': [200, 150, 100], 'initializer': 'glorot_uniform', 'latent_dim': 25}, 'decoder': {'activation': 'relu', 'dropout_rate': 0.1, 'hidden_dim': [200, 150, 100], 'initializer': 'glorot_uniform', 'latent_dim': 25}, 'vae': {'beta': 0.0001}}\n"
     ]
    },
    {
     "name": "stderr",
     "output_type": "stream",
     "text": [
      "Fold Progress: 100%|██████████████████████████████| 5/5 [04:32<00:00, 54.44s/it]\n"
     ]
    },
    {
     "name": "stdout",
     "output_type": "stream",
     "text": [
      "\n",
      "Training model with parameters {'encoder': {'activation': 'relu', 'dropout_rate': 0.1, 'hidden_dim': [200, 150, 100], 'initializer': 'glorot_uniform', 'latent_dim': 25}, 'decoder': {'activation': 'relu', 'dropout_rate': 0.1, 'hidden_dim': [200, 150, 100], 'initializer': 'glorot_uniform', 'latent_dim': 25}, 'vae': {'beta': 0.001}}\n"
     ]
    },
    {
     "name": "stderr",
     "output_type": "stream",
     "text": [
      "Fold Progress: 100%|██████████████████████████████| 5/5 [04:17<00:00, 51.52s/it]\n"
     ]
    },
    {
     "name": "stdout",
     "output_type": "stream",
     "text": [
      "\n",
      "Training model with parameters {'encoder': {'activation': 'relu', 'dropout_rate': 0.1, 'hidden_dim': [250, 200, 150], 'initializer': 'glorot_uniform', 'latent_dim': 25}, 'decoder': {'activation': 'relu', 'dropout_rate': 0.1, 'hidden_dim': [250, 200, 150], 'initializer': 'glorot_uniform', 'latent_dim': 25}, 'vae': {'beta': 1e-05}}\n"
     ]
    },
    {
     "name": "stderr",
     "output_type": "stream",
     "text": [
      "Fold Progress: 100%|██████████████████████████████| 5/5 [05:28<00:00, 65.71s/it]"
     ]
    },
    {
     "name": "stdout",
     "output_type": "stream",
     "text": [
      "WARNING:tensorflow:Compiled the loaded model, but the compiled metrics have yet to be built. `model.compile_metrics` will be empty until you train or evaluate the model.\n"
     ]
    },
    {
     "name": "stderr",
     "output_type": "stream",
     "text": [
      "\n"
     ]
    },
    {
     "name": "stdout",
     "output_type": "stream",
     "text": [
      "INFO:tensorflow:Assets written to: ../outputs/models/vae\\vae_h_dim_250_200_150_z_dim_25_dropout_01_init_glorot_uniform_act_relu\\encoder\\assets\n",
      "WARNING:tensorflow:Compiled the loaded model, but the compiled metrics have yet to be built. `model.compile_metrics` will be empty until you train or evaluate the model.\n",
      "INFO:tensorflow:Assets written to: ../outputs/models/vae\\vae_h_dim_250_200_150_z_dim_25_dropout_01_init_glorot_uniform_act_relu\\decoder\\assets\n",
      "\n",
      "Training model with parameters {'encoder': {'activation': 'relu', 'dropout_rate': 0.1, 'hidden_dim': [250, 200, 150], 'initializer': 'glorot_uniform', 'latent_dim': 25}, 'decoder': {'activation': 'relu', 'dropout_rate': 0.1, 'hidden_dim': [250, 200, 150], 'initializer': 'glorot_uniform', 'latent_dim': 25}, 'vae': {'beta': 0.0001}}\n"
     ]
    },
    {
     "name": "stderr",
     "output_type": "stream",
     "text": [
      "Fold Progress: 100%|██████████████████████████████| 5/5 [04:53<00:00, 58.70s/it]\n"
     ]
    },
    {
     "name": "stdout",
     "output_type": "stream",
     "text": [
      "\n",
      "Training model with parameters {'encoder': {'activation': 'relu', 'dropout_rate': 0.1, 'hidden_dim': [250, 200, 150], 'initializer': 'glorot_uniform', 'latent_dim': 25}, 'decoder': {'activation': 'relu', 'dropout_rate': 0.1, 'hidden_dim': [250, 200, 150], 'initializer': 'glorot_uniform', 'latent_dim': 25}, 'vae': {'beta': 0.001}}\n"
     ]
    },
    {
     "name": "stderr",
     "output_type": "stream",
     "text": [
      "Fold Progress: 100%|██████████████████████████████| 5/5 [04:19<00:00, 51.96s/it]\n"
     ]
    },
    {
     "name": "stdout",
     "output_type": "stream",
     "text": [
      "\n",
      "Training model with parameters {'encoder': {'activation': 'relu', 'dropout_rate': 0.1, 'hidden_dim': [300, 200, 100], 'initializer': 'glorot_uniform', 'latent_dim': 25}, 'decoder': {'activation': 'relu', 'dropout_rate': 0.1, 'hidden_dim': [300, 200, 100], 'initializer': 'glorot_uniform', 'latent_dim': 25}, 'vae': {'beta': 1e-05}}\n"
     ]
    },
    {
     "name": "stderr",
     "output_type": "stream",
     "text": [
      "Fold Progress: 100%|██████████████████████████████| 5/5 [04:36<00:00, 55.23s/it]"
     ]
    },
    {
     "name": "stdout",
     "output_type": "stream",
     "text": [
      "WARNING:tensorflow:Compiled the loaded model, but the compiled metrics have yet to be built. `model.compile_metrics` will be empty until you train or evaluate the model.\n"
     ]
    },
    {
     "name": "stderr",
     "output_type": "stream",
     "text": [
      "\n"
     ]
    },
    {
     "name": "stdout",
     "output_type": "stream",
     "text": [
      "INFO:tensorflow:Assets written to: ../outputs/models/vae\\vae_h_dim_300_200_100_z_dim_25_dropout_01_init_glorot_uniform_act_relu\\encoder\\assets\n",
      "WARNING:tensorflow:Compiled the loaded model, but the compiled metrics have yet to be built. `model.compile_metrics` will be empty until you train or evaluate the model.\n",
      "INFO:tensorflow:Assets written to: ../outputs/models/vae\\vae_h_dim_300_200_100_z_dim_25_dropout_01_init_glorot_uniform_act_relu\\decoder\\assets\n",
      "\n",
      "Training model with parameters {'encoder': {'activation': 'relu', 'dropout_rate': 0.1, 'hidden_dim': [300, 200, 100], 'initializer': 'glorot_uniform', 'latent_dim': 25}, 'decoder': {'activation': 'relu', 'dropout_rate': 0.1, 'hidden_dim': [300, 200, 100], 'initializer': 'glorot_uniform', 'latent_dim': 25}, 'vae': {'beta': 0.0001}}\n"
     ]
    },
    {
     "name": "stderr",
     "output_type": "stream",
     "text": [
      "Fold Progress: 100%|██████████████████████████████| 5/5 [03:56<00:00, 47.27s/it]\n"
     ]
    },
    {
     "name": "stdout",
     "output_type": "stream",
     "text": [
      "\n",
      "Training model with parameters {'encoder': {'activation': 'relu', 'dropout_rate': 0.1, 'hidden_dim': [300, 200, 100], 'initializer': 'glorot_uniform', 'latent_dim': 25}, 'decoder': {'activation': 'relu', 'dropout_rate': 0.1, 'hidden_dim': [300, 200, 100], 'initializer': 'glorot_uniform', 'latent_dim': 25}, 'vae': {'beta': 0.001}}\n"
     ]
    },
    {
     "name": "stderr",
     "output_type": "stream",
     "text": [
      "Fold Progress: 100%|██████████████████████████████| 5/5 [04:24<00:00, 52.92s/it]\n"
     ]
    },
    {
     "name": "stdout",
     "output_type": "stream",
     "text": [
      "\n",
      "Training model with parameters {'encoder': {'activation': 'relu', 'dropout_rate': 0.2, 'hidden_dim': [100, 100], 'initializer': 'glorot_uniform', 'latent_dim': 25}, 'decoder': {'activation': 'relu', 'dropout_rate': 0.2, 'hidden_dim': [100, 100], 'initializer': 'glorot_uniform', 'latent_dim': 25}, 'vae': {'beta': 1e-05}}\n"
     ]
    },
    {
     "name": "stderr",
     "output_type": "stream",
     "text": [
      "Fold Progress: 100%|██████████████████████████████| 5/5 [02:46<00:00, 33.38s/it]"
     ]
    },
    {
     "name": "stdout",
     "output_type": "stream",
     "text": [
      "WARNING:tensorflow:Compiled the loaded model, but the compiled metrics have yet to be built. `model.compile_metrics` will be empty until you train or evaluate the model.\n"
     ]
    },
    {
     "name": "stderr",
     "output_type": "stream",
     "text": [
      "\n"
     ]
    },
    {
     "name": "stdout",
     "output_type": "stream",
     "text": [
      "INFO:tensorflow:Assets written to: ../outputs/models/vae\\vae_h_dim_100_100_z_dim_25_dropout_02_init_glorot_uniform_act_relu\\encoder\\assets\n",
      "WARNING:tensorflow:Compiled the loaded model, but the compiled metrics have yet to be built. `model.compile_metrics` will be empty until you train or evaluate the model.\n",
      "INFO:tensorflow:Assets written to: ../outputs/models/vae\\vae_h_dim_100_100_z_dim_25_dropout_02_init_glorot_uniform_act_relu\\decoder\\assets\n",
      "\n",
      "Training model with parameters {'encoder': {'activation': 'relu', 'dropout_rate': 0.2, 'hidden_dim': [100, 100], 'initializer': 'glorot_uniform', 'latent_dim': 25}, 'decoder': {'activation': 'relu', 'dropout_rate': 0.2, 'hidden_dim': [100, 100], 'initializer': 'glorot_uniform', 'latent_dim': 25}, 'vae': {'beta': 0.0001}}\n"
     ]
    },
    {
     "name": "stderr",
     "output_type": "stream",
     "text": [
      "Fold Progress: 100%|██████████████████████████████| 5/5 [03:01<00:00, 36.23s/it]\n"
     ]
    },
    {
     "name": "stdout",
     "output_type": "stream",
     "text": [
      "\n",
      "Training model with parameters {'encoder': {'activation': 'relu', 'dropout_rate': 0.2, 'hidden_dim': [100, 100], 'initializer': 'glorot_uniform', 'latent_dim': 25}, 'decoder': {'activation': 'relu', 'dropout_rate': 0.2, 'hidden_dim': [100, 100], 'initializer': 'glorot_uniform', 'latent_dim': 25}, 'vae': {'beta': 0.001}}\n"
     ]
    },
    {
     "name": "stderr",
     "output_type": "stream",
     "text": [
      "Fold Progress: 100%|██████████████████████████████| 5/5 [02:27<00:00, 29.44s/it]\n"
     ]
    },
    {
     "name": "stdout",
     "output_type": "stream",
     "text": [
      "\n",
      "Training model with parameters {'encoder': {'activation': 'relu', 'dropout_rate': 0.2, 'hidden_dim': [150, 150], 'initializer': 'glorot_uniform', 'latent_dim': 25}, 'decoder': {'activation': 'relu', 'dropout_rate': 0.2, 'hidden_dim': [150, 150], 'initializer': 'glorot_uniform', 'latent_dim': 25}, 'vae': {'beta': 1e-05}}\n"
     ]
    },
    {
     "name": "stderr",
     "output_type": "stream",
     "text": [
      "Fold Progress: 100%|██████████████████████████████| 5/5 [02:54<00:00, 34.85s/it]"
     ]
    },
    {
     "name": "stdout",
     "output_type": "stream",
     "text": [
      "WARNING:tensorflow:Compiled the loaded model, but the compiled metrics have yet to be built. `model.compile_metrics` will be empty until you train or evaluate the model.\n"
     ]
    },
    {
     "name": "stderr",
     "output_type": "stream",
     "text": [
      "\n"
     ]
    },
    {
     "name": "stdout",
     "output_type": "stream",
     "text": [
      "INFO:tensorflow:Assets written to: ../outputs/models/vae\\vae_h_dim_150_150_z_dim_25_dropout_02_init_glorot_uniform_act_relu\\encoder\\assets\n",
      "WARNING:tensorflow:Compiled the loaded model, but the compiled metrics have yet to be built. `model.compile_metrics` will be empty until you train or evaluate the model.\n",
      "INFO:tensorflow:Assets written to: ../outputs/models/vae\\vae_h_dim_150_150_z_dim_25_dropout_02_init_glorot_uniform_act_relu\\decoder\\assets\n",
      "\n",
      "Training model with parameters {'encoder': {'activation': 'relu', 'dropout_rate': 0.2, 'hidden_dim': [150, 150], 'initializer': 'glorot_uniform', 'latent_dim': 25}, 'decoder': {'activation': 'relu', 'dropout_rate': 0.2, 'hidden_dim': [150, 150], 'initializer': 'glorot_uniform', 'latent_dim': 25}, 'vae': {'beta': 0.0001}}\n"
     ]
    },
    {
     "name": "stderr",
     "output_type": "stream",
     "text": [
      "Fold Progress: 100%|██████████████████████████████| 5/5 [03:43<00:00, 44.63s/it]\n"
     ]
    },
    {
     "name": "stdout",
     "output_type": "stream",
     "text": [
      "\n",
      "Training model with parameters {'encoder': {'activation': 'relu', 'dropout_rate': 0.2, 'hidden_dim': [150, 150], 'initializer': 'glorot_uniform', 'latent_dim': 25}, 'decoder': {'activation': 'relu', 'dropout_rate': 0.2, 'hidden_dim': [150, 150], 'initializer': 'glorot_uniform', 'latent_dim': 25}, 'vae': {'beta': 0.001}}\n"
     ]
    },
    {
     "name": "stderr",
     "output_type": "stream",
     "text": [
      "Fold Progress: 100%|██████████████████████████████| 5/5 [03:21<00:00, 40.37s/it]\n"
     ]
    },
    {
     "name": "stdout",
     "output_type": "stream",
     "text": [
      "\n",
      "Training model with parameters {'encoder': {'activation': 'relu', 'dropout_rate': 0.2, 'hidden_dim': [200, 200], 'initializer': 'glorot_uniform', 'latent_dim': 25}, 'decoder': {'activation': 'relu', 'dropout_rate': 0.2, 'hidden_dim': [200, 200], 'initializer': 'glorot_uniform', 'latent_dim': 25}, 'vae': {'beta': 1e-05}}\n"
     ]
    },
    {
     "name": "stderr",
     "output_type": "stream",
     "text": [
      "Fold Progress: 100%|██████████████████████████████| 5/5 [03:24<00:00, 40.82s/it]"
     ]
    },
    {
     "name": "stdout",
     "output_type": "stream",
     "text": [
      "WARNING:tensorflow:Compiled the loaded model, but the compiled metrics have yet to be built. `model.compile_metrics` will be empty until you train or evaluate the model.\n"
     ]
    },
    {
     "name": "stderr",
     "output_type": "stream",
     "text": [
      "\n"
     ]
    },
    {
     "name": "stdout",
     "output_type": "stream",
     "text": [
      "INFO:tensorflow:Assets written to: ../outputs/models/vae\\vae_h_dim_200_200_z_dim_25_dropout_02_init_glorot_uniform_act_relu\\encoder\\assets\n",
      "WARNING:tensorflow:Compiled the loaded model, but the compiled metrics have yet to be built. `model.compile_metrics` will be empty until you train or evaluate the model.\n",
      "INFO:tensorflow:Assets written to: ../outputs/models/vae\\vae_h_dim_200_200_z_dim_25_dropout_02_init_glorot_uniform_act_relu\\decoder\\assets\n",
      "\n",
      "Training model with parameters {'encoder': {'activation': 'relu', 'dropout_rate': 0.2, 'hidden_dim': [200, 200], 'initializer': 'glorot_uniform', 'latent_dim': 25}, 'decoder': {'activation': 'relu', 'dropout_rate': 0.2, 'hidden_dim': [200, 200], 'initializer': 'glorot_uniform', 'latent_dim': 25}, 'vae': {'beta': 0.0001}}\n"
     ]
    },
    {
     "name": "stderr",
     "output_type": "stream",
     "text": [
      "Fold Progress: 100%|██████████████████████████████| 5/5 [02:42<00:00, 32.59s/it]\n"
     ]
    },
    {
     "name": "stdout",
     "output_type": "stream",
     "text": [
      "\n",
      "Training model with parameters {'encoder': {'activation': 'relu', 'dropout_rate': 0.2, 'hidden_dim': [200, 200], 'initializer': 'glorot_uniform', 'latent_dim': 25}, 'decoder': {'activation': 'relu', 'dropout_rate': 0.2, 'hidden_dim': [200, 200], 'initializer': 'glorot_uniform', 'latent_dim': 25}, 'vae': {'beta': 0.001}}\n"
     ]
    },
    {
     "name": "stderr",
     "output_type": "stream",
     "text": [
      "Fold Progress: 100%|██████████████████████████████| 5/5 [03:22<00:00, 40.46s/it]\n"
     ]
    },
    {
     "name": "stdout",
     "output_type": "stream",
     "text": [
      "\n",
      "Training model with parameters {'encoder': {'activation': 'relu', 'dropout_rate': 0.2, 'hidden_dim': [250, 250], 'initializer': 'glorot_uniform', 'latent_dim': 25}, 'decoder': {'activation': 'relu', 'dropout_rate': 0.2, 'hidden_dim': [250, 250], 'initializer': 'glorot_uniform', 'latent_dim': 25}, 'vae': {'beta': 1e-05}}\n"
     ]
    },
    {
     "name": "stderr",
     "output_type": "stream",
     "text": [
      "Fold Progress: 100%|██████████████████████████████| 5/5 [03:19<00:00, 39.86s/it]"
     ]
    },
    {
     "name": "stdout",
     "output_type": "stream",
     "text": [
      "WARNING:tensorflow:Compiled the loaded model, but the compiled metrics have yet to be built. `model.compile_metrics` will be empty until you train or evaluate the model.\n"
     ]
    },
    {
     "name": "stderr",
     "output_type": "stream",
     "text": [
      "\n"
     ]
    },
    {
     "name": "stdout",
     "output_type": "stream",
     "text": [
      "INFO:tensorflow:Assets written to: ../outputs/models/vae\\vae_h_dim_250_250_z_dim_25_dropout_02_init_glorot_uniform_act_relu\\encoder\\assets\n",
      "WARNING:tensorflow:Compiled the loaded model, but the compiled metrics have yet to be built. `model.compile_metrics` will be empty until you train or evaluate the model.\n",
      "INFO:tensorflow:Assets written to: ../outputs/models/vae\\vae_h_dim_250_250_z_dim_25_dropout_02_init_glorot_uniform_act_relu\\decoder\\assets\n",
      "\n",
      "Training model with parameters {'encoder': {'activation': 'relu', 'dropout_rate': 0.2, 'hidden_dim': [250, 250], 'initializer': 'glorot_uniform', 'latent_dim': 25}, 'decoder': {'activation': 'relu', 'dropout_rate': 0.2, 'hidden_dim': [250, 250], 'initializer': 'glorot_uniform', 'latent_dim': 25}, 'vae': {'beta': 0.0001}}\n"
     ]
    },
    {
     "name": "stderr",
     "output_type": "stream",
     "text": [
      "Fold Progress: 100%|██████████████████████████████| 5/5 [03:38<00:00, 43.67s/it]\n"
     ]
    },
    {
     "name": "stdout",
     "output_type": "stream",
     "text": [
      "\n",
      "Training model with parameters {'encoder': {'activation': 'relu', 'dropout_rate': 0.2, 'hidden_dim': [250, 250], 'initializer': 'glorot_uniform', 'latent_dim': 25}, 'decoder': {'activation': 'relu', 'dropout_rate': 0.2, 'hidden_dim': [250, 250], 'initializer': 'glorot_uniform', 'latent_dim': 25}, 'vae': {'beta': 0.001}}\n"
     ]
    },
    {
     "name": "stderr",
     "output_type": "stream",
     "text": [
      "Fold Progress: 100%|██████████████████████████████| 5/5 [03:44<00:00, 44.85s/it]\n"
     ]
    },
    {
     "name": "stdout",
     "output_type": "stream",
     "text": [
      "\n",
      "Training model with parameters {'encoder': {'activation': 'relu', 'dropout_rate': 0.2, 'hidden_dim': [300, 300], 'initializer': 'glorot_uniform', 'latent_dim': 25}, 'decoder': {'activation': 'relu', 'dropout_rate': 0.2, 'hidden_dim': [300, 300], 'initializer': 'glorot_uniform', 'latent_dim': 25}, 'vae': {'beta': 1e-05}}\n"
     ]
    },
    {
     "name": "stderr",
     "output_type": "stream",
     "text": [
      "Fold Progress: 100%|██████████████████████████████| 5/5 [03:36<00:00, 43.31s/it]\n"
     ]
    },
    {
     "name": "stdout",
     "output_type": "stream",
     "text": [
      "\n",
      "Training model with parameters {'encoder': {'activation': 'relu', 'dropout_rate': 0.2, 'hidden_dim': [300, 300], 'initializer': 'glorot_uniform', 'latent_dim': 25}, 'decoder': {'activation': 'relu', 'dropout_rate': 0.2, 'hidden_dim': [300, 300], 'initializer': 'glorot_uniform', 'latent_dim': 25}, 'vae': {'beta': 0.0001}}\n"
     ]
    },
    {
     "name": "stderr",
     "output_type": "stream",
     "text": [
      "Fold Progress: 100%|██████████████████████████████| 5/5 [04:16<00:00, 51.35s/it]\n"
     ]
    },
    {
     "name": "stdout",
     "output_type": "stream",
     "text": [
      "\n",
      "Training model with parameters {'encoder': {'activation': 'relu', 'dropout_rate': 0.2, 'hidden_dim': [300, 300], 'initializer': 'glorot_uniform', 'latent_dim': 25}, 'decoder': {'activation': 'relu', 'dropout_rate': 0.2, 'hidden_dim': [300, 300], 'initializer': 'glorot_uniform', 'latent_dim': 25}, 'vae': {'beta': 0.001}}\n"
     ]
    },
    {
     "name": "stderr",
     "output_type": "stream",
     "text": [
      "Fold Progress: 100%|██████████████████████████████| 5/5 [03:29<00:00, 41.88s/it]\n"
     ]
    },
    {
     "name": "stdout",
     "output_type": "stream",
     "text": [
      "\n",
      "Training model with parameters {'encoder': {'activation': 'relu', 'dropout_rate': 0.2, 'hidden_dim': [150, 100, 50], 'initializer': 'glorot_uniform', 'latent_dim': 25}, 'decoder': {'activation': 'relu', 'dropout_rate': 0.2, 'hidden_dim': [150, 100, 50], 'initializer': 'glorot_uniform', 'latent_dim': 25}, 'vae': {'beta': 1e-05}}\n"
     ]
    },
    {
     "name": "stderr",
     "output_type": "stream",
     "text": [
      "Fold Progress: 100%|██████████████████████████████| 5/5 [03:02<00:00, 36.49s/it]"
     ]
    },
    {
     "name": "stdout",
     "output_type": "stream",
     "text": [
      "WARNING:tensorflow:Compiled the loaded model, but the compiled metrics have yet to be built. `model.compile_metrics` will be empty until you train or evaluate the model.\n"
     ]
    },
    {
     "name": "stderr",
     "output_type": "stream",
     "text": [
      "\n"
     ]
    },
    {
     "name": "stdout",
     "output_type": "stream",
     "text": [
      "INFO:tensorflow:Assets written to: ../outputs/models/vae\\vae_h_dim_150_100_50_z_dim_25_dropout_02_init_glorot_uniform_act_relu\\encoder\\assets\n",
      "WARNING:tensorflow:Compiled the loaded model, but the compiled metrics have yet to be built. `model.compile_metrics` will be empty until you train or evaluate the model.\n",
      "INFO:tensorflow:Assets written to: ../outputs/models/vae\\vae_h_dim_150_100_50_z_dim_25_dropout_02_init_glorot_uniform_act_relu\\decoder\\assets\n",
      "\n",
      "Training model with parameters {'encoder': {'activation': 'relu', 'dropout_rate': 0.2, 'hidden_dim': [150, 100, 50], 'initializer': 'glorot_uniform', 'latent_dim': 25}, 'decoder': {'activation': 'relu', 'dropout_rate': 0.2, 'hidden_dim': [150, 100, 50], 'initializer': 'glorot_uniform', 'latent_dim': 25}, 'vae': {'beta': 0.0001}}\n"
     ]
    },
    {
     "name": "stderr",
     "output_type": "stream",
     "text": [
      "Fold Progress: 100%|██████████████████████████████| 5/5 [03:04<00:00, 36.99s/it]\n"
     ]
    },
    {
     "name": "stdout",
     "output_type": "stream",
     "text": [
      "\n",
      "Training model with parameters {'encoder': {'activation': 'relu', 'dropout_rate': 0.2, 'hidden_dim': [150, 100, 50], 'initializer': 'glorot_uniform', 'latent_dim': 25}, 'decoder': {'activation': 'relu', 'dropout_rate': 0.2, 'hidden_dim': [150, 100, 50], 'initializer': 'glorot_uniform', 'latent_dim': 25}, 'vae': {'beta': 0.001}}\n"
     ]
    },
    {
     "name": "stderr",
     "output_type": "stream",
     "text": [
      "Fold Progress: 100%|██████████████████████████████| 5/5 [03:18<00:00, 39.75s/it]\n"
     ]
    },
    {
     "name": "stdout",
     "output_type": "stream",
     "text": [
      "\n",
      "Training model with parameters {'encoder': {'activation': 'relu', 'dropout_rate': 0.2, 'hidden_dim': [200, 150, 100], 'initializer': 'glorot_uniform', 'latent_dim': 25}, 'decoder': {'activation': 'relu', 'dropout_rate': 0.2, 'hidden_dim': [200, 150, 100], 'initializer': 'glorot_uniform', 'latent_dim': 25}, 'vae': {'beta': 1e-05}}\n"
     ]
    },
    {
     "name": "stderr",
     "output_type": "stream",
     "text": [
      "Fold Progress: 100%|██████████████████████████████| 5/5 [03:07<00:00, 37.48s/it]"
     ]
    },
    {
     "name": "stdout",
     "output_type": "stream",
     "text": [
      "WARNING:tensorflow:Compiled the loaded model, but the compiled metrics have yet to be built. `model.compile_metrics` will be empty until you train or evaluate the model.\n"
     ]
    },
    {
     "name": "stderr",
     "output_type": "stream",
     "text": [
      "\n"
     ]
    },
    {
     "name": "stdout",
     "output_type": "stream",
     "text": [
      "INFO:tensorflow:Assets written to: ../outputs/models/vae\\vae_h_dim_200_150_100_z_dim_25_dropout_02_init_glorot_uniform_act_relu\\encoder\\assets\n",
      "WARNING:tensorflow:Compiled the loaded model, but the compiled metrics have yet to be built. `model.compile_metrics` will be empty until you train or evaluate the model.\n",
      "INFO:tensorflow:Assets written to: ../outputs/models/vae\\vae_h_dim_200_150_100_z_dim_25_dropout_02_init_glorot_uniform_act_relu\\decoder\\assets\n",
      "\n",
      "Training model with parameters {'encoder': {'activation': 'relu', 'dropout_rate': 0.2, 'hidden_dim': [200, 150, 100], 'initializer': 'glorot_uniform', 'latent_dim': 25}, 'decoder': {'activation': 'relu', 'dropout_rate': 0.2, 'hidden_dim': [200, 150, 100], 'initializer': 'glorot_uniform', 'latent_dim': 25}, 'vae': {'beta': 0.0001}}\n"
     ]
    },
    {
     "name": "stderr",
     "output_type": "stream",
     "text": [
      "Fold Progress: 100%|██████████████████████████████| 5/5 [03:56<00:00, 47.21s/it]\n"
     ]
    },
    {
     "name": "stdout",
     "output_type": "stream",
     "text": [
      "\n",
      "Training model with parameters {'encoder': {'activation': 'relu', 'dropout_rate': 0.2, 'hidden_dim': [200, 150, 100], 'initializer': 'glorot_uniform', 'latent_dim': 25}, 'decoder': {'activation': 'relu', 'dropout_rate': 0.2, 'hidden_dim': [200, 150, 100], 'initializer': 'glorot_uniform', 'latent_dim': 25}, 'vae': {'beta': 0.001}}\n"
     ]
    },
    {
     "name": "stderr",
     "output_type": "stream",
     "text": [
      "Fold Progress: 100%|██████████████████████████████| 5/5 [03:32<00:00, 42.59s/it]\n"
     ]
    },
    {
     "name": "stdout",
     "output_type": "stream",
     "text": [
      "\n",
      "Training model with parameters {'encoder': {'activation': 'relu', 'dropout_rate': 0.2, 'hidden_dim': [250, 200, 150], 'initializer': 'glorot_uniform', 'latent_dim': 25}, 'decoder': {'activation': 'relu', 'dropout_rate': 0.2, 'hidden_dim': [250, 200, 150], 'initializer': 'glorot_uniform', 'latent_dim': 25}, 'vae': {'beta': 1e-05}}\n"
     ]
    },
    {
     "name": "stderr",
     "output_type": "stream",
     "text": [
      "Fold Progress: 100%|██████████████████████████████| 5/5 [04:50<00:00, 58.08s/it]"
     ]
    },
    {
     "name": "stdout",
     "output_type": "stream",
     "text": [
      "WARNING:tensorflow:Compiled the loaded model, but the compiled metrics have yet to be built. `model.compile_metrics` will be empty until you train or evaluate the model.\n"
     ]
    },
    {
     "name": "stderr",
     "output_type": "stream",
     "text": [
      "\n"
     ]
    },
    {
     "name": "stdout",
     "output_type": "stream",
     "text": [
      "INFO:tensorflow:Assets written to: ../outputs/models/vae\\vae_h_dim_250_200_150_z_dim_25_dropout_02_init_glorot_uniform_act_relu\\encoder\\assets\n",
      "WARNING:tensorflow:Compiled the loaded model, but the compiled metrics have yet to be built. `model.compile_metrics` will be empty until you train or evaluate the model.\n",
      "INFO:tensorflow:Assets written to: ../outputs/models/vae\\vae_h_dim_250_200_150_z_dim_25_dropout_02_init_glorot_uniform_act_relu\\decoder\\assets\n",
      "\n",
      "Training model with parameters {'encoder': {'activation': 'relu', 'dropout_rate': 0.2, 'hidden_dim': [250, 200, 150], 'initializer': 'glorot_uniform', 'latent_dim': 25}, 'decoder': {'activation': 'relu', 'dropout_rate': 0.2, 'hidden_dim': [250, 200, 150], 'initializer': 'glorot_uniform', 'latent_dim': 25}, 'vae': {'beta': 0.0001}}\n"
     ]
    },
    {
     "name": "stderr",
     "output_type": "stream",
     "text": [
      "Fold Progress: 100%|██████████████████████████████| 5/5 [04:21<00:00, 52.24s/it]\n"
     ]
    },
    {
     "name": "stdout",
     "output_type": "stream",
     "text": [
      "\n",
      "Training model with parameters {'encoder': {'activation': 'relu', 'dropout_rate': 0.2, 'hidden_dim': [250, 200, 150], 'initializer': 'glorot_uniform', 'latent_dim': 25}, 'decoder': {'activation': 'relu', 'dropout_rate': 0.2, 'hidden_dim': [250, 200, 150], 'initializer': 'glorot_uniform', 'latent_dim': 25}, 'vae': {'beta': 0.001}}\n"
     ]
    },
    {
     "name": "stderr",
     "output_type": "stream",
     "text": [
      "Fold Progress: 100%|██████████████████████████████| 5/5 [04:24<00:00, 52.87s/it]\n"
     ]
    },
    {
     "name": "stdout",
     "output_type": "stream",
     "text": [
      "\n",
      "Training model with parameters {'encoder': {'activation': 'relu', 'dropout_rate': 0.2, 'hidden_dim': [300, 200, 100], 'initializer': 'glorot_uniform', 'latent_dim': 25}, 'decoder': {'activation': 'relu', 'dropout_rate': 0.2, 'hidden_dim': [300, 200, 100], 'initializer': 'glorot_uniform', 'latent_dim': 25}, 'vae': {'beta': 1e-05}}\n"
     ]
    },
    {
     "name": "stderr",
     "output_type": "stream",
     "text": [
      "Fold Progress: 100%|██████████████████████████████| 5/5 [03:42<00:00, 44.54s/it]"
     ]
    },
    {
     "name": "stdout",
     "output_type": "stream",
     "text": [
      "WARNING:tensorflow:Compiled the loaded model, but the compiled metrics have yet to be built. `model.compile_metrics` will be empty until you train or evaluate the model.\n"
     ]
    },
    {
     "name": "stderr",
     "output_type": "stream",
     "text": [
      "\n"
     ]
    },
    {
     "name": "stdout",
     "output_type": "stream",
     "text": [
      "INFO:tensorflow:Assets written to: ../outputs/models/vae\\vae_h_dim_300_200_100_z_dim_25_dropout_02_init_glorot_uniform_act_relu\\encoder\\assets\n",
      "WARNING:tensorflow:Compiled the loaded model, but the compiled metrics have yet to be built. `model.compile_metrics` will be empty until you train or evaluate the model.\n",
      "INFO:tensorflow:Assets written to: ../outputs/models/vae\\vae_h_dim_300_200_100_z_dim_25_dropout_02_init_glorot_uniform_act_relu\\decoder\\assets\n",
      "\n",
      "Training model with parameters {'encoder': {'activation': 'relu', 'dropout_rate': 0.2, 'hidden_dim': [300, 200, 100], 'initializer': 'glorot_uniform', 'latent_dim': 25}, 'decoder': {'activation': 'relu', 'dropout_rate': 0.2, 'hidden_dim': [300, 200, 100], 'initializer': 'glorot_uniform', 'latent_dim': 25}, 'vae': {'beta': 0.0001}}\n"
     ]
    },
    {
     "name": "stderr",
     "output_type": "stream",
     "text": [
      "Fold Progress: 100%|██████████████████████████████| 5/5 [04:13<00:00, 50.77s/it]\n"
     ]
    },
    {
     "name": "stdout",
     "output_type": "stream",
     "text": [
      "\n",
      "Training model with parameters {'encoder': {'activation': 'relu', 'dropout_rate': 0.2, 'hidden_dim': [300, 200, 100], 'initializer': 'glorot_uniform', 'latent_dim': 25}, 'decoder': {'activation': 'relu', 'dropout_rate': 0.2, 'hidden_dim': [300, 200, 100], 'initializer': 'glorot_uniform', 'latent_dim': 25}, 'vae': {'beta': 0.001}}\n"
     ]
    },
    {
     "name": "stderr",
     "output_type": "stream",
     "text": [
      "Fold Progress: 100%|██████████████████████████████| 5/5 [03:44<00:00, 44.80s/it]\n"
     ]
    },
    {
     "name": "stdout",
     "output_type": "stream",
     "text": [
      "\n",
      "Training model with parameters {'encoder': {'activation': 'relu', 'dropout_rate': 0.3, 'hidden_dim': [100, 100], 'initializer': 'glorot_uniform', 'latent_dim': 25}, 'decoder': {'activation': 'relu', 'dropout_rate': 0.3, 'hidden_dim': [100, 100], 'initializer': 'glorot_uniform', 'latent_dim': 25}, 'vae': {'beta': 1e-05}}\n"
     ]
    },
    {
     "name": "stderr",
     "output_type": "stream",
     "text": [
      "Fold Progress: 100%|██████████████████████████████| 5/5 [02:59<00:00, 35.84s/it]"
     ]
    },
    {
     "name": "stdout",
     "output_type": "stream",
     "text": [
      "WARNING:tensorflow:Compiled the loaded model, but the compiled metrics have yet to be built. `model.compile_metrics` will be empty until you train or evaluate the model.\n"
     ]
    },
    {
     "name": "stderr",
     "output_type": "stream",
     "text": [
      "\n"
     ]
    },
    {
     "name": "stdout",
     "output_type": "stream",
     "text": [
      "INFO:tensorflow:Assets written to: ../outputs/models/vae\\vae_h_dim_100_100_z_dim_25_dropout_03_init_glorot_uniform_act_relu\\encoder\\assets\n",
      "WARNING:tensorflow:Compiled the loaded model, but the compiled metrics have yet to be built. `model.compile_metrics` will be empty until you train or evaluate the model.\n",
      "INFO:tensorflow:Assets written to: ../outputs/models/vae\\vae_h_dim_100_100_z_dim_25_dropout_03_init_glorot_uniform_act_relu\\decoder\\assets\n",
      "\n",
      "Training model with parameters {'encoder': {'activation': 'relu', 'dropout_rate': 0.3, 'hidden_dim': [100, 100], 'initializer': 'glorot_uniform', 'latent_dim': 25}, 'decoder': {'activation': 'relu', 'dropout_rate': 0.3, 'hidden_dim': [100, 100], 'initializer': 'glorot_uniform', 'latent_dim': 25}, 'vae': {'beta': 0.0001}}\n"
     ]
    },
    {
     "name": "stderr",
     "output_type": "stream",
     "text": [
      "Fold Progress: 100%|██████████████████████████████| 5/5 [02:51<00:00, 34.26s/it]\n"
     ]
    },
    {
     "name": "stdout",
     "output_type": "stream",
     "text": [
      "\n",
      "Training model with parameters {'encoder': {'activation': 'relu', 'dropout_rate': 0.3, 'hidden_dim': [100, 100], 'initializer': 'glorot_uniform', 'latent_dim': 25}, 'decoder': {'activation': 'relu', 'dropout_rate': 0.3, 'hidden_dim': [100, 100], 'initializer': 'glorot_uniform', 'latent_dim': 25}, 'vae': {'beta': 0.001}}\n"
     ]
    },
    {
     "name": "stderr",
     "output_type": "stream",
     "text": [
      "Fold Progress: 100%|██████████████████████████████| 5/5 [02:53<00:00, 34.68s/it]\n"
     ]
    },
    {
     "name": "stdout",
     "output_type": "stream",
     "text": [
      "\n",
      "Training model with parameters {'encoder': {'activation': 'relu', 'dropout_rate': 0.3, 'hidden_dim': [150, 150], 'initializer': 'glorot_uniform', 'latent_dim': 25}, 'decoder': {'activation': 'relu', 'dropout_rate': 0.3, 'hidden_dim': [150, 150], 'initializer': 'glorot_uniform', 'latent_dim': 25}, 'vae': {'beta': 1e-05}}\n"
     ]
    },
    {
     "name": "stderr",
     "output_type": "stream",
     "text": [
      "Fold Progress: 100%|██████████████████████████████| 5/5 [02:43<00:00, 32.68s/it]"
     ]
    },
    {
     "name": "stdout",
     "output_type": "stream",
     "text": [
      "WARNING:tensorflow:Compiled the loaded model, but the compiled metrics have yet to be built. `model.compile_metrics` will be empty until you train or evaluate the model.\n"
     ]
    },
    {
     "name": "stderr",
     "output_type": "stream",
     "text": [
      "\n"
     ]
    },
    {
     "name": "stdout",
     "output_type": "stream",
     "text": [
      "INFO:tensorflow:Assets written to: ../outputs/models/vae\\vae_h_dim_150_150_z_dim_25_dropout_03_init_glorot_uniform_act_relu\\encoder\\assets\n",
      "WARNING:tensorflow:Compiled the loaded model, but the compiled metrics have yet to be built. `model.compile_metrics` will be empty until you train or evaluate the model.\n",
      "INFO:tensorflow:Assets written to: ../outputs/models/vae\\vae_h_dim_150_150_z_dim_25_dropout_03_init_glorot_uniform_act_relu\\decoder\\assets\n",
      "\n",
      "Training model with parameters {'encoder': {'activation': 'relu', 'dropout_rate': 0.3, 'hidden_dim': [150, 150], 'initializer': 'glorot_uniform', 'latent_dim': 25}, 'decoder': {'activation': 'relu', 'dropout_rate': 0.3, 'hidden_dim': [150, 150], 'initializer': 'glorot_uniform', 'latent_dim': 25}, 'vae': {'beta': 0.0001}}\n"
     ]
    },
    {
     "name": "stderr",
     "output_type": "stream",
     "text": [
      "Fold Progress: 100%|██████████████████████████████| 5/5 [03:37<00:00, 43.46s/it]\n"
     ]
    },
    {
     "name": "stdout",
     "output_type": "stream",
     "text": [
      "\n",
      "Training model with parameters {'encoder': {'activation': 'relu', 'dropout_rate': 0.3, 'hidden_dim': [150, 150], 'initializer': 'glorot_uniform', 'latent_dim': 25}, 'decoder': {'activation': 'relu', 'dropout_rate': 0.3, 'hidden_dim': [150, 150], 'initializer': 'glorot_uniform', 'latent_dim': 25}, 'vae': {'beta': 0.001}}\n"
     ]
    },
    {
     "name": "stderr",
     "output_type": "stream",
     "text": [
      "Fold Progress: 100%|██████████████████████████████| 5/5 [02:57<00:00, 35.47s/it]\n"
     ]
    },
    {
     "name": "stdout",
     "output_type": "stream",
     "text": [
      "\n",
      "Training model with parameters {'encoder': {'activation': 'relu', 'dropout_rate': 0.3, 'hidden_dim': [200, 200], 'initializer': 'glorot_uniform', 'latent_dim': 25}, 'decoder': {'activation': 'relu', 'dropout_rate': 0.3, 'hidden_dim': [200, 200], 'initializer': 'glorot_uniform', 'latent_dim': 25}, 'vae': {'beta': 1e-05}}\n"
     ]
    },
    {
     "name": "stderr",
     "output_type": "stream",
     "text": [
      "Fold Progress: 100%|██████████████████████████████| 5/5 [02:48<00:00, 33.64s/it]"
     ]
    },
    {
     "name": "stdout",
     "output_type": "stream",
     "text": [
      "WARNING:tensorflow:Compiled the loaded model, but the compiled metrics have yet to be built. `model.compile_metrics` will be empty until you train or evaluate the model.\n"
     ]
    },
    {
     "name": "stderr",
     "output_type": "stream",
     "text": [
      "\n"
     ]
    },
    {
     "name": "stdout",
     "output_type": "stream",
     "text": [
      "INFO:tensorflow:Assets written to: ../outputs/models/vae\\vae_h_dim_200_200_z_dim_25_dropout_03_init_glorot_uniform_act_relu\\encoder\\assets\n",
      "WARNING:tensorflow:Compiled the loaded model, but the compiled metrics have yet to be built. `model.compile_metrics` will be empty until you train or evaluate the model.\n",
      "INFO:tensorflow:Assets written to: ../outputs/models/vae\\vae_h_dim_200_200_z_dim_25_dropout_03_init_glorot_uniform_act_relu\\decoder\\assets\n",
      "\n",
      "Training model with parameters {'encoder': {'activation': 'relu', 'dropout_rate': 0.3, 'hidden_dim': [200, 200], 'initializer': 'glorot_uniform', 'latent_dim': 25}, 'decoder': {'activation': 'relu', 'dropout_rate': 0.3, 'hidden_dim': [200, 200], 'initializer': 'glorot_uniform', 'latent_dim': 25}, 'vae': {'beta': 0.0001}}\n"
     ]
    },
    {
     "name": "stderr",
     "output_type": "stream",
     "text": [
      "Fold Progress: 100%|██████████████████████████████| 5/5 [02:53<00:00, 34.72s/it]\n"
     ]
    },
    {
     "name": "stdout",
     "output_type": "stream",
     "text": [
      "\n",
      "Training model with parameters {'encoder': {'activation': 'relu', 'dropout_rate': 0.3, 'hidden_dim': [200, 200], 'initializer': 'glorot_uniform', 'latent_dim': 25}, 'decoder': {'activation': 'relu', 'dropout_rate': 0.3, 'hidden_dim': [200, 200], 'initializer': 'glorot_uniform', 'latent_dim': 25}, 'vae': {'beta': 0.001}}\n"
     ]
    },
    {
     "name": "stderr",
     "output_type": "stream",
     "text": [
      "Fold Progress: 100%|██████████████████████████████| 5/5 [02:23<00:00, 28.75s/it]\n"
     ]
    },
    {
     "name": "stdout",
     "output_type": "stream",
     "text": [
      "\n",
      "Training model with parameters {'encoder': {'activation': 'relu', 'dropout_rate': 0.3, 'hidden_dim': [250, 250], 'initializer': 'glorot_uniform', 'latent_dim': 25}, 'decoder': {'activation': 'relu', 'dropout_rate': 0.3, 'hidden_dim': [250, 250], 'initializer': 'glorot_uniform', 'latent_dim': 25}, 'vae': {'beta': 1e-05}}\n"
     ]
    },
    {
     "name": "stderr",
     "output_type": "stream",
     "text": [
      "Fold Progress: 100%|██████████████████████████████| 5/5 [04:36<00:00, 55.22s/it]"
     ]
    },
    {
     "name": "stdout",
     "output_type": "stream",
     "text": [
      "WARNING:tensorflow:Compiled the loaded model, but the compiled metrics have yet to be built. `model.compile_metrics` will be empty until you train or evaluate the model.\n"
     ]
    },
    {
     "name": "stderr",
     "output_type": "stream",
     "text": [
      "\n"
     ]
    },
    {
     "name": "stdout",
     "output_type": "stream",
     "text": [
      "INFO:tensorflow:Assets written to: ../outputs/models/vae\\vae_h_dim_250_250_z_dim_25_dropout_03_init_glorot_uniform_act_relu\\encoder\\assets\n",
      "WARNING:tensorflow:Compiled the loaded model, but the compiled metrics have yet to be built. `model.compile_metrics` will be empty until you train or evaluate the model.\n",
      "INFO:tensorflow:Assets written to: ../outputs/models/vae\\vae_h_dim_250_250_z_dim_25_dropout_03_init_glorot_uniform_act_relu\\decoder\\assets\n",
      "\n",
      "Training model with parameters {'encoder': {'activation': 'relu', 'dropout_rate': 0.3, 'hidden_dim': [250, 250], 'initializer': 'glorot_uniform', 'latent_dim': 25}, 'decoder': {'activation': 'relu', 'dropout_rate': 0.3, 'hidden_dim': [250, 250], 'initializer': 'glorot_uniform', 'latent_dim': 25}, 'vae': {'beta': 0.0001}}\n"
     ]
    },
    {
     "name": "stderr",
     "output_type": "stream",
     "text": [
      "Fold Progress: 100%|██████████████████████████████| 5/5 [03:25<00:00, 41.08s/it]\n"
     ]
    },
    {
     "name": "stdout",
     "output_type": "stream",
     "text": [
      "\n",
      "Training model with parameters {'encoder': {'activation': 'relu', 'dropout_rate': 0.3, 'hidden_dim': [250, 250], 'initializer': 'glorot_uniform', 'latent_dim': 25}, 'decoder': {'activation': 'relu', 'dropout_rate': 0.3, 'hidden_dim': [250, 250], 'initializer': 'glorot_uniform', 'latent_dim': 25}, 'vae': {'beta': 0.001}}\n"
     ]
    },
    {
     "name": "stderr",
     "output_type": "stream",
     "text": [
      "Fold Progress: 100%|██████████████████████████████| 5/5 [03:59<00:00, 47.89s/it]\n"
     ]
    },
    {
     "name": "stdout",
     "output_type": "stream",
     "text": [
      "\n",
      "Training model with parameters {'encoder': {'activation': 'relu', 'dropout_rate': 0.3, 'hidden_dim': [300, 300], 'initializer': 'glorot_uniform', 'latent_dim': 25}, 'decoder': {'activation': 'relu', 'dropout_rate': 0.3, 'hidden_dim': [300, 300], 'initializer': 'glorot_uniform', 'latent_dim': 25}, 'vae': {'beta': 1e-05}}\n"
     ]
    },
    {
     "name": "stderr",
     "output_type": "stream",
     "text": [
      "Fold Progress: 100%|██████████████████████████████| 5/5 [03:46<00:00, 45.36s/it]"
     ]
    },
    {
     "name": "stdout",
     "output_type": "stream",
     "text": [
      "WARNING:tensorflow:Compiled the loaded model, but the compiled metrics have yet to be built. `model.compile_metrics` will be empty until you train or evaluate the model.\n"
     ]
    },
    {
     "name": "stderr",
     "output_type": "stream",
     "text": [
      "\n"
     ]
    },
    {
     "name": "stdout",
     "output_type": "stream",
     "text": [
      "INFO:tensorflow:Assets written to: ../outputs/models/vae\\vae_h_dim_300_300_z_dim_25_dropout_03_init_glorot_uniform_act_relu\\encoder\\assets\n",
      "WARNING:tensorflow:Compiled the loaded model, but the compiled metrics have yet to be built. `model.compile_metrics` will be empty until you train or evaluate the model.\n",
      "INFO:tensorflow:Assets written to: ../outputs/models/vae\\vae_h_dim_300_300_z_dim_25_dropout_03_init_glorot_uniform_act_relu\\decoder\\assets\n",
      "\n",
      "Training model with parameters {'encoder': {'activation': 'relu', 'dropout_rate': 0.3, 'hidden_dim': [300, 300], 'initializer': 'glorot_uniform', 'latent_dim': 25}, 'decoder': {'activation': 'relu', 'dropout_rate': 0.3, 'hidden_dim': [300, 300], 'initializer': 'glorot_uniform', 'latent_dim': 25}, 'vae': {'beta': 0.0001}}\n"
     ]
    },
    {
     "name": "stderr",
     "output_type": "stream",
     "text": [
      "Fold Progress: 100%|██████████████████████████████| 5/5 [03:45<00:00, 45.07s/it]\n"
     ]
    },
    {
     "name": "stdout",
     "output_type": "stream",
     "text": [
      "\n",
      "Training model with parameters {'encoder': {'activation': 'relu', 'dropout_rate': 0.3, 'hidden_dim': [300, 300], 'initializer': 'glorot_uniform', 'latent_dim': 25}, 'decoder': {'activation': 'relu', 'dropout_rate': 0.3, 'hidden_dim': [300, 300], 'initializer': 'glorot_uniform', 'latent_dim': 25}, 'vae': {'beta': 0.001}}\n"
     ]
    },
    {
     "name": "stderr",
     "output_type": "stream",
     "text": [
      "Fold Progress: 100%|██████████████████████████████| 5/5 [03:58<00:00, 47.66s/it]\n"
     ]
    },
    {
     "name": "stdout",
     "output_type": "stream",
     "text": [
      "\n",
      "Training model with parameters {'encoder': {'activation': 'relu', 'dropout_rate': 0.3, 'hidden_dim': [150, 100, 50], 'initializer': 'glorot_uniform', 'latent_dim': 25}, 'decoder': {'activation': 'relu', 'dropout_rate': 0.3, 'hidden_dim': [150, 100, 50], 'initializer': 'glorot_uniform', 'latent_dim': 25}, 'vae': {'beta': 1e-05}}\n"
     ]
    },
    {
     "name": "stderr",
     "output_type": "stream",
     "text": [
      "Fold Progress: 100%|██████████████████████████████| 5/5 [02:44<00:00, 32.81s/it]"
     ]
    },
    {
     "name": "stdout",
     "output_type": "stream",
     "text": [
      "WARNING:tensorflow:Compiled the loaded model, but the compiled metrics have yet to be built. `model.compile_metrics` will be empty until you train or evaluate the model.\n"
     ]
    },
    {
     "name": "stderr",
     "output_type": "stream",
     "text": [
      "\n"
     ]
    },
    {
     "name": "stdout",
     "output_type": "stream",
     "text": [
      "INFO:tensorflow:Assets written to: ../outputs/models/vae\\vae_h_dim_150_100_50_z_dim_25_dropout_03_init_glorot_uniform_act_relu\\encoder\\assets\n",
      "WARNING:tensorflow:Compiled the loaded model, but the compiled metrics have yet to be built. `model.compile_metrics` will be empty until you train or evaluate the model.\n",
      "INFO:tensorflow:Assets written to: ../outputs/models/vae\\vae_h_dim_150_100_50_z_dim_25_dropout_03_init_glorot_uniform_act_relu\\decoder\\assets\n",
      "\n",
      "Training model with parameters {'encoder': {'activation': 'relu', 'dropout_rate': 0.3, 'hidden_dim': [150, 100, 50], 'initializer': 'glorot_uniform', 'latent_dim': 25}, 'decoder': {'activation': 'relu', 'dropout_rate': 0.3, 'hidden_dim': [150, 100, 50], 'initializer': 'glorot_uniform', 'latent_dim': 25}, 'vae': {'beta': 0.0001}}\n"
     ]
    },
    {
     "name": "stderr",
     "output_type": "stream",
     "text": [
      "Fold Progress: 100%|██████████████████████████████| 5/5 [02:48<00:00, 33.70s/it]\n"
     ]
    },
    {
     "name": "stdout",
     "output_type": "stream",
     "text": [
      "\n",
      "Training model with parameters {'encoder': {'activation': 'relu', 'dropout_rate': 0.3, 'hidden_dim': [150, 100, 50], 'initializer': 'glorot_uniform', 'latent_dim': 25}, 'decoder': {'activation': 'relu', 'dropout_rate': 0.3, 'hidden_dim': [150, 100, 50], 'initializer': 'glorot_uniform', 'latent_dim': 25}, 'vae': {'beta': 0.001}}\n"
     ]
    },
    {
     "name": "stderr",
     "output_type": "stream",
     "text": [
      "Fold Progress: 100%|██████████████████████████████| 5/5 [02:58<00:00, 35.66s/it]\n"
     ]
    },
    {
     "name": "stdout",
     "output_type": "stream",
     "text": [
      "\n",
      "Training model with parameters {'encoder': {'activation': 'relu', 'dropout_rate': 0.3, 'hidden_dim': [200, 150, 100], 'initializer': 'glorot_uniform', 'latent_dim': 25}, 'decoder': {'activation': 'relu', 'dropout_rate': 0.3, 'hidden_dim': [200, 150, 100], 'initializer': 'glorot_uniform', 'latent_dim': 25}, 'vae': {'beta': 1e-05}}\n"
     ]
    },
    {
     "name": "stderr",
     "output_type": "stream",
     "text": [
      "Fold Progress: 100%|██████████████████████████████| 5/5 [03:36<00:00, 43.30s/it]"
     ]
    },
    {
     "name": "stdout",
     "output_type": "stream",
     "text": [
      "WARNING:tensorflow:Compiled the loaded model, but the compiled metrics have yet to be built. `model.compile_metrics` will be empty until you train or evaluate the model.\n"
     ]
    },
    {
     "name": "stderr",
     "output_type": "stream",
     "text": [
      "\n"
     ]
    },
    {
     "name": "stdout",
     "output_type": "stream",
     "text": [
      "INFO:tensorflow:Assets written to: ../outputs/models/vae\\vae_h_dim_200_150_100_z_dim_25_dropout_03_init_glorot_uniform_act_relu\\encoder\\assets\n",
      "WARNING:tensorflow:Compiled the loaded model, but the compiled metrics have yet to be built. `model.compile_metrics` will be empty until you train or evaluate the model.\n",
      "INFO:tensorflow:Assets written to: ../outputs/models/vae\\vae_h_dim_200_150_100_z_dim_25_dropout_03_init_glorot_uniform_act_relu\\decoder\\assets\n",
      "\n",
      "Training model with parameters {'encoder': {'activation': 'relu', 'dropout_rate': 0.3, 'hidden_dim': [200, 150, 100], 'initializer': 'glorot_uniform', 'latent_dim': 25}, 'decoder': {'activation': 'relu', 'dropout_rate': 0.3, 'hidden_dim': [200, 150, 100], 'initializer': 'glorot_uniform', 'latent_dim': 25}, 'vae': {'beta': 0.0001}}\n"
     ]
    },
    {
     "name": "stderr",
     "output_type": "stream",
     "text": [
      "Fold Progress: 100%|██████████████████████████████| 5/5 [03:41<00:00, 44.27s/it]\n"
     ]
    },
    {
     "name": "stdout",
     "output_type": "stream",
     "text": [
      "\n",
      "Training model with parameters {'encoder': {'activation': 'relu', 'dropout_rate': 0.3, 'hidden_dim': [200, 150, 100], 'initializer': 'glorot_uniform', 'latent_dim': 25}, 'decoder': {'activation': 'relu', 'dropout_rate': 0.3, 'hidden_dim': [200, 150, 100], 'initializer': 'glorot_uniform', 'latent_dim': 25}, 'vae': {'beta': 0.001}}\n"
     ]
    },
    {
     "name": "stderr",
     "output_type": "stream",
     "text": [
      "Fold Progress: 100%|██████████████████████████████| 5/5 [03:31<00:00, 42.28s/it]\n"
     ]
    },
    {
     "name": "stdout",
     "output_type": "stream",
     "text": [
      "\n",
      "Training model with parameters {'encoder': {'activation': 'relu', 'dropout_rate': 0.3, 'hidden_dim': [250, 200, 150], 'initializer': 'glorot_uniform', 'latent_dim': 25}, 'decoder': {'activation': 'relu', 'dropout_rate': 0.3, 'hidden_dim': [250, 200, 150], 'initializer': 'glorot_uniform', 'latent_dim': 25}, 'vae': {'beta': 1e-05}}\n"
     ]
    },
    {
     "name": "stderr",
     "output_type": "stream",
     "text": [
      "Fold Progress: 100%|██████████████████████████████| 5/5 [04:17<00:00, 51.45s/it]"
     ]
    },
    {
     "name": "stdout",
     "output_type": "stream",
     "text": [
      "WARNING:tensorflow:Compiled the loaded model, but the compiled metrics have yet to be built. `model.compile_metrics` will be empty until you train or evaluate the model.\n"
     ]
    },
    {
     "name": "stderr",
     "output_type": "stream",
     "text": [
      "\n"
     ]
    },
    {
     "name": "stdout",
     "output_type": "stream",
     "text": [
      "INFO:tensorflow:Assets written to: ../outputs/models/vae\\vae_h_dim_250_200_150_z_dim_25_dropout_03_init_glorot_uniform_act_relu\\encoder\\assets\n",
      "WARNING:tensorflow:Compiled the loaded model, but the compiled metrics have yet to be built. `model.compile_metrics` will be empty until you train or evaluate the model.\n",
      "INFO:tensorflow:Assets written to: ../outputs/models/vae\\vae_h_dim_250_200_150_z_dim_25_dropout_03_init_glorot_uniform_act_relu\\decoder\\assets\n",
      "\n",
      "Training model with parameters {'encoder': {'activation': 'relu', 'dropout_rate': 0.3, 'hidden_dim': [250, 200, 150], 'initializer': 'glorot_uniform', 'latent_dim': 25}, 'decoder': {'activation': 'relu', 'dropout_rate': 0.3, 'hidden_dim': [250, 200, 150], 'initializer': 'glorot_uniform', 'latent_dim': 25}, 'vae': {'beta': 0.0001}}\n"
     ]
    },
    {
     "name": "stderr",
     "output_type": "stream",
     "text": [
      "Fold Progress: 100%|██████████████████████████████| 5/5 [04:43<00:00, 56.67s/it]\n"
     ]
    },
    {
     "name": "stdout",
     "output_type": "stream",
     "text": [
      "\n",
      "Training model with parameters {'encoder': {'activation': 'relu', 'dropout_rate': 0.3, 'hidden_dim': [250, 200, 150], 'initializer': 'glorot_uniform', 'latent_dim': 25}, 'decoder': {'activation': 'relu', 'dropout_rate': 0.3, 'hidden_dim': [250, 200, 150], 'initializer': 'glorot_uniform', 'latent_dim': 25}, 'vae': {'beta': 0.001}}\n"
     ]
    },
    {
     "name": "stderr",
     "output_type": "stream",
     "text": [
      "Fold Progress: 100%|██████████████████████████████| 5/5 [04:56<00:00, 59.37s/it]\n"
     ]
    },
    {
     "name": "stdout",
     "output_type": "stream",
     "text": [
      "\n",
      "Training model with parameters {'encoder': {'activation': 'relu', 'dropout_rate': 0.3, 'hidden_dim': [300, 200, 100], 'initializer': 'glorot_uniform', 'latent_dim': 25}, 'decoder': {'activation': 'relu', 'dropout_rate': 0.3, 'hidden_dim': [300, 200, 100], 'initializer': 'glorot_uniform', 'latent_dim': 25}, 'vae': {'beta': 1e-05}}\n"
     ]
    },
    {
     "name": "stderr",
     "output_type": "stream",
     "text": [
      "Fold Progress: 100%|██████████████████████████████| 5/5 [04:13<00:00, 50.77s/it]"
     ]
    },
    {
     "name": "stdout",
     "output_type": "stream",
     "text": [
      "WARNING:tensorflow:Compiled the loaded model, but the compiled metrics have yet to be built. `model.compile_metrics` will be empty until you train or evaluate the model.\n"
     ]
    },
    {
     "name": "stderr",
     "output_type": "stream",
     "text": [
      "\n"
     ]
    },
    {
     "name": "stdout",
     "output_type": "stream",
     "text": [
      "INFO:tensorflow:Assets written to: ../outputs/models/vae\\vae_h_dim_300_200_100_z_dim_25_dropout_03_init_glorot_uniform_act_relu\\encoder\\assets\n",
      "WARNING:tensorflow:Compiled the loaded model, but the compiled metrics have yet to be built. `model.compile_metrics` will be empty until you train or evaluate the model.\n",
      "INFO:tensorflow:Assets written to: ../outputs/models/vae\\vae_h_dim_300_200_100_z_dim_25_dropout_03_init_glorot_uniform_act_relu\\decoder\\assets\n",
      "\n",
      "Training model with parameters {'encoder': {'activation': 'relu', 'dropout_rate': 0.3, 'hidden_dim': [300, 200, 100], 'initializer': 'glorot_uniform', 'latent_dim': 25}, 'decoder': {'activation': 'relu', 'dropout_rate': 0.3, 'hidden_dim': [300, 200, 100], 'initializer': 'glorot_uniform', 'latent_dim': 25}, 'vae': {'beta': 0.0001}}\n"
     ]
    },
    {
     "name": "stderr",
     "output_type": "stream",
     "text": [
      "Fold Progress: 100%|██████████████████████████████| 5/5 [04:43<00:00, 56.80s/it]\n"
     ]
    },
    {
     "name": "stdout",
     "output_type": "stream",
     "text": [
      "\n",
      "Training model with parameters {'encoder': {'activation': 'relu', 'dropout_rate': 0.3, 'hidden_dim': [300, 200, 100], 'initializer': 'glorot_uniform', 'latent_dim': 25}, 'decoder': {'activation': 'relu', 'dropout_rate': 0.3, 'hidden_dim': [300, 200, 100], 'initializer': 'glorot_uniform', 'latent_dim': 25}, 'vae': {'beta': 0.001}}\n"
     ]
    },
    {
     "name": "stderr",
     "output_type": "stream",
     "text": [
      "Fold Progress: 100%|██████████████████████████████| 5/5 [04:12<00:00, 50.49s/it]\n"
     ]
    }
   ],
   "source": [
    "results = cv.cross_validate(train_data, epochs=epochs, verbose=0)\n"
   ],
   "metadata": {
    "collapsed": false,
    "ExecuteTime": {
     "end_time": "2023-05-18T03:05:37.652097300Z",
     "start_time": "2023-05-17T22:17:22.786742300Z"
    }
   }
  },
  {
   "cell_type": "code",
   "execution_count": 16,
   "outputs": [],
   "source": [
    "with open('../outputs/CrossVal/cv_latent_25.pkl', 'wb') as file:\n",
    "    pickle.dump(results, file)\n"
   ],
   "metadata": {
    "collapsed": false,
    "ExecuteTime": {
     "end_time": "2023-05-18T03:05:37.672632600Z",
     "start_time": "2023-05-18T03:05:37.655613800Z"
    }
   }
  },
  {
   "cell_type": "code",
   "execution_count": 17,
   "outputs": [],
   "source": [
    "# Cross Validation for 30 dimension latent space\n",
    "latent_dims = [30]\n",
    "beta = [1e-5, 1e-4, 1e-3]\n",
    "hidden_dims = [[100, 100], [150, 150], [200, 200], [250, 250], [300, 300], [150, 100, 50], [200, 150, 100],\n",
    "               [250, 200, 150], [300, 200, 100]]\n",
    "epochs = 100\n",
    "\n",
    "dropout = [0.1, 0.2, 0.3]\n",
    "\n",
    "param_grid = create_param_grid(hidden_dims, latent_dims, dropout, ['relu'], ['glorot_uniform'], betas=beta)\n",
    "cv = VAECrossValidator(param_grid, input_dim, 5, batch_size=128)\n"
   ],
   "metadata": {
    "collapsed": false,
    "ExecuteTime": {
     "end_time": "2023-05-18T03:05:37.694635400Z",
     "start_time": "2023-05-18T03:05:37.672632600Z"
    }
   }
  },
  {
   "cell_type": "code",
   "execution_count": 18,
   "outputs": [
    {
     "name": "stdout",
     "output_type": "stream",
     "text": [
      "\n",
      "Training model with parameters {'encoder': {'activation': 'relu', 'dropout_rate': 0.1, 'hidden_dim': [100, 100], 'initializer': 'glorot_uniform', 'latent_dim': 30}, 'decoder': {'activation': 'relu', 'dropout_rate': 0.1, 'hidden_dim': [100, 100], 'initializer': 'glorot_uniform', 'latent_dim': 30}, 'vae': {'beta': 1e-05}}\n"
     ]
    },
    {
     "name": "stderr",
     "output_type": "stream",
     "text": [
      "Fold Progress: 100%|██████████████████████████████| 5/5 [03:00<00:00, 36.06s/it]"
     ]
    },
    {
     "name": "stdout",
     "output_type": "stream",
     "text": [
      "WARNING:tensorflow:Compiled the loaded model, but the compiled metrics have yet to be built. `model.compile_metrics` will be empty until you train or evaluate the model.\n"
     ]
    },
    {
     "name": "stderr",
     "output_type": "stream",
     "text": [
      "\n"
     ]
    },
    {
     "name": "stdout",
     "output_type": "stream",
     "text": [
      "INFO:tensorflow:Assets written to: ../outputs/models/vae\\vae_h_dim_100_100_z_dim_30_dropout_01_init_glorot_uniform_act_relu\\encoder\\assets\n",
      "WARNING:tensorflow:Compiled the loaded model, but the compiled metrics have yet to be built. `model.compile_metrics` will be empty until you train or evaluate the model.\n",
      "INFO:tensorflow:Assets written to: ../outputs/models/vae\\vae_h_dim_100_100_z_dim_30_dropout_01_init_glorot_uniform_act_relu\\decoder\\assets\n",
      "\n",
      "Training model with parameters {'encoder': {'activation': 'relu', 'dropout_rate': 0.1, 'hidden_dim': [100, 100], 'initializer': 'glorot_uniform', 'latent_dim': 30}, 'decoder': {'activation': 'relu', 'dropout_rate': 0.1, 'hidden_dim': [100, 100], 'initializer': 'glorot_uniform', 'latent_dim': 30}, 'vae': {'beta': 0.0001}}\n"
     ]
    },
    {
     "name": "stderr",
     "output_type": "stream",
     "text": [
      "Fold Progress: 100%|██████████████████████████████| 5/5 [03:12<00:00, 38.55s/it]\n"
     ]
    },
    {
     "name": "stdout",
     "output_type": "stream",
     "text": [
      "\n",
      "Training model with parameters {'encoder': {'activation': 'relu', 'dropout_rate': 0.1, 'hidden_dim': [100, 100], 'initializer': 'glorot_uniform', 'latent_dim': 30}, 'decoder': {'activation': 'relu', 'dropout_rate': 0.1, 'hidden_dim': [100, 100], 'initializer': 'glorot_uniform', 'latent_dim': 30}, 'vae': {'beta': 0.001}}\n"
     ]
    },
    {
     "name": "stderr",
     "output_type": "stream",
     "text": [
      "Fold Progress: 100%|██████████████████████████████| 5/5 [02:51<00:00, 34.33s/it]\n"
     ]
    },
    {
     "name": "stdout",
     "output_type": "stream",
     "text": [
      "\n",
      "Training model with parameters {'encoder': {'activation': 'relu', 'dropout_rate': 0.1, 'hidden_dim': [150, 150], 'initializer': 'glorot_uniform', 'latent_dim': 30}, 'decoder': {'activation': 'relu', 'dropout_rate': 0.1, 'hidden_dim': [150, 150], 'initializer': 'glorot_uniform', 'latent_dim': 30}, 'vae': {'beta': 1e-05}}\n"
     ]
    },
    {
     "name": "stderr",
     "output_type": "stream",
     "text": [
      "Fold Progress: 100%|██████████████████████████████| 5/5 [03:55<00:00, 47.18s/it]"
     ]
    },
    {
     "name": "stdout",
     "output_type": "stream",
     "text": [
      "WARNING:tensorflow:Compiled the loaded model, but the compiled metrics have yet to be built. `model.compile_metrics` will be empty until you train or evaluate the model.\n"
     ]
    },
    {
     "name": "stderr",
     "output_type": "stream",
     "text": [
      "\n"
     ]
    },
    {
     "name": "stdout",
     "output_type": "stream",
     "text": [
      "INFO:tensorflow:Assets written to: ../outputs/models/vae\\vae_h_dim_150_150_z_dim_30_dropout_01_init_glorot_uniform_act_relu\\encoder\\assets\n",
      "WARNING:tensorflow:Compiled the loaded model, but the compiled metrics have yet to be built. `model.compile_metrics` will be empty until you train or evaluate the model.\n",
      "INFO:tensorflow:Assets written to: ../outputs/models/vae\\vae_h_dim_150_150_z_dim_30_dropout_01_init_glorot_uniform_act_relu\\decoder\\assets\n",
      "\n",
      "Training model with parameters {'encoder': {'activation': 'relu', 'dropout_rate': 0.1, 'hidden_dim': [150, 150], 'initializer': 'glorot_uniform', 'latent_dim': 30}, 'decoder': {'activation': 'relu', 'dropout_rate': 0.1, 'hidden_dim': [150, 150], 'initializer': 'glorot_uniform', 'latent_dim': 30}, 'vae': {'beta': 0.0001}}\n"
     ]
    },
    {
     "name": "stderr",
     "output_type": "stream",
     "text": [
      "Fold Progress: 100%|██████████████████████████████| 5/5 [03:11<00:00, 38.25s/it]\n"
     ]
    },
    {
     "name": "stdout",
     "output_type": "stream",
     "text": [
      "\n",
      "Training model with parameters {'encoder': {'activation': 'relu', 'dropout_rate': 0.1, 'hidden_dim': [150, 150], 'initializer': 'glorot_uniform', 'latent_dim': 30}, 'decoder': {'activation': 'relu', 'dropout_rate': 0.1, 'hidden_dim': [150, 150], 'initializer': 'glorot_uniform', 'latent_dim': 30}, 'vae': {'beta': 0.001}}\n"
     ]
    },
    {
     "name": "stderr",
     "output_type": "stream",
     "text": [
      "Fold Progress: 100%|██████████████████████████████| 5/5 [03:36<00:00, 43.26s/it]\n"
     ]
    },
    {
     "name": "stdout",
     "output_type": "stream",
     "text": [
      "\n",
      "Training model with parameters {'encoder': {'activation': 'relu', 'dropout_rate': 0.1, 'hidden_dim': [200, 200], 'initializer': 'glorot_uniform', 'latent_dim': 30}, 'decoder': {'activation': 'relu', 'dropout_rate': 0.1, 'hidden_dim': [200, 200], 'initializer': 'glorot_uniform', 'latent_dim': 30}, 'vae': {'beta': 1e-05}}\n"
     ]
    },
    {
     "name": "stderr",
     "output_type": "stream",
     "text": [
      "Fold Progress: 100%|██████████████████████████████| 5/5 [03:00<00:00, 36.13s/it]"
     ]
    },
    {
     "name": "stdout",
     "output_type": "stream",
     "text": [
      "WARNING:tensorflow:Compiled the loaded model, but the compiled metrics have yet to be built. `model.compile_metrics` will be empty until you train or evaluate the model.\n"
     ]
    },
    {
     "name": "stderr",
     "output_type": "stream",
     "text": [
      "\n"
     ]
    },
    {
     "name": "stdout",
     "output_type": "stream",
     "text": [
      "INFO:tensorflow:Assets written to: ../outputs/models/vae\\vae_h_dim_200_200_z_dim_30_dropout_01_init_glorot_uniform_act_relu\\encoder\\assets\n",
      "WARNING:tensorflow:Compiled the loaded model, but the compiled metrics have yet to be built. `model.compile_metrics` will be empty until you train or evaluate the model.\n",
      "INFO:tensorflow:Assets written to: ../outputs/models/vae\\vae_h_dim_200_200_z_dim_30_dropout_01_init_glorot_uniform_act_relu\\decoder\\assets\n",
      "\n",
      "Training model with parameters {'encoder': {'activation': 'relu', 'dropout_rate': 0.1, 'hidden_dim': [200, 200], 'initializer': 'glorot_uniform', 'latent_dim': 30}, 'decoder': {'activation': 'relu', 'dropout_rate': 0.1, 'hidden_dim': [200, 200], 'initializer': 'glorot_uniform', 'latent_dim': 30}, 'vae': {'beta': 0.0001}}\n"
     ]
    },
    {
     "name": "stderr",
     "output_type": "stream",
     "text": [
      "Fold Progress: 100%|██████████████████████████████| 5/5 [02:45<00:00, 33.06s/it]\n"
     ]
    },
    {
     "name": "stdout",
     "output_type": "stream",
     "text": [
      "\n",
      "Training model with parameters {'encoder': {'activation': 'relu', 'dropout_rate': 0.1, 'hidden_dim': [200, 200], 'initializer': 'glorot_uniform', 'latent_dim': 30}, 'decoder': {'activation': 'relu', 'dropout_rate': 0.1, 'hidden_dim': [200, 200], 'initializer': 'glorot_uniform', 'latent_dim': 30}, 'vae': {'beta': 0.001}}\n"
     ]
    },
    {
     "name": "stderr",
     "output_type": "stream",
     "text": [
      "Fold Progress: 100%|██████████████████████████████| 5/5 [03:38<00:00, 43.73s/it]\n"
     ]
    },
    {
     "name": "stdout",
     "output_type": "stream",
     "text": [
      "\n",
      "Training model with parameters {'encoder': {'activation': 'relu', 'dropout_rate': 0.1, 'hidden_dim': [250, 250], 'initializer': 'glorot_uniform', 'latent_dim': 30}, 'decoder': {'activation': 'relu', 'dropout_rate': 0.1, 'hidden_dim': [250, 250], 'initializer': 'glorot_uniform', 'latent_dim': 30}, 'vae': {'beta': 1e-05}}\n"
     ]
    },
    {
     "name": "stderr",
     "output_type": "stream",
     "text": [
      "Fold Progress: 100%|██████████████████████████████| 5/5 [03:17<00:00, 39.45s/it]"
     ]
    },
    {
     "name": "stdout",
     "output_type": "stream",
     "text": [
      "WARNING:tensorflow:Compiled the loaded model, but the compiled metrics have yet to be built. `model.compile_metrics` will be empty until you train or evaluate the model.\n"
     ]
    },
    {
     "name": "stderr",
     "output_type": "stream",
     "text": [
      "\n"
     ]
    },
    {
     "name": "stdout",
     "output_type": "stream",
     "text": [
      "INFO:tensorflow:Assets written to: ../outputs/models/vae\\vae_h_dim_250_250_z_dim_30_dropout_01_init_glorot_uniform_act_relu\\encoder\\assets\n",
      "WARNING:tensorflow:Compiled the loaded model, but the compiled metrics have yet to be built. `model.compile_metrics` will be empty until you train or evaluate the model.\n",
      "INFO:tensorflow:Assets written to: ../outputs/models/vae\\vae_h_dim_250_250_z_dim_30_dropout_01_init_glorot_uniform_act_relu\\decoder\\assets\n",
      "\n",
      "Training model with parameters {'encoder': {'activation': 'relu', 'dropout_rate': 0.1, 'hidden_dim': [250, 250], 'initializer': 'glorot_uniform', 'latent_dim': 30}, 'decoder': {'activation': 'relu', 'dropout_rate': 0.1, 'hidden_dim': [250, 250], 'initializer': 'glorot_uniform', 'latent_dim': 30}, 'vae': {'beta': 0.0001}}\n"
     ]
    },
    {
     "name": "stderr",
     "output_type": "stream",
     "text": [
      "Fold Progress: 100%|██████████████████████████████| 5/5 [03:39<00:00, 43.92s/it]\n"
     ]
    },
    {
     "name": "stdout",
     "output_type": "stream",
     "text": [
      "\n",
      "Training model with parameters {'encoder': {'activation': 'relu', 'dropout_rate': 0.1, 'hidden_dim': [250, 250], 'initializer': 'glorot_uniform', 'latent_dim': 30}, 'decoder': {'activation': 'relu', 'dropout_rate': 0.1, 'hidden_dim': [250, 250], 'initializer': 'glorot_uniform', 'latent_dim': 30}, 'vae': {'beta': 0.001}}\n"
     ]
    },
    {
     "name": "stderr",
     "output_type": "stream",
     "text": [
      "Fold Progress: 100%|██████████████████████████████| 5/5 [03:19<00:00, 39.88s/it]\n"
     ]
    },
    {
     "name": "stdout",
     "output_type": "stream",
     "text": [
      "\n",
      "Training model with parameters {'encoder': {'activation': 'relu', 'dropout_rate': 0.1, 'hidden_dim': [300, 300], 'initializer': 'glorot_uniform', 'latent_dim': 30}, 'decoder': {'activation': 'relu', 'dropout_rate': 0.1, 'hidden_dim': [300, 300], 'initializer': 'glorot_uniform', 'latent_dim': 30}, 'vae': {'beta': 1e-05}}\n"
     ]
    },
    {
     "name": "stderr",
     "output_type": "stream",
     "text": [
      "Fold Progress: 100%|██████████████████████████████| 5/5 [03:03<00:00, 36.69s/it]"
     ]
    },
    {
     "name": "stdout",
     "output_type": "stream",
     "text": [
      "WARNING:tensorflow:Compiled the loaded model, but the compiled metrics have yet to be built. `model.compile_metrics` will be empty until you train or evaluate the model.\n"
     ]
    },
    {
     "name": "stderr",
     "output_type": "stream",
     "text": [
      "\n"
     ]
    },
    {
     "name": "stdout",
     "output_type": "stream",
     "text": [
      "INFO:tensorflow:Assets written to: ../outputs/models/vae\\vae_h_dim_300_300_z_dim_30_dropout_01_init_glorot_uniform_act_relu\\encoder\\assets\n",
      "WARNING:tensorflow:Compiled the loaded model, but the compiled metrics have yet to be built. `model.compile_metrics` will be empty until you train or evaluate the model.\n",
      "INFO:tensorflow:Assets written to: ../outputs/models/vae\\vae_h_dim_300_300_z_dim_30_dropout_01_init_glorot_uniform_act_relu\\decoder\\assets\n",
      "\n",
      "Training model with parameters {'encoder': {'activation': 'relu', 'dropout_rate': 0.1, 'hidden_dim': [300, 300], 'initializer': 'glorot_uniform', 'latent_dim': 30}, 'decoder': {'activation': 'relu', 'dropout_rate': 0.1, 'hidden_dim': [300, 300], 'initializer': 'glorot_uniform', 'latent_dim': 30}, 'vae': {'beta': 0.0001}}\n"
     ]
    },
    {
     "name": "stderr",
     "output_type": "stream",
     "text": [
      "Fold Progress: 100%|██████████████████████████████| 5/5 [04:48<00:00, 57.65s/it]\n"
     ]
    },
    {
     "name": "stdout",
     "output_type": "stream",
     "text": [
      "\n",
      "Training model with parameters {'encoder': {'activation': 'relu', 'dropout_rate': 0.1, 'hidden_dim': [300, 300], 'initializer': 'glorot_uniform', 'latent_dim': 30}, 'decoder': {'activation': 'relu', 'dropout_rate': 0.1, 'hidden_dim': [300, 300], 'initializer': 'glorot_uniform', 'latent_dim': 30}, 'vae': {'beta': 0.001}}\n"
     ]
    },
    {
     "name": "stderr",
     "output_type": "stream",
     "text": [
      "Fold Progress: 100%|██████████████████████████████| 5/5 [03:13<00:00, 38.79s/it]\n"
     ]
    },
    {
     "name": "stdout",
     "output_type": "stream",
     "text": [
      "\n",
      "Training model with parameters {'encoder': {'activation': 'relu', 'dropout_rate': 0.1, 'hidden_dim': [150, 100, 50], 'initializer': 'glorot_uniform', 'latent_dim': 30}, 'decoder': {'activation': 'relu', 'dropout_rate': 0.1, 'hidden_dim': [150, 100, 50], 'initializer': 'glorot_uniform', 'latent_dim': 30}, 'vae': {'beta': 1e-05}}\n"
     ]
    },
    {
     "name": "stderr",
     "output_type": "stream",
     "text": [
      "Fold Progress: 100%|██████████████████████████████| 5/5 [03:27<00:00, 41.50s/it]"
     ]
    },
    {
     "name": "stdout",
     "output_type": "stream",
     "text": [
      "WARNING:tensorflow:Compiled the loaded model, but the compiled metrics have yet to be built. `model.compile_metrics` will be empty until you train or evaluate the model.\n"
     ]
    },
    {
     "name": "stderr",
     "output_type": "stream",
     "text": [
      "\n"
     ]
    },
    {
     "name": "stdout",
     "output_type": "stream",
     "text": [
      "INFO:tensorflow:Assets written to: ../outputs/models/vae\\vae_h_dim_150_100_50_z_dim_30_dropout_01_init_glorot_uniform_act_relu\\encoder\\assets\n",
      "WARNING:tensorflow:Compiled the loaded model, but the compiled metrics have yet to be built. `model.compile_metrics` will be empty until you train or evaluate the model.\n",
      "INFO:tensorflow:Assets written to: ../outputs/models/vae\\vae_h_dim_150_100_50_z_dim_30_dropout_01_init_glorot_uniform_act_relu\\decoder\\assets\n",
      "\n",
      "Training model with parameters {'encoder': {'activation': 'relu', 'dropout_rate': 0.1, 'hidden_dim': [150, 100, 50], 'initializer': 'glorot_uniform', 'latent_dim': 30}, 'decoder': {'activation': 'relu', 'dropout_rate': 0.1, 'hidden_dim': [150, 100, 50], 'initializer': 'glorot_uniform', 'latent_dim': 30}, 'vae': {'beta': 0.0001}}\n"
     ]
    },
    {
     "name": "stderr",
     "output_type": "stream",
     "text": [
      "Fold Progress: 100%|██████████████████████████████| 5/5 [03:23<00:00, 40.70s/it]\n"
     ]
    },
    {
     "name": "stdout",
     "output_type": "stream",
     "text": [
      "\n",
      "Training model with parameters {'encoder': {'activation': 'relu', 'dropout_rate': 0.1, 'hidden_dim': [150, 100, 50], 'initializer': 'glorot_uniform', 'latent_dim': 30}, 'decoder': {'activation': 'relu', 'dropout_rate': 0.1, 'hidden_dim': [150, 100, 50], 'initializer': 'glorot_uniform', 'latent_dim': 30}, 'vae': {'beta': 0.001}}\n"
     ]
    },
    {
     "name": "stderr",
     "output_type": "stream",
     "text": [
      "Fold Progress: 100%|██████████████████████████████| 5/5 [03:46<00:00, 45.22s/it]\n"
     ]
    },
    {
     "name": "stdout",
     "output_type": "stream",
     "text": [
      "\n",
      "Training model with parameters {'encoder': {'activation': 'relu', 'dropout_rate': 0.1, 'hidden_dim': [200, 150, 100], 'initializer': 'glorot_uniform', 'latent_dim': 30}, 'decoder': {'activation': 'relu', 'dropout_rate': 0.1, 'hidden_dim': [200, 150, 100], 'initializer': 'glorot_uniform', 'latent_dim': 30}, 'vae': {'beta': 1e-05}}\n"
     ]
    },
    {
     "name": "stderr",
     "output_type": "stream",
     "text": [
      "Fold Progress: 100%|██████████████████████████████| 5/5 [03:33<00:00, 42.80s/it]"
     ]
    },
    {
     "name": "stdout",
     "output_type": "stream",
     "text": [
      "WARNING:tensorflow:Compiled the loaded model, but the compiled metrics have yet to be built. `model.compile_metrics` will be empty until you train or evaluate the model.\n"
     ]
    },
    {
     "name": "stderr",
     "output_type": "stream",
     "text": [
      "\n"
     ]
    },
    {
     "name": "stdout",
     "output_type": "stream",
     "text": [
      "INFO:tensorflow:Assets written to: ../outputs/models/vae\\vae_h_dim_200_150_100_z_dim_30_dropout_01_init_glorot_uniform_act_relu\\encoder\\assets\n",
      "WARNING:tensorflow:Compiled the loaded model, but the compiled metrics have yet to be built. `model.compile_metrics` will be empty until you train or evaluate the model.\n",
      "INFO:tensorflow:Assets written to: ../outputs/models/vae\\vae_h_dim_200_150_100_z_dim_30_dropout_01_init_glorot_uniform_act_relu\\decoder\\assets\n",
      "\n",
      "Training model with parameters {'encoder': {'activation': 'relu', 'dropout_rate': 0.1, 'hidden_dim': [200, 150, 100], 'initializer': 'glorot_uniform', 'latent_dim': 30}, 'decoder': {'activation': 'relu', 'dropout_rate': 0.1, 'hidden_dim': [200, 150, 100], 'initializer': 'glorot_uniform', 'latent_dim': 30}, 'vae': {'beta': 0.0001}}\n"
     ]
    },
    {
     "name": "stderr",
     "output_type": "stream",
     "text": [
      "Fold Progress: 100%|██████████████████████████████| 5/5 [04:11<00:00, 50.21s/it]\n"
     ]
    },
    {
     "name": "stdout",
     "output_type": "stream",
     "text": [
      "\n",
      "Training model with parameters {'encoder': {'activation': 'relu', 'dropout_rate': 0.1, 'hidden_dim': [200, 150, 100], 'initializer': 'glorot_uniform', 'latent_dim': 30}, 'decoder': {'activation': 'relu', 'dropout_rate': 0.1, 'hidden_dim': [200, 150, 100], 'initializer': 'glorot_uniform', 'latent_dim': 30}, 'vae': {'beta': 0.001}}\n"
     ]
    },
    {
     "name": "stderr",
     "output_type": "stream",
     "text": [
      "Fold Progress: 100%|██████████████████████████████| 5/5 [03:27<00:00, 41.44s/it]\n"
     ]
    },
    {
     "name": "stdout",
     "output_type": "stream",
     "text": [
      "\n",
      "Training model with parameters {'encoder': {'activation': 'relu', 'dropout_rate': 0.1, 'hidden_dim': [250, 200, 150], 'initializer': 'glorot_uniform', 'latent_dim': 30}, 'decoder': {'activation': 'relu', 'dropout_rate': 0.1, 'hidden_dim': [250, 200, 150], 'initializer': 'glorot_uniform', 'latent_dim': 30}, 'vae': {'beta': 1e-05}}\n"
     ]
    },
    {
     "name": "stderr",
     "output_type": "stream",
     "text": [
      "Fold Progress: 100%|██████████████████████████████| 5/5 [04:47<00:00, 57.51s/it]"
     ]
    },
    {
     "name": "stdout",
     "output_type": "stream",
     "text": [
      "WARNING:tensorflow:Compiled the loaded model, but the compiled metrics have yet to be built. `model.compile_metrics` will be empty until you train or evaluate the model.\n"
     ]
    },
    {
     "name": "stderr",
     "output_type": "stream",
     "text": [
      "\n"
     ]
    },
    {
     "name": "stdout",
     "output_type": "stream",
     "text": [
      "INFO:tensorflow:Assets written to: ../outputs/models/vae\\vae_h_dim_250_200_150_z_dim_30_dropout_01_init_glorot_uniform_act_relu\\encoder\\assets\n",
      "WARNING:tensorflow:Compiled the loaded model, but the compiled metrics have yet to be built. `model.compile_metrics` will be empty until you train or evaluate the model.\n",
      "INFO:tensorflow:Assets written to: ../outputs/models/vae\\vae_h_dim_250_200_150_z_dim_30_dropout_01_init_glorot_uniform_act_relu\\decoder\\assets\n",
      "\n",
      "Training model with parameters {'encoder': {'activation': 'relu', 'dropout_rate': 0.1, 'hidden_dim': [250, 200, 150], 'initializer': 'glorot_uniform', 'latent_dim': 30}, 'decoder': {'activation': 'relu', 'dropout_rate': 0.1, 'hidden_dim': [250, 200, 150], 'initializer': 'glorot_uniform', 'latent_dim': 30}, 'vae': {'beta': 0.0001}}\n"
     ]
    },
    {
     "name": "stderr",
     "output_type": "stream",
     "text": [
      "Fold Progress: 100%|██████████████████████████████| 5/5 [03:46<00:00, 45.40s/it]\n"
     ]
    },
    {
     "name": "stdout",
     "output_type": "stream",
     "text": [
      "\n",
      "Training model with parameters {'encoder': {'activation': 'relu', 'dropout_rate': 0.1, 'hidden_dim': [250, 200, 150], 'initializer': 'glorot_uniform', 'latent_dim': 30}, 'decoder': {'activation': 'relu', 'dropout_rate': 0.1, 'hidden_dim': [250, 200, 150], 'initializer': 'glorot_uniform', 'latent_dim': 30}, 'vae': {'beta': 0.001}}\n"
     ]
    },
    {
     "name": "stderr",
     "output_type": "stream",
     "text": [
      "Fold Progress: 100%|██████████████████████████████| 5/5 [05:19<00:00, 63.99s/it]\n"
     ]
    },
    {
     "name": "stdout",
     "output_type": "stream",
     "text": [
      "\n",
      "Training model with parameters {'encoder': {'activation': 'relu', 'dropout_rate': 0.1, 'hidden_dim': [300, 200, 100], 'initializer': 'glorot_uniform', 'latent_dim': 30}, 'decoder': {'activation': 'relu', 'dropout_rate': 0.1, 'hidden_dim': [300, 200, 100], 'initializer': 'glorot_uniform', 'latent_dim': 30}, 'vae': {'beta': 1e-05}}\n"
     ]
    },
    {
     "name": "stderr",
     "output_type": "stream",
     "text": [
      "Fold Progress: 100%|██████████████████████████████| 5/5 [04:01<00:00, 48.33s/it]"
     ]
    },
    {
     "name": "stdout",
     "output_type": "stream",
     "text": [
      "WARNING:tensorflow:Compiled the loaded model, but the compiled metrics have yet to be built. `model.compile_metrics` will be empty until you train or evaluate the model.\n"
     ]
    },
    {
     "name": "stderr",
     "output_type": "stream",
     "text": [
      "\n"
     ]
    },
    {
     "name": "stdout",
     "output_type": "stream",
     "text": [
      "INFO:tensorflow:Assets written to: ../outputs/models/vae\\vae_h_dim_300_200_100_z_dim_30_dropout_01_init_glorot_uniform_act_relu\\encoder\\assets\n",
      "WARNING:tensorflow:Compiled the loaded model, but the compiled metrics have yet to be built. `model.compile_metrics` will be empty until you train or evaluate the model.\n",
      "INFO:tensorflow:Assets written to: ../outputs/models/vae\\vae_h_dim_300_200_100_z_dim_30_dropout_01_init_glorot_uniform_act_relu\\decoder\\assets\n",
      "\n",
      "Training model with parameters {'encoder': {'activation': 'relu', 'dropout_rate': 0.1, 'hidden_dim': [300, 200, 100], 'initializer': 'glorot_uniform', 'latent_dim': 30}, 'decoder': {'activation': 'relu', 'dropout_rate': 0.1, 'hidden_dim': [300, 200, 100], 'initializer': 'glorot_uniform', 'latent_dim': 30}, 'vae': {'beta': 0.0001}}\n"
     ]
    },
    {
     "name": "stderr",
     "output_type": "stream",
     "text": [
      "Fold Progress: 100%|██████████████████████████████| 5/5 [05:31<00:00, 66.24s/it]\n"
     ]
    },
    {
     "name": "stdout",
     "output_type": "stream",
     "text": [
      "\n",
      "Training model with parameters {'encoder': {'activation': 'relu', 'dropout_rate': 0.1, 'hidden_dim': [300, 200, 100], 'initializer': 'glorot_uniform', 'latent_dim': 30}, 'decoder': {'activation': 'relu', 'dropout_rate': 0.1, 'hidden_dim': [300, 200, 100], 'initializer': 'glorot_uniform', 'latent_dim': 30}, 'vae': {'beta': 0.001}}\n"
     ]
    },
    {
     "name": "stderr",
     "output_type": "stream",
     "text": [
      "Fold Progress: 100%|██████████████████████████████| 5/5 [04:41<00:00, 56.34s/it]\n"
     ]
    },
    {
     "name": "stdout",
     "output_type": "stream",
     "text": [
      "\n",
      "Training model with parameters {'encoder': {'activation': 'relu', 'dropout_rate': 0.2, 'hidden_dim': [100, 100], 'initializer': 'glorot_uniform', 'latent_dim': 30}, 'decoder': {'activation': 'relu', 'dropout_rate': 0.2, 'hidden_dim': [100, 100], 'initializer': 'glorot_uniform', 'latent_dim': 30}, 'vae': {'beta': 1e-05}}\n"
     ]
    },
    {
     "name": "stderr",
     "output_type": "stream",
     "text": [
      "Fold Progress: 100%|██████████████████████████████| 5/5 [03:35<00:00, 43.06s/it]\n"
     ]
    },
    {
     "name": "stdout",
     "output_type": "stream",
     "text": [
      "\n",
      "Training model with parameters {'encoder': {'activation': 'relu', 'dropout_rate': 0.2, 'hidden_dim': [100, 100], 'initializer': 'glorot_uniform', 'latent_dim': 30}, 'decoder': {'activation': 'relu', 'dropout_rate': 0.2, 'hidden_dim': [100, 100], 'initializer': 'glorot_uniform', 'latent_dim': 30}, 'vae': {'beta': 0.0001}}\n"
     ]
    },
    {
     "name": "stderr",
     "output_type": "stream",
     "text": [
      "Fold Progress: 100%|██████████████████████████████| 5/5 [03:06<00:00, 37.28s/it]\n"
     ]
    },
    {
     "name": "stdout",
     "output_type": "stream",
     "text": [
      "\n",
      "Training model with parameters {'encoder': {'activation': 'relu', 'dropout_rate': 0.2, 'hidden_dim': [100, 100], 'initializer': 'glorot_uniform', 'latent_dim': 30}, 'decoder': {'activation': 'relu', 'dropout_rate': 0.2, 'hidden_dim': [100, 100], 'initializer': 'glorot_uniform', 'latent_dim': 30}, 'vae': {'beta': 0.001}}\n"
     ]
    },
    {
     "name": "stderr",
     "output_type": "stream",
     "text": [
      "Fold Progress: 100%|██████████████████████████████| 5/5 [02:36<00:00, 31.24s/it]\n"
     ]
    },
    {
     "name": "stdout",
     "output_type": "stream",
     "text": [
      "\n",
      "Training model with parameters {'encoder': {'activation': 'relu', 'dropout_rate': 0.2, 'hidden_dim': [150, 150], 'initializer': 'glorot_uniform', 'latent_dim': 30}, 'decoder': {'activation': 'relu', 'dropout_rate': 0.2, 'hidden_dim': [150, 150], 'initializer': 'glorot_uniform', 'latent_dim': 30}, 'vae': {'beta': 1e-05}}\n"
     ]
    },
    {
     "name": "stderr",
     "output_type": "stream",
     "text": [
      "Fold Progress: 100%|██████████████████████████████| 5/5 [03:36<00:00, 43.30s/it]\n"
     ]
    },
    {
     "name": "stdout",
     "output_type": "stream",
     "text": [
      "\n",
      "Training model with parameters {'encoder': {'activation': 'relu', 'dropout_rate': 0.2, 'hidden_dim': [150, 150], 'initializer': 'glorot_uniform', 'latent_dim': 30}, 'decoder': {'activation': 'relu', 'dropout_rate': 0.2, 'hidden_dim': [150, 150], 'initializer': 'glorot_uniform', 'latent_dim': 30}, 'vae': {'beta': 0.0001}}\n"
     ]
    },
    {
     "name": "stderr",
     "output_type": "stream",
     "text": [
      "Fold Progress: 100%|██████████████████████████████| 5/5 [02:50<00:00, 34.12s/it]\n"
     ]
    },
    {
     "name": "stdout",
     "output_type": "stream",
     "text": [
      "\n",
      "Training model with parameters {'encoder': {'activation': 'relu', 'dropout_rate': 0.2, 'hidden_dim': [150, 150], 'initializer': 'glorot_uniform', 'latent_dim': 30}, 'decoder': {'activation': 'relu', 'dropout_rate': 0.2, 'hidden_dim': [150, 150], 'initializer': 'glorot_uniform', 'latent_dim': 30}, 'vae': {'beta': 0.001}}\n"
     ]
    },
    {
     "name": "stderr",
     "output_type": "stream",
     "text": [
      "Fold Progress: 100%|██████████████████████████████| 5/5 [03:16<00:00, 39.34s/it]\n"
     ]
    },
    {
     "name": "stdout",
     "output_type": "stream",
     "text": [
      "\n",
      "Training model with parameters {'encoder': {'activation': 'relu', 'dropout_rate': 0.2, 'hidden_dim': [200, 200], 'initializer': 'glorot_uniform', 'latent_dim': 30}, 'decoder': {'activation': 'relu', 'dropout_rate': 0.2, 'hidden_dim': [200, 200], 'initializer': 'glorot_uniform', 'latent_dim': 30}, 'vae': {'beta': 1e-05}}\n"
     ]
    },
    {
     "name": "stderr",
     "output_type": "stream",
     "text": [
      "Fold Progress: 100%|██████████████████████████████| 5/5 [03:23<00:00, 40.73s/it]\n"
     ]
    },
    {
     "name": "stdout",
     "output_type": "stream",
     "text": [
      "\n",
      "Training model with parameters {'encoder': {'activation': 'relu', 'dropout_rate': 0.2, 'hidden_dim': [200, 200], 'initializer': 'glorot_uniform', 'latent_dim': 30}, 'decoder': {'activation': 'relu', 'dropout_rate': 0.2, 'hidden_dim': [200, 200], 'initializer': 'glorot_uniform', 'latent_dim': 30}, 'vae': {'beta': 0.0001}}\n"
     ]
    },
    {
     "name": "stderr",
     "output_type": "stream",
     "text": [
      "Fold Progress: 100%|██████████████████████████████| 5/5 [02:45<00:00, 33.13s/it]\n"
     ]
    },
    {
     "name": "stdout",
     "output_type": "stream",
     "text": [
      "\n",
      "Training model with parameters {'encoder': {'activation': 'relu', 'dropout_rate': 0.2, 'hidden_dim': [200, 200], 'initializer': 'glorot_uniform', 'latent_dim': 30}, 'decoder': {'activation': 'relu', 'dropout_rate': 0.2, 'hidden_dim': [200, 200], 'initializer': 'glorot_uniform', 'latent_dim': 30}, 'vae': {'beta': 0.001}}\n"
     ]
    },
    {
     "name": "stderr",
     "output_type": "stream",
     "text": [
      "Fold Progress: 100%|██████████████████████████████| 5/5 [02:58<00:00, 35.74s/it]\n"
     ]
    },
    {
     "name": "stdout",
     "output_type": "stream",
     "text": [
      "\n",
      "Training model with parameters {'encoder': {'activation': 'relu', 'dropout_rate': 0.2, 'hidden_dim': [250, 250], 'initializer': 'glorot_uniform', 'latent_dim': 30}, 'decoder': {'activation': 'relu', 'dropout_rate': 0.2, 'hidden_dim': [250, 250], 'initializer': 'glorot_uniform', 'latent_dim': 30}, 'vae': {'beta': 1e-05}}\n"
     ]
    },
    {
     "name": "stderr",
     "output_type": "stream",
     "text": [
      "Fold Progress: 100%|██████████████████████████████| 5/5 [03:34<00:00, 42.92s/it]\n"
     ]
    },
    {
     "name": "stdout",
     "output_type": "stream",
     "text": [
      "\n",
      "Training model with parameters {'encoder': {'activation': 'relu', 'dropout_rate': 0.2, 'hidden_dim': [250, 250], 'initializer': 'glorot_uniform', 'latent_dim': 30}, 'decoder': {'activation': 'relu', 'dropout_rate': 0.2, 'hidden_dim': [250, 250], 'initializer': 'glorot_uniform', 'latent_dim': 30}, 'vae': {'beta': 0.0001}}\n"
     ]
    },
    {
     "name": "stderr",
     "output_type": "stream",
     "text": [
      "Fold Progress: 100%|██████████████████████████████| 5/5 [02:56<00:00, 35.29s/it]\n"
     ]
    },
    {
     "name": "stdout",
     "output_type": "stream",
     "text": [
      "\n",
      "Training model with parameters {'encoder': {'activation': 'relu', 'dropout_rate': 0.2, 'hidden_dim': [250, 250], 'initializer': 'glorot_uniform', 'latent_dim': 30}, 'decoder': {'activation': 'relu', 'dropout_rate': 0.2, 'hidden_dim': [250, 250], 'initializer': 'glorot_uniform', 'latent_dim': 30}, 'vae': {'beta': 0.001}}\n"
     ]
    },
    {
     "name": "stderr",
     "output_type": "stream",
     "text": [
      "Fold Progress: 100%|██████████████████████████████| 5/5 [03:33<00:00, 42.79s/it]\n"
     ]
    },
    {
     "name": "stdout",
     "output_type": "stream",
     "text": [
      "\n",
      "Training model with parameters {'encoder': {'activation': 'relu', 'dropout_rate': 0.2, 'hidden_dim': [300, 300], 'initializer': 'glorot_uniform', 'latent_dim': 30}, 'decoder': {'activation': 'relu', 'dropout_rate': 0.2, 'hidden_dim': [300, 300], 'initializer': 'glorot_uniform', 'latent_dim': 30}, 'vae': {'beta': 1e-05}}\n"
     ]
    },
    {
     "name": "stderr",
     "output_type": "stream",
     "text": [
      "Fold Progress: 100%|██████████████████████████████| 5/5 [03:57<00:00, 47.57s/it]\n"
     ]
    },
    {
     "name": "stdout",
     "output_type": "stream",
     "text": [
      "\n",
      "Training model with parameters {'encoder': {'activation': 'relu', 'dropout_rate': 0.2, 'hidden_dim': [300, 300], 'initializer': 'glorot_uniform', 'latent_dim': 30}, 'decoder': {'activation': 'relu', 'dropout_rate': 0.2, 'hidden_dim': [300, 300], 'initializer': 'glorot_uniform', 'latent_dim': 30}, 'vae': {'beta': 0.0001}}\n"
     ]
    },
    {
     "name": "stderr",
     "output_type": "stream",
     "text": [
      "Fold Progress: 100%|██████████████████████████████| 5/5 [03:26<00:00, 41.31s/it]\n"
     ]
    },
    {
     "name": "stdout",
     "output_type": "stream",
     "text": [
      "\n",
      "Training model with parameters {'encoder': {'activation': 'relu', 'dropout_rate': 0.2, 'hidden_dim': [300, 300], 'initializer': 'glorot_uniform', 'latent_dim': 30}, 'decoder': {'activation': 'relu', 'dropout_rate': 0.2, 'hidden_dim': [300, 300], 'initializer': 'glorot_uniform', 'latent_dim': 30}, 'vae': {'beta': 0.001}}\n"
     ]
    },
    {
     "name": "stderr",
     "output_type": "stream",
     "text": [
      "Fold Progress: 100%|██████████████████████████████| 5/5 [04:19<00:00, 51.97s/it]\n"
     ]
    },
    {
     "name": "stdout",
     "output_type": "stream",
     "text": [
      "\n",
      "Training model with parameters {'encoder': {'activation': 'relu', 'dropout_rate': 0.2, 'hidden_dim': [150, 100, 50], 'initializer': 'glorot_uniform', 'latent_dim': 30}, 'decoder': {'activation': 'relu', 'dropout_rate': 0.2, 'hidden_dim': [150, 100, 50], 'initializer': 'glorot_uniform', 'latent_dim': 30}, 'vae': {'beta': 1e-05}}\n"
     ]
    },
    {
     "name": "stderr",
     "output_type": "stream",
     "text": [
      "Fold Progress: 100%|██████████████████████████████| 5/5 [03:15<00:00, 39.15s/it]\n"
     ]
    },
    {
     "name": "stdout",
     "output_type": "stream",
     "text": [
      "\n",
      "Training model with parameters {'encoder': {'activation': 'relu', 'dropout_rate': 0.2, 'hidden_dim': [150, 100, 50], 'initializer': 'glorot_uniform', 'latent_dim': 30}, 'decoder': {'activation': 'relu', 'dropout_rate': 0.2, 'hidden_dim': [150, 100, 50], 'initializer': 'glorot_uniform', 'latent_dim': 30}, 'vae': {'beta': 0.0001}}\n"
     ]
    },
    {
     "name": "stderr",
     "output_type": "stream",
     "text": [
      "Fold Progress: 100%|██████████████████████████████| 5/5 [03:22<00:00, 40.44s/it]\n"
     ]
    },
    {
     "name": "stdout",
     "output_type": "stream",
     "text": [
      "\n",
      "Training model with parameters {'encoder': {'activation': 'relu', 'dropout_rate': 0.2, 'hidden_dim': [150, 100, 50], 'initializer': 'glorot_uniform', 'latent_dim': 30}, 'decoder': {'activation': 'relu', 'dropout_rate': 0.2, 'hidden_dim': [150, 100, 50], 'initializer': 'glorot_uniform', 'latent_dim': 30}, 'vae': {'beta': 0.001}}\n"
     ]
    },
    {
     "name": "stderr",
     "output_type": "stream",
     "text": [
      "Fold Progress: 100%|██████████████████████████████| 5/5 [03:35<00:00, 43.05s/it]\n"
     ]
    },
    {
     "name": "stdout",
     "output_type": "stream",
     "text": [
      "\n",
      "Training model with parameters {'encoder': {'activation': 'relu', 'dropout_rate': 0.2, 'hidden_dim': [200, 150, 100], 'initializer': 'glorot_uniform', 'latent_dim': 30}, 'decoder': {'activation': 'relu', 'dropout_rate': 0.2, 'hidden_dim': [200, 150, 100], 'initializer': 'glorot_uniform', 'latent_dim': 30}, 'vae': {'beta': 1e-05}}\n"
     ]
    },
    {
     "name": "stderr",
     "output_type": "stream",
     "text": [
      "Fold Progress: 100%|██████████████████████████████| 5/5 [03:26<00:00, 41.32s/it]\n"
     ]
    },
    {
     "name": "stdout",
     "output_type": "stream",
     "text": [
      "\n",
      "Training model with parameters {'encoder': {'activation': 'relu', 'dropout_rate': 0.2, 'hidden_dim': [200, 150, 100], 'initializer': 'glorot_uniform', 'latent_dim': 30}, 'decoder': {'activation': 'relu', 'dropout_rate': 0.2, 'hidden_dim': [200, 150, 100], 'initializer': 'glorot_uniform', 'latent_dim': 30}, 'vae': {'beta': 0.0001}}\n"
     ]
    },
    {
     "name": "stderr",
     "output_type": "stream",
     "text": [
      "Fold Progress: 100%|██████████████████████████████| 5/5 [04:09<00:00, 49.98s/it]\n"
     ]
    },
    {
     "name": "stdout",
     "output_type": "stream",
     "text": [
      "\n",
      "Training model with parameters {'encoder': {'activation': 'relu', 'dropout_rate': 0.2, 'hidden_dim': [200, 150, 100], 'initializer': 'glorot_uniform', 'latent_dim': 30}, 'decoder': {'activation': 'relu', 'dropout_rate': 0.2, 'hidden_dim': [200, 150, 100], 'initializer': 'glorot_uniform', 'latent_dim': 30}, 'vae': {'beta': 0.001}}\n"
     ]
    },
    {
     "name": "stderr",
     "output_type": "stream",
     "text": [
      "Fold Progress: 100%|██████████████████████████████| 5/5 [03:14<00:00, 38.82s/it]\n"
     ]
    },
    {
     "name": "stdout",
     "output_type": "stream",
     "text": [
      "\n",
      "Training model with parameters {'encoder': {'activation': 'relu', 'dropout_rate': 0.2, 'hidden_dim': [250, 200, 150], 'initializer': 'glorot_uniform', 'latent_dim': 30}, 'decoder': {'activation': 'relu', 'dropout_rate': 0.2, 'hidden_dim': [250, 200, 150], 'initializer': 'glorot_uniform', 'latent_dim': 30}, 'vae': {'beta': 1e-05}}\n"
     ]
    },
    {
     "name": "stderr",
     "output_type": "stream",
     "text": [
      "Fold Progress: 100%|██████████████████████████████| 5/5 [05:17<00:00, 63.56s/it]\n"
     ]
    },
    {
     "name": "stdout",
     "output_type": "stream",
     "text": [
      "\n",
      "Training model with parameters {'encoder': {'activation': 'relu', 'dropout_rate': 0.2, 'hidden_dim': [250, 200, 150], 'initializer': 'glorot_uniform', 'latent_dim': 30}, 'decoder': {'activation': 'relu', 'dropout_rate': 0.2, 'hidden_dim': [250, 200, 150], 'initializer': 'glorot_uniform', 'latent_dim': 30}, 'vae': {'beta': 0.0001}}\n"
     ]
    },
    {
     "name": "stderr",
     "output_type": "stream",
     "text": [
      "Fold Progress: 100%|██████████████████████████████| 5/5 [04:54<00:00, 58.86s/it]\n"
     ]
    },
    {
     "name": "stdout",
     "output_type": "stream",
     "text": [
      "\n",
      "Training model with parameters {'encoder': {'activation': 'relu', 'dropout_rate': 0.2, 'hidden_dim': [250, 200, 150], 'initializer': 'glorot_uniform', 'latent_dim': 30}, 'decoder': {'activation': 'relu', 'dropout_rate': 0.2, 'hidden_dim': [250, 200, 150], 'initializer': 'glorot_uniform', 'latent_dim': 30}, 'vae': {'beta': 0.001}}\n"
     ]
    },
    {
     "name": "stderr",
     "output_type": "stream",
     "text": [
      "Fold Progress: 100%|██████████████████████████████| 5/5 [04:46<00:00, 57.35s/it]\n"
     ]
    },
    {
     "name": "stdout",
     "output_type": "stream",
     "text": [
      "\n",
      "Training model with parameters {'encoder': {'activation': 'relu', 'dropout_rate': 0.2, 'hidden_dim': [300, 200, 100], 'initializer': 'glorot_uniform', 'latent_dim': 30}, 'decoder': {'activation': 'relu', 'dropout_rate': 0.2, 'hidden_dim': [300, 200, 100], 'initializer': 'glorot_uniform', 'latent_dim': 30}, 'vae': {'beta': 1e-05}}\n"
     ]
    },
    {
     "name": "stderr",
     "output_type": "stream",
     "text": [
      "Fold Progress: 100%|██████████████████████████████| 5/5 [04:56<00:00, 59.26s/it]\n"
     ]
    },
    {
     "name": "stdout",
     "output_type": "stream",
     "text": [
      "\n",
      "Training model with parameters {'encoder': {'activation': 'relu', 'dropout_rate': 0.2, 'hidden_dim': [300, 200, 100], 'initializer': 'glorot_uniform', 'latent_dim': 30}, 'decoder': {'activation': 'relu', 'dropout_rate': 0.2, 'hidden_dim': [300, 200, 100], 'initializer': 'glorot_uniform', 'latent_dim': 30}, 'vae': {'beta': 0.0001}}\n"
     ]
    },
    {
     "name": "stderr",
     "output_type": "stream",
     "text": [
      "Fold Progress: 100%|██████████████████████████████| 5/5 [04:14<00:00, 50.95s/it]\n"
     ]
    },
    {
     "name": "stdout",
     "output_type": "stream",
     "text": [
      "\n",
      "Training model with parameters {'encoder': {'activation': 'relu', 'dropout_rate': 0.2, 'hidden_dim': [300, 200, 100], 'initializer': 'glorot_uniform', 'latent_dim': 30}, 'decoder': {'activation': 'relu', 'dropout_rate': 0.2, 'hidden_dim': [300, 200, 100], 'initializer': 'glorot_uniform', 'latent_dim': 30}, 'vae': {'beta': 0.001}}\n"
     ]
    },
    {
     "name": "stderr",
     "output_type": "stream",
     "text": [
      "Fold Progress: 100%|██████████████████████████████| 5/5 [05:25<00:00, 65.03s/it]\n"
     ]
    },
    {
     "name": "stdout",
     "output_type": "stream",
     "text": [
      "\n",
      "Training model with parameters {'encoder': {'activation': 'relu', 'dropout_rate': 0.3, 'hidden_dim': [100, 100], 'initializer': 'glorot_uniform', 'latent_dim': 30}, 'decoder': {'activation': 'relu', 'dropout_rate': 0.3, 'hidden_dim': [100, 100], 'initializer': 'glorot_uniform', 'latent_dim': 30}, 'vae': {'beta': 1e-05}}\n"
     ]
    },
    {
     "name": "stderr",
     "output_type": "stream",
     "text": [
      "Fold Progress: 100%|██████████████████████████████| 5/5 [03:26<00:00, 41.38s/it]"
     ]
    },
    {
     "name": "stdout",
     "output_type": "stream",
     "text": [
      "WARNING:tensorflow:Compiled the loaded model, but the compiled metrics have yet to be built. `model.compile_metrics` will be empty until you train or evaluate the model.\n"
     ]
    },
    {
     "name": "stderr",
     "output_type": "stream",
     "text": [
      "\n"
     ]
    },
    {
     "name": "stdout",
     "output_type": "stream",
     "text": [
      "INFO:tensorflow:Assets written to: ../outputs/models/vae\\vae_h_dim_100_100_z_dim_30_dropout_03_init_glorot_uniform_act_relu\\encoder\\assets\n",
      "WARNING:tensorflow:Compiled the loaded model, but the compiled metrics have yet to be built. `model.compile_metrics` will be empty until you train or evaluate the model.\n",
      "INFO:tensorflow:Assets written to: ../outputs/models/vae\\vae_h_dim_100_100_z_dim_30_dropout_03_init_glorot_uniform_act_relu\\decoder\\assets\n",
      "\n",
      "Training model with parameters {'encoder': {'activation': 'relu', 'dropout_rate': 0.3, 'hidden_dim': [100, 100], 'initializer': 'glorot_uniform', 'latent_dim': 30}, 'decoder': {'activation': 'relu', 'dropout_rate': 0.3, 'hidden_dim': [100, 100], 'initializer': 'glorot_uniform', 'latent_dim': 30}, 'vae': {'beta': 0.0001}}\n"
     ]
    },
    {
     "name": "stderr",
     "output_type": "stream",
     "text": [
      "Fold Progress: 100%|██████████████████████████████| 5/5 [03:33<00:00, 42.70s/it]\n"
     ]
    },
    {
     "name": "stdout",
     "output_type": "stream",
     "text": [
      "\n",
      "Training model with parameters {'encoder': {'activation': 'relu', 'dropout_rate': 0.3, 'hidden_dim': [100, 100], 'initializer': 'glorot_uniform', 'latent_dim': 30}, 'decoder': {'activation': 'relu', 'dropout_rate': 0.3, 'hidden_dim': [100, 100], 'initializer': 'glorot_uniform', 'latent_dim': 30}, 'vae': {'beta': 0.001}}\n"
     ]
    },
    {
     "name": "stderr",
     "output_type": "stream",
     "text": [
      "Fold Progress: 100%|██████████████████████████████| 5/5 [03:16<00:00, 39.35s/it]\n"
     ]
    },
    {
     "name": "stdout",
     "output_type": "stream",
     "text": [
      "\n",
      "Training model with parameters {'encoder': {'activation': 'relu', 'dropout_rate': 0.3, 'hidden_dim': [150, 150], 'initializer': 'glorot_uniform', 'latent_dim': 30}, 'decoder': {'activation': 'relu', 'dropout_rate': 0.3, 'hidden_dim': [150, 150], 'initializer': 'glorot_uniform', 'latent_dim': 30}, 'vae': {'beta': 1e-05}}\n"
     ]
    },
    {
     "name": "stderr",
     "output_type": "stream",
     "text": [
      "Fold Progress: 100%|██████████████████████████████| 5/5 [02:59<00:00, 35.88s/it]"
     ]
    },
    {
     "name": "stdout",
     "output_type": "stream",
     "text": [
      "WARNING:tensorflow:Compiled the loaded model, but the compiled metrics have yet to be built. `model.compile_metrics` will be empty until you train or evaluate the model.\n"
     ]
    },
    {
     "name": "stderr",
     "output_type": "stream",
     "text": [
      "\n"
     ]
    },
    {
     "name": "stdout",
     "output_type": "stream",
     "text": [
      "INFO:tensorflow:Assets written to: ../outputs/models/vae\\vae_h_dim_150_150_z_dim_30_dropout_03_init_glorot_uniform_act_relu\\encoder\\assets\n",
      "WARNING:tensorflow:Compiled the loaded model, but the compiled metrics have yet to be built. `model.compile_metrics` will be empty until you train or evaluate the model.\n",
      "INFO:tensorflow:Assets written to: ../outputs/models/vae\\vae_h_dim_150_150_z_dim_30_dropout_03_init_glorot_uniform_act_relu\\decoder\\assets\n",
      "\n",
      "Training model with parameters {'encoder': {'activation': 'relu', 'dropout_rate': 0.3, 'hidden_dim': [150, 150], 'initializer': 'glorot_uniform', 'latent_dim': 30}, 'decoder': {'activation': 'relu', 'dropout_rate': 0.3, 'hidden_dim': [150, 150], 'initializer': 'glorot_uniform', 'latent_dim': 30}, 'vae': {'beta': 0.0001}}\n"
     ]
    },
    {
     "name": "stderr",
     "output_type": "stream",
     "text": [
      "Fold Progress: 100%|██████████████████████████████| 5/5 [04:07<00:00, 49.46s/it]\n"
     ]
    },
    {
     "name": "stdout",
     "output_type": "stream",
     "text": [
      "\n",
      "Training model with parameters {'encoder': {'activation': 'relu', 'dropout_rate': 0.3, 'hidden_dim': [150, 150], 'initializer': 'glorot_uniform', 'latent_dim': 30}, 'decoder': {'activation': 'relu', 'dropout_rate': 0.3, 'hidden_dim': [150, 150], 'initializer': 'glorot_uniform', 'latent_dim': 30}, 'vae': {'beta': 0.001}}\n"
     ]
    },
    {
     "name": "stderr",
     "output_type": "stream",
     "text": [
      "Fold Progress: 100%|██████████████████████████████| 5/5 [03:17<00:00, 39.57s/it]\n"
     ]
    },
    {
     "name": "stdout",
     "output_type": "stream",
     "text": [
      "\n",
      "Training model with parameters {'encoder': {'activation': 'relu', 'dropout_rate': 0.3, 'hidden_dim': [200, 200], 'initializer': 'glorot_uniform', 'latent_dim': 30}, 'decoder': {'activation': 'relu', 'dropout_rate': 0.3, 'hidden_dim': [200, 200], 'initializer': 'glorot_uniform', 'latent_dim': 30}, 'vae': {'beta': 1e-05}}\n"
     ]
    },
    {
     "name": "stderr",
     "output_type": "stream",
     "text": [
      "Fold Progress: 100%|██████████████████████████████| 5/5 [03:04<00:00, 36.96s/it]"
     ]
    },
    {
     "name": "stdout",
     "output_type": "stream",
     "text": [
      "WARNING:tensorflow:Compiled the loaded model, but the compiled metrics have yet to be built. `model.compile_metrics` will be empty until you train or evaluate the model.\n"
     ]
    },
    {
     "name": "stderr",
     "output_type": "stream",
     "text": [
      "\n"
     ]
    },
    {
     "name": "stdout",
     "output_type": "stream",
     "text": [
      "INFO:tensorflow:Assets written to: ../outputs/models/vae\\vae_h_dim_200_200_z_dim_30_dropout_03_init_glorot_uniform_act_relu\\encoder\\assets\n",
      "WARNING:tensorflow:Compiled the loaded model, but the compiled metrics have yet to be built. `model.compile_metrics` will be empty until you train or evaluate the model.\n",
      "INFO:tensorflow:Assets written to: ../outputs/models/vae\\vae_h_dim_200_200_z_dim_30_dropout_03_init_glorot_uniform_act_relu\\decoder\\assets\n",
      "\n",
      "Training model with parameters {'encoder': {'activation': 'relu', 'dropout_rate': 0.3, 'hidden_dim': [200, 200], 'initializer': 'glorot_uniform', 'latent_dim': 30}, 'decoder': {'activation': 'relu', 'dropout_rate': 0.3, 'hidden_dim': [200, 200], 'initializer': 'glorot_uniform', 'latent_dim': 30}, 'vae': {'beta': 0.0001}}\n"
     ]
    },
    {
     "name": "stderr",
     "output_type": "stream",
     "text": [
      "Fold Progress: 100%|██████████████████████████████| 5/5 [03:45<00:00, 45.12s/it]\n"
     ]
    },
    {
     "name": "stdout",
     "output_type": "stream",
     "text": [
      "\n",
      "Training model with parameters {'encoder': {'activation': 'relu', 'dropout_rate': 0.3, 'hidden_dim': [200, 200], 'initializer': 'glorot_uniform', 'latent_dim': 30}, 'decoder': {'activation': 'relu', 'dropout_rate': 0.3, 'hidden_dim': [200, 200], 'initializer': 'glorot_uniform', 'latent_dim': 30}, 'vae': {'beta': 0.001}}\n"
     ]
    },
    {
     "name": "stderr",
     "output_type": "stream",
     "text": [
      "Fold Progress: 100%|██████████████████████████████| 5/5 [02:27<00:00, 29.57s/it]\n"
     ]
    },
    {
     "name": "stdout",
     "output_type": "stream",
     "text": [
      "\n",
      "Training model with parameters {'encoder': {'activation': 'relu', 'dropout_rate': 0.3, 'hidden_dim': [250, 250], 'initializer': 'glorot_uniform', 'latent_dim': 30}, 'decoder': {'activation': 'relu', 'dropout_rate': 0.3, 'hidden_dim': [250, 250], 'initializer': 'glorot_uniform', 'latent_dim': 30}, 'vae': {'beta': 1e-05}}\n"
     ]
    },
    {
     "name": "stderr",
     "output_type": "stream",
     "text": [
      "Fold Progress: 100%|██████████████████████████████| 5/5 [04:30<00:00, 54.16s/it]"
     ]
    },
    {
     "name": "stdout",
     "output_type": "stream",
     "text": [
      "WARNING:tensorflow:Compiled the loaded model, but the compiled metrics have yet to be built. `model.compile_metrics` will be empty until you train or evaluate the model.\n"
     ]
    },
    {
     "name": "stderr",
     "output_type": "stream",
     "text": [
      "\n"
     ]
    },
    {
     "name": "stdout",
     "output_type": "stream",
     "text": [
      "INFO:tensorflow:Assets written to: ../outputs/models/vae\\vae_h_dim_250_250_z_dim_30_dropout_03_init_glorot_uniform_act_relu\\encoder\\assets\n",
      "WARNING:tensorflow:Compiled the loaded model, but the compiled metrics have yet to be built. `model.compile_metrics` will be empty until you train or evaluate the model.\n",
      "INFO:tensorflow:Assets written to: ../outputs/models/vae\\vae_h_dim_250_250_z_dim_30_dropout_03_init_glorot_uniform_act_relu\\decoder\\assets\n",
      "\n",
      "Training model with parameters {'encoder': {'activation': 'relu', 'dropout_rate': 0.3, 'hidden_dim': [250, 250], 'initializer': 'glorot_uniform', 'latent_dim': 30}, 'decoder': {'activation': 'relu', 'dropout_rate': 0.3, 'hidden_dim': [250, 250], 'initializer': 'glorot_uniform', 'latent_dim': 30}, 'vae': {'beta': 0.0001}}\n"
     ]
    },
    {
     "name": "stderr",
     "output_type": "stream",
     "text": [
      "Fold Progress: 100%|██████████████████████████████| 5/5 [03:51<00:00, 46.37s/it]\n"
     ]
    },
    {
     "name": "stdout",
     "output_type": "stream",
     "text": [
      "\n",
      "Training model with parameters {'encoder': {'activation': 'relu', 'dropout_rate': 0.3, 'hidden_dim': [250, 250], 'initializer': 'glorot_uniform', 'latent_dim': 30}, 'decoder': {'activation': 'relu', 'dropout_rate': 0.3, 'hidden_dim': [250, 250], 'initializer': 'glorot_uniform', 'latent_dim': 30}, 'vae': {'beta': 0.001}}\n"
     ]
    },
    {
     "name": "stderr",
     "output_type": "stream",
     "text": [
      "Fold Progress: 100%|██████████████████████████████| 5/5 [03:55<00:00, 47.16s/it]\n"
     ]
    },
    {
     "name": "stdout",
     "output_type": "stream",
     "text": [
      "\n",
      "Training model with parameters {'encoder': {'activation': 'relu', 'dropout_rate': 0.3, 'hidden_dim': [300, 300], 'initializer': 'glorot_uniform', 'latent_dim': 30}, 'decoder': {'activation': 'relu', 'dropout_rate': 0.3, 'hidden_dim': [300, 300], 'initializer': 'glorot_uniform', 'latent_dim': 30}, 'vae': {'beta': 1e-05}}\n"
     ]
    },
    {
     "name": "stderr",
     "output_type": "stream",
     "text": [
      "Fold Progress: 100%|██████████████████████████████| 5/5 [04:34<00:00, 54.82s/it]"
     ]
    },
    {
     "name": "stdout",
     "output_type": "stream",
     "text": [
      "WARNING:tensorflow:Compiled the loaded model, but the compiled metrics have yet to be built. `model.compile_metrics` will be empty until you train or evaluate the model.\n"
     ]
    },
    {
     "name": "stderr",
     "output_type": "stream",
     "text": [
      "\n"
     ]
    },
    {
     "name": "stdout",
     "output_type": "stream",
     "text": [
      "INFO:tensorflow:Assets written to: ../outputs/models/vae\\vae_h_dim_300_300_z_dim_30_dropout_03_init_glorot_uniform_act_relu\\encoder\\assets\n",
      "WARNING:tensorflow:Compiled the loaded model, but the compiled metrics have yet to be built. `model.compile_metrics` will be empty until you train or evaluate the model.\n",
      "INFO:tensorflow:Assets written to: ../outputs/models/vae\\vae_h_dim_300_300_z_dim_30_dropout_03_init_glorot_uniform_act_relu\\decoder\\assets\n",
      "\n",
      "Training model with parameters {'encoder': {'activation': 'relu', 'dropout_rate': 0.3, 'hidden_dim': [300, 300], 'initializer': 'glorot_uniform', 'latent_dim': 30}, 'decoder': {'activation': 'relu', 'dropout_rate': 0.3, 'hidden_dim': [300, 300], 'initializer': 'glorot_uniform', 'latent_dim': 30}, 'vae': {'beta': 0.0001}}\n"
     ]
    },
    {
     "name": "stderr",
     "output_type": "stream",
     "text": [
      "Fold Progress: 100%|██████████████████████████████| 5/5 [04:00<00:00, 48.18s/it]\n"
     ]
    },
    {
     "name": "stdout",
     "output_type": "stream",
     "text": [
      "\n",
      "Training model with parameters {'encoder': {'activation': 'relu', 'dropout_rate': 0.3, 'hidden_dim': [300, 300], 'initializer': 'glorot_uniform', 'latent_dim': 30}, 'decoder': {'activation': 'relu', 'dropout_rate': 0.3, 'hidden_dim': [300, 300], 'initializer': 'glorot_uniform', 'latent_dim': 30}, 'vae': {'beta': 0.001}}\n"
     ]
    },
    {
     "name": "stderr",
     "output_type": "stream",
     "text": [
      "Fold Progress: 100%|██████████████████████████████| 5/5 [04:38<00:00, 55.61s/it]\n"
     ]
    },
    {
     "name": "stdout",
     "output_type": "stream",
     "text": [
      "\n",
      "Training model with parameters {'encoder': {'activation': 'relu', 'dropout_rate': 0.3, 'hidden_dim': [150, 100, 50], 'initializer': 'glorot_uniform', 'latent_dim': 30}, 'decoder': {'activation': 'relu', 'dropout_rate': 0.3, 'hidden_dim': [150, 100, 50], 'initializer': 'glorot_uniform', 'latent_dim': 30}, 'vae': {'beta': 1e-05}}\n"
     ]
    },
    {
     "name": "stderr",
     "output_type": "stream",
     "text": [
      "Fold Progress: 100%|██████████████████████████████| 5/5 [03:12<00:00, 38.47s/it]"
     ]
    },
    {
     "name": "stdout",
     "output_type": "stream",
     "text": [
      "WARNING:tensorflow:Compiled the loaded model, but the compiled metrics have yet to be built. `model.compile_metrics` will be empty until you train or evaluate the model.\n"
     ]
    },
    {
     "name": "stderr",
     "output_type": "stream",
     "text": [
      "\n"
     ]
    },
    {
     "name": "stdout",
     "output_type": "stream",
     "text": [
      "INFO:tensorflow:Assets written to: ../outputs/models/vae\\vae_h_dim_150_100_50_z_dim_30_dropout_03_init_glorot_uniform_act_relu\\encoder\\assets\n",
      "WARNING:tensorflow:Compiled the loaded model, but the compiled metrics have yet to be built. `model.compile_metrics` will be empty until you train or evaluate the model.\n",
      "INFO:tensorflow:Assets written to: ../outputs/models/vae\\vae_h_dim_150_100_50_z_dim_30_dropout_03_init_glorot_uniform_act_relu\\decoder\\assets\n",
      "\n",
      "Training model with parameters {'encoder': {'activation': 'relu', 'dropout_rate': 0.3, 'hidden_dim': [150, 100, 50], 'initializer': 'glorot_uniform', 'latent_dim': 30}, 'decoder': {'activation': 'relu', 'dropout_rate': 0.3, 'hidden_dim': [150, 100, 50], 'initializer': 'glorot_uniform', 'latent_dim': 30}, 'vae': {'beta': 0.0001}}\n"
     ]
    },
    {
     "name": "stderr",
     "output_type": "stream",
     "text": [
      "Fold Progress: 100%|██████████████████████████████| 5/5 [03:41<00:00, 44.31s/it]\n"
     ]
    },
    {
     "name": "stdout",
     "output_type": "stream",
     "text": [
      "\n",
      "Training model with parameters {'encoder': {'activation': 'relu', 'dropout_rate': 0.3, 'hidden_dim': [150, 100, 50], 'initializer': 'glorot_uniform', 'latent_dim': 30}, 'decoder': {'activation': 'relu', 'dropout_rate': 0.3, 'hidden_dim': [150, 100, 50], 'initializer': 'glorot_uniform', 'latent_dim': 30}, 'vae': {'beta': 0.001}}\n"
     ]
    },
    {
     "name": "stderr",
     "output_type": "stream",
     "text": [
      "Fold Progress: 100%|██████████████████████████████| 5/5 [03:41<00:00, 44.27s/it]\n"
     ]
    },
    {
     "name": "stdout",
     "output_type": "stream",
     "text": [
      "\n",
      "Training model with parameters {'encoder': {'activation': 'relu', 'dropout_rate': 0.3, 'hidden_dim': [200, 150, 100], 'initializer': 'glorot_uniform', 'latent_dim': 30}, 'decoder': {'activation': 'relu', 'dropout_rate': 0.3, 'hidden_dim': [200, 150, 100], 'initializer': 'glorot_uniform', 'latent_dim': 30}, 'vae': {'beta': 1e-05}}\n"
     ]
    },
    {
     "name": "stderr",
     "output_type": "stream",
     "text": [
      "Fold Progress: 100%|██████████████████████████████| 5/5 [03:57<00:00, 47.46s/it]"
     ]
    },
    {
     "name": "stdout",
     "output_type": "stream",
     "text": [
      "WARNING:tensorflow:Compiled the loaded model, but the compiled metrics have yet to be built. `model.compile_metrics` will be empty until you train or evaluate the model.\n"
     ]
    },
    {
     "name": "stderr",
     "output_type": "stream",
     "text": [
      "\n"
     ]
    },
    {
     "name": "stdout",
     "output_type": "stream",
     "text": [
      "INFO:tensorflow:Assets written to: ../outputs/models/vae\\vae_h_dim_200_150_100_z_dim_30_dropout_03_init_glorot_uniform_act_relu\\encoder\\assets\n",
      "WARNING:tensorflow:Compiled the loaded model, but the compiled metrics have yet to be built. `model.compile_metrics` will be empty until you train or evaluate the model.\n",
      "INFO:tensorflow:Assets written to: ../outputs/models/vae\\vae_h_dim_200_150_100_z_dim_30_dropout_03_init_glorot_uniform_act_relu\\decoder\\assets\n",
      "\n",
      "Training model with parameters {'encoder': {'activation': 'relu', 'dropout_rate': 0.3, 'hidden_dim': [200, 150, 100], 'initializer': 'glorot_uniform', 'latent_dim': 30}, 'decoder': {'activation': 'relu', 'dropout_rate': 0.3, 'hidden_dim': [200, 150, 100], 'initializer': 'glorot_uniform', 'latent_dim': 30}, 'vae': {'beta': 0.0001}}\n"
     ]
    },
    {
     "name": "stderr",
     "output_type": "stream",
     "text": [
      "Fold Progress: 100%|██████████████████████████████| 5/5 [03:55<00:00, 47.05s/it]\n"
     ]
    },
    {
     "name": "stdout",
     "output_type": "stream",
     "text": [
      "\n",
      "Training model with parameters {'encoder': {'activation': 'relu', 'dropout_rate': 0.3, 'hidden_dim': [200, 150, 100], 'initializer': 'glorot_uniform', 'latent_dim': 30}, 'decoder': {'activation': 'relu', 'dropout_rate': 0.3, 'hidden_dim': [200, 150, 100], 'initializer': 'glorot_uniform', 'latent_dim': 30}, 'vae': {'beta': 0.001}}\n"
     ]
    },
    {
     "name": "stderr",
     "output_type": "stream",
     "text": [
      "Fold Progress: 100%|██████████████████████████████| 5/5 [03:44<00:00, 44.87s/it]\n"
     ]
    },
    {
     "name": "stdout",
     "output_type": "stream",
     "text": [
      "\n",
      "Training model with parameters {'encoder': {'activation': 'relu', 'dropout_rate': 0.3, 'hidden_dim': [250, 200, 150], 'initializer': 'glorot_uniform', 'latent_dim': 30}, 'decoder': {'activation': 'relu', 'dropout_rate': 0.3, 'hidden_dim': [250, 200, 150], 'initializer': 'glorot_uniform', 'latent_dim': 30}, 'vae': {'beta': 1e-05}}\n"
     ]
    },
    {
     "name": "stderr",
     "output_type": "stream",
     "text": [
      "Fold Progress: 100%|██████████████████████████████| 5/5 [04:04<00:00, 48.90s/it]"
     ]
    },
    {
     "name": "stdout",
     "output_type": "stream",
     "text": [
      "WARNING:tensorflow:Compiled the loaded model, but the compiled metrics have yet to be built. `model.compile_metrics` will be empty until you train or evaluate the model.\n"
     ]
    },
    {
     "name": "stderr",
     "output_type": "stream",
     "text": [
      "\n"
     ]
    },
    {
     "name": "stdout",
     "output_type": "stream",
     "text": [
      "INFO:tensorflow:Assets written to: ../outputs/models/vae\\vae_h_dim_250_200_150_z_dim_30_dropout_03_init_glorot_uniform_act_relu\\encoder\\assets\n",
      "WARNING:tensorflow:Compiled the loaded model, but the compiled metrics have yet to be built. `model.compile_metrics` will be empty until you train or evaluate the model.\n",
      "INFO:tensorflow:Assets written to: ../outputs/models/vae\\vae_h_dim_250_200_150_z_dim_30_dropout_03_init_glorot_uniform_act_relu\\decoder\\assets\n",
      "\n",
      "Training model with parameters {'encoder': {'activation': 'relu', 'dropout_rate': 0.3, 'hidden_dim': [250, 200, 150], 'initializer': 'glorot_uniform', 'latent_dim': 30}, 'decoder': {'activation': 'relu', 'dropout_rate': 0.3, 'hidden_dim': [250, 200, 150], 'initializer': 'glorot_uniform', 'latent_dim': 30}, 'vae': {'beta': 0.0001}}\n"
     ]
    },
    {
     "name": "stderr",
     "output_type": "stream",
     "text": [
      "Fold Progress: 100%|██████████████████████████████| 5/5 [04:29<00:00, 53.96s/it]\n"
     ]
    },
    {
     "name": "stdout",
     "output_type": "stream",
     "text": [
      "\n",
      "Training model with parameters {'encoder': {'activation': 'relu', 'dropout_rate': 0.3, 'hidden_dim': [250, 200, 150], 'initializer': 'glorot_uniform', 'latent_dim': 30}, 'decoder': {'activation': 'relu', 'dropout_rate': 0.3, 'hidden_dim': [250, 200, 150], 'initializer': 'glorot_uniform', 'latent_dim': 30}, 'vae': {'beta': 0.001}}\n"
     ]
    },
    {
     "name": "stderr",
     "output_type": "stream",
     "text": [
      "Fold Progress: 100%|██████████████████████████████| 5/5 [04:18<00:00, 51.76s/it]\n"
     ]
    },
    {
     "name": "stdout",
     "output_type": "stream",
     "text": [
      "\n",
      "Training model with parameters {'encoder': {'activation': 'relu', 'dropout_rate': 0.3, 'hidden_dim': [300, 200, 100], 'initializer': 'glorot_uniform', 'latent_dim': 30}, 'decoder': {'activation': 'relu', 'dropout_rate': 0.3, 'hidden_dim': [300, 200, 100], 'initializer': 'glorot_uniform', 'latent_dim': 30}, 'vae': {'beta': 1e-05}}\n"
     ]
    },
    {
     "name": "stderr",
     "output_type": "stream",
     "text": [
      "Fold Progress: 100%|██████████████████████████████| 5/5 [03:35<00:00, 43.18s/it]"
     ]
    },
    {
     "name": "stdout",
     "output_type": "stream",
     "text": [
      "WARNING:tensorflow:Compiled the loaded model, but the compiled metrics have yet to be built. `model.compile_metrics` will be empty until you train or evaluate the model.\n"
     ]
    },
    {
     "name": "stderr",
     "output_type": "stream",
     "text": [
      "\n"
     ]
    },
    {
     "name": "stdout",
     "output_type": "stream",
     "text": [
      "INFO:tensorflow:Assets written to: ../outputs/models/vae\\vae_h_dim_300_200_100_z_dim_30_dropout_03_init_glorot_uniform_act_relu\\encoder\\assets\n",
      "WARNING:tensorflow:Compiled the loaded model, but the compiled metrics have yet to be built. `model.compile_metrics` will be empty until you train or evaluate the model.\n",
      "INFO:tensorflow:Assets written to: ../outputs/models/vae\\vae_h_dim_300_200_100_z_dim_30_dropout_03_init_glorot_uniform_act_relu\\decoder\\assets\n",
      "\n",
      "Training model with parameters {'encoder': {'activation': 'relu', 'dropout_rate': 0.3, 'hidden_dim': [300, 200, 100], 'initializer': 'glorot_uniform', 'latent_dim': 30}, 'decoder': {'activation': 'relu', 'dropout_rate': 0.3, 'hidden_dim': [300, 200, 100], 'initializer': 'glorot_uniform', 'latent_dim': 30}, 'vae': {'beta': 0.0001}}\n"
     ]
    },
    {
     "name": "stderr",
     "output_type": "stream",
     "text": [
      "Fold Progress: 100%|██████████████████████████████| 5/5 [04:33<00:00, 54.76s/it]\n"
     ]
    },
    {
     "name": "stdout",
     "output_type": "stream",
     "text": [
      "\n",
      "Training model with parameters {'encoder': {'activation': 'relu', 'dropout_rate': 0.3, 'hidden_dim': [300, 200, 100], 'initializer': 'glorot_uniform', 'latent_dim': 30}, 'decoder': {'activation': 'relu', 'dropout_rate': 0.3, 'hidden_dim': [300, 200, 100], 'initializer': 'glorot_uniform', 'latent_dim': 30}, 'vae': {'beta': 0.001}}\n"
     ]
    },
    {
     "name": "stderr",
     "output_type": "stream",
     "text": [
      "Fold Progress: 100%|██████████████████████████████| 5/5 [04:18<00:00, 51.68s/it]\n"
     ]
    }
   ],
   "source": [
    "results = cv.cross_validate(train_data, epochs=epochs, verbose=0)\n"
   ],
   "metadata": {
    "collapsed": false,
    "ExecuteTime": {
     "end_time": "2023-05-18T08:10:25.763309200Z",
     "start_time": "2023-05-18T03:05:37.686635700Z"
    }
   }
  },
  {
   "cell_type": "code",
   "execution_count": 19,
   "outputs": [],
   "source": [
    "with open('../outputs/CrossVal/cv_latent_30.pkl', 'wb') as file:\n",
    "    pickle.dump(results, file)\n"
   ],
   "metadata": {
    "collapsed": false,
    "ExecuteTime": {
     "end_time": "2023-05-18T08:10:25.770335200Z",
     "start_time": "2023-05-18T08:10:25.735305200Z"
    }
   }
  },
  {
   "cell_type": "code",
   "execution_count": 20,
   "outputs": [],
   "source": [
    "# Plotting results\n"
   ],
   "metadata": {
    "collapsed": false,
    "ExecuteTime": {
     "end_time": "2023-05-18T08:10:25.771337500Z",
     "start_time": "2023-05-18T08:10:25.751305700Z"
    }
   }
  },
  {
   "cell_type": "code",
   "execution_count": 21,
   "outputs": [
    {
     "ename": "FileNotFoundError",
     "evalue": "[Errno 2] No such file or directory: '../outputs/CrossVal/cv_latent_5.pkl'",
     "output_type": "error",
     "traceback": [
      "\u001B[1;31m---------------------------------------------------------------------------\u001B[0m",
      "\u001B[1;31mFileNotFoundError\u001B[0m                         Traceback (most recent call last)",
      "Cell \u001B[1;32mIn[21], line 1\u001B[0m\n\u001B[1;32m----> 1\u001B[0m \u001B[38;5;28;01mwith\u001B[39;00m \u001B[38;5;28;43mopen\u001B[39;49m\u001B[43m(\u001B[49m\u001B[38;5;124;43m'\u001B[39;49m\u001B[38;5;124;43m../outputs/CrossVal/cv_latent_5.pkl\u001B[39;49m\u001B[38;5;124;43m'\u001B[39;49m\u001B[43m,\u001B[49m\u001B[43m \u001B[49m\u001B[38;5;124;43m'\u001B[39;49m\u001B[38;5;124;43mrb\u001B[39;49m\u001B[38;5;124;43m'\u001B[39;49m\u001B[43m)\u001B[49m \u001B[38;5;28;01mas\u001B[39;00m file:\n\u001B[0;32m      2\u001B[0m     cv_5 \u001B[38;5;241m=\u001B[39m pickle\u001B[38;5;241m.\u001B[39mload(file)\n",
      "File \u001B[1;32m~\\anaconda3\\envs\\Cortical-Thickness\\lib\\site-packages\\IPython\\core\\interactiveshell.py:284\u001B[0m, in \u001B[0;36m_modified_open\u001B[1;34m(file, *args, **kwargs)\u001B[0m\n\u001B[0;32m    277\u001B[0m \u001B[38;5;28;01mif\u001B[39;00m file \u001B[38;5;129;01min\u001B[39;00m {\u001B[38;5;241m0\u001B[39m, \u001B[38;5;241m1\u001B[39m, \u001B[38;5;241m2\u001B[39m}:\n\u001B[0;32m    278\u001B[0m     \u001B[38;5;28;01mraise\u001B[39;00m \u001B[38;5;167;01mValueError\u001B[39;00m(\n\u001B[0;32m    279\u001B[0m         \u001B[38;5;124mf\u001B[39m\u001B[38;5;124m\"\u001B[39m\u001B[38;5;124mIPython won\u001B[39m\u001B[38;5;124m'\u001B[39m\u001B[38;5;124mt let you open fd=\u001B[39m\u001B[38;5;132;01m{\u001B[39;00mfile\u001B[38;5;132;01m}\u001B[39;00m\u001B[38;5;124m by default \u001B[39m\u001B[38;5;124m\"\u001B[39m\n\u001B[0;32m    280\u001B[0m         \u001B[38;5;124m\"\u001B[39m\u001B[38;5;124mas it is likely to crash IPython. If you know what you are doing, \u001B[39m\u001B[38;5;124m\"\u001B[39m\n\u001B[0;32m    281\u001B[0m         \u001B[38;5;124m\"\u001B[39m\u001B[38;5;124myou can use builtins\u001B[39m\u001B[38;5;124m'\u001B[39m\u001B[38;5;124m open.\u001B[39m\u001B[38;5;124m\"\u001B[39m\n\u001B[0;32m    282\u001B[0m     )\n\u001B[1;32m--> 284\u001B[0m \u001B[38;5;28;01mreturn\u001B[39;00m \u001B[43mio_open\u001B[49m\u001B[43m(\u001B[49m\u001B[43mfile\u001B[49m\u001B[43m,\u001B[49m\u001B[43m \u001B[49m\u001B[38;5;241;43m*\u001B[39;49m\u001B[43margs\u001B[49m\u001B[43m,\u001B[49m\u001B[43m \u001B[49m\u001B[38;5;241;43m*\u001B[39;49m\u001B[38;5;241;43m*\u001B[39;49m\u001B[43mkwargs\u001B[49m\u001B[43m)\u001B[49m\n",
      "\u001B[1;31mFileNotFoundError\u001B[0m: [Errno 2] No such file or directory: '../outputs/CrossVal/cv_latent_5.pkl'"
     ]
    }
   ],
   "source": [
    "with open('../outputs/CrossVal/cv_latent_5.pkl', 'rb') as file:\n",
    "    cv_5 = pickle.load(file)\n"
   ],
   "metadata": {
    "collapsed": false,
    "ExecuteTime": {
     "end_time": "2023-05-18T08:10:25.854307400Z",
     "start_time": "2023-05-18T08:10:25.767309800Z"
    }
   }
  },
  {
   "cell_type": "code",
   "execution_count": null,
   "outputs": [],
   "source": [
    "with open('../outputs/CrossVal/cv_latent_10.pkl', 'rb') as file:\n",
    "    cv_10 = pickle.load(file)\n"
   ],
   "metadata": {
    "collapsed": false
   }
  },
  {
   "cell_type": "code",
   "execution_count": null,
   "outputs": [],
   "source": [
    "with open('../outputs/CrossVal/cv_latent_15.pkl', 'rb') as file:\n",
    "    cv_15 = pickle.load(file)\n"
   ],
   "metadata": {
    "collapsed": false
   }
  },
  {
   "cell_type": "code",
   "execution_count": null,
   "outputs": [],
   "source": [
    "\n"
   ],
   "metadata": {
    "collapsed": false
   }
  }
 ],
 "metadata": {
  "kernelspec": {
   "display_name": "Python 3",
   "language": "python",
   "name": "python3"
  },
  "language_info": {
   "codemirror_mode": {
    "name": "ipython",
    "version": 2
   },
   "file_extension": ".py",
   "mimetype": "text/x-python",
   "name": "python",
   "nbconvert_exporter": "python",
   "pygments_lexer": "ipython2",
   "version": "2.7.6"
  }
 },
 "nbformat": 4,
 "nbformat_minor": 0
}
