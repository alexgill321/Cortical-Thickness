{
 "cells": [
  {
   "cell_type": "code",
   "execution_count": 18,
   "metadata": {
    "collapsed": true
   },
   "outputs": [],
   "source": [
    "import pandas as pd\n",
    "import os\n",
    "\n",
    "cur = os.getcwd()\n",
    "db = pd.read_csv(os.path.join(cur,'../data/megasample_ctvol_500sym_max2percIV.csv'))\n"
   ]
  },
  {
   "cell_type": "code",
   "execution_count": 19,
   "outputs": [
    {
     "name": "stdout",
     "output_type": "stream",
     "text": [
      "['BrainSegVolNotVent', 'ID', 'age', 'dcode', 'euler', 'euler_med', 'lh_MeanThickness_thickness', 'lh_bankssts_part1_thickness', 'lh_bankssts_part1_volume', 'lh_bankssts_part2_thickness', 'lh_bankssts_part2_volume', 'lh_caudalanteriorcingulate_part1_thickness', 'lh_caudalanteriorcingulate_part1_volume', 'lh_caudalmiddlefrontal_part1_thickness', 'lh_caudalmiddlefrontal_part1_volume', 'lh_caudalmiddlefrontal_part2_thickness', 'lh_caudalmiddlefrontal_part2_volume', 'lh_caudalmiddlefrontal_part3_thickness', 'lh_caudalmiddlefrontal_part3_volume', 'lh_caudalmiddlefrontal_part4_thickness', 'lh_caudalmiddlefrontal_part4_volume', 'lh_cuneus_part1_thickness', 'lh_cuneus_part1_volume', 'lh_cuneus_part2_thickness', 'lh_cuneus_part2_volume', 'lh_cuneus_part3_thickness', 'lh_cuneus_part3_volume', 'lh_entorhinal_part1_thickness', 'lh_entorhinal_part1_volume', 'lh_frontalpole_part1_thickness', 'lh_frontalpole_part1_volume', 'lh_fusiform_part1_thickness', 'lh_fusiform_part1_volume', 'lh_fusiform_part2_thickness', 'lh_fusiform_part2_volume', 'lh_fusiform_part3_thickness', 'lh_fusiform_part3_volume', 'lh_fusiform_part4_thickness', 'lh_fusiform_part4_volume', 'lh_fusiform_part5_thickness', 'lh_fusiform_part5_volume', 'lh_fusiform_part6_thickness', 'lh_fusiform_part6_volume', 'lh_inferiorparietal_part1_thickness', 'lh_inferiorparietal_part1_volume', 'lh_inferiorparietal_part2_thickness', 'lh_inferiorparietal_part2_volume', 'lh_inferiorparietal_part3_thickness', 'lh_inferiorparietal_part3_volume', 'lh_inferiorparietal_part4_thickness', 'lh_inferiorparietal_part4_volume', 'lh_inferiorparietal_part5_thickness', 'lh_inferiorparietal_part5_volume', 'lh_inferiorparietal_part6_thickness', 'lh_inferiorparietal_part6_volume', 'lh_inferiorparietal_part7_thickness', 'lh_inferiorparietal_part7_volume', 'lh_inferiorparietal_part8_thickness', 'lh_inferiorparietal_part8_volume', 'lh_inferiorparietal_part9_thickness', 'lh_inferiorparietal_part9_volume', 'lh_inferiortemporal_part1_thickness', 'lh_inferiortemporal_part1_volume', 'lh_inferiortemporal_part2_thickness', 'lh_inferiortemporal_part2_volume', 'lh_inferiortemporal_part3_thickness', 'lh_inferiortemporal_part3_volume', 'lh_inferiortemporal_part4_thickness', 'lh_inferiortemporal_part4_volume', 'lh_inferiortemporal_part5_thickness', 'lh_inferiortemporal_part5_volume', 'lh_inferiortemporal_part6_thickness', 'lh_inferiortemporal_part6_volume', 'lh_insula_part1_thickness', 'lh_insula_part1_volume', 'lh_insula_part2_thickness', 'lh_insula_part2_volume', 'lh_insula_part3_thickness', 'lh_insula_part3_volume', 'lh_insula_part4_thickness', 'lh_insula_part4_volume', 'lh_isthmuscingulate_part1_thickness', 'lh_isthmuscingulate_part1_volume', 'lh_isthmuscingulate_part2_thickness', 'lh_isthmuscingulate_part2_volume', 'lh_lateraloccipital_part1_thickness', 'lh_lateraloccipital_part1_volume', 'lh_lateraloccipital_part2_thickness', 'lh_lateraloccipital_part2_volume', 'lh_lateraloccipital_part3_thickness', 'lh_lateraloccipital_part3_volume', 'lh_lateraloccipital_part4_thickness', 'lh_lateraloccipital_part4_volume', 'lh_lateraloccipital_part5_thickness', 'lh_lateraloccipital_part5_volume', 'lh_lateraloccipital_part6_thickness', 'lh_lateraloccipital_part6_volume', 'lh_lateraloccipital_part7_thickness', 'lh_lateraloccipital_part7_volume', 'lh_lateraloccipital_part8_thickness', 'lh_lateraloccipital_part8_volume', 'lh_lateraloccipital_part9_thickness', 'lh_lateraloccipital_part9_volume', 'lh_lateralorbitofrontal_part1_thickness', 'lh_lateralorbitofrontal_part1_volume', 'lh_lateralorbitofrontal_part2_thickness', 'lh_lateralorbitofrontal_part2_volume', 'lh_lateralorbitofrontal_part3_thickness', 'lh_lateralorbitofrontal_part3_volume', 'lh_lateralorbitofrontal_part4_thickness', 'lh_lateralorbitofrontal_part4_volume', 'lh_lateralorbitofrontal_part5_thickness', 'lh_lateralorbitofrontal_part5_volume', 'lh_lingual_part1_thickness', 'lh_lingual_part1_volume', 'lh_lingual_part2_thickness', 'lh_lingual_part2_volume', 'lh_lingual_part3_thickness', 'lh_lingual_part3_volume', 'lh_lingual_part4_thickness', 'lh_lingual_part4_volume', 'lh_lingual_part5_thickness', 'lh_lingual_part5_volume', 'lh_lingual_part6_thickness', 'lh_lingual_part6_volume', 'lh_medialorbitofrontal_part1_thickness', 'lh_medialorbitofrontal_part1_volume', 'lh_medialorbitofrontal_part2_thickness', 'lh_medialorbitofrontal_part2_volume', 'lh_medialorbitofrontal_part3_thickness', 'lh_medialorbitofrontal_part3_volume', 'lh_medialorbitofrontal_part4_thickness', 'lh_medialorbitofrontal_part4_volume', 'lh_middletemporal_part1_thickness', 'lh_middletemporal_part1_volume', 'lh_middletemporal_part2_thickness', 'lh_middletemporal_part2_volume', 'lh_middletemporal_part3_thickness', 'lh_middletemporal_part3_volume', 'lh_middletemporal_part4_thickness', 'lh_middletemporal_part4_volume', 'lh_middletemporal_part5_thickness', 'lh_middletemporal_part5_volume', 'lh_middletemporal_part6_thickness', 'lh_middletemporal_part6_volume', 'lh_paracentral_part1_thickness', 'lh_paracentral_part1_volume', 'lh_paracentral_part2_thickness', 'lh_paracentral_part2_volume', 'lh_paracentral_part3_thickness', 'lh_paracentral_part3_volume', 'lh_parahippocampal_part1_thickness', 'lh_parahippocampal_part1_volume', 'lh_parsopercularis_part1_thickness', 'lh_parsopercularis_part1_volume', 'lh_parsopercularis_part2_thickness', 'lh_parsopercularis_part2_volume', 'lh_parsopercularis_part3_thickness', 'lh_parsopercularis_part3_volume', 'lh_parsorbitalis_part1_thickness', 'lh_parsorbitalis_part1_volume', 'lh_parstriangularis_part1_thickness', 'lh_parstriangularis_part1_volume', 'lh_parstriangularis_part2_thickness', 'lh_parstriangularis_part2_volume', 'lh_pericalcarine_part1_thickness', 'lh_pericalcarine_part1_volume', 'lh_pericalcarine_part2_thickness', 'lh_pericalcarine_part2_volume', 'lh_pericalcarine_part3_thickness', 'lh_pericalcarine_part3_volume', 'lh_postcentral_part1_thickness', 'lh_postcentral_part1_volume', 'lh_postcentral_part2_thickness', 'lh_postcentral_part2_volume', 'lh_postcentral_part3_thickness', 'lh_postcentral_part3_volume', 'lh_postcentral_part4_thickness', 'lh_postcentral_part4_volume', 'lh_postcentral_part5_thickness', 'lh_postcentral_part5_volume', 'lh_postcentral_part6_thickness', 'lh_postcentral_part6_volume', 'lh_postcentral_part7_thickness', 'lh_postcentral_part7_volume', 'lh_postcentral_part8_thickness', 'lh_postcentral_part8_volume', 'lh_posteriorcingulate_part1_thickness', 'lh_posteriorcingulate_part1_volume', 'lh_posteriorcingulate_part2_thickness', 'lh_posteriorcingulate_part2_volume', 'lh_precentral_part1_thickness', 'lh_precentral_part1_volume', 'lh_precentral_part2_thickness', 'lh_precentral_part2_volume', 'lh_precentral_part3_thickness', 'lh_precentral_part3_volume', 'lh_precentral_part4_thickness', 'lh_precentral_part4_volume', 'lh_precentral_part5_thickness', 'lh_precentral_part5_volume', 'lh_precentral_part6_thickness', 'lh_precentral_part6_volume', 'lh_precentral_part7_thickness', 'lh_precentral_part7_volume', 'lh_precentral_part8_thickness', 'lh_precentral_part8_volume', 'lh_precentral_part9_thickness', 'lh_precentral_part9_volume', 'lh_precuneus_part1_thickness', 'lh_precuneus_part1_volume', 'lh_precuneus_part2_thickness', 'lh_precuneus_part2_volume', 'lh_precuneus_part3_thickness', 'lh_precuneus_part3_volume', 'lh_precuneus_part4_thickness', 'lh_precuneus_part4_volume', 'lh_precuneus_part5_thickness', 'lh_precuneus_part5_volume', 'lh_precuneus_part6_thickness', 'lh_precuneus_part6_volume', 'lh_precuneus_part7_thickness', 'lh_precuneus_part7_volume', 'lh_rostralanteriorcingulate_part1_thickness', 'lh_rostralanteriorcingulate_part1_volume', 'lh_rostralmiddlefrontal_part10_thickness', 'lh_rostralmiddlefrontal_part10_volume', 'lh_rostralmiddlefrontal_part11_thickness', 'lh_rostralmiddlefrontal_part11_volume', 'lh_rostralmiddlefrontal_part1_thickness', 'lh_rostralmiddlefrontal_part1_volume', 'lh_rostralmiddlefrontal_part2_thickness', 'lh_rostralmiddlefrontal_part2_volume', 'lh_rostralmiddlefrontal_part3_thickness', 'lh_rostralmiddlefrontal_part3_volume', 'lh_rostralmiddlefrontal_part4_thickness', 'lh_rostralmiddlefrontal_part4_volume', 'lh_rostralmiddlefrontal_part5_thickness', 'lh_rostralmiddlefrontal_part5_volume', 'lh_rostralmiddlefrontal_part6_thickness', 'lh_rostralmiddlefrontal_part6_volume', 'lh_rostralmiddlefrontal_part7_thickness', 'lh_rostralmiddlefrontal_part7_volume', 'lh_rostralmiddlefrontal_part8_thickness', 'lh_rostralmiddlefrontal_part8_volume', 'lh_rostralmiddlefrontal_part9_thickness', 'lh_rostralmiddlefrontal_part9_volume', 'lh_superiorfrontal_part10_thickness', 'lh_superiorfrontal_part10_volume', 'lh_superiorfrontal_part11_thickness', 'lh_superiorfrontal_part11_volume', 'lh_superiorfrontal_part12_thickness', 'lh_superiorfrontal_part12_volume', 'lh_superiorfrontal_part13_thickness', 'lh_superiorfrontal_part13_volume', 'lh_superiorfrontal_part1_thickness', 'lh_superiorfrontal_part1_volume', 'lh_superiorfrontal_part2_thickness', 'lh_superiorfrontal_part2_volume', 'lh_superiorfrontal_part3_thickness', 'lh_superiorfrontal_part3_volume', 'lh_superiorfrontal_part4_thickness', 'lh_superiorfrontal_part4_volume', 'lh_superiorfrontal_part5_thickness', 'lh_superiorfrontal_part5_volume', 'lh_superiorfrontal_part6_thickness', 'lh_superiorfrontal_part6_volume', 'lh_superiorfrontal_part7_thickness', 'lh_superiorfrontal_part7_volume', 'lh_superiorfrontal_part8_thickness', 'lh_superiorfrontal_part8_volume', 'lh_superiorfrontal_part9_thickness', 'lh_superiorfrontal_part9_volume', 'lh_superiorparietal_part10_thickness', 'lh_superiorparietal_part10_volume', 'lh_superiorparietal_part1_thickness', 'lh_superiorparietal_part1_volume', 'lh_superiorparietal_part2_thickness', 'lh_superiorparietal_part2_volume', 'lh_superiorparietal_part3_thickness', 'lh_superiorparietal_part3_volume', 'lh_superiorparietal_part4_thickness', 'lh_superiorparietal_part4_volume', 'lh_superiorparietal_part5_thickness', 'lh_superiorparietal_part5_volume', 'lh_superiorparietal_part6_thickness', 'lh_superiorparietal_part6_volume', 'lh_superiorparietal_part7_thickness', 'lh_superiorparietal_part7_volume', 'lh_superiorparietal_part8_thickness', 'lh_superiorparietal_part8_volume', 'lh_superiorparietal_part9_thickness', 'lh_superiorparietal_part9_volume', 'lh_superiortemporal_part1_thickness', 'lh_superiortemporal_part1_volume', 'lh_superiortemporal_part2_thickness', 'lh_superiortemporal_part2_volume', 'lh_superiortemporal_part3_thickness', 'lh_superiortemporal_part3_volume', 'lh_superiortemporal_part4_thickness', 'lh_superiortemporal_part4_volume', 'lh_superiortemporal_part5_thickness', 'lh_superiortemporal_part5_volume', 'lh_superiortemporal_part6_thickness', 'lh_superiortemporal_part6_volume', 'lh_superiortemporal_part7_thickness', 'lh_superiortemporal_part7_volume', 'lh_supramarginal_part1_thickness', 'lh_supramarginal_part1_volume', 'lh_supramarginal_part2_thickness', 'lh_supramarginal_part2_volume', 'lh_supramarginal_part3_thickness', 'lh_supramarginal_part3_volume', 'lh_supramarginal_part4_thickness', 'lh_supramarginal_part4_volume', 'lh_supramarginal_part5_thickness', 'lh_supramarginal_part5_volume', 'lh_supramarginal_part6_thickness', 'lh_supramarginal_part6_volume', 'lh_supramarginal_part7_thickness', 'lh_supramarginal_part7_volume', 'lh_temporalpole_part1_thickness', 'lh_temporalpole_part1_volume', 'lh_transversetemporal_part1_thickness', 'lh_transversetemporal_part1_volume', 'n_outliers', 'rh_MeanThickness_thickness', 'rh_bankssts_part1_thickness', 'rh_bankssts_part1_volume', 'rh_bankssts_part2_thickness', 'rh_bankssts_part2_volume', 'rh_caudalanteriorcingulate_part1_thickness', 'rh_caudalanteriorcingulate_part1_volume', 'rh_caudalmiddlefrontal_part1_thickness', 'rh_caudalmiddlefrontal_part1_volume', 'rh_caudalmiddlefrontal_part2_thickness', 'rh_caudalmiddlefrontal_part2_volume', 'rh_caudalmiddlefrontal_part3_thickness', 'rh_caudalmiddlefrontal_part3_volume', 'rh_caudalmiddlefrontal_part4_thickness', 'rh_caudalmiddlefrontal_part4_volume', 'rh_cuneus_part1_thickness', 'rh_cuneus_part1_volume', 'rh_cuneus_part2_thickness', 'rh_cuneus_part2_volume', 'rh_cuneus_part3_thickness', 'rh_cuneus_part3_volume', 'rh_entorhinal_part1_thickness', 'rh_entorhinal_part1_volume', 'rh_frontalpole_part1_thickness', 'rh_frontalpole_part1_volume', 'rh_fusiform_part1_thickness', 'rh_fusiform_part1_volume', 'rh_fusiform_part2_thickness', 'rh_fusiform_part2_volume', 'rh_fusiform_part3_thickness', 'rh_fusiform_part3_volume', 'rh_fusiform_part4_thickness', 'rh_fusiform_part4_volume', 'rh_fusiform_part5_thickness', 'rh_fusiform_part5_volume', 'rh_fusiform_part6_thickness', 'rh_fusiform_part6_volume', 'rh_inferiorparietal_part1_thickness', 'rh_inferiorparietal_part1_volume', 'rh_inferiorparietal_part2_thickness', 'rh_inferiorparietal_part2_volume', 'rh_inferiorparietal_part3_thickness', 'rh_inferiorparietal_part3_volume', 'rh_inferiorparietal_part4_thickness', 'rh_inferiorparietal_part4_volume', 'rh_inferiorparietal_part5_thickness', 'rh_inferiorparietal_part5_volume', 'rh_inferiorparietal_part6_thickness', 'rh_inferiorparietal_part6_volume', 'rh_inferiorparietal_part7_thickness', 'rh_inferiorparietal_part7_volume', 'rh_inferiorparietal_part8_thickness', 'rh_inferiorparietal_part8_volume', 'rh_inferiorparietal_part9_thickness', 'rh_inferiorparietal_part9_volume', 'rh_inferiortemporal_part1_thickness', 'rh_inferiortemporal_part1_volume', 'rh_inferiortemporal_part2_thickness', 'rh_inferiortemporal_part2_volume', 'rh_inferiortemporal_part3_thickness', 'rh_inferiortemporal_part3_volume', 'rh_inferiortemporal_part4_thickness', 'rh_inferiortemporal_part4_volume', 'rh_inferiortemporal_part5_thickness', 'rh_inferiortemporal_part5_volume', 'rh_inferiortemporal_part6_thickness', 'rh_inferiortemporal_part6_volume', 'rh_insula_part1_thickness', 'rh_insula_part1_volume', 'rh_insula_part2_thickness', 'rh_insula_part2_volume', 'rh_insula_part3_thickness', 'rh_insula_part3_volume', 'rh_insula_part4_thickness', 'rh_insula_part4_volume', 'rh_isthmuscingulate_part1_thickness', 'rh_isthmuscingulate_part1_volume', 'rh_isthmuscingulate_part2_thickness', 'rh_isthmuscingulate_part2_volume', 'rh_lateraloccipital_part1_thickness', 'rh_lateraloccipital_part1_volume', 'rh_lateraloccipital_part2_thickness', 'rh_lateraloccipital_part2_volume', 'rh_lateraloccipital_part3_thickness', 'rh_lateraloccipital_part3_volume', 'rh_lateraloccipital_part4_thickness', 'rh_lateraloccipital_part4_volume', 'rh_lateraloccipital_part5_thickness', 'rh_lateraloccipital_part5_volume', 'rh_lateraloccipital_part6_thickness', 'rh_lateraloccipital_part6_volume', 'rh_lateraloccipital_part7_thickness', 'rh_lateraloccipital_part7_volume', 'rh_lateraloccipital_part8_thickness', 'rh_lateraloccipital_part8_volume', 'rh_lateraloccipital_part9_thickness', 'rh_lateraloccipital_part9_volume', 'rh_lateralorbitofrontal_part1_thickness', 'rh_lateralorbitofrontal_part1_volume', 'rh_lateralorbitofrontal_part2_thickness', 'rh_lateralorbitofrontal_part2_volume', 'rh_lateralorbitofrontal_part3_thickness', 'rh_lateralorbitofrontal_part3_volume', 'rh_lateralorbitofrontal_part4_thickness', 'rh_lateralorbitofrontal_part4_volume', 'rh_lateralorbitofrontal_part5_thickness', 'rh_lateralorbitofrontal_part5_volume', 'rh_lingual_part1_thickness', 'rh_lingual_part1_volume', 'rh_lingual_part2_thickness', 'rh_lingual_part2_volume', 'rh_lingual_part3_thickness', 'rh_lingual_part3_volume', 'rh_lingual_part4_thickness', 'rh_lingual_part4_volume', 'rh_lingual_part5_thickness', 'rh_lingual_part5_volume', 'rh_lingual_part6_thickness', 'rh_lingual_part6_volume', 'rh_medialorbitofrontal_part1_thickness', 'rh_medialorbitofrontal_part1_volume', 'rh_medialorbitofrontal_part2_thickness', 'rh_medialorbitofrontal_part2_volume', 'rh_medialorbitofrontal_part3_thickness', 'rh_medialorbitofrontal_part3_volume', 'rh_medialorbitofrontal_part4_thickness', 'rh_medialorbitofrontal_part4_volume', 'rh_middletemporal_part1_thickness', 'rh_middletemporal_part1_volume', 'rh_middletemporal_part2_thickness', 'rh_middletemporal_part2_volume', 'rh_middletemporal_part3_thickness', 'rh_middletemporal_part3_volume', 'rh_middletemporal_part4_thickness', 'rh_middletemporal_part4_volume', 'rh_middletemporal_part5_thickness', 'rh_middletemporal_part5_volume', 'rh_middletemporal_part6_thickness', 'rh_middletemporal_part6_volume', 'rh_paracentral_part1_thickness', 'rh_paracentral_part1_volume', 'rh_paracentral_part2_thickness', 'rh_paracentral_part2_volume', 'rh_paracentral_part3_thickness', 'rh_paracentral_part3_volume', 'rh_parahippocampal_part1_thickness', 'rh_parahippocampal_part1_volume', 'rh_parsopercularis_part1_thickness', 'rh_parsopercularis_part1_volume', 'rh_parsopercularis_part2_thickness', 'rh_parsopercularis_part2_volume', 'rh_parsopercularis_part3_thickness', 'rh_parsopercularis_part3_volume', 'rh_parsorbitalis_part1_thickness', 'rh_parsorbitalis_part1_volume', 'rh_parstriangularis_part1_thickness', 'rh_parstriangularis_part1_volume', 'rh_parstriangularis_part2_thickness', 'rh_parstriangularis_part2_volume', 'rh_pericalcarine_part1_thickness', 'rh_pericalcarine_part1_volume', 'rh_pericalcarine_part2_thickness', 'rh_pericalcarine_part2_volume', 'rh_pericalcarine_part3_thickness', 'rh_pericalcarine_part3_volume', 'rh_postcentral_part1_thickness', 'rh_postcentral_part1_volume', 'rh_postcentral_part2_thickness', 'rh_postcentral_part2_volume', 'rh_postcentral_part3_thickness', 'rh_postcentral_part3_volume', 'rh_postcentral_part4_thickness', 'rh_postcentral_part4_volume', 'rh_postcentral_part5_thickness', 'rh_postcentral_part5_volume', 'rh_postcentral_part6_thickness', 'rh_postcentral_part6_volume', 'rh_postcentral_part7_thickness', 'rh_postcentral_part7_volume', 'rh_postcentral_part8_thickness', 'rh_postcentral_part8_volume', 'rh_posteriorcingulate_part1_thickness', 'rh_posteriorcingulate_part1_volume', 'rh_posteriorcingulate_part2_thickness', 'rh_posteriorcingulate_part2_volume', 'rh_precentral_part1_thickness', 'rh_precentral_part1_volume', 'rh_precentral_part2_thickness', 'rh_precentral_part2_volume', 'rh_precentral_part3_thickness', 'rh_precentral_part3_volume', 'rh_precentral_part4_thickness', 'rh_precentral_part4_volume', 'rh_precentral_part5_thickness', 'rh_precentral_part5_volume', 'rh_precentral_part6_thickness', 'rh_precentral_part6_volume', 'rh_precentral_part7_thickness', 'rh_precentral_part7_volume', 'rh_precentral_part8_thickness', 'rh_precentral_part8_volume', 'rh_precentral_part9_thickness', 'rh_precentral_part9_volume', 'rh_precuneus_part1_thickness', 'rh_precuneus_part1_volume', 'rh_precuneus_part2_thickness', 'rh_precuneus_part2_volume', 'rh_precuneus_part3_thickness', 'rh_precuneus_part3_volume', 'rh_precuneus_part4_thickness', 'rh_precuneus_part4_volume', 'rh_precuneus_part5_thickness', 'rh_precuneus_part5_volume', 'rh_precuneus_part6_thickness', 'rh_precuneus_part6_volume', 'rh_precuneus_part7_thickness', 'rh_precuneus_part7_volume', 'rh_rostralanteriorcingulate_part1_thickness', 'rh_rostralanteriorcingulate_part1_volume', 'rh_rostralmiddlefrontal_part10_thickness', 'rh_rostralmiddlefrontal_part10_volume', 'rh_rostralmiddlefrontal_part11_thickness', 'rh_rostralmiddlefrontal_part11_volume', 'rh_rostralmiddlefrontal_part1_thickness', 'rh_rostralmiddlefrontal_part1_volume', 'rh_rostralmiddlefrontal_part2_thickness', 'rh_rostralmiddlefrontal_part2_volume', 'rh_rostralmiddlefrontal_part3_thickness', 'rh_rostralmiddlefrontal_part3_volume', 'rh_rostralmiddlefrontal_part4_thickness', 'rh_rostralmiddlefrontal_part4_volume', 'rh_rostralmiddlefrontal_part5_thickness', 'rh_rostralmiddlefrontal_part5_volume', 'rh_rostralmiddlefrontal_part6_thickness', 'rh_rostralmiddlefrontal_part6_volume', 'rh_rostralmiddlefrontal_part7_thickness', 'rh_rostralmiddlefrontal_part7_volume', 'rh_rostralmiddlefrontal_part8_thickness', 'rh_rostralmiddlefrontal_part8_volume', 'rh_rostralmiddlefrontal_part9_thickness', 'rh_rostralmiddlefrontal_part9_volume', 'rh_superiorfrontal_part10_thickness', 'rh_superiorfrontal_part10_volume', 'rh_superiorfrontal_part11_thickness', 'rh_superiorfrontal_part11_volume', 'rh_superiorfrontal_part12_thickness', 'rh_superiorfrontal_part12_volume', 'rh_superiorfrontal_part13_thickness', 'rh_superiorfrontal_part13_volume', 'rh_superiorfrontal_part1_thickness', 'rh_superiorfrontal_part1_volume', 'rh_superiorfrontal_part2_thickness', 'rh_superiorfrontal_part2_volume', 'rh_superiorfrontal_part3_thickness', 'rh_superiorfrontal_part3_volume', 'rh_superiorfrontal_part4_thickness', 'rh_superiorfrontal_part4_volume', 'rh_superiorfrontal_part5_thickness', 'rh_superiorfrontal_part5_volume', 'rh_superiorfrontal_part6_thickness', 'rh_superiorfrontal_part6_volume', 'rh_superiorfrontal_part7_thickness', 'rh_superiorfrontal_part7_volume', 'rh_superiorfrontal_part8_thickness', 'rh_superiorfrontal_part8_volume', 'rh_superiorfrontal_part9_thickness', 'rh_superiorfrontal_part9_volume', 'rh_superiorparietal_part10_thickness', 'rh_superiorparietal_part10_volume', 'rh_superiorparietal_part1_thickness', 'rh_superiorparietal_part1_volume', 'rh_superiorparietal_part2_thickness', 'rh_superiorparietal_part2_volume', 'rh_superiorparietal_part3_thickness', 'rh_superiorparietal_part3_volume', 'rh_superiorparietal_part4_thickness', 'rh_superiorparietal_part4_volume', 'rh_superiorparietal_part5_thickness', 'rh_superiorparietal_part5_volume', 'rh_superiorparietal_part6_thickness', 'rh_superiorparietal_part6_volume', 'rh_superiorparietal_part7_thickness', 'rh_superiorparietal_part7_volume', 'rh_superiorparietal_part8_thickness', 'rh_superiorparietal_part8_volume', 'rh_superiorparietal_part9_thickness', 'rh_superiorparietal_part9_volume', 'rh_superiortemporal_part1_thickness', 'rh_superiortemporal_part1_volume', 'rh_superiortemporal_part2_thickness', 'rh_superiortemporal_part2_volume', 'rh_superiortemporal_part3_thickness', 'rh_superiortemporal_part3_volume', 'rh_superiortemporal_part4_thickness', 'rh_superiortemporal_part4_volume', 'rh_superiortemporal_part5_thickness', 'rh_superiortemporal_part5_volume', 'rh_superiortemporal_part6_thickness', 'rh_superiortemporal_part6_volume', 'rh_superiortemporal_part7_thickness', 'rh_superiortemporal_part7_volume', 'rh_supramarginal_part1_thickness', 'rh_supramarginal_part1_volume', 'rh_supramarginal_part2_thickness', 'rh_supramarginal_part2_volume', 'rh_supramarginal_part3_thickness', 'rh_supramarginal_part3_volume', 'rh_supramarginal_part4_thickness', 'rh_supramarginal_part4_volume', 'rh_supramarginal_part5_thickness', 'rh_supramarginal_part5_volume', 'rh_supramarginal_part6_thickness', 'rh_supramarginal_part6_volume', 'rh_supramarginal_part7_thickness', 'rh_supramarginal_part7_volume', 'rh_temporalpole_part1_thickness', 'rh_temporalpole_part1_volume', 'rh_transversetemporal_part1_thickness', 'rh_transversetemporal_part1_volume', 'sample', 'scanner', 'sex', 'subID', 'timepoint']\n"
     ]
    }
   ],
   "source": [
    "cat_list = db.columns.tolist()\n",
    "cat_list.sort()\n",
    "print(cat_list)"
   ],
   "metadata": {
    "collapsed": false
   }
  },
  {
   "cell_type": "code",
   "execution_count": 20,
   "outputs": [],
   "source": [
    "db.drop(['ID','subID'],axis = 1,inplace=True)\n",
    "db.drop(db[db['sample'] == 'utrecht'].index, inplace = True)"
   ],
   "metadata": {
    "collapsed": false
   }
  },
  {
   "cell_type": "code",
   "execution_count": 21,
   "outputs": [
    {
     "data": {
      "text/plain": "scanner\nBiograph_mMR-51010      110\nGuys                    265\nHH                      147\nIOP                      63\nSiemensTrio             400\nTrioTim-35177           358\nTrioTim-35248           145\naomic_id1000_Philips    799\naomic_piop1_Philips     149\naomic_piop2_Philips     177\nbgs_scanner             128\ncamcan_SIEMENSTRIO      608\ncobre_scanner           134\ndlbs_Philips            307\nnarratives_prisma1       31\nnarratives_prisma2       48\nnarratives_skyra        159\nsald_Siemens            476\nName: scanner, dtype: int64"
     },
     "execution_count": 21,
     "metadata": {},
     "output_type": "execute_result"
    }
   ],
   "source": [
    "db.groupby('scanner',dropna=False)['scanner'].count()"
   ],
   "metadata": {
    "collapsed": false
   }
  },
  {
   "cell_type": "code",
   "execution_count": 22,
   "outputs": [
    {
     "data": {
      "text/plain": "sample\naomic_id1000    799\naomic_piop1     149\naomic_piop2     177\nbgs             128\ncamcan          608\ncobre           134\ndlbs            307\nixi             475\nnarratives      238\noasis3          613\nrockland        400\nsald            476\nName: sample, dtype: int64"
     },
     "execution_count": 22,
     "metadata": {},
     "output_type": "execute_result"
    }
   ],
   "source": [
    "db.groupby('sample',dropna=False)['sample'].count()"
   ],
   "metadata": {
    "collapsed": false
   }
  },
  {
   "cell_type": "code",
   "execution_count": 23,
   "outputs": [
    {
     "data": {
      "text/plain": "dcode\n0    4372\n1     132\nName: dcode, dtype: int64"
     },
     "execution_count": 23,
     "metadata": {},
     "output_type": "execute_result"
    }
   ],
   "source": [
    "db.groupby('dcode',dropna=False)['dcode'].count()"
   ],
   "metadata": {
    "collapsed": false
   }
  },
  {
   "cell_type": "markdown",
   "source": [
    "db.groupby('lh_caudalanteriorcingulate_curvind',dropna=False)['lh_caudalanteriorcingulate_foldind'].count()"
   ],
   "metadata": {
    "collapsed": false
   }
  },
  {
   "cell_type": "markdown",
   "source": [
    "db.hist(['lh_caudalanteriorcingulate_area',\n",
    "              'lh_caudalanteriorcingulate_curvind',\n",
    "              'lh_caudalanteriorcingulate_foldind',\n",
    "              'lh_caudalanteriorcingulate_gauscurv',\n",
    "              'lh_caudalanteriorcingulate_meancurv',\n",
    "              'lh_caudalanteriorcingulate_thickness',\n",
    "              'lh_caudalanteriorcingulate_volume'],figsize=(10,20),layout=(4,2))"
   ],
   "metadata": {
    "collapsed": false
   }
  },
  {
   "cell_type": "code",
   "execution_count": 24,
   "outputs": [
    {
     "data": {
      "text/plain": "7"
     },
     "execution_count": 24,
     "metadata": {},
     "output_type": "execute_result"
    }
   ],
   "source": [
    "db.isnull().sum().sum()"
   ],
   "metadata": {
    "collapsed": false
   }
  },
  {
   "cell_type": "code",
   "execution_count": 25,
   "outputs": [
    {
     "name": "stdout",
     "output_type": "stream",
     "text": [
      "['age', 'sex', 'scanner', 'euler', 'BrainSegVolNotVent', 'euler_med', 'sample', 'dcode', 'timepoint', 'lh_MeanThickness_thickness']\n",
      "['lh_bankssts_part1_thickness', 'lh_bankssts_part2_thickness', 'lh_caudalanteriorcingulate_part1_thickness', 'lh_caudalmiddlefrontal_part1_thickness', 'lh_caudalmiddlefrontal_part2_thickness', 'lh_caudalmiddlefrontal_part3_thickness', 'lh_caudalmiddlefrontal_part4_thickness', 'lh_cuneus_part1_thickness', 'lh_cuneus_part2_thickness', 'lh_cuneus_part3_thickness']\n"
     ]
    }
   ],
   "source": [
    "print(db.columns[:10].tolist())\n",
    "\n",
    "x = db.iloc[:,11:]\n",
    "print(x.columns[:10].tolist())"
   ],
   "metadata": {
    "collapsed": false
   }
  },
  {
   "cell_type": "code",
   "execution_count": 26,
   "outputs": [],
   "source": [
    "cleaned_col_names = []\n",
    "for s in x.columns.tolist():\n",
    "    split_string = s.split('_')\n",
    "    central_string = split_string[1]\n",
    "    if len(split_string) > 3:\n",
    "        central_string = central_string + '_' + split_string[2]\n",
    "    cleaned_col_names.append(central_string)"
   ],
   "metadata": {
    "collapsed": false
   }
  },
  {
   "cell_type": "code",
   "execution_count": 28,
   "outputs": [
    {
     "name": "stdout",
     "output_type": "stream",
     "text": [
      "['bankssts_part1', 'bankssts_part2', 'caudalanteriorcingulate_part1', 'caudalmiddlefrontal_part1', 'caudalmiddlefrontal_part2', 'caudalmiddlefrontal_part3', 'caudalmiddlefrontal_part4', 'cuneus_part1', 'cuneus_part2', 'cuneus_part3', 'entorhinal_part1', 'frontalpole_part1', 'fusiform_part1', 'fusiform_part2', 'fusiform_part3', 'fusiform_part4', 'fusiform_part5', 'fusiform_part6', 'inferiorparietal_part1', 'inferiorparietal_part2', 'inferiorparietal_part3', 'inferiorparietal_part4', 'inferiorparietal_part5', 'inferiorparietal_part6', 'inferiorparietal_part7', 'inferiorparietal_part8', 'inferiorparietal_part9', 'inferiortemporal_part1', 'inferiortemporal_part2', 'inferiortemporal_part3', 'inferiortemporal_part4', 'inferiortemporal_part5', 'inferiortemporal_part6', 'insula_part1', 'insula_part2', 'insula_part3', 'insula_part4', 'isthmuscingulate_part1', 'isthmuscingulate_part2', 'lateraloccipital_part1', 'lateraloccipital_part2', 'lateraloccipital_part3', 'lateraloccipital_part4', 'lateraloccipital_part5', 'lateraloccipital_part6', 'lateraloccipital_part7', 'lateraloccipital_part8', 'lateraloccipital_part9', 'lateralorbitofrontal_part1', 'lateralorbitofrontal_part2', 'lateralorbitofrontal_part3', 'lateralorbitofrontal_part4', 'lateralorbitofrontal_part5', 'lingual_part1', 'lingual_part2', 'lingual_part3', 'lingual_part4', 'lingual_part5', 'lingual_part6', 'medialorbitofrontal_part1', 'medialorbitofrontal_part2', 'medialorbitofrontal_part3', 'medialorbitofrontal_part4', 'middletemporal_part1', 'middletemporal_part2', 'middletemporal_part3', 'middletemporal_part4', 'middletemporal_part5', 'middletemporal_part6', 'outliers', 'paracentral_part1', 'paracentral_part2', 'paracentral_part3', 'parahippocampal_part1', 'parsopercularis_part1', 'parsopercularis_part2', 'parsopercularis_part3', 'parsorbitalis_part1', 'parstriangularis_part1', 'parstriangularis_part2', 'pericalcarine_part1', 'pericalcarine_part2', 'pericalcarine_part3', 'postcentral_part1', 'postcentral_part2', 'postcentral_part3', 'postcentral_part4', 'postcentral_part5', 'postcentral_part6', 'postcentral_part7', 'postcentral_part8', 'posteriorcingulate_part1', 'posteriorcingulate_part2', 'precentral_part1', 'precentral_part2', 'precentral_part3', 'precentral_part4', 'precentral_part5', 'precentral_part6', 'precentral_part7', 'precentral_part8', 'precentral_part9', 'precuneus_part1', 'precuneus_part2', 'precuneus_part3', 'precuneus_part4', 'precuneus_part5', 'precuneus_part6', 'precuneus_part7', 'rostralanteriorcingulate_part1', 'rostralmiddlefrontal_part1', 'rostralmiddlefrontal_part10', 'rostralmiddlefrontal_part11', 'rostralmiddlefrontal_part2', 'rostralmiddlefrontal_part3', 'rostralmiddlefrontal_part4', 'rostralmiddlefrontal_part5', 'rostralmiddlefrontal_part6', 'rostralmiddlefrontal_part7', 'rostralmiddlefrontal_part8', 'rostralmiddlefrontal_part9', 'superiorfrontal_part1', 'superiorfrontal_part10', 'superiorfrontal_part11', 'superiorfrontal_part12', 'superiorfrontal_part13', 'superiorfrontal_part2', 'superiorfrontal_part3', 'superiorfrontal_part4', 'superiorfrontal_part5', 'superiorfrontal_part6', 'superiorfrontal_part7', 'superiorfrontal_part8', 'superiorfrontal_part9', 'superiorparietal_part1', 'superiorparietal_part10', 'superiorparietal_part2', 'superiorparietal_part3', 'superiorparietal_part4', 'superiorparietal_part5', 'superiorparietal_part6', 'superiorparietal_part7', 'superiorparietal_part8', 'superiorparietal_part9', 'superiortemporal_part1', 'superiortemporal_part2', 'superiortemporal_part3', 'superiortemporal_part4', 'superiortemporal_part5', 'superiortemporal_part6', 'superiortemporal_part7', 'supramarginal_part1', 'supramarginal_part2', 'supramarginal_part3', 'supramarginal_part4', 'supramarginal_part5', 'supramarginal_part6', 'supramarginal_part7', 'temporalpole_part1', 'transversetemporal_part1']\n",
      "160\n"
     ]
    }
   ],
   "source": [
    "unq_col_names = set(cleaned_col_names)\n",
    "print(sorted(unq_col_names))\n",
    "print(len(unq_col_names))"
   ],
   "metadata": {
    "collapsed": false
   }
  },
  {
   "cell_type": "code",
   "execution_count": 27,
   "outputs": [],
   "source": [],
   "metadata": {
    "collapsed": false
   }
  }
 ],
 "metadata": {
  "kernelspec": {
   "display_name": "Python 3",
   "language": "python",
   "name": "python3"
  },
  "language_info": {
   "codemirror_mode": {
    "name": "ipython",
    "version": 2
   },
   "file_extension": ".py",
   "mimetype": "text/x-python",
   "name": "python",
   "nbconvert_exporter": "python",
   "pygments_lexer": "ipython2",
   "version": "2.7.6"
  }
 },
 "nbformat": 4,
 "nbformat_minor": 0
}
